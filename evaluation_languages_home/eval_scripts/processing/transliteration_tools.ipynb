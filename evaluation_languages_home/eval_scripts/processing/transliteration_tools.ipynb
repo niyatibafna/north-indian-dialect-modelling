{
 "cells": [
  {
   "cell_type": "code",
   "execution_count": 36,
   "id": "senior-force",
   "metadata": {},
   "outputs": [],
   "source": [
    "from indic_transliteration import sanscript\n",
    "from indic_transliteration.sanscript import SchemeMap, SCHEMES, transliterate\n",
    "from indicnlp import loader, common\n"
   ]
  },
  {
   "cell_type": "code",
   "execution_count": 52,
   "id": "ignored-louisville",
   "metadata": {},
   "outputs": [],
   "source": [
    "INDIC_NLP_RESOURCES = '../../../indic_nlp_resources/'\n",
    "common.set_resources_path(INDIC_NLP_RESOURCES)\n",
    "loader.load()"
   ]
  },
  {
   "cell_type": "code",
   "execution_count": 62,
   "id": "electoral-carol",
   "metadata": {},
   "outputs": [],
   "source": [
    "data = \"oo seu khait hai\""
   ]
  },
  {
   "cell_type": "code",
   "execution_count": 28,
   "id": "hydraulic-equilibrium",
   "metadata": {},
   "outputs": [
    {
     "name": "stdout",
     "output_type": "stream",
     "text": [
      "वोह् सेव् खा रह है\n"
     ]
    }
   ],
   "source": [
    "print(transliterate(data, sanscript.ITRANS, sanscript.DEVANAGARI))"
   ]
  },
  {
   "cell_type": "code",
   "execution_count": 57,
   "id": "union-paintball",
   "metadata": {},
   "outputs": [
    {
     "name": "stdout",
     "output_type": "stream",
     "text": [
      "a.NughI –  nIMda , a.NkavAra –  AliMgana, a.NkavAra –  AliMgana, gale lagAnA\n"
     ]
    }
   ],
   "source": [
    "data = \"अँउघी –  नींद , अँकवार –  आलिंगन, अँकवार –  आलिंगन, गले लगाना\"\n",
    "print(transliterate(data, sanscript.DEVANAGARI, sanscript.ITRANS))"
   ]
  },
  {
   "cell_type": "code",
   "execution_count": 68,
   "id": "severe-spanish",
   "metadata": {},
   "outputs": [],
   "source": [
    "data = \"kya tuma mujhe apnaa pena de sakte ho?\""
   ]
  },
  {
   "cell_type": "code",
   "execution_count": 17,
   "id": "genetic-webcam",
   "metadata": {},
   "outputs": [],
   "source": [
    "from indicnlp.transliterate.unicode_transliterate import ItransTransliterator"
   ]
  },
  {
   "cell_type": "code",
   "execution_count": 69,
   "id": "covered-centre",
   "metadata": {},
   "outputs": [
    {
     "name": "stdout",
     "output_type": "stream",
     "text": [
      "क्य तुम मुझे अप्ना पेन दे सक्ते हो?\n"
     ]
    }
   ],
   "source": [
    "print(ItransTransliterator.from_itrans(data, 'hi'))"
   ]
  },
  {
   "cell_type": "code",
   "execution_count": 50,
   "id": "identical-attitude",
   "metadata": {},
   "outputs": [],
   "source": [
    "from indicnlp import langinfo"
   ]
  },
  {
   "cell_type": "code",
   "execution_count": 51,
   "id": "available-mississippi",
   "metadata": {},
   "outputs": [
    {
     "ename": "AttributeError",
     "evalue": "module 'indicnlp.langinfo' has no attribute 'langcodes'",
     "output_type": "error",
     "traceback": [
      "\u001b[0;31m---------------------------------------------------------------------------\u001b[0m",
      "\u001b[0;31mAttributeError\u001b[0m                            Traceback (most recent call last)",
      "\u001b[0;32m<ipython-input-51-4dc6c0080200>\u001b[0m in \u001b[0;36m<module>\u001b[0;34m\u001b[0m\n\u001b[0;32m----> 1\u001b[0;31m \u001b[0mlanginfo\u001b[0m\u001b[0;34m.\u001b[0m\u001b[0mlangcodes\u001b[0m\u001b[0;34m\u001b[0m\u001b[0;34m\u001b[0m\u001b[0m\n\u001b[0m",
      "\u001b[0;31mAttributeError\u001b[0m: module 'indicnlp.langinfo' has no attribute 'langcodes'"
     ]
    }
   ],
   "source": [
    "langinfo.langcodes"
   ]
  },
  {
   "cell_type": "code",
   "execution_count": null,
   "id": "extraordinary-software",
   "metadata": {},
   "outputs": [],
   "source": []
  },
  {
   "cell_type": "code",
   "execution_count": null,
   "id": "silver-patch",
   "metadata": {},
   "outputs": [],
   "source": []
  },
  {
   "cell_type": "code",
   "execution_count": null,
   "id": "adopted-spoke",
   "metadata": {},
   "outputs": [],
   "source": []
  },
  {
   "cell_type": "code",
   "execution_count": null,
   "id": "compound-simon",
   "metadata": {},
   "outputs": [],
   "source": [
    "from indictrans import Transliterator"
   ]
  },
  {
   "cell_type": "code",
   "execution_count": 2,
   "id": "coastal-survivor",
   "metadata": {},
   "outputs": [
    {
     "name": "stdout",
     "output_type": "stream",
     "text": [
      "congress party adhyaksh sonia gandhi, tamilnadu kii mukhyamantri jayalalita or reserve bank ke governor raghuram rajan ke bich ek samanta he. ye sabhi alag-alag kaarnon se bhartiya janata party ke rajyasabha saansad subramanyam swami ke nishane par hai. unke jayalalita or sonia gandhi ke peeche padane kaa kaaran kathith bhrashtachar he.\n"
     ]
    }
   ],
   "source": [
    "\n",
    "\n",
    "trn = Transliterator(source='hin', target='eng', build_lookup=True)\n",
    "\n",
    "hin = \"कांग्रेस पार्टी अध्यक्ष सोनिया गांधी, तमिलनाडु की मुख्यमंत्री जयललिता और रिज़र्व बैंक के गवर्नर रघुराम राजन के बीच एक समानता है. ये सभी अलग-अलग कारणों से भारतीय जनता पार्टी के राज्यसभा सांसद सुब्रमण्यम स्वामी के निशाने पर हैं. उनके जयललिता और सोनिया गांधी के पीछे पड़ने का कारण कथित भ्रष्टाचार है.\"\n",
    "\n",
    "eng = trn.transform(hin)\n",
    "print(eng)\n",
    "# congress party adhyaksh sonia gandhi, tamilnadu kii mukhyamantri\n",
    "# jayalalita or reserve bank ke governor raghuram rajan ke bich ek samanta\n",
    "# he. ye sabhi alag-alag kaarnon se bhartiya janata party ke rajyasabha saansad\n",
    "# subramanyam swami ke nishane par hai. unke jayalalita or sonia gandhi ke\n",
    "# peeche padane kaa kaaran kathith bhrashtachar he.\n",
    "# >>>\n",
    "# >>> trn = Transliterator(source='eng', target='hin')\n",
    "# >>>\n",
    "# >>> hin_ = trn.transform(eng)\n",
    "# >>>\n",
    "# >>> print(hin_)\n",
    "# कांग्रेस पार्टी अध्यक्ष सोनिया गांधी, तमिलनाडु की मुख्यमंत्री\n",
    "# जयललिता और रिज़र्व बैंक के गवर्नर रघुराम राजन के बीच एक समनता\n",
    "# है. ये सभी अलग-अलग कारनों से भारतीय जनता पार्टी के राज्यसभा सांसद\n",
    "# सुब्रमण्यम स्वामी के निशाने पर हैं. उनके जयललिता और सोनिया गांधी के\n",
    "# पीछे पड़ने का कारण कथित भ्रष्टाचार है.\n",
    "# >>>"
   ]
  },
  {
   "cell_type": "code",
   "execution_count": null,
   "id": "loose-convertible",
   "metadata": {},
   "outputs": [],
   "source": [
    "bho = open(\"../../data/crawled_cleaned/bhojpuri.txt\", \"r\").read().split(\" \")"
   ]
  },
  {
   "cell_type": "code",
   "execution_count": 30,
   "id": "fuzzy-killing",
   "metadata": {},
   "outputs": [
    {
     "name": "stdout",
     "output_type": "stream",
     "text": [
      "रात भर ऊऊ सुत्तल बा\n"
     ]
    }
   ],
   "source": [
    "source = \"Raat bhar uoo suttal ba\"\n",
    "\n",
    "trn = Transliterator(source='eng', target='hin')\n",
    "tar = trn.transform(source)\n",
    "print(tar)"
   ]
  },
  {
   "cell_type": "code",
   "execution_count": 31,
   "id": "drawn-involvement",
   "metadata": {},
   "outputs": [
    {
     "name": "stdout",
     "output_type": "stream",
     "text": [
      "रात True\n",
      "भर True\n",
      "ऊऊ False\n",
      "सुत्तल False\n",
      "बा True\n"
     ]
    }
   ],
   "source": [
    "for word in tar.split():\n",
    "    print(word, word in bho)"
   ]
  },
  {
   "cell_type": "code",
   "execution_count": 29,
   "id": "planned-looking",
   "metadata": {},
   "outputs": [
    {
     "name": "stdout",
     "output_type": "stream",
     "text": [
      "गयी\n",
      "गये\n",
      "गयल\n",
      "गयीं\n",
      "गय\n",
      "गयैं\n",
      "गयौ\n",
      "गयऊ\n",
      "गयो\n",
      "गयउ\n",
      "गया\n"
     ]
    }
   ],
   "source": [
    "for word in set(bho):\n",
    "    if word.startswith(\"गय\"):\n",
    "        print(word)"
   ]
  },
  {
   "cell_type": "code",
   "execution_count": null,
   "id": "governing-detector",
   "metadata": {},
   "outputs": [],
   "source": []
  }
 ],
 "metadata": {
  "kernelspec": {
   "display_name": "Python 3",
   "language": "python",
   "name": "python3"
  },
  "language_info": {
   "codemirror_mode": {
    "name": "ipython",
    "version": 3
   },
   "file_extension": ".py",
   "mimetype": "text/x-python",
   "name": "python",
   "nbconvert_exporter": "python",
   "pygments_lexer": "ipython3",
   "version": "3.8.8"
  }
 },
 "nbformat": 4,
 "nbformat_minor": 5
}
