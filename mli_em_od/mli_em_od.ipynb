{
 "cells": [
  {
   "cell_type": "code",
   "execution_count": 106,
   "id": "hollywood-celebration",
   "metadata": {},
   "outputs": [],
   "source": [
    "import sys\n",
    "sys.path.append(\"../evaluation_languages_home/eval_scripts/\")\n",
    "from eval import Evaluation"
   ]
  },
  {
   "cell_type": "code",
   "execution_count": 107,
   "id": "grateful-entrepreneur",
   "metadata": {},
   "outputs": [],
   "source": [
    "#!/usr/bin/env python3\n",
    "from tqdm import tqdm\n",
    "import os\n",
    "import argparse\n",
    "import math\n",
    "import json\n",
    "from collections import defaultdict, Counter\n",
    "import pandas as pd\n",
    "import editdistance\n",
    "import Levenshtein as lv\n",
    "import copy\n",
    "import random\n",
    "\n",
    "class MLI_EM_OD:\n",
    "\n",
    "    def __init__(self):\n",
    "        \n",
    "        self.prev_trans_matrix = defaultdict(lambda:defaultdict(lambda:1/500))\n",
    "        self.trans_matrix = defaultdict(lambda:defaultdict(lambda:1/500))\n",
    "        self.totals = defaultdict(lambda:1)\n",
    "        \n",
    "        self.seen = defaultdict(lambda:set())\n",
    "        self.null_char = \"NULL\"\n",
    "        \n",
    "        self.init_same_char_counts = 1\n",
    "        self.init_total = 2\n",
    "        \n",
    "        self.training = False\n",
    "        \n",
    "\n",
    "\n",
    "    def get_args(self):\n",
    "        parser = argparse.ArgumentParser(description = \"Build a lexicon from 2 corpora using iterative OD.\")\n",
    "        parser.add_argument(\"--source_file\", type=str, default=None, required=True, help=\"Source corpus filepath\")\n",
    "        parser.add_argument(\"--target_file\", type=str, default=None, required=True, help=\"Target corpus filepath\")\n",
    "        parser.add_argument(\"--max_lexicon_length\", type=int, default=math.inf, help=\"Maximum length of extracted lexicon\")\n",
    "        parser.add_argument(\"--min_source_freq\", type=int, default=None, help=\"Min freq of source side words\")\n",
    "        parser.add_argument(\"--min_target_freq\", type=int, default=None, help=\"Min freq of target side words\")\n",
    "        parser.add_argument(\"--iterations\", type=int, default=50, help=\"Maximum EM iterations\")\n",
    "        parser.add_argument(\"--batch_size\", type=int, default=100, help=\"Batch size for a single iteration\")\n",
    "        parser.add_argument(\"--updates\", type=int, default=10, help=\"Number of updates per iterations\")\n",
    "        parser.add_argument(\"--load_pretrained\", action=\"store_false\", help=\"Will load model parameters from PARAMS_DIR\")\n",
    "        parser.add_argument(\"--OUTPATH\", type=str, help=\"Path for saving lexicon (JSON)\")\n",
    "        parser.add_argument(\"--PARAMS_DIR\", type=str, help=\"Directory path for saving model parameters\")\n",
    "\n",
    "        return parser.parse_args()\n",
    "\n",
    "    def read_file(self, filepath):\n",
    "        '''Reads text file and returns as string'''\n",
    "        with open(filepath, \"r\") as f:\n",
    "            return f.read()\n",
    "        \n",
    "    def get_frequency_threshold(self, lang_lexicon):\n",
    "        '''Logarithmic freq threshold'''\n",
    "\n",
    "        total = sum(lang_lexicon.values())\n",
    "        return math.log(total, 100) - 1\n",
    "\n",
    "\n",
    "    def get_lexicon_words(self, source_words, target_words,\\\n",
    "                          min_source_freq, min_target_freq):\n",
    "        '''Decide which source-side words will be in the lexicon'''\n",
    "\n",
    "        cand_source_words = defaultdict(lambda:0, {w:f for w, f in source_words.items() if f >= min_source_freq})\n",
    "        cand_target_words = defaultdict(lambda:0, {w:f for w, f in target_words.items() if f >= min_target_freq})\n",
    "\n",
    "        return cand_source_words, cand_target_words\n",
    "    \n",
    "    \n",
    "    def initialize_trans_matrix(self, cand_source_words, cand_target_words, type = \"uniform\"):\n",
    "        '''Initialize transition matrix and totals matrix, including insertions and deletions'''\n",
    "        \n",
    "        print(\"Intializing TRANSITION MATRIX...\")\n",
    "        source_chars = set(\"\".join(word for word in cand_source_words))\n",
    "        source_chars.add(self.null_char)\n",
    "        target_chars = set(\"\".join(word for word in cand_target_words))\n",
    "        target_chars.add(self.null_char)\n",
    "        \n",
    "        total_targets = len(target_chars)\n",
    "\n",
    "        for source in source_chars:\n",
    "            for target in target_chars:\n",
    "                if source == target:\n",
    "                    self.trans_matrix[source][target] = self.init_same_char_counts\n",
    "                    continue\n",
    "                \n",
    "                if source in target_chars:\n",
    "                    self.trans_matrix[source][target] = \\\n",
    "                    (self.init_total-self.init_same_char_counts)/(total_targets-1)\n",
    "                    \n",
    "                else:\n",
    "                    self.trans_matrix[source][target] = \\\n",
    "                    self.init_total/total_targets\n",
    "        \n",
    "        print(\"Intialized TRANSITION MATRIX of dimensions {}x{}\".format(len(source_chars)+1, len(target_chars)+1))\n",
    "                \n",
    "    def initialize_model_params(self, iterations, batch_size, updates, \\\n",
    "                                cand_source_words, cand_target_words, \\\n",
    "                                load_pretrained_model = False, PARAMS_DIR = None):\n",
    "        '''Initializes training params'''\n",
    "        \n",
    "        \n",
    "        self.batch_size = batch_size\n",
    "        self.iterations = iterations\n",
    "        self.updates = updates\n",
    "        \n",
    "        if load_pretrained_model:\n",
    "            self.load_model_params(PARAMS_DIR)\n",
    "        else:\n",
    "            self.initialize_trans_matrix(cand_source_words, cand_target_words)\n",
    "        \n",
    "        #self.totals and self.seen are already correctly initialized\n",
    "    \n",
    "    \n",
    "    def op2chars(self, op, source, target):\n",
    "        '''Returns chars based on levenshtein op'''\n",
    "        \n",
    "        if op[0] == \"replace\":\n",
    "            char1 = source[op[1]]\n",
    "            char2 = target[op[2]]\n",
    "        if op[0] == \"insert\":\n",
    "            char1 = self.null_char\n",
    "            char2 = target[op[2]]\n",
    "        if op[0] == \"delete\":\n",
    "            char1 = source[op[1]]\n",
    "            char2 = self.null_char\n",
    "        if op[0] == \"retain\":\n",
    "            char1 = source[op[1]]\n",
    "            char2 = source[op[1]]\n",
    "        \n",
    "        return char1, char2\n",
    "    \n",
    "    def augmented_ops(self, source, target):\n",
    "        '''Returns minimal ed ops but also char retentions'''\n",
    "        ops = lv.editops(source, target)\n",
    "        bad_sidxs = {sidx for (op, sidx, _) in ops if op != \"insert\"}\n",
    "        ret_idxs = [(\"retain\", sidx) for sidx in range(len(source)) if sidx not in bad_sidxs]\n",
    "        return ops + ret_idxs\n",
    "\n",
    "\n",
    "    def update_params(self, pair):\n",
    "        '''Update matrix counts given a new observation'''\n",
    "        (source, target) = pair\n",
    "        ops = self.augmented_ops(source, target)\n",
    "        \n",
    "        for op in ops:\n",
    "            \n",
    "            char1, char2 = self.op2chars(op, source, target)\n",
    "            \n",
    "            self.trans_matrix[char1][char2] += 1\n",
    "            self.totals[char1] += 1\n",
    "            \n",
    "    \n",
    "    def update_params_all(self, pairs):\n",
    "        '''Update all paramaters for a collection of pairs'''\n",
    "        \n",
    "        self.prev_trans_matrix = copy.deepcopy(self.trans_matrix)\n",
    "        \n",
    "        for pair in pairs:\n",
    "            if pair[1] not in self.seen[pair[0]]:\n",
    "                self.seen[pair[0]].add(pair[1])\n",
    "                self.update_params(pair)\n",
    "        \n",
    "    \n",
    "    def check_convergence(self):\n",
    "        return self.trans_matrix == self.prev_trans_matrix\n",
    "\n",
    "    \n",
    "    def find_neg_log_prob(self, source, target):\n",
    "        '''Find log probability of source --> target using trans matrix'''\n",
    "        ops = self.augmented_ops(source, target)\n",
    "        log_prob = 0\n",
    "        try:\n",
    "            for op in ops:\n",
    "                char1, char2 = self.op2chars(op, source, target)\n",
    "                log_prob += math.log(self.trans_matrix[char1][char2]/self.totals[char1])\n",
    "\n",
    "        except:\n",
    "            return None\n",
    "        \n",
    "        \n",
    "        return -log_prob\n",
    "    \n",
    "    \n",
    "   \n",
    "    def find_best_match(self, source, cand_target_words, num_targets = 5):\n",
    "        '''Find best match for source over cand words'''\n",
    "        if self.training:\n",
    "            min_dist, best_word = math.inf, \"\"\n",
    "            for cand in cand_target_words:\n",
    "                if source == cand:\n",
    "                    continue\n",
    "                dist_score = self.find_neg_log_prob(source, cand)\n",
    "                if dist_score < min_dist:\n",
    "                    min_dist = dist_score\n",
    "                    best_word = cand\n",
    "            return source, best_word, min_dist\n",
    "        \n",
    "        if source in cand_target_words:\n",
    "            cand_target_words.append(source)\n",
    "        dist_scores = [(cand, self.find_neg_log_prob(source, cand)) for cand in cand_target_words]\n",
    "        dist_scores = [p for p in dist_scores if p[1] is not None]\n",
    "        best_pairs = sorted(dist_scores, key = lambda x:x[1])[:num_targets]\n",
    "        \n",
    "        return source, best_pairs\n",
    "\n",
    "\n",
    "    \n",
    "    \n",
    "    def choose_best_pairs(self, cand_source_words, cand_target_words, updates = None):\n",
    "        '''Find best matches for all and select top self.K'''\n",
    "        \n",
    "        if not updates:\n",
    "            updates = self.updates\n",
    "        \n",
    "        dist_scores = [self.find_best_match(source, cand_target_words) for source in cand_source_words]\n",
    "#         print(sorted(dist_scores, key = lambda x:x[2]))\n",
    "\n",
    "        best_pairs = sorted(dist_scores, key = lambda x:x[2])[:updates]\n",
    "        \n",
    "        \n",
    "        return best_pairs\n",
    "    \n",
    "    \n",
    "    def get_batch(self, cand_source_words, batch_size = None):\n",
    "        '''Randomly choose batch based on pre-set batch size'''\n",
    "        if batch_size is None:\n",
    "            batch_size = self.batch_size\n",
    "        cand_source_words = list(cand_source_words.keys())\n",
    "        return random.choices(cand_source_words, k = self.batch_size)\n",
    "    \n",
    "    \n",
    "    def em_iterations(self, cand_source_words, cand_target_words):\n",
    "        \n",
    "        self.training = True\n",
    "        \n",
    "        for it in tqdm(range(self.iterations)):\n",
    "#             print(\"Running iteration: {}\".format(it+1))\n",
    "            \n",
    "            batch_source_words = self.get_batch(cand_source_words)\n",
    "            \n",
    "            # EXPECTATION\n",
    "#             print(\"E-Step\")\n",
    "            best_pairs = self.choose_best_pairs(batch_source_words, cand_target_words)\n",
    "            best_pairs = [(trip[0], trip[1]) for trip in best_pairs]\n",
    "            if it % 20 == 0 and it:\n",
    "                print(\"Words chosen for updates : \", best_pairs)\n",
    "            \n",
    "            # MAXIMISATION\n",
    "#             print(\"M-Step\")\n",
    "            self.update_params_all(best_pairs)\n",
    "            \n",
    "            # CHECK FOR CONVERGENCE\n",
    "            if self.check_convergence():\n",
    "                print(\"Converged!\")\n",
    "                break\n",
    "            \n",
    "        self.training = False\n",
    "        \n",
    "    def dump_model_params(self, PARAMS_DIR):\n",
    "        '''Save model params for inspection and continued training'''\n",
    "        if not os.path.isdir(PARAMS_DIR):\n",
    "            os.makedirs(PARAMS_DIR)\n",
    "        \n",
    "        with open(PARAMS_DIR+\"trans_matrix.json\", \"w\") as f:\n",
    "            json.dump(self.trans_matrix, f, ensure_ascii = False, indent = 2)\n",
    "        \n",
    "        with open(PARAMS_DIR+\"totals.json\", \"w\") as f:\n",
    "            json.dump(self.totals, f, ensure_ascii = False, indent = 2)\n",
    "            \n",
    "            \n",
    "        with open(PARAMS_DIR+\"seen.json\", \"w\") as f:\n",
    "            seen = {source:list(target_set) for source, target_set in self.seen.items()}\n",
    "            json.dump(seen, f, ensure_ascii = False, indent = 2)\n",
    "            \n",
    "    def load_model_params(self, PARAMS_DIR):\n",
    "        '''Initialize by loading pre-trained params'''\n",
    "\n",
    "        with open(PARAMS_DIR+\"trans_matrix.json\", \"r\") as f:\n",
    "#             self.trans_matrix = json.load(f)\n",
    "            self.trans_matrix = defaultdict(lambda:defaultdict(lambda:1/500), json.load(f))\n",
    "        \n",
    "        with open(PARAMS_DIR+\"totals.json\", \"r\") as f:\n",
    "            self.totals = defaultdict(lambda:1, json.load(f))\n",
    "            \n",
    "            \n",
    "        with open(PARAMS_DIR+\"seen.json\", \"r\") as f:\n",
    "            self.seen = json.load(f)\n",
    "            self.seen = {source:set(target_set) for source, target_set in self.seen.items()}\n",
    "    \n",
    "    def build_lexicon(self, cand_source_words, cand_target_words, max_lexicon_length):\n",
    "        '''Build bilingual lexicon using current model parameters'''\n",
    "        \n",
    "        max_lexicon_length = min(max_lexicon_length, len(cand_source_words))\n",
    "        cand_source_words = defaultdict(lambda:0, \\\n",
    "                                        {w:f for w, f in Counter(cand_source_words).most_common(max_lexicon_length)})\n",
    "        \n",
    "        lexicon = defaultdict(lambda: dict())\n",
    "        \n",
    "        for source in cand_source_words:\n",
    "            _, top_k = self.find_best_match(source, list(cand_target_words.keys()))\n",
    "            lexicon[source] = {target:-score for (target, score) in top_k}\n",
    "        \n",
    "        return lexicon\n",
    "        \n",
    "        \n",
    "    def save_lexicon(self, lexicon, OUTPATH):\n",
    "        '''Dump lexicon'''\n",
    "        OUTDIR = \"/\".join(OUTPATH.split(\"/\")[:-1])+\"/\"\n",
    "        if not os.path.isdir(OUTDIR):\n",
    "            os.makedirs(OUTDIR)\n",
    "\n",
    "        with open(OUTPATH, \"w\") as f:\n",
    "            json.dump(lexicon, f, ensure_ascii = False, indent = 2)\n",
    "\n",
    "\n",
    "    def driver(self, source_file, target_file, \\\n",
    "               max_lexicon_length = math.inf, min_source_freq = None, min_target_freq = None, \\\n",
    "               iterations = 50, batch_size = 100, updates = 20, \\\n",
    "               load_pretrained_model = False, \\\n",
    "               OUTPATH = None, PARAMS_DIR = None):\n",
    "\n",
    "        # Read files\n",
    "        source_corpus = self.read_file(source_file)\n",
    "        target_corpus = self.read_file(target_file)\n",
    "\n",
    "        # Filter\n",
    "        source_words = Counter(source_corpus.split())\n",
    "        target_words = Counter(target_corpus.split())\n",
    "        if min_source_freq is None:\n",
    "            min_source_freq = self.get_frequency_threshold(source_words)\n",
    "        if min_target_freq is None:\n",
    "#             min_target_freq = 0\n",
    "            min_target_freq = self.get_frequency_threshold(target_words)\n",
    "        cand_source_words, cand_target_words = self.get_lexicon_words(source_words, target_words, \\\n",
    "                                                                      min_source_freq, min_target_freq)\n",
    "        \n",
    "\n",
    "        # TRAIN MODEL \n",
    "        # TODO: Add options for different types of initialization\n",
    "        self.initialize_model_params(iterations, batch_size, updates, \\\n",
    "                                     cand_source_words, cand_target_words, \\\n",
    "                                     load_pretrained_model, PARAMS_DIR)\n",
    "    \n",
    "#         print(len(cand_source_words), len(cand_target_words))\n",
    "        \n",
    "        self.em_iterations(cand_source_words, cand_target_words)\n",
    "        \n",
    "        if PARAMS_DIR and not load_pretrained_model:\n",
    "            self.dump_model_params(PARAMS_DIR)\n",
    "\n",
    "\n",
    "        \n",
    "        # BUILD LEXICON\n",
    "        \n",
    "#         batch_source_words = self.get_batch(cand_source_words, 100)\n",
    "#         best_pairs = self.choose_best_pairs(batch_source_words, cand_target_words)\n",
    "#         print(best_pairs)\n",
    "        \n",
    "        print(\"BUILDING LEXICON\")\n",
    "        lexicon = self.build_lexicon(cand_source_words, cand_target_words, max_lexicon_length)\n",
    "\n",
    "        # Save lexicon\n",
    "        if OUTPATH:\n",
    "            self.save_lexicon(lexicon, OUTPATH)\n",
    "            \n",
    "        # Dump model parameters\n",
    "        \n",
    "        return lexicon\n",
    "            \n",
    "\n",
    "    def main(self):\n",
    "        args = self.get_args()\n",
    "        self.driver(args.source_file, args.target_file, \\\n",
    "        args.max_lexicon_length, args.min_source_freq, args.min_target_freq, \\\n",
    "        args.iterations, args.batch_size, args.updates, \\\n",
    "        args.load_pretrained_model, \\\n",
    "        args.OUTPATH, args.PARAMS_DIR)\n",
    "\n",
    "\n"
   ]
  },
  {
   "cell_type": "code",
   "execution_count": 111,
   "id": "billion-contact",
   "metadata": {},
   "outputs": [],
   "source": [
    "DATADIR=\"../data/crawled_cleaned/\"\n",
    "anchor=\"hindi-urdu\"\n",
    "PARAMS_DIR = \"model_params/\"\n",
    "LEX_DIR = \"lexicons_top5/\"\n",
    "iterations = 500\n",
    "min_source_freq = 5\n",
    "batch_size = 100\n",
    "updates = 10\n",
    "max_lexicon_length = 5000\n",
    "load_pretrained_model = False\n",
    "# gold_file = \"../evaluation_languages_home/eval_data/lexicons/hindi-urdu_source/hindi-urdu_bhojpuri.json\""
   ]
  },
  {
   "cell_type": "code",
   "execution_count": 112,
   "id": "ready-florence",
   "metadata": {
    "scrolled": true
   },
   "outputs": [
    {
     "name": "stdout",
     "output_type": "stream",
     "text": [
      "PROCESSING maithili\n"
     ]
    },
    {
     "name": "stderr",
     "output_type": "stream",
     "text": [
      "\r",
      "  0%|          | 0/500 [00:00<?, ?it/s]"
     ]
    },
    {
     "name": "stdout",
     "output_type": "stream",
     "text": [
      "Intializing TRANSITION MATRIX...\n",
      "Intialized TRANSITION MATRIX of dimensions 76x68\n"
     ]
    },
    {
     "name": "stderr",
     "output_type": "stream",
     "text": [
      "  4%|▍         | 21/500 [04:20<1:39:08, 12.42s/it]"
     ]
    },
    {
     "name": "stdout",
     "output_type": "stream",
     "text": [
      "Words chosen for updates :  [('रखती', 'रखी'), ('गह्वर', 'गहवर'), ('सोहबत', 'सहब'), ('दीने', 'दीन'), ('दकन', 'दन'), ('तगड़े', 'गड़'), ('करतब', 'रब'), ('कहियो', 'हिय'), ('पीटता', 'पीटा'), ('सूखता', 'सूखा')]\n"
     ]
    },
    {
     "name": "stderr",
     "output_type": "stream",
     "text": [
      "  8%|▊         | 41/500 [08:26<1:33:34, 12.23s/it]"
     ]
    },
    {
     "name": "stdout",
     "output_type": "stream",
     "text": [
      "Words chosen for updates :  [('व्', 'व'), ('दरअस्ल', 'दरअसल'), ('तोहरो', 'हर'), ('अम्र', 'अमर'), ('कन्त', 'न'), ('बोलते', 'बल'), ('मचलते', 'मचल'), ('कब्जे', 'बज'), ('पहुँचता', 'पहुँचा'), ('क्या', 'या')]\n"
     ]
    },
    {
     "name": "stderr",
     "output_type": "stream",
     "text": [
      " 12%|█▏        | 61/500 [1:09:42<42:05:49, 345.22s/it]"
     ]
    },
    {
     "name": "stdout",
     "output_type": "stream",
     "text": [
      "Words chosen for updates :  [('ठंडक', 'ठंड'), ('उलटे', 'उलट'), ('केसरि', 'सरि'), ('कस्तो', 'स'), ('बाँधत', 'बाँध'), ('चालत', 'चाल'), ('सारे', 'सार'), ('थका', 'था'), ('म्हा', 'महा'), ('दिशा', 'दिश')]\n"
     ]
    },
    {
     "name": "stderr",
     "output_type": "stream",
     "text": [
      " 16%|█▌        | 81/500 [1:23:15<1:28:22, 12.66s/it]  "
     ]
    },
    {
     "name": "stdout",
     "output_type": "stream",
     "text": [
      "Words chosen for updates :  [('मंडित', 'मंडि'), ('सेट', 'सट'), ('भीक', 'भी'), ('समो', 'सम'), ('पिघलते', 'पिघल'), ('कोश', 'श'), ('गएको', 'गए'), ('तोड़ते', 'ड़'), ('लपेटे', 'लपट'), ('कमरा', 'मरा')]\n"
     ]
    },
    {
     "name": "stderr",
     "output_type": "stream",
     "text": [
      " 20%|██        | 101/500 [1:27:21<1:22:17, 12.37s/it]"
     ]
    },
    {
     "name": "stdout",
     "output_type": "stream",
     "text": [
      "Words chosen for updates :  [('दर्शन', 'दरशन'), ('खोर', 'खर'), ('खरे', 'खर'), ('धनिक', 'धनि'), ('तनते', 'न'), ('निगले', 'निगल'), ('लोगो', 'लग'), ('ज्ये', 'जय'), ('भूलोक', 'भूल'), ('कोर्स', 'रस')]\n"
     ]
    },
    {
     "name": "stderr",
     "output_type": "stream",
     "text": [
      " 24%|██▍       | 121/500 [1:31:28<1:17:56, 12.34s/it]"
     ]
    },
    {
     "name": "stdout",
     "output_type": "stream",
     "text": [
      "Words chosen for updates :  [('नज़रो', 'नज़र'), ('उसे', 'उस'), ('बने', 'बन'), ('चुभे', 'चुभ'), ('करति', 'रि'), ('चीख़ते', 'चीख़'), ('बित्ते', 'बि'), ('बांधते', 'बांध'), ('मालो', 'माल'), ('चूडियाँ', 'चूड़ियाँ')]\n"
     ]
    },
    {
     "name": "stderr",
     "output_type": "stream",
     "text": [
      " 28%|██▊       | 141/500 [1:35:33<1:13:27, 12.28s/it]"
     ]
    },
    {
     "name": "stdout",
     "output_type": "stream",
     "text": [
      "Words chosen for updates :  [('तनी', 'नी'), ('धर्', 'धर'), ('ख्', 'ख'), ('ख़रीदे', 'ख़रीद'), ('सुकनी', 'सुनी'), ('पकड़ी', 'पड़ी'), ('लीयो', 'लीय'), ('खलक', 'खल'), ('डोरे', 'डर'), ('बहके', 'बह')]\n"
     ]
    },
    {
     "name": "stderr",
     "output_type": "stream",
     "text": [
      " 32%|███▏      | 161/500 [1:39:39<1:09:30, 12.30s/it]"
     ]
    },
    {
     "name": "stdout",
     "output_type": "stream",
     "text": [
      "Words chosen for updates :  [('निर्झर', 'निरझर'), ('सूखते', 'सूख'), ('सेत', 'स'), ('लीयो', 'लीय'), ('एक्', 'ए'), ('सवेक', 'सव'), ('पलको', 'पल'), ('छोटा', 'छटा'), ('तपाक', 'पा'), ('फिक्रे', 'फिर')]\n"
     ]
    },
    {
     "name": "stderr",
     "output_type": "stream",
     "text": [
      " 36%|███▌      | 181/500 [1:43:45<1:04:54, 12.21s/it]"
     ]
    },
    {
     "name": "stdout",
     "output_type": "stream",
     "text": [
      "Words chosen for updates :  [('भूत', 'भू'), ('कहूँ', 'हूँ'), ('त्रास', 'रास'), ('मारयो', 'मारय'), ('दिमाग', 'दिमाग़'), ('पीड़ा', 'पीड़'), ('धा', 'ध'), ('राखल', 'रखल'), ('तापने', 'पन'), ('क़ैदे', 'क़ैद')]\n"
     ]
    },
    {
     "name": "stderr",
     "output_type": "stream",
     "text": [
      " 40%|████      | 201/500 [1:47:51<1:01:35, 12.36s/it]"
     ]
    },
    {
     "name": "stdout",
     "output_type": "stream",
     "text": [
      "Words chosen for updates :  [('पती', 'पी'), ('होई', 'हई'), ('गल्', 'गल'), ('जकड़ती', 'जड़ी'), ('रक्खूँ', 'रखूँ'), ('बकरे', 'बर'), ('मरके', 'मर'), ('केमिकल', 'मिल'), ('ढूँढ', 'ढूँढ़'), ('उभारे', 'उभार')]\n"
     ]
    },
    {
     "name": "stderr",
     "output_type": "stream",
     "text": [
      " 44%|████▍     | 221/500 [1:51:58<57:28, 12.36s/it]  "
     ]
    },
    {
     "name": "stdout",
     "output_type": "stream",
     "text": [
      "Words chosen for updates :  [('धप्', 'धप'), ('योनि', 'यनि'), ('योनि', 'यनि'), ('कथि', 'थि'), ('छैक', 'छै'), ('प्रेस', 'परस'), ('धरा', 'धर'), ('बसान', 'बसन'), ('पना', 'पन'), ('गला', 'गल')]\n"
     ]
    },
    {
     "name": "stderr",
     "output_type": "stream",
     "text": [
      " 48%|████▊     | 241/500 [1:56:08<53:59, 12.51s/it]"
     ]
    },
    {
     "name": "stdout",
     "output_type": "stream",
     "text": [
      "Words chosen for updates :  [('गोर', 'गर'), ('दरे', 'दर'), ('अरे', 'अर'), ('ऊँचे', 'ऊँच'), ('देती', 'दी'), ('कवी', 'वी'), ('जकड़ी', 'जड़ी'), ('समर्थ', 'समरथ'), ('मर्म', 'मरम'), ('थकने', 'थन')]\n"
     ]
    },
    {
     "name": "stderr",
     "output_type": "stream",
     "text": [
      " 52%|█████▏    | 261/500 [2:00:15<48:44, 12.24s/it]"
     ]
    },
    {
     "name": "stdout",
     "output_type": "stream",
     "text": [
      "Words chosen for updates :  [('तड़', 'ड़'), ('तजै', 'जै'), ('रंगती', 'रंगी'), ('जत', 'ज'), ('बिखरती', 'बिखरी'), ('अतर', 'अर'), ('चो', 'च'), ('नसे', 'नस'), ('जपते', 'जप'), ('ज़मीने', 'ज़मीन')]\n"
     ]
    },
    {
     "name": "stderr",
     "output_type": "stream",
     "text": [
      " 56%|█████▌    | 281/500 [2:04:23<44:45, 12.26s/it]"
     ]
    },
    {
     "name": "stdout",
     "output_type": "stream",
     "text": [
      "Words chosen for updates :  [('भर्', 'भर'), ('स्तर', 'सर'), ('उखड़ते', 'उखड़'), ('देति', 'दि'), ('पढ़ो', 'पढ़'), ('धमक', 'धम'), ('मोहती', 'मही'), ('तोपो', 'प'), ('चमके', 'चम'), ('खुश', 'ख़ुश')]\n"
     ]
    },
    {
     "name": "stderr",
     "output_type": "stream",
     "text": [
      " 60%|██████    | 301/500 [2:08:30<40:59, 12.36s/it]"
     ]
    },
    {
     "name": "stdout",
     "output_type": "stream",
     "text": [
      "Words chosen for updates :  [('लत', 'ल'), ('ऐंठने', 'ऐंठन'), ('चे', 'च'), ('पगे', 'पग'), ('हंसो', 'हंस'), ('धुनक', 'धुन'), ('खोने', 'खन'), ('जेकर', 'जर'), ('धोते', 'ध'), ('साहित', 'साहि')]\n"
     ]
    },
    {
     "name": "stderr",
     "output_type": "stream",
     "text": [
      " 64%|██████▍   | 321/500 [2:12:37<37:11, 12.47s/it]"
     ]
    },
    {
     "name": "stdout",
     "output_type": "stream",
     "text": [
      "Words chosen for updates :  [('तय', 'य'), ('तग', 'ग'), ('पतीली', 'पीली'), ('खिल्', 'खिल'), ('नेही', 'नही'), ('भोर', 'भर'), ('योनि', 'यनि'), ('उतरो', 'उर'), ('हता', 'हा'), ('झुलसता', 'झुलसा')]\n"
     ]
    },
    {
     "name": "stderr",
     "output_type": "stream",
     "text": [
      " 68%|██████▊   | 341/500 [2:16:44<33:21, 12.59s/it]"
     ]
    },
    {
     "name": "stdout",
     "output_type": "stream",
     "text": [
      "Words chosen for updates :  [('बत्तीस', 'बीस'), ('दिल्', 'दिल'), ('पूरते', 'पूर'), ('सरक', 'सर'), ('हमको', 'हम'), ('ठोके', 'ठ'), ('चीज', 'चीज़'), ('जताने', 'जान'), ('धकियाते', 'धिया'), ('रामको', 'राम')]\n"
     ]
    },
    {
     "name": "stderr",
     "output_type": "stream",
     "text": [
      " 72%|███████▏  | 361/500 [2:40:01<36:04, 15.57s/it]    "
     ]
    },
    {
     "name": "stdout",
     "output_type": "stream",
     "text": [
      "Words chosen for updates :  [('सुबहे', 'सुबह'), ('खटते', 'खट'), ('बोर', 'बर'), ('टूक', 'टू'), ('तेली', 'ली'), ('ज़मीनो', 'ज़मीन'), ('त्रास', 'रास'), ('बेतार', 'बार'), ('जमुनाके', 'जमुना'), ('खुशगवार', 'खुशग़वार')]\n"
     ]
    },
    {
     "name": "stderr",
     "output_type": "stream",
     "text": [
      " 76%|███████▌  | 381/500 [2:44:09<24:23, 12.30s/it]"
     ]
    },
    {
     "name": "stdout",
     "output_type": "stream",
     "text": [
      "Words chosen for updates :  [('रहते', 'रह'), ('क्चिक', 'चि'), ('पृ', 'प'), ('मूलतः', 'मूल'), ('प्रसाद', 'परसाद'), ('भाग्', 'भाग'), ('पसारे', 'पसार'), ('पहचानते', 'पहचान'), ('कमाया', 'माया'), ('सबा', 'सब')]\n"
     ]
    },
    {
     "name": "stderr",
     "output_type": "stream",
     "text": [
      " 80%|████████  | 401/500 [2:48:16<20:17, 12.30s/it]"
     ]
    },
    {
     "name": "stdout",
     "output_type": "stream",
     "text": [
      "Words chosen for updates :  [('तनय', 'नय'), ('दीखे', 'दीख'), ('लत्ती', 'ली'), ('छीले', 'छील'), ('कभू', 'भू'), ('जनमे', 'जनम'), ('गत्ते', 'ग'), ('देशक', 'दश'), ('चल्यो', 'चलय'), ('धोक', 'ध')]\n"
     ]
    },
    {
     "name": "stderr",
     "output_type": "stream",
     "text": [
      " 84%|████████▍ | 421/500 [2:52:21<16:16, 12.36s/it]"
     ]
    },
    {
     "name": "stdout",
     "output_type": "stream",
     "text": [
      "Words chosen for updates :  [('जगत्', 'जग'), ('बेड', 'बड'), ('बेली', 'बली'), ('गुजरो', 'गुजर'), ('पुस्तक', 'पुस'), ('करेजे', 'रज'), ('कह्यो', 'हय'), ('भृंग', 'भंग'), ('फ़िकर', 'फ़िर'), ('धारे', 'धार')]\n"
     ]
    },
    {
     "name": "stderr",
     "output_type": "stream",
     "text": [
      " 88%|████████▊ | 441/500 [2:56:26<11:59, 12.20s/it]"
     ]
    },
    {
     "name": "stdout",
     "output_type": "stream",
     "text": [
      "Words chosen for updates :  [('तरसत', 'रस'), ('लहरती', 'लहरी'), ('सेंक', 'सं'), ('चटकते', 'चट'), ('कोपल', 'पल'), ('सीढी', 'सीढ़ी'), ('ग़जल', 'ग़ज़ल'), ('राहत', 'राह'), ('माँगती', 'माँगी'), ('ठहराते', 'ठहरा')]\n"
     ]
    },
    {
     "name": "stderr",
     "output_type": "stream",
     "text": [
      " 92%|█████████▏| 461/500 [3:00:30<07:53, 12.13s/it]"
     ]
    },
    {
     "name": "stdout",
     "output_type": "stream",
     "text": [
      "Words chosen for updates :  [('रचत', 'रच'), ('सुत', 'सु'), ('बनक', 'बन'), ('दयो', 'दय'), ('लो', 'ल'), ('आवृत', 'आव'), ('कथा', 'था'), ('अबोला', 'अबला'), ('कमां', 'मां'), ('मानो', 'मान')]\n"
     ]
    },
    {
     "name": "stderr",
     "output_type": "stream",
     "text": [
      " 96%|█████████▌| 481/500 [3:04:35<03:51, 12.20s/it]"
     ]
    },
    {
     "name": "stdout",
     "output_type": "stream",
     "text": [
      "Words chosen for updates :  [('रगत', 'रग'), ('अध्', 'अध'), ('मत्', 'म'), ('मधुकर', 'मधुर'), ('रोवे', 'रव'), ('रात', 'रा'), ('बनवा', 'बनव'), ('धिना', 'धिन'), ('कपरा', 'पर'), ('गुज़ारा', 'गुज़रा')]\n"
     ]
    },
    {
     "name": "stderr",
     "output_type": "stream",
     "text": [
      " 97%|█████████▋| 483/500 [3:05:12<06:31, 23.01s/it]"
     ]
    },
    {
     "name": "stdout",
     "output_type": "stream",
     "text": [
      "Converged!\n",
      "BUILDING LEXICON\n"
     ]
    },
    {
     "name": "stderr",
     "output_type": "stream",
     "text": [
      "\n"
     ]
    },
    {
     "name": "stdout",
     "output_type": "stream",
     "text": [
      "PROCESSING brajbhasha\n"
     ]
    },
    {
     "name": "stderr",
     "output_type": "stream",
     "text": [
      "\r",
      "  0%|          | 0/500 [00:00<?, ?it/s]"
     ]
    },
    {
     "name": "stdout",
     "output_type": "stream",
     "text": [
      "Intializing TRANSITION MATRIX...\n",
      "Intialized TRANSITION MATRIX of dimensions 76x70\n"
     ]
    },
    {
     "name": "stderr",
     "output_type": "stream",
     "text": [
      "  4%|▍         | 21/500 [03:05<1:10:37,  8.85s/it]"
     ]
    },
    {
     "name": "stdout",
     "output_type": "stream",
     "text": [
      "Words chosen for updates :  [('बसों', 'बसो'), ('धरि', 'धारि'), ('ईया', 'या'), ('बूझत', 'बूझ'), ('गमाई', 'गा'), ('तकसीम', 'कसी'), ('चित', 'हि'), ('चलन', 'चलना'), ('पीर', 'पीरा'), ('पटी', 'पाटी')]\n"
     ]
    },
    {
     "name": "stderr",
     "output_type": "stream",
     "text": [
      "  8%|▊         | 41/500 [06:03<1:08:43,  8.98s/it]"
     ]
    },
    {
     "name": "stdout",
     "output_type": "stream",
     "text": [
      "Words chosen for updates :  [('करण', 'कारण'), ('बानों', 'बानो'), ('सूखता', 'सूखा'), ('तकिया', 'किया'), ('बजत', 'बज'), ('हर्फ', 'हार्'), ('गाद', 'गान'), ('छुपता', 'छुपा'), ('फूलत', 'फूल'), ('सूरतें', 'सूरते')]\n"
     ]
    },
    {
     "name": "stderr",
     "output_type": "stream",
     "text": [
      " 12%|█▏        | 61/500 [09:00<1:05:09,  8.91s/it]"
     ]
    },
    {
     "name": "stdout",
     "output_type": "stream",
     "text": [
      "Words chosen for updates :  [('थ', 'था'), ('छोड़ों', 'छोड़ो'), ('हौ', 'ही'), ('बाँधत', 'बाँध'), ('उत', 'उ'), ('कहिओ', 'कहि'), ('ओंस', 'स'), ('फबता', 'बा'), ('छिपते', 'छिपे'), ('लापता', 'लाता')]\n"
     ]
    },
    {
     "name": "stderr",
     "output_type": "stream",
     "text": [
      " 16%|█▌        | 81/500 [11:58<1:02:05,  8.89s/it]"
     ]
    },
    {
     "name": "stdout",
     "output_type": "stream",
     "text": [
      "Words chosen for updates :  [('जना', 'जाना'), ('नाथ', 'नाथा'), ('तकियों', 'कियो'), ('साम', 'सा'), ('भगाओ', 'भागा'), ('पसारते', 'सारे'), ('रचता', 'रहा'), ('माओं', 'रा'), ('माघ', 'रा'), ('तुमकों', 'तुमको')]\n"
     ]
    },
    {
     "name": "stderr",
     "output_type": "stream",
     "text": [
      " 20%|██        | 101/500 [14:55<58:45,  8.83s/it] "
     ]
    },
    {
     "name": "stdout",
     "output_type": "stream",
     "text": [
      "Words chosen for updates :  [('आन', 'आना'), ('साध', 'साधा'), ('कौ', 'की'), ('ओसारे', 'सारे'), ('महरी', 'हरी'), ('भोत', 'भो'), ('पहिये', 'हिये'), ('तपकर', 'कर'), ('मधुरतम', 'धुर'), ('हमपे', 'हे')]\n"
     ]
    },
    {
     "name": "stderr",
     "output_type": "stream",
     "text": [
      " 24%|██▍       | 121/500 [17:52<56:16,  8.91s/it]"
     ]
    },
    {
     "name": "stdout",
     "output_type": "stream",
     "text": [
      "Words chosen for updates :  [('नक', 'नाक'), ('लों', 'लो'), ('उड़ती', 'उड़ी'), ('तलाश', 'लाश'), ('भूलते', 'भूले'), ('आयाम', 'आया'), ('कमला', 'कला'), ('फबन', 'बन'), ('उफन', 'उन'), ('पलेगा', 'लेगा')]\n"
     ]
    },
    {
     "name": "stderr",
     "output_type": "stream",
     "text": [
      " 28%|██▊       | 141/500 [20:47<51:45,  8.65s/it]"
     ]
    },
    {
     "name": "stdout",
     "output_type": "stream",
     "text": [
      "Words chosen for updates :  [('बयस', 'बायस'), ('डरा', 'डारा'), ('सजन', 'साजन'), ('ईसा', 'सा'), ('बहकती', 'बहकी'), ('खतरा', 'खरा'), ('बताई', 'बा'), ('बचें', 'बहे'), ('दमित', 'नि'), ('दामन', 'दान')]\n"
     ]
    },
    {
     "name": "stderr",
     "output_type": "stream",
     "text": [
      " 32%|███▏      | 161/500 [23:44<49:46,  8.81s/it]"
     ]
    },
    {
     "name": "stdout",
     "output_type": "stream",
     "text": [
      "Words chosen for updates :  [('लिखीं', 'लिखी'), ('लाई', 'ला'), ('निरखते', 'निरखे'), ('हयत', 'हय'), ('भगा', 'भागा'), ('नमाज', 'नाज'), ('रांम', 'रा'), ('कयामत', 'काया'), ('आपरी', 'आरी'), ('परति', 'रि')]\n"
     ]
    },
    {
     "name": "stderr",
     "output_type": "stream",
     "text": [
      " 36%|███▌      | 181/500 [26:40<46:55,  8.83s/it]"
     ]
    },
    {
     "name": "stdout",
     "output_type": "stream",
     "text": [
      "Words chosen for updates :  [('तहा', 'हा'), ('किसम', 'किस'), ('अंतः', 'अ'), ('पियत', 'पिय'), ('प्राणी', 'प्रानी'), ('ईमा', 'मा'), ('लठैत', 'लसै'), ('ॠषि', 'कि'), ('मृदंग', 'दग'), ('हथवा', 'हरवा')]\n"
     ]
    },
    {
     "name": "stderr",
     "output_type": "stream",
     "text": [
      " 40%|████      | 201/500 [29:37<43:53,  8.81s/it]"
     ]
    },
    {
     "name": "stdout",
     "output_type": "stream",
     "text": [
      "Words chosen for updates :  [('ल', 'ला'), ('सहरा', 'सहारा'), ('बजे', 'बाजे'), ('रह', 'राह'), ('नस', 'नास'), ('वरी', 'वारी'), ('ओये', 'ये'), ('तरो', 'रो'), ('तहे', 'हे'), ('कभीं', 'कभी')]\n"
     ]
    },
    {
     "name": "stderr",
     "output_type": "stream",
     "text": [
      " 44%|████▍     | 221/500 [32:34<41:05,  8.84s/it]"
     ]
    },
    {
     "name": "stdout",
     "output_type": "stream",
     "text": [
      "Words chosen for updates :  [('वले', 'वाले'), ('खड़ीं', 'खड़ी'), ('कफछ', 'कछ'), ('थकन', 'थकान'), ('चारो', 'हारो'), ('सूँघ', 'सूँ'), ('परात', 'रा'), ('खड़ाऊ', 'खड़ा'), ('नंद', 'नद'), ('बोए', 'बो')]\n"
     ]
    },
    {
     "name": "stderr",
     "output_type": "stream",
     "text": [
      " 48%|████▊     | 241/500 [35:30<38:08,  8.84s/it]"
     ]
    },
    {
     "name": "stdout",
     "output_type": "stream",
     "text": [
      "Words chosen for updates :  [('सँवारें', 'सँवारे'), ('खड़ीं', 'खड़ी'), ('राई', 'रा'), ('जुगत', 'जुग'), ('गूँजते', 'गूँजे'), ('स्वत', 'स्व'), ('बोतलों', 'बोलो'), ('महो', 'हो'), ('संतत', 'स'), ('किणी', 'किनी')]\n"
     ]
    },
    {
     "name": "stderr",
     "output_type": "stream",
     "text": [
      " 52%|█████▏    | 261/500 [38:27<35:08,  8.82s/it]"
     ]
    },
    {
     "name": "stdout",
     "output_type": "stream",
     "text": [
      "Words chosen for updates :  [('सुर', 'सुरा'), ('क्य', 'क्या'), ('नग', 'नाग'), ('सँवरे', 'साँवरे'), ('हिं', 'हि'), ('रेत', 'रे'), ('कमीनी', 'कीनी'), ('छण', 'छन'), ('घरे', 'रे'), ('वेदन', 'वेदना')]\n"
     ]
    },
    {
     "name": "stderr",
     "output_type": "stream",
     "text": [
      " 56%|█████▌    | 281/500 [41:24<32:24,  8.88s/it]"
     ]
    },
    {
     "name": "stdout",
     "output_type": "stream",
     "text": [
      "Words chosen for updates :  [('अयना', 'अयाना'), ('खानें', 'खाने'), ('बौर', 'बीर'), ('रईं', 'र'), ('हवाओं', 'हवा'), ('तकते', 'के'), ('आइने', 'आईने'), ('घंट', 'घट'), ('घंटा', 'घटा'), ('चहैं', 'चहै')]\n"
     ]
    },
    {
     "name": "stderr",
     "output_type": "stream",
     "text": [
      " 60%|██████    | 301/500 [44:20<29:14,  8.82s/it]"
     ]
    },
    {
     "name": "stdout",
     "output_type": "stream",
     "text": [
      "Words chosen for updates :  [('लग', 'लगा'), ('जना', 'जाना'), ('हीं', 'ही'), ('बुराई', 'बुरा'), ('रीत', 'री'), ('जफ़र', 'ज़र'), ('मले', 'ले'), ('फलते', 'ले'), ('चीरते', 'हीरे'), ('बोलिए', 'बोलि')]\n"
     ]
    },
    {
     "name": "stderr",
     "output_type": "stream",
     "text": [
      " 64%|██████▍   | 321/500 [47:17<26:27,  8.87s/it]"
     ]
    },
    {
     "name": "stdout",
     "output_type": "stream",
     "text": [
      "Words chosen for updates :  [('वस', 'वास'), ('बर', 'बार'), ('बड़', 'बड़ा'), ('करज', 'कारज'), ('जानें', 'जाने'), ('उधरे', 'उधारे'), ('बिहँसत', 'बिहँस'), ('भगते', 'भगे'), ('औरन', 'रन'), ('नचाने', 'नहाने')]\n"
     ]
    },
    {
     "name": "stderr",
     "output_type": "stream",
     "text": [
      " 68%|██████▊   | 341/500 [50:13<23:20,  8.81s/it]"
     ]
    },
    {
     "name": "stdout",
     "output_type": "stream",
     "text": [
      "Words chosen for updates :  [('उड़ीं', 'उड़ी'), ('ॠतुओं', 'कु'), ('ठेस', 'सेस'), ('दामन', 'दान'), ('पाओं', 'पा'), ('तपाकर', 'पाकर'), ('पृष्', 'प्'), ('रस्ता', 'रास्ता'), ('यातें', 'याते'), ('दशमी', 'नही')]\n"
     ]
    },
    {
     "name": "stderr",
     "output_type": "stream",
     "text": [
      " 72%|███████▏  | 361/500 [53:10<20:34,  8.88s/it]"
     ]
    },
    {
     "name": "stdout",
     "output_type": "stream",
     "text": [
      "Words chosen for updates :  [('डरी', 'डारी'), ('बँसुरिया', 'बाँसुरिया'), ('सांवरे', 'सावरे'), ('टंकी', 'टकी'), ('बूझते', 'बूझे'), ('बिखरता', 'बिखरा'), ('मंगनी', 'गनी'), ('ऊबा', 'बा'), ('भगत', 'भाग'), ('मतवारी', 'वारी')]\n"
     ]
    },
    {
     "name": "stderr",
     "output_type": "stream",
     "text": [
      " 76%|███████▌  | 381/500 [56:07<17:41,  8.92s/it]"
     ]
    },
    {
     "name": "stdout",
     "output_type": "stream",
     "text": [
      "Words chosen for updates :  [('रं', 'र'), ('हूंँ', 'हूँ'), ('काटें', 'काटे'), ('धँसती', 'धँसी'), ('कतर', 'कर'), ('समें', 'से'), ('सिफत', 'सि'), ('सोचै', 'सोहै'), ('ईशानं', 'शान'), ('औसत', 'स')]\n"
     ]
    },
    {
     "name": "stderr",
     "output_type": "stream",
     "text": [
      " 80%|████████  | 401/500 [59:04<14:41,  8.90s/it]"
     ]
    },
    {
     "name": "stdout",
     "output_type": "stream",
     "text": [
      "Words chosen for updates :  [('रुकीं', 'रुकी'), ('बीनाई', 'बीना'), ('लगौ', 'लगी'), ('कसरत', 'कसर'), ('उफन', 'उन'), ('धारण', 'धारन'), ('लाएंगे', 'लागे'), ('बेघर', 'बेर'), ('दासा', 'नासा'), ('ईदी', 'दी')]\n"
     ]
    },
    {
     "name": "stderr",
     "output_type": "stream",
     "text": [
      " 84%|████████▍ | 421/500 [1:02:02<11:40,  8.87s/it]"
     ]
    },
    {
     "name": "stdout",
     "output_type": "stream",
     "text": [
      "Words chosen for updates :  [('किनार', 'किनारा'), ('जंगी', 'जगी'), ('हारता', 'हारा'), ('जगती', 'जगी'), ('बतला', 'बला'), ('केऊ', 'के'), ('मजमा', 'जा'), ('इधर', 'ईधर'), ('सूँघ', 'सूँ'), ('देन', 'नेन')]\n"
     ]
    },
    {
     "name": "stderr",
     "output_type": "stream",
     "text": [
      " 88%|████████▊ | 441/500 [1:04:58<08:36,  8.76s/it]"
     ]
    },
    {
     "name": "stdout",
     "output_type": "stream",
     "text": [
      "Words chosen for updates :  [('अबल', 'अबला'), ('बला', 'बाला'), ('बिहरत', 'बिहार'), ('ऊबने', 'बने'), ('मनाय', 'नाय'), ('समें', 'से'), ('एकांकी', 'काकी'), ('रहॆ', 'राहु'), ('सपन', 'सन'), ('शिवम', 'शिव')]\n"
     ]
    },
    {
     "name": "stderr",
     "output_type": "stream",
     "text": [
      " 92%|█████████▏| 461/500 [1:07:56<05:46,  8.90s/it]"
     ]
    },
    {
     "name": "stdout",
     "output_type": "stream",
     "text": [
      "Words chosen for updates :  [('हरा', 'हारा'), ('बजे', 'बाजे'), ('गिर', 'गिरा'), ('वारौ', 'वारी'), ('ढंक', 'ढक'), ('रेत', 'रे'), ('औरतो', 'रो'), ('पंसारी', 'सारी'), ('चपत', 'ह'), ('ठनी', 'ठानी')]\n"
     ]
    },
    {
     "name": "stderr",
     "output_type": "stream",
     "text": [
      " 96%|█████████▌| 481/500 [1:10:53<02:49,  8.91s/it]"
     ]
    },
    {
     "name": "stdout",
     "output_type": "stream",
     "text": [
      "Words chosen for updates :  [('लिखाई', 'लिखा'), ('करतब', 'करब'), ('भयो', 'भायो'), ('डराए', 'डारा'), ('पुरवाई', 'पुरवा'), ('पतीली', 'पीली'), ('मती', 'मी'), ('मॉ', 'मा'), ('उपजै', 'जै'), ('संघर्श', 'सर्व')]\n"
     ]
    },
    {
     "name": "stderr",
     "output_type": "stream",
     "text": [
      "100%|██████████| 500/500 [1:13:42<00:00,  8.85s/it]\n"
     ]
    },
    {
     "name": "stdout",
     "output_type": "stream",
     "text": [
      "BUILDING LEXICON\n",
      "PROCESSING bajjika\n"
     ]
    },
    {
     "name": "stderr",
     "output_type": "stream",
     "text": [
      "\r",
      "  0%|          | 0/500 [00:00<?, ?it/s]"
     ]
    },
    {
     "name": "stdout",
     "output_type": "stream",
     "text": [
      "Intializing TRANSITION MATRIX...\n",
      "Intialized TRANSITION MATRIX of dimensions 76x64\n"
     ]
    },
    {
     "name": "stderr",
     "output_type": "stream",
     "text": [
      "  4%|▍         | 21/500 [00:43<16:13,  2.03s/it]"
     ]
    },
    {
     "name": "stdout",
     "output_type": "stream",
     "text": [
      "Words chosen for updates :  [('फण', 'फल'), ('धन', 'इन'), ('काली', 'कली'), ('किवार', 'कर'), ('ढर', 'लर'), ('सब्', 'सब'), ('मावरा', 'मर'), ('पौरि', 'पार'), ('हरख', 'रख'), ('छलकता', 'छलकइत')]\n"
     ]
    },
    {
     "name": "stderr",
     "output_type": "stream",
     "text": [
      "  8%|▊         | 41/500 [01:24<15:13,  1.99s/it]"
     ]
    },
    {
     "name": "stdout",
     "output_type": "stream",
     "text": [
      "Words chosen for updates :  [('सुरू', 'सुर'), ('ताबिश', 'तब'), ('लाह', 'पल'), ('चूजे', 'के'), ('पूजित', 'पूत'), ('मचलता', 'मचलइत'), ('शबाहत', 'बात'), ('एगो', 'गो'), ('बोझा', 'बोझ'), ('सिल', 'सनल')]\n"
     ]
    },
    {
     "name": "stderr",
     "output_type": "stream",
     "text": [
      " 12%|█▏        | 61/500 [02:04<14:31,  1.99s/it]"
     ]
    },
    {
     "name": "stdout",
     "output_type": "stream",
     "text": [
      "Words chosen for updates :  [('वक्', 'क'), ('देवलोक', 'देलक'), ('हारे', 'रे'), ('बरछी', 'बरही'), ('छाजै', 'ह'), ('चौरा', 'चार'), ('तौ', 'पता'), ('बङी', 'जी'), ('अभि', 'अब'), ('उतरत', 'तरपइत')]\n"
     ]
    },
    {
     "name": "stderr",
     "output_type": "stream",
     "text": [
      " 16%|█▌        | 81/500 [02:44<14:15,  2.04s/it]"
     ]
    },
    {
     "name": "stdout",
     "output_type": "stream",
     "text": [
      "Words chosen for updates :  [('जिसके', 'सके'), ('सरोज', 'सर'), ('लगो', 'लग'), ('सजना', 'सन'), ('शोहदे', 'दे'), ('ढिग', 'लग'), ('शिक्षा', 'क'), ('पिता', 'पता'), ('ज्वाला', 'ला'), ('शूर', 'सर')]\n"
     ]
    },
    {
     "name": "stderr",
     "output_type": "stream",
     "text": [
      " 20%|██        | 101/500 [03:25<13:30,  2.03s/it]"
     ]
    },
    {
     "name": "stdout",
     "output_type": "stream",
     "text": [
      "Words chosen for updates :  [('कस्', 'कस'), ('लेवै', 'ले'), ('एरे', 'रे'), ('दही', 'दी'), ('जैत', 'त'), ('छोट', 'हट'), ('तिन्ह', 'तन'), ('शासन', 'सन'), ('सिन्हा', 'सन'), ('शब्दो', 'बद')]\n"
     ]
    },
    {
     "name": "stderr",
     "output_type": "stream",
     "text": [
      " 24%|██▍       | 121/500 [04:07<13:33,  2.15s/it]"
     ]
    },
    {
     "name": "stdout",
     "output_type": "stream",
     "text": [
      "Words chosen for updates :  [('दोई', 'द'), ('जगजीत', 'गीत'), ('बदलो', 'बदल'), ('बूद', 'बद'), ('खेतो', 'खेत'), ('होवे', 'हे'), ('अब्बा', 'अजब'), ('उठ्ठे', 'उठे'), ('ऊर्जित', 'औरत'), ('ऊटी', 'पाटी')]\n"
     ]
    },
    {
     "name": "stderr",
     "output_type": "stream",
     "text": [
      " 28%|██▊       | 141/500 [04:47<12:04,  2.02s/it]"
     ]
    },
    {
     "name": "stdout",
     "output_type": "stream",
     "text": [
      "Words chosen for updates :  [('आनि', 'आन'), ('परिहै', 'पर'), ('प्रण', 'परल'), ('साहिबा', 'सब'), ('बड़ौ', 'बड़ा'), ('ण', 'पल'), ('छाँव', 'हँ'), ('चिठ्ठी', 'की'), ('बुल', 'जुल'), ('परवाना', 'परान')]\n"
     ]
    },
    {
     "name": "stderr",
     "output_type": "stream",
     "text": [
      " 32%|███▏      | 161/500 [05:27<11:15,  1.99s/it]"
     ]
    },
    {
     "name": "stdout",
     "output_type": "stream",
     "text": [
      "Words chosen for updates :  [('मनई', 'मन'), ('जान', 'न'), ('बोलि', 'बल'), ('बिलो', 'बल'), ('तबाह', 'तब'), ('शोषित', 'त'), ('छटाएँ', 'हट'), ('पसारि', 'पसार'), ('एकान्', 'कान'), ('बरहा', 'बरा')]\n"
     ]
    },
    {
     "name": "stderr",
     "output_type": "stream",
     "text": [
      " 36%|███▌      | 181/500 [06:06<10:27,  1.97s/it]"
     ]
    },
    {
     "name": "stdout",
     "output_type": "stream",
     "text": [
      "Words chosen for updates :  [('जमन', 'मन'), ('गओ', 'गए'), ('दिशाहीन', 'दीन'), ('तजूँ', 'त'), ('उठना', 'न'), ('घटाव', 'हट'), ('चलना', 'चलन'), ('पडा़', 'पड़'), ('चलावै', 'चल'), ('सोचूँ', 'सच')]\n"
     ]
    },
    {
     "name": "stderr",
     "output_type": "stream",
     "text": [
      " 40%|████      | 201/500 [06:45<09:33,  1.92s/it]"
     ]
    },
    {
     "name": "stdout",
     "output_type": "stream",
     "text": [
      "Words chosen for updates :  [('वसी', 'सी'), ('जिये', 'ये'), ('हमें', 'में'), ('उठत', 'त'), ('श्लेष', 'ले'), ('बिनाए', 'बन'), ('काँ', 'क'), ('भोर', 'भर'), ('सभै', 'सब'), ('बेवश', 'जे')]\n"
     ]
    },
    {
     "name": "stderr",
     "output_type": "stream",
     "text": [
      " 44%|████▍     | 221/500 [07:23<08:59,  1.93s/it]"
     ]
    },
    {
     "name": "stdout",
     "output_type": "stream",
     "text": [
      "Words chosen for updates :  [('प्रवल', 'परल'), ('विपदा', 'पद'), ('आगार', 'आगर'), ('जसराज', 'सर'), ('छा', 'ह'), ('जागरण', 'गरल'), ('अजाब', 'अब'), ('नियाज', 'नया'), ('ढल', 'चलल'), ('साहूकार', 'सकार')]\n"
     ]
    },
    {
     "name": "stderr",
     "output_type": "stream",
     "text": [
      " 48%|████▊     | 241/500 [08:02<08:20,  1.93s/it]"
     ]
    },
    {
     "name": "stdout",
     "output_type": "stream",
     "text": [
      "Words chosen for updates :  [('सहेजो', 'से'), ('धक', 'इक'), ('सहारा', 'सर'), ('छाँट', 'हट'), ('सखि', 'सर'), ('खसि', 'रस'), ('सभ्', 'सब'), ('वर्णित', 'रत'), ('बारिज', 'बार'), ('ढाते', 'लाते')]\n"
     ]
    },
    {
     "name": "stderr",
     "output_type": "stream",
     "text": [
      " 52%|█████▏    | 261/500 [08:40<07:38,  1.92s/it]"
     ]
    },
    {
     "name": "stdout",
     "output_type": "stream",
     "text": [
      "Words chosen for updates :  [('रत्', 'रत'), ('मौलि', 'माल'), ('कठोर', 'कर'), ('पोएट्री', 'पटरी'), ('किराने', 'करने'), ('कराहने', 'करने'), ('ढहे', 'ले'), ('फर्श', 'लर'), ('अनूठा', 'अन'), ('सभाएँ', 'सब')]\n"
     ]
    },
    {
     "name": "stderr",
     "output_type": "stream",
     "text": [
      " 56%|█████▌    | 281/500 [09:19<06:58,  1.91s/it]"
     ]
    },
    {
     "name": "stdout",
     "output_type": "stream",
     "text": [
      "Words chosen for updates :  [('गुजरो', 'गुर'), ('परहेज', 'परे'), ('काव्', 'क'), ('डोर', 'डर'), ('उमिर', 'मर'), ('छज्जा', 'ह'), ('औजार', 'और'), ('बाँच', 'बच'), ('लाते', 'चलते'), ('सामा', 'साम')]\n"
     ]
    },
    {
     "name": "stderr",
     "output_type": "stream",
     "text": [
      " 60%|██████    | 301/500 [09:57<06:26,  1.94s/it]"
     ]
    },
    {
     "name": "stdout",
     "output_type": "stream",
     "text": [
      "Words chosen for updates :  [('दै', 'द'), ('केशव', 'के'), ('रहस्', 'रस'), ('छीज', 'ही'), ('इकला', 'सकल'), ('ओकरा', 'एकर'), ('ढिग', 'लग'), ('साथै', 'स'), ('कूड़ा', 'पकड़'), ('दामिनि', 'दामन')]\n"
     ]
    },
    {
     "name": "stderr",
     "output_type": "stream",
     "text": [
      " 64%|██████▍   | 321/500 [10:36<05:46,  1.94s/it]"
     ]
    },
    {
     "name": "stdout",
     "output_type": "stream",
     "text": [
      "Words chosen for updates :  [('एकर', 'कर'), ('सजीव', 'सी'), ('शशक', 'क'), ('हक', 'क'), ('हँसै', 'स'), ('नगारा', 'नगर'), ('बइठल', 'बसल'), ('अंगो', 'अंग'), ('खात', 'रत'), ('हक़', 'कल')]\n"
     ]
    },
    {
     "name": "stderr",
     "output_type": "stream",
     "text": [
      " 68%|██████▊   | 341/500 [11:14<05:03,  1.91s/it]"
     ]
    },
    {
     "name": "stdout",
     "output_type": "stream",
     "text": [
      "Words chosen for updates :  [('क्', 'क'), ('सुनै', 'सुन'), ('वैस', 'स'), ('रता', 'रत'), ('बैल', 'बल'), ('बैद', 'बद'), ('सारो', 'सर'), ('हियौ', 'या'), ('शानो', 'न'), ('आशिष', 'आ')]\n"
     ]
    },
    {
     "name": "stderr",
     "output_type": "stream",
     "text": [
      " 72%|███████▏  | 361/500 [11:53<04:28,  1.93s/it]"
     ]
    },
    {
     "name": "stdout",
     "output_type": "stream",
     "text": [
      "Words chosen for updates :  [('कसो', 'कस'), ('विहरत', 'रत'), ('आजमा', 'आम'), ('मोक्ष', 'मक'), ('मराहिल', 'मरल'), ('इन्ही', 'सनी'), ('बावजूद', 'बद'), ('लाम', 'चलम'), ('विद्वान', 'दान'), ('निहारी', 'नारी')]\n"
     ]
    },
    {
     "name": "stderr",
     "output_type": "stream",
     "text": [
      " 76%|███████▌  | 381/500 [12:32<03:48,  1.92s/it]"
     ]
    },
    {
     "name": "stdout",
     "output_type": "stream",
     "text": [
      "Words chosen for updates :  [('कर्ज', 'कर'), ('हँसाए', 'स'), ('भलौ', 'भला'), ('ढोएगा', 'लग'), ('चालू', 'चल'), ('थार', 'कर'), ('लिहिन', 'चलन'), ('विद्वान्', 'दान'), ('छुपाएँ', 'छुप'), ('हाथाँ', 'ह')]\n"
     ]
    },
    {
     "name": "stderr",
     "output_type": "stream",
     "text": [
      " 80%|████████  | 401/500 [13:10<03:13,  1.96s/it]"
     ]
    },
    {
     "name": "stdout",
     "output_type": "stream",
     "text": [
      "Words chosen for updates :  [('दीवानो', 'दीन'), ('घट', 'हट'), ('उदू', 'द'), ('सहना', 'सन'), ('सारिका', 'सरक'), ('कहावै', 'क'), ('ढरि', 'लर'), ('आखिरश', 'आखर'), ('साहिबा', 'सब'), ('ख', 'पर')]\n"
     ]
    },
    {
     "name": "stderr",
     "output_type": "stream",
     "text": [
      " 84%|████████▍ | 421/500 [13:49<02:33,  1.94s/it]"
     ]
    },
    {
     "name": "stdout",
     "output_type": "stream",
     "text": [
      "Words chosen for updates :  [('पल्', 'पल'), ('क्रमश', 'करम'), ('जून', 'न'), ('जूस', 'स'), ('साँवरो', 'सर'), ('ठहाका', 'क'), ('चिल्', 'चल'), ('बच्', 'बच'), ('मक', 'चमक'), ('ब', 'बच')]\n"
     ]
    },
    {
     "name": "stderr",
     "output_type": "stream",
     "text": [
      " 88%|████████▊ | 441/500 [14:28<01:54,  1.94s/it]"
     ]
    },
    {
     "name": "stdout",
     "output_type": "stream",
     "text": [
      "Words chosen for updates :  [('तकिए', 'तक'), ('लेश', 'ले'), ('सपनोँ', 'सपन'), ('कसा', 'कस'), ('विकास', 'कस'), ('सिराए', 'सर'), ('तबा', 'तब'), ('सहरा', 'सर'), ('बैना', 'बन'), ('कः', 'क')]\n"
     ]
    },
    {
     "name": "stderr",
     "output_type": "stream",
     "text": [
      " 91%|█████████ | 455/500 [14:57<01:28,  1.97s/it]"
     ]
    },
    {
     "name": "stdout",
     "output_type": "stream",
     "text": [
      "Converged!\n",
      "BUILDING LEXICON\n"
     ]
    },
    {
     "name": "stderr",
     "output_type": "stream",
     "text": [
      "\n"
     ]
    },
    {
     "name": "stdout",
     "output_type": "stream",
     "text": [
      "PROCESSING magahi\n"
     ]
    },
    {
     "name": "stderr",
     "output_type": "stream",
     "text": [
      "\r",
      "  0%|          | 0/500 [00:00<?, ?it/s]"
     ]
    },
    {
     "name": "stdout",
     "output_type": "stream",
     "text": [
      "Intializing TRANSITION MATRIX...\n",
      "Intialized TRANSITION MATRIX of dimensions 76x63\n"
     ]
    },
    {
     "name": "stderr",
     "output_type": "stream",
     "text": [
      "  4%|▍         | 21/500 [01:43<39:05,  4.90s/it]"
     ]
    },
    {
     "name": "stdout",
     "output_type": "stream",
     "text": [
      "Words chosen for updates :  [('लगत', 'लागत'), ('चय', 'चाय'), ('ख़िलाफ', 'खिलाफ'), ('पय', 'पाया'), ('दियना', 'दिया'), ('होय', 'हय'), ('असर', 'असरा'), ('बँधे', 'बाँधे'), ('रहो', 'रह'), ('रव', 'नव')]\n"
     ]
    },
    {
     "name": "stderr",
     "output_type": "stream",
     "text": [
      "  8%|▊         | 41/500 [03:23<38:02,  4.97s/it]"
     ]
    },
    {
     "name": "stdout",
     "output_type": "stream",
     "text": [
      "Words chosen for updates :  [('तारो', 'तार'), ('साई', 'सा'), ('रहतै', 'रहत'), ('भैस', 'रस'), ('ढोने', 'हे'), ('उलझ', 'लख'), ('चढ़ूँ', 'चहूँ'), ('सुड़', 'सुर'), ('आशना', 'आसा'), ('ऐन', 'त')]\n"
     ]
    },
    {
     "name": "stderr",
     "output_type": "stream",
     "text": [
      " 12%|█▏        | 61/500 [05:02<36:19,  4.96s/it]"
     ]
    },
    {
     "name": "stdout",
     "output_type": "stream",
     "text": [
      "Words chosen for updates :  [('सबक़', 'सबक'), ('ण', 'न'), ('नली', 'ली'), ('पूजना', 'पूजा'), ('दई', 'द'), ('शीश', 'सीस'), ('रगो', 'रग'), ('मैने', 'मे'), ('शानो', 'सा'), ('होइ', 'हइ')]\n"
     ]
    },
    {
     "name": "stderr",
     "output_type": "stream",
     "text": [
      " 16%|█▌        | 81/500 [06:41<34:25,  4.93s/it]"
     ]
    },
    {
     "name": "stdout",
     "output_type": "stream",
     "text": [
      "Words chosen for updates :  [('लहलही', 'लहालही'), ('चलो', 'चल'), ('अकल', 'अकाल'), ('बज़ार', 'बजार'), ('चढ़ल', 'चहल'), ('जड़ि', 'जरि'), ('आवेदन', 'वेद'), ('भों', 'रं'), ('मुड', 'मुर'), ('अंगराई', 'अंगना')]\n"
     ]
    },
    {
     "name": "stderr",
     "output_type": "stream",
     "text": [
      " 20%|██        | 101/500 [08:21<33:34,  5.05s/it]"
     ]
    },
    {
     "name": "stdout",
     "output_type": "stream",
     "text": [
      "Words chosen for updates :  [('तोप', 'तप'), ('ज़ोम', 'जम'), ('देवताओ', 'देवता'), ('बोना', 'बा'), ('पयान', 'पाया'), ('आपात', 'पात'), ('आदेश', 'देस'), ('बरै', 'बर'), ('इसने', 'इसे'), ('आस', 'आसा')]\n"
     ]
    },
    {
     "name": "stderr",
     "output_type": "stream",
     "text": [
      " 24%|██▍       | 121/500 [10:01<31:21,  4.96s/it]"
     ]
    },
    {
     "name": "stdout",
     "output_type": "stream",
     "text": [
      "Words chosen for updates :  [('दवा', 'दावा'), ('जगह', 'जगहा'), ('सिय', 'सिया'), ('बढ़ी', 'बही'), ('लड', 'लर'), ('रईस', 'रस'), ('हैय', 'हय'), ('होइ', 'हइ'), ('बाभन', 'बार'), ('डॉन', 'रं')]\n"
     ]
    },
    {
     "name": "stderr",
     "output_type": "stream",
     "text": [
      " 28%|██▊       | 141/500 [11:40<30:00,  5.02s/it]"
     ]
    },
    {
     "name": "stdout",
     "output_type": "stream",
     "text": [
      "Words chosen for updates :  [('गज', 'गाज'), ('पला', 'पाला'), ('उबाला', 'बाला'), ('छीले', 'मीले'), ('पठाया', 'पाया'), ('बसै', 'बस'), ('पियरा', 'पियारा'), ('परसै', 'परस'), ('मुद', 'मरद'), ('कोख़', 'कोख')]\n"
     ]
    },
    {
     "name": "stderr",
     "output_type": "stream",
     "text": [
      " 32%|███▏      | 161/500 [13:20<28:11,  4.99s/it]"
     ]
    },
    {
     "name": "stdout",
     "output_type": "stream",
     "text": [
      "Words chosen for updates :  [('ह', 'हा'), ('बालको', 'बालक'), ('छिले', 'मिले'), ('एरी', 'री'), ('काटने', 'काटे'), ('धुनने', 'धरे'), ('अज़्म', 'जम'), ('डोलिया', 'डलिया'), ('कँ', 'का'), ('डोम', 'रोम')]\n"
     ]
    },
    {
     "name": "stderr",
     "output_type": "stream",
     "text": [
      " 36%|███▌      | 181/500 [15:00<26:58,  5.07s/it]"
     ]
    },
    {
     "name": "stdout",
     "output_type": "stream",
     "text": [
      "Words chosen for updates :  [('बनसी', 'बसी'), ('लीनो', 'ली'), ('ज़मीनों', 'जमीं'), ('उतारा', 'तारा'), ('ठक्', 'क'), ('अरसे', 'रसे'), ('सफ़ारी', 'सबारी'), ('इहिं', 'नहिं'), ('लैल', 'लेल'), ('प्रभु', 'परभु')]\n"
     ]
    },
    {
     "name": "stderr",
     "output_type": "stream",
     "text": [
      " 40%|████      | 201/500 [16:41<24:52,  4.99s/it]"
     ]
    },
    {
     "name": "stdout",
     "output_type": "stream",
     "text": [
      "Words chosen for updates :  [('देव', 'देवा'), ('चहकने', 'चहके'), ('नपी', 'पी'), ('सोज़े', 'सजे'), ('बंधन', 'बांध'), ('अदने', 'दे'), ('फलना', 'फला'), ('अटी', 'टी'), ('रुक्मिणी', 'रुकमिनी'), ('नुक्', 'नरक')]\n"
     ]
    },
    {
     "name": "stderr",
     "output_type": "stream",
     "text": [
      " 44%|████▍     | 221/500 [18:21<23:27,  5.04s/it]"
     ]
    },
    {
     "name": "stdout",
     "output_type": "stream",
     "text": [
      "Words chosen for updates :  [('तला', 'ताला'), ('ईहा', 'हा'), ('पातन', 'पात'), ('जनम', 'जम'), ('ठोकते', 'कते'), ('बरसती', 'बरसाती'), ('ढालो', 'हाल'), ('कोठार', 'कार'), ('नइ', 'इ'), ('धरयो', 'धराय')]\n"
     ]
    },
    {
     "name": "stderr",
     "output_type": "stream",
     "text": [
      " 48%|████▊     | 241/500 [20:02<21:54,  5.08s/it]"
     ]
    },
    {
     "name": "stdout",
     "output_type": "stream",
     "text": [
      "Words chosen for updates :  [('बह', 'बाह'), ('सबक', 'सबका'), ('ईदी', 'दी'), ('बहन', 'बह'), ('तोपो', 'तप'), ('पसारो', 'पसार'), ('हुन', 'हर'), ('तारा', 'ताना'), ('गोड़ी', 'गोरी'), ('होऊ', 'होल')]\n"
     ]
    },
    {
     "name": "stderr",
     "output_type": "stream",
     "text": [
      " 52%|█████▏    | 261/500 [21:41<19:24,  4.87s/it]"
     ]
    },
    {
     "name": "stdout",
     "output_type": "stream",
     "text": [
      "Words chosen for updates :  [('लील', 'लीला'), ('त़', 'त'), ('बनक', 'बक'), ('शाज़', 'साज'), ('दिय', 'दिया'), ('आजी', 'जी'), ('बडी़', 'बरी'), ('नोक', 'क'), ('कोयले', 'कयले'), ('नकटे', 'कटे')]\n"
     ]
    },
    {
     "name": "stderr",
     "output_type": "stream",
     "text": [
      " 56%|█████▌    | 281/500 [23:19<17:49,  4.89s/it]"
     ]
    },
    {
     "name": "stdout",
     "output_type": "stream",
     "text": [
      "Words chosen for updates :  [('दव', 'दाव'), ('़त', 'त'), ('मीनल', 'मील'), ('सहने', 'सहे'), ('संवर', 'सांवर'), ('उजार', 'जार'), ('तरन', 'तर'), ('एक्लै', 'कल'), ('ग्यान', 'गया'), ('छुम', 'मरम')]\n"
     ]
    },
    {
     "name": "stderr",
     "output_type": "stream",
     "text": [
      " 60%|██████    | 301/500 [24:58<16:23,  4.94s/it]"
     ]
    },
    {
     "name": "stdout",
     "output_type": "stream",
     "text": [
      "Words chosen for updates :  [('पक', 'पका'), ('देन', 'दे'), ('ढ़ल', 'हल'), ('शीश', 'सीस'), ('सानो', 'सा'), ('उधड़ी', 'धरी'), ('बद्र', 'बादर'), ('रोज़ो', 'रज'), ('आड़ी', 'आरी'), ('राई', 'ना')]\n"
     ]
    },
    {
     "name": "stderr",
     "output_type": "stream",
     "text": [
      " 64%|██████▍   | 321/500 [26:37<14:39,  4.91s/it]"
     ]
    },
    {
     "name": "stdout",
     "output_type": "stream",
     "text": [
      "Words chosen for updates :  [('प', 'पा'), ('ताख', 'ताखा'), ('चल', 'चाल'), ('जिं़दगी', 'जिंदगी'), ('खाई', 'खा'), ('तलाई', 'ताला'), ('होल', 'हल'), ('छिलके', 'मिलके'), ('जौहर', 'जहर'), ('डॉ', 'रं')]\n"
     ]
    },
    {
     "name": "stderr",
     "output_type": "stream",
     "text": [
      " 68%|██████▊   | 341/500 [28:16<13:01,  4.92s/it]"
     ]
    },
    {
     "name": "stdout",
     "output_type": "stream",
     "text": [
      "Words chosen for updates :  [('बत', 'बात'), ('साई', 'सा'), ('ईहा', 'हा'), ('सोती', 'सती'), ('हरा', 'हारा'), ('समरांगण', 'समरांगन'), ('अदेह', 'देह'), ('शगुन', 'सगर'), ('सुगना', 'सुगा'), ('छला', 'छाला')]\n"
     ]
    },
    {
     "name": "stderr",
     "output_type": "stream",
     "text": [
      " 72%|███████▏  | 361/500 [29:54<11:19,  4.89s/it]"
     ]
    },
    {
     "name": "stdout",
     "output_type": "stream",
     "text": [
      "Words chosen for updates :  [('संदेस', 'संदेसा'), ('चलन', 'चल'), ('देख़ो', 'देख'), ('पस्', 'पास'), ('करए', 'कर'), ('बिखराए', 'बिखरा'), ('जरनि', 'जरि'), ('चु', 'चार'), ('चोट', 'चट'), ('बिहार', 'बिहान')]\n"
     ]
    },
    {
     "name": "stderr",
     "output_type": "stream",
     "text": [
      " 76%|███████▌  | 381/500 [31:33<09:45,  4.92s/it]"
     ]
    },
    {
     "name": "stdout",
     "output_type": "stream",
     "text": [
      "Words chosen for updates :  [('ह', 'हा'), ('उगले', 'गले'), ('बदलै', 'बदल'), ('जड़', 'जर'), ('अगले', 'गले'), ('रहने', 'रहे'), ('पुल', 'परल'), ('मुआ', 'मर'), ('घोसले', 'सले'), ('झुनक', 'झुक')]\n"
     ]
    },
    {
     "name": "stderr",
     "output_type": "stream",
     "text": [
      " 80%|████████  | 401/500 [33:11<08:06,  4.92s/it]"
     ]
    },
    {
     "name": "stdout",
     "output_type": "stream",
     "text": [
      "Words chosen for updates :  [('ममा', 'मामा'), ('जाणै', 'जान'), ('धड़ी', 'धरी'), ('शानो', 'सा'), ('अबेर', 'बेर'), ('माथै', 'माथ'), ('कमाऊ', 'कमाल'), ('कष्', 'कस'), ('फेरी', 'बेरी'), ('आहटें', 'हमें')]\n"
     ]
    },
    {
     "name": "stderr",
     "output_type": "stream",
     "text": [
      " 84%|████████▍ | 421/500 [34:51<06:29,  4.92s/it]"
     ]
    },
    {
     "name": "stdout",
     "output_type": "stream",
     "text": [
      "Words chosen for updates :  [('बजत', 'बाजत'), ('म्हा', 'महा'), ('चमड़ा', 'चमरा'), ('पड़े', 'परे'), ('गँग', 'गँगा'), ('लहरो', 'लहर'), ('बज्र', 'बजर'), ('पियानो', 'पिया'), ('फैज', 'बज'), ('हया', 'हवा')]\n"
     ]
    },
    {
     "name": "stderr",
     "output_type": "stream",
     "text": [
      " 88%|████████▊ | 441/500 [36:30<04:55,  5.01s/it]"
     ]
    },
    {
     "name": "stdout",
     "output_type": "stream",
     "text": [
      "Words chosen for updates :  [('उसास', 'सास'), ('लैब', 'लब'), ('बैज़ा', 'बजा'), ('छीले', 'मीले'), ('अपनाती', 'पाती'), ('रक्स', 'राकस'), ('बन्न', 'ब'), ('सफ़लता', 'सफलता'), ('न', 'ना'), ('उनै', 'न')]\n"
     ]
    },
    {
     "name": "stderr",
     "output_type": "stream",
     "text": [
      " 92%|█████████▏| 461/500 [38:09<03:13,  4.97s/it]"
     ]
    },
    {
     "name": "stdout",
     "output_type": "stream",
     "text": [
      "Words chosen for updates :  [('बदमाश', 'बदमास'), ('कूको', 'कूक'), ('पौर', 'पर'), ('परतो', 'परत'), ('कोरी', 'करी'), ('मारो', 'मार'), ('प्रवाह', 'परवाह'), ('घास', 'दास'), ('बहारे', 'बहाने'), ('आचारों', 'चारों')]\n"
     ]
    },
    {
     "name": "stderr",
     "output_type": "stream",
     "text": [
      " 96%|█████████▌| 481/500 [39:47<01:33,  4.94s/it]"
     ]
    },
    {
     "name": "stdout",
     "output_type": "stream",
     "text": [
      "Words chosen for updates :  [('लला', 'लाला'), ('साजो', 'साज'), ('बड़ी', 'बरी'), ('सेठों', 'सें'), ('ज़हर', 'जहर'), ('बोहनी', 'बही'), ('चय', 'चाय'), ('कैट', 'कट'), ('झिल', 'खिल'), ('जारे', 'जाने')]\n"
     ]
    },
    {
     "name": "stderr",
     "output_type": "stream",
     "text": [
      "100%|█████████▉| 498/500 [41:15<00:09,  4.97s/it]"
     ]
    },
    {
     "name": "stdout",
     "output_type": "stream",
     "text": [
      "Converged!\n",
      "BUILDING LEXICON\n"
     ]
    },
    {
     "name": "stderr",
     "output_type": "stream",
     "text": [
      "\n"
     ]
    },
    {
     "name": "stdout",
     "output_type": "stream",
     "text": [
      "PROCESSING angika\n"
     ]
    },
    {
     "name": "stderr",
     "output_type": "stream",
     "text": [
      "\r",
      "  0%|          | 0/500 [00:00<?, ?it/s]"
     ]
    },
    {
     "name": "stdout",
     "output_type": "stream",
     "text": [
      "Intializing TRANSITION MATRIX...\n",
      "Intialized TRANSITION MATRIX of dimensions 76x65\n"
     ]
    },
    {
     "name": "stderr",
     "output_type": "stream",
     "text": [
      "  4%|▍         | 21/500 [08:16<3:08:46, 23.65s/it]"
     ]
    },
    {
     "name": "stdout",
     "output_type": "stream",
     "text": [
      "Words chosen for updates :  [('खडी', 'खड'), ('सानी', 'सीन'), ('रहमते', 'रहते'), ('मीठ', 'मठ'), ('बिदित', 'विदित'), ('ताता', 'तीती'), ('थमे', 'थे'), ('काला', 'काली'), ('गाई', 'ताई'), ('चौरा', 'चदरा')]\n"
     ]
    },
    {
     "name": "stderr",
     "output_type": "stream",
     "text": [
      "  8%|▊         | 41/500 [16:13<3:04:01, 24.05s/it]"
     ]
    },
    {
     "name": "stdout",
     "output_type": "stream",
     "text": [
      "Words chosen for updates :  [('निकट', 'निकटि'), ('मकड़े', 'कड़े'), ('लपेटा', 'लपेटी'), ('पीटना', 'पटना'), ('मोही', 'मोह'), ('मखौल', 'खौल'), ('तुने', 'तौने'), ('आषाढ़ी', 'आषाढ़'), ('गढ़ी', 'गढ़'), ('डरो', 'डरलो')]\n"
     ]
    },
    {
     "name": "stderr",
     "output_type": "stream",
     "text": [
      " 12%|█▏        | 61/500 [24:15<2:56:27, 24.12s/it]"
     ]
    },
    {
     "name": "stdout",
     "output_type": "stream",
     "text": [
      "Words chosen for updates :  [('सीप', 'सप'), ('अंत', 'अंति'), ('आजम', 'आज'), ('सीमित', 'सित'), ('आगी', 'आत'), ('चखा', 'चखी'), ('नाचे', 'नीचे'), ('देई', 'दे'), ('महार', 'हीर'), ('विलासी', 'विलास')]\n"
     ]
    },
    {
     "name": "stderr",
     "output_type": "stream",
     "text": [
      " 16%|█▌        | 81/500 [32:14<2:47:44, 24.02s/it]"
     ]
    },
    {
     "name": "stdout",
     "output_type": "stream",
     "text": [
      "Words chosen for updates :  [('भरी', 'भर'), ('करती', 'करत'), ('रहीन', 'रहन'), ('टली', 'टल'), ('तीसी', 'तस'), ('ह', 'हि'), ('कमीन', 'कन'), ('सुरत', 'सुरति'), ('रहता', 'रहती'), ('ठहरता', 'ठहरती')]\n"
     ]
    },
    {
     "name": "stderr",
     "output_type": "stream",
     "text": [
      " 20%|██        | 101/500 [40:18<2:41:47, 24.33s/it]"
     ]
    },
    {
     "name": "stdout",
     "output_type": "stream",
     "text": [
      "Words chosen for updates :  [('हमे', 'हे'), ('पासि', 'पीसि'), ('भाड़', 'भीड़'), ('बेटा', 'बेटी'), ('टाँकी', 'टाँक'), ('हाजिरी', 'हाजिर'), ('भगवती', 'भगवत'), ('रसता', 'रिसता'), ('दाबी', 'दाब'), ('दम्भी', 'दम्भ')]\n"
     ]
    },
    {
     "name": "stderr",
     "output_type": "stream",
     "text": [
      " 24%|██▍       | 121/500 [48:20<2:33:10, 24.25s/it]"
     ]
    },
    {
     "name": "stdout",
     "output_type": "stream",
     "text": [
      "Words chosen for updates :  [('वैरी', 'वैर'), ('देवी', 'देव'), ('ठिठुरी', 'ठिठुर'), ('पेल', 'पेलि'), ('बेसी', 'बेस'), ('पोछा', 'पोछी'), ('गोदी', 'गोद'), ('उछाली', 'उछाल'), ('पुकारी', 'पुकार'), ('घाल', 'घालि')]\n"
     ]
    },
    {
     "name": "stderr",
     "output_type": "stream",
     "text": [
      " 28%|██▊       | 141/500 [56:20<2:25:37, 24.34s/it]"
     ]
    },
    {
     "name": "stdout",
     "output_type": "stream",
     "text": [
      "Words chosen for updates :  [('उत्सवी', 'उत्सव'), ('मरै', 'रै'), ('वसीम', 'वस'), ('सिहरता', 'सिहरती'), ('सीखा', 'सखी'), ('बहा', 'बही'), ('टारी', 'टार'), ('बाली', 'बाल'), ('गोहार', 'तोहार'), ('टांगी', 'टांग')]\n"
     ]
    },
    {
     "name": "stderr",
     "output_type": "stream",
     "text": [
      " 32%|███▏      | 161/500 [1:04:20<2:15:17, 23.95s/it]"
     ]
    },
    {
     "name": "stdout",
     "output_type": "stream",
     "text": [
      "Words chosen for updates :  [('स्लेटी', 'स्लेट'), ('सीर', 'सर'), ('आसक्त', 'आसक्ति'), ('धन्', 'धिन्'), ('पच्छम', 'पच्छ'), ('नां', 'नीं'), ('सृष्टा', 'सृष्टी'), ('भुलाई', 'भुली'), ('राखी', 'राख'), ('छाँही', 'छाँह')]\n"
     ]
    },
    {
     "name": "stderr",
     "output_type": "stream",
     "text": [
      " 36%|███▌      | 181/500 [1:12:17<2:05:58, 23.69s/it]"
     ]
    },
    {
     "name": "stdout",
     "output_type": "stream",
     "text": [
      "Words chosen for updates :  [('औषध', 'औषधि'), ('हँसता', 'हँसती'), ('सूना', 'सूनी'), ('लालची', 'लालच'), ('समाहित', 'साहित'), ('जबानी', 'जबान'), ('धारा', 'धीरा'), ('छ', 'छल'), ('माँह', 'माँहि'), ('मेहमानी', 'मेहमान')]\n"
     ]
    },
    {
     "name": "stderr",
     "output_type": "stream",
     "text": [
      " 40%|████      | 201/500 [1:20:12<1:59:08, 23.91s/it]"
     ]
    },
    {
     "name": "stdout",
     "output_type": "stream",
     "text": [
      "Words chosen for updates :  [('सूनी', 'सून'), ('मईशत', 'शत'), ('दाख', 'दीख'), ('सूता', 'सूती'), ('साख', 'सीख'), ('अकेला', 'अकेली'), ('सूना', 'सूनी'), ('पिराती', 'पिरीत'), ('बिसर', 'बिसरि'), ('दौड़ी', 'दौड़')]\n"
     ]
    },
    {
     "name": "stderr",
     "output_type": "stream",
     "text": [
      " 44%|████▍     | 221/500 [1:28:08<1:50:28, 23.76s/it]"
     ]
    },
    {
     "name": "stdout",
     "output_type": "stream",
     "text": [
      "Words chosen for updates :  [('हिन्दी', 'हिन्द'), ('आड़ी', 'आड़'), ('ईश', 'श'), ('अत', 'अति'), ('जन', 'जनि'), ('लिपट', 'लिपटि'), ('छलै', 'छिलै'), ('पढ़ी', 'पढ़'), ('सभा', 'सभी'), ('हँसाई', 'हँसी')]\n"
     ]
    },
    {
     "name": "stderr",
     "output_type": "stream",
     "text": [
      " 48%|████▊     | 241/500 [1:36:00<1:41:55, 23.61s/it]"
     ]
    },
    {
     "name": "stdout",
     "output_type": "stream",
     "text": [
      "Words chosen for updates :  [('कीलें', 'कलें'), ('जुली', 'जुल'), ('मनी', 'न'), ('बकती', 'बकत'), ('नन्हा', 'नन्ही'), ('पराई', 'परी'), ('बजाई', 'बजी'), ('मा', 'ा'), ('बाँधती', 'बाँधत'), ('बटी', 'वट')]\n"
     ]
    },
    {
     "name": "stderr",
     "output_type": "stream",
     "text": [
      " 52%|█████▏    | 261/500 [1:43:57<1:34:26, 23.71s/it]"
     ]
    },
    {
     "name": "stdout",
     "output_type": "stream",
     "text": [
      "Words chosen for updates :  [('वैरी', 'वैर'), ('भीजी', 'भज'), ('भर', 'भरि'), ('उलट', 'उलटि'), ('लेता', 'लेती'), ('भरना', 'भरनी'), ('सीखा', 'सखी'), ('विजया', 'विजयी'), ('बुना', 'बुनी'), ('भावनी', 'भावन')]\n"
     ]
    },
    {
     "name": "stderr",
     "output_type": "stream",
     "text": [
      " 56%|█████▌    | 281/500 [2:13:42<1:56:50, 32.01s/it]  "
     ]
    },
    {
     "name": "stdout",
     "output_type": "stream",
     "text": [
      "Words chosen for updates :  [('स्कूली', 'स्कूल'), ('धरी', 'धर'), ('हती', 'हत'), ('टल', 'टलि'), ('आदिम', 'आदि'), ('जोखिम', 'जोखि'), ('जिम', 'जि'), ('जय', 'जिय'), ('दोयम', 'दोय'), ('परायी', 'पराय')]\n"
     ]
    },
    {
     "name": "stderr",
     "output_type": "stream",
     "text": [
      " 60%|██████    | 301/500 [2:21:44<1:20:31, 24.28s/it]"
     ]
    },
    {
     "name": "stdout",
     "output_type": "stream",
     "text": [
      "Words chosen for updates :  [('कूदी', 'कूद'), ('झरी', 'झर'), ('उलझी', 'उलझ'), ('धीम', 'ध'), ('मथ', 'थ'), ('कोटा', 'कोटी'), ('वरा', 'वरी'), ('साधी', 'सीध'), ('पढ़', 'पढ़ि'), ('ग़लती', 'ग़लत')]\n"
     ]
    },
    {
     "name": "stderr",
     "output_type": "stream",
     "text": [
      " 64%|██████▍   | 321/500 [2:29:38<1:10:34, 23.66s/it]"
     ]
    },
    {
     "name": "stdout",
     "output_type": "stream",
     "text": [
      "Words chosen for updates :  [('ज्योतिषी', 'ज्योतिष'), ('अवश', 'अवशि'), ('घम', 'घ'), ('उझक', 'उझकि'), ('थकता', 'थकती'), ('मतंग', 'तंत'), ('गोविन्दम', 'गोविन्द'), ('हियै', 'लहियै'), ('दह', 'दहलि'), ('मझे', 'झेल')]\n"
     ]
    },
    {
     "name": "stderr",
     "output_type": "stream",
     "text": [
      " 68%|██████▊   | 341/500 [2:37:33<1:02:32, 23.60s/it]"
     ]
    },
    {
     "name": "stdout",
     "output_type": "stream",
     "text": [
      "Words chosen for updates :  [('लोई', 'लो'), ('पूछती', 'पूछत'), ('झेलम', 'झेल'), ('सुख', 'सुखि'), ('रब', 'रबि'), ('शबी', 'शिब'), ('खोदा', 'खोदी'), ('पिघलता', 'पिघलती'), ('बीना', 'बनी'), ('भाता', 'भीती')]\n"
     ]
    },
    {
     "name": "stderr",
     "output_type": "stream",
     "text": [
      " 72%|███████▏  | 361/500 [2:45:26<55:06, 23.79s/it]  "
     ]
    },
    {
     "name": "stdout",
     "output_type": "stream",
     "text": [
      "Words chosen for updates :  [('जरूरी', 'जरूर'), ('रूखी', 'रूख'), ('नी', 'न'), ('सँवरी', 'सँवर'), ('आईन', 'आन'), ('पुत्री', 'पुत्र'), ('नरमी', 'नर'), ('कच्चा', 'कच्ची'), ('नापा', 'नीपी'), ('मग़र', 'ग़र')]\n"
     ]
    },
    {
     "name": "stderr",
     "output_type": "stream",
     "text": [
      " 76%|███████▌  | 381/500 [2:53:23<47:10, 23.79s/it]"
     ]
    },
    {
     "name": "stdout",
     "output_type": "stream",
     "text": [
      "Words chosen for updates :  [('लेखी', 'लेख'), ('जीजी', 'जज'), ('कतई', 'कत'), ('आह', 'आहि'), ('लिख', 'लिखि'), ('रोका', 'रोकी'), ('केरा', 'केरी'), ('गान', 'तीन'), ('जुदाई', 'जुदा'), ('तरिया', 'तिरिया')]\n"
     ]
    },
    {
     "name": "stderr",
     "output_type": "stream",
     "text": [
      " 80%|████████  | 401/500 [3:01:18<39:33, 23.97s/it]"
     ]
    },
    {
     "name": "stdout",
     "output_type": "stream",
     "text": [
      "Words chosen for updates :  [('वीरन', 'वरन'), ('भीजे', 'भजे'), ('शुरुआती', 'शुरुआत'), ('तहं', 'तहिं'), ('कजरा', 'कजरी'), ('बूढ़ी', 'बूढ़'), ('राक्षसी', 'राक्षस'), ('आतमा', 'आता'), ('रबि', 'रवि'), ('बिनु', 'विनु')]\n"
     ]
    },
    {
     "name": "stderr",
     "output_type": "stream",
     "text": [
      " 84%|████████▍ | 421/500 [3:09:14<31:03, 23.58s/it]"
     ]
    },
    {
     "name": "stdout",
     "output_type": "stream",
     "text": [
      "Words chosen for updates :  [('हीं', 'हं'), ('निकली', 'निकल'), ('आली', 'आल'), ('पथरी', 'पथर'), ('पसीने', 'पिसने'), ('टेका', 'टेकी'), ('पासी', 'पीस'), ('फेंका', 'फेंकी'), ('बिका', 'बिकी'), ('लुगरा', 'लुतरी')]\n"
     ]
    },
    {
     "name": "stderr",
     "output_type": "stream",
     "text": [
      " 88%|████████▊ | 441/500 [3:17:10<23:11, 23.58s/it]"
     ]
    },
    {
     "name": "stdout",
     "output_type": "stream",
     "text": [
      "Words chosen for updates :  [('वेरी', 'वेर'), ('छी', 'छ'), ('छिटकी', 'छिटक'), ('सुनती', 'सुनत'), ('कहं', 'कहिं'), ('करत', 'किरत'), ('किस्मत', 'किस्त'), ('उन', 'उनि'), ('फरे', 'फिरे'), ('बेरूखी', 'बेरूख')]\n"
     ]
    },
    {
     "name": "stderr",
     "output_type": "stream",
     "text": [
      " 92%|█████████▏| 461/500 [3:25:05<15:26, 23.77s/it]"
     ]
    },
    {
     "name": "stdout",
     "output_type": "stream",
     "text": [
      "Words chosen for updates :  [('करी', 'कर'), ('घुटी', 'घुट'), ('मदर', 'दर'), ('सध', 'सिध'), ('धर', 'धरि'), ('बहती', 'बहत'), ('बोझल', 'बोझिल'), ('असवार', 'असवारि'), ('बहाना', 'बहीना'), ('उड़े', 'उड़ले')]\n"
     ]
    },
    {
     "name": "stderr",
     "output_type": "stream",
     "text": [
      " 96%|█████████▌| 481/500 [3:33:03<07:28, 23.63s/it]"
     ]
    },
    {
     "name": "stdout",
     "output_type": "stream",
     "text": [
      "Words chosen for updates :  [('तनको', 'तनिको'), ('बेहतरी', 'बेहतर'), ('ताती', 'तीत'), ('सजाई', 'सजी'), ('उखड़ा', 'उखड़ी'), ('गिल', 'तिल'), ('पुरा', 'पुरी'), ('ज्ञानी', 'ज्ञान'), ('तरिया', 'तिरिया'), ('पाना', 'पानी')]\n"
     ]
    },
    {
     "name": "stderr",
     "output_type": "stream",
     "text": [
      " 99%|█████████▉| 496/500 [3:39:23<01:46, 26.54s/it]"
     ]
    },
    {
     "name": "stdout",
     "output_type": "stream",
     "text": [
      "Converged!\n",
      "BUILDING LEXICON\n"
     ]
    },
    {
     "name": "stderr",
     "output_type": "stream",
     "text": [
      "\n"
     ]
    },
    {
     "name": "stdout",
     "output_type": "stream",
     "text": [
      "PROCESSING khadi_boli\n"
     ]
    },
    {
     "name": "stderr",
     "output_type": "stream",
     "text": [
      "\r",
      "  0%|          | 0/500 [00:00<?, ?it/s]"
     ]
    },
    {
     "name": "stdout",
     "output_type": "stream",
     "text": [
      "Intializing TRANSITION MATRIX...\n",
      "Intialized TRANSITION MATRIX of dimensions 76x62\n"
     ]
    },
    {
     "name": "stderr",
     "output_type": "stream",
     "text": [
      "  4%|▍         | 21/500 [00:20<07:59,  1.00s/it]"
     ]
    },
    {
     "name": "stdout",
     "output_type": "stream",
     "text": [
      "Words chosen for updates :  [('राखों', 'राखो'), ('धाराएं', 'मारा'), ('नी', 'ने'), ('काजे', 'का'), ('ओलों', 'लो'), ('वसारे', 'सारे'), ('चहै', 'हो'), ('बेहाथ', 'बहार'), ('पांँव', 'का'), ('सूखि', 'सखि')]\n"
     ]
    },
    {
     "name": "stderr",
     "output_type": "stream",
     "text": [
      "  8%|▊         | 41/500 [00:40<07:40,  1.00s/it]"
     ]
    },
    {
     "name": "stdout",
     "output_type": "stream",
     "text": [
      "Words chosen for updates :  [('कैट', 'को'), ('बाजल', 'बाल'), ('सफाचट', 'सा'), ('ऊटी', 'की'), ('छुओ', 'आ'), ('संपत', 'सत'), ('पुन', 'न'), ('हमपे', 'हम'), ('गोरी', 'कोरी'), ('लायी', 'मारी')]\n"
     ]
    },
    {
     "name": "stderr",
     "output_type": "stream",
     "text": [
      " 12%|█▏        | 61/500 [01:00<07:16,  1.01it/s]"
     ]
    },
    {
     "name": "stdout",
     "output_type": "stream",
     "text": [
      "Words chosen for updates :  [('फबन', 'बन'), ('ाा', 'काका'), ('सौं', 'सो'), ('द्र', 'देर'), ('ती', 'ते'), ('लड़ि', 'लड़के'), ('सवाली', 'साले'), ('पांवन', 'पान'), ('उस्', 'उसके'), ('भुजिया', 'पिया')]\n"
     ]
    },
    {
     "name": "stderr",
     "output_type": "stream",
     "text": [
      " 16%|█▌        | 81/500 [01:20<07:00,  1.00s/it]"
     ]
    },
    {
     "name": "stdout",
     "output_type": "stream",
     "text": [
      "Words chosen for updates :  [('सोएँ', 'सो'), ('साअतों', 'सातो'), ('बालें', 'बाल'), ('सजाओ', 'सा'), ('भाँती', 'पाती'), ('सजीं', 'सी'), ('तिथि', 'तेरे'), ('अट', 'न'), ('धीरज', 'बीर'), ('इरम', 'रो')]\n"
     ]
    },
    {
     "name": "stderr",
     "output_type": "stream",
     "text": [
      " 20%|██        | 101/500 [01:40<06:35,  1.01it/s]"
     ]
    },
    {
     "name": "stdout",
     "output_type": "stream",
     "text": [
      "Words chosen for updates :  [('तौर', 'तोर'), ('सोचना', 'सोना'), ('कथाओं', 'करा'), ('चुराते', 'रात'), ('अनय', 'नर'), ('नी', 'ने'), ('मूँज', 'कम'), ('यही', 'रही'), ('गौएँ', 'को'), ('पनपा', 'ना')]\n"
     ]
    },
    {
     "name": "stderr",
     "output_type": "stream",
     "text": [
      " 24%|██▍       | 121/500 [02:00<06:17,  1.00it/s]"
     ]
    },
    {
     "name": "stdout",
     "output_type": "stream",
     "text": [
      "Words chosen for updates :  [('अटकल', 'कल'), ('एही', 'ही'), ('तै', 'तो'), ('रचे', 'कर'), ('रजऊ', 'कर'), ('नापें', 'ना'), ('वर्चुअल', 'रेल'), ('हिरणी', 'हेरी'), ('भौरें', 'भोर'), ('ईनाम', 'नाम')]\n"
     ]
    },
    {
     "name": "stderr",
     "output_type": "stream",
     "text": [
      " 28%|██▊       | 141/500 [02:21<05:58,  1.00it/s]"
     ]
    },
    {
     "name": "stdout",
     "output_type": "stream",
     "text": [
      "Words chosen for updates :  [('टुकर', 'कर'), ('ओह', 'ह'), ('दैं', 'दो'), ('बृज', 'कब'), ('खुचे', 'ख'), ('बेचारे', 'बार'), ('ईसा', 'सा'), ('बांधते', 'बात'), ('मथे', 'कमरे'), ('भौरे', 'भोर')]\n"
     ]
    },
    {
     "name": "stderr",
     "output_type": "stream",
     "text": [
      " 32%|███▏      | 161/500 [02:41<05:37,  1.01it/s]"
     ]
    },
    {
     "name": "stdout",
     "output_type": "stream",
     "text": [
      "Words chosen for updates :  [('बनाऊँ', 'बना'), ('घटाने', 'जान'), ('चर्च', 'रे'), ('जुल्', 'ले'), ('यामें', 'राम'), ('पूँजी', 'की'), ('चलगे', 'लगे'), ('संघात', 'सात'), ('सूरज़', 'सर'), ('डरे', 'नर')]\n"
     ]
    },
    {
     "name": "stderr",
     "output_type": "stream",
     "text": [
      " 36%|███▌      | 181/500 [03:01<05:17,  1.01it/s]"
     ]
    },
    {
     "name": "stdout",
     "output_type": "stream",
     "text": [
      "Words chosen for updates :  [('गोंद', 'गोद'), ('रुप', 'कर'), ('पाए', 'का'), ('सींचें', 'सी'), ('गईं', 'गई'), ('पर्', 'रे'), ('मरें', 'कमरे'), ('देहें', 'देह'), ('गयौ', 'करो'), ('चूजों', 'जो')]\n"
     ]
    },
    {
     "name": "stderr",
     "output_type": "stream",
     "text": [
      " 40%|████      | 201/500 [03:21<05:00,  1.00s/it]"
     ]
    },
    {
     "name": "stdout",
     "output_type": "stream",
     "text": [
      "Words chosen for updates :  [('जतन', 'तन'), ('वहीं', 'ही'), ('चखें', 'ख'), ('भी', 'पी'), ('झऱ', 'रे'), ('थामें', 'राम'), ('वर्षण', 'रे'), ('आंतें', 'आते'), ('सूँघकर', 'कसकर'), ('देखी', 'देखे')]\n"
     ]
    },
    {
     "name": "stderr",
     "output_type": "stream",
     "text": [
      " 44%|████▍     | 221/500 [03:41<04:41,  1.01s/it]"
     ]
    },
    {
     "name": "stdout",
     "output_type": "stream",
     "text": [
      "Words chosen for updates :  [('जह', 'ह'), ('सटी', 'सी'), ('धूनी', 'नी'), ('लगावट', 'लगा'), ('कजराई', 'करा'), ('भावत', 'भात'), ('वसुधैव', 'सै'), ('ग़ाली', 'काली'), ('हियैं', 'कहियो'), ('ढलका', 'हमका')]\n"
     ]
    },
    {
     "name": "stderr",
     "output_type": "stream",
     "text": [
      " 48%|████▊     | 241/500 [04:01<04:21,  1.01s/it]"
     ]
    },
    {
     "name": "stdout",
     "output_type": "stream",
     "text": [
      "Words chosen for updates :  [('हटा', 'कहा'), ('ऐसा', 'सा'), ('मोरे', 'मोर'), ('पनी', 'नी'), ('सिय', 'सिर'), ('ज़ानू', 'जान'), ('झीलें', 'रेल'), ('उसनें', 'उसने'), ('शल', 'काल'), ('लेटना', 'मना')]\n"
     ]
    },
    {
     "name": "stderr",
     "output_type": "stream",
     "text": [
      " 52%|█████▏    | 261/500 [04:21<04:00,  1.01s/it]"
     ]
    },
    {
     "name": "stdout",
     "output_type": "stream",
     "text": [
      "Words chosen for updates :  [('अहं', 'ह'), ('अकसर', 'कसकर'), ('बंधने', 'बन'), ('पशेमान', 'मान'), ('पहुँचे', 'ह'), ('पुंजों', 'को'), ('जाओं', 'जा'), ('अंधा', 'ना'), ('सुनों', 'सुनो'), ('घूंसे', 'से')]\n"
     ]
    },
    {
     "name": "stderr",
     "output_type": "stream",
     "text": [
      " 56%|█████▌    | 281/500 [04:41<03:41,  1.01s/it]"
     ]
    },
    {
     "name": "stdout",
     "output_type": "stream",
     "text": [
      "Words chosen for updates :  [('मचाया', 'मारा'), ('लिए', 'ले'), ('ढोई', 'हो'), ('घीव', 'जी'), ('हज़ीं', 'ही'), ('छूटें', 'आ'), ('खा', 'का'), ('देशज', 'दे'), ('मेरे', 'कमरे'), ('चकिया', 'किया')]\n"
     ]
    },
    {
     "name": "stderr",
     "output_type": "stream",
     "text": [
      " 60%|██████    | 301/500 [05:01<03:16,  1.01it/s]"
     ]
    },
    {
     "name": "stdout",
     "output_type": "stream",
     "text": [
      "Words chosen for updates :  [('कूचों', 'को'), ('शूलों', 'लो'), ('मेँ', 'कम'), ('हाइवे', 'कहा'), ('शून्', 'ने'), ('पठाए', 'का'), ('अदेह', 'देह'), ('केश', 'के'), ('पीटे', 'की'), ('चुभी', 'भी')]\n"
     ]
    },
    {
     "name": "stderr",
     "output_type": "stream",
     "text": [
      " 64%|██████▍   | 321/500 [05:21<02:59,  1.01s/it]"
     ]
    },
    {
     "name": "stdout",
     "output_type": "stream",
     "text": [
      "Words chosen for updates :  [('तोरे', 'तोर'), ('कशी', 'की'), ('साधूँ', 'सा'), ('धरैं', 'रो'), ('करिअ', 'करि'), ('मर्ज़', 'कमरे'), ('घूमत', 'मत'), ('पुराण', 'करा'), ('बाँटेंगे', 'बाग'), ('सेइ', 'से')]\n"
     ]
    },
    {
     "name": "stderr",
     "output_type": "stream",
     "text": [
      " 68%|██████▊   | 341/500 [05:41<02:39,  1.00s/it]"
     ]
    },
    {
     "name": "stdout",
     "output_type": "stream",
     "text": [
      "Words chosen for updates :  [('शनास', 'नास'), ('लू', 'कल'), ('धमन', 'मन'), ('रुखे', 'रख'), ('याँ', 'करा'), ('अंजली', 'ली'), ('घणो', 'जो'), ('झूमत', 'मत'), ('मोरी', 'मोरे'), ('चलें', 'ले')]\n"
     ]
    },
    {
     "name": "stderr",
     "output_type": "stream",
     "text": [
      " 72%|███████▏  | 361/500 [06:01<02:18,  1.01it/s]"
     ]
    },
    {
     "name": "stdout",
     "output_type": "stream",
     "text": [
      "Words chosen for updates :  [('बंधन', 'बन'), ('भूरे', 'पर'), ('छूट', 'आ'), ('भीज', 'पी'), ('गहाँ', 'कहा'), ('धुँधली', 'ली'), ('घूँसा', 'सा'), ('खलता', 'कलकता'), ('जलवे', 'ले'), ('लेउ', 'लेओ')]\n"
     ]
    },
    {
     "name": "stderr",
     "output_type": "stream",
     "text": [
      " 76%|███████▌  | 381/500 [06:21<01:59,  1.00s/it]"
     ]
    },
    {
     "name": "stdout",
     "output_type": "stream",
     "text": [
      "Words chosen for updates :  [('एंकर', 'कर'), ('सोए', 'सो'), ('कोटे', 'को'), ('सजाते', 'सात'), ('सिष', 'से'), ('इसपर', 'सर'), ('लगाऊं', 'लगा'), ('गढ', 'कह'), ('काही', 'काहे'), ('मेराज', 'मेरा')]\n"
     ]
    },
    {
     "name": "stderr",
     "output_type": "stream",
     "text": [
      " 80%|████████  | 401/500 [06:41<01:40,  1.02s/it]"
     ]
    },
    {
     "name": "stdout",
     "output_type": "stream",
     "text": [
      "Words chosen for updates :  [('टका', 'का'), ('लोच', 'लो'), ('बारें', 'बार'), ('ईनार', 'नार'), ('बताशे', 'बता'), ('ऐंठूराम', 'राम'), ('उइ', 'ओ'), ('धुँधलाते', 'लात'), ('हफ़ीज़', 'ही'), ('पशेमान', 'मान')]\n"
     ]
    },
    {
     "name": "stderr",
     "output_type": "stream",
     "text": [
      " 84%|████████▍ | 421/500 [07:01<01:19,  1.00s/it]"
     ]
    },
    {
     "name": "stdout",
     "output_type": "stream",
     "text": [
      "Words chosen for updates :  [('बुश', 'कब'), ('अफसर', 'सर'), ('थामा', 'रामा'), ('साई', 'सा'), ('फर्श', 'रे'), ('इठलाते', 'लात'), ('अनूप', 'न'), ('पीओ', 'की'), ('तोही', 'तोहे'), ('सेष', 'से')]\n"
     ]
    },
    {
     "name": "stderr",
     "output_type": "stream",
     "text": [
      " 88%|████████▊ | 441/500 [07:21<00:59,  1.00s/it]"
     ]
    },
    {
     "name": "stdout",
     "output_type": "stream",
     "text": [
      "Words chosen for updates :  [('करइ', 'कर'), ('काठ', 'का'), ('ऐरी', 'री'), ('बंधू', 'कब'), ('अकेले', 'कल'), ('खुशबु', 'कब'), ('हिलाई', 'हिला'), ('दिखावे', 'देखा'), ('तीरा', 'तेरा'), ('पगले', 'गल')]\n"
     ]
    },
    {
     "name": "stderr",
     "output_type": "stream",
     "text": [
      " 92%|█████████▏| 461/500 [07:41<00:39,  1.01s/it]"
     ]
    },
    {
     "name": "stdout",
     "output_type": "stream",
     "text": [
      "Words chosen for updates :  [('बनाइए', 'बना'), ('ने', 'न'), ('बँधता', 'बता'), ('कशी', 'की'), ('सुधर', 'सर'), ('कुचाली', 'काली'), ('सवारी', 'सारी'), ('ऐंठूराम', 'राम'), ('सूजी', 'सी'), ('लंपट', 'कल')]\n"
     ]
    },
    {
     "name": "stderr",
     "output_type": "stream",
     "text": [
      " 96%|█████████▌| 481/500 [08:01<00:19,  1.01s/it]"
     ]
    },
    {
     "name": "stdout",
     "output_type": "stream",
     "text": [
      "Words chosen for updates :  [('एकर', 'कर'), ('नवाए', 'ना'), ('सृत', 'सत'), ('हवाओ', 'कहा'), ('सुवा', 'सा'), ('रज', 'कर'), ('सिव', 'से'), ('लपटी', 'ली'), ('कैंप', 'को'), ('लागीं', 'लागी')]\n"
     ]
    },
    {
     "name": "stderr",
     "output_type": "stream",
     "text": [
      "100%|██████████| 500/500 [08:20<00:00,  1.00s/it]\n"
     ]
    },
    {
     "name": "stdout",
     "output_type": "stream",
     "text": [
      "BUILDING LEXICON\n",
      "PROCESSING sanskrit\n"
     ]
    },
    {
     "name": "stderr",
     "output_type": "stream",
     "text": [
      "\r",
      "  0%|          | 0/500 [00:00<?, ?it/s]"
     ]
    },
    {
     "name": "stdout",
     "output_type": "stream",
     "text": [
      "Intializing TRANSITION MATRIX...\n",
      "Intialized TRANSITION MATRIX of dimensions 76x65\n"
     ]
    },
    {
     "name": "stderr",
     "output_type": "stream",
     "text": [
      "  4%|▍         | 21/500 [02:23<54:44,  6.86s/it]"
     ]
    },
    {
     "name": "stdout",
     "output_type": "stream",
     "text": [
      "Words chosen for updates :  [('मइया', 'मया'), ('बनल', 'बन'), ('कलामी', 'कामी'), ('बेलन', 'बन'), ('बन्धन', 'बन्धनं'), ('स्वर्ग', 'स्वर्गं'), ('शास्त्र', 'शास्त्रं'), ('गुहा', 'गुहां'), ('चलके', 'क'), ('तलाई', 'ताम')]\n"
     ]
    },
    {
     "name": "stderr",
     "output_type": "stream",
     "text": [
      "  8%|▊         | 41/500 [04:40<52:20,  6.84s/it]"
     ]
    },
    {
     "name": "stdout",
     "output_type": "stream",
     "text": [
      "Words chosen for updates :  [('इन', 'न'), ('आलता', 'आता'), ('मित्र', 'मित्रं'), ('ऐवान', 'भवान'), ('मनचले', 'मन'), ('तीनि', 'तानि'), ('सोफे', 'स'), ('देशों', 'देशं'), ('मेदिनी', 'मेदिनीं'), ('खोजे', 'खोज')]\n"
     ]
    },
    {
     "name": "stderr",
     "output_type": "stream",
     "text": [
      " 12%|█▏        | 61/500 [06:57<50:13,  6.86s/it]"
     ]
    },
    {
     "name": "stdout",
     "output_type": "stream",
     "text": [
      "Words chosen for updates :  [('कलिया', 'किया'), ('अमा', 'मा'), ('विदित', 'विदितं'), ('लवों', 'वं'), ('अवार', 'वारं'), ('छैक', 'क'), ('खयालों', 'यां'), ('चौबन्द', 'बन्द'), ('हौवा', 'वा'), ('शहरे', 'शहर')]\n"
     ]
    },
    {
     "name": "stderr",
     "output_type": "stream",
     "text": [
      " 16%|█▌        | 81/500 [09:13<47:37,  6.82s/it]"
     ]
    },
    {
     "name": "stdout",
     "output_type": "stream",
     "text": [
      "Words chosen for updates :  [('लय', 'य'), ('तखत', 'तत'), ('झल', 'स'), ('सायक', 'सायकं'), ('ख़याले', 'या'), ('आलस', 'आस'), ('मेहा', 'मा'), ('मरनी', 'मरना'), ('होखे', 'ह'), ('कं', 'किं')]\n"
     ]
    },
    {
     "name": "stderr",
     "output_type": "stream",
     "text": [
      " 20%|██        | 101/500 [11:30<45:38,  6.86s/it]"
     ]
    },
    {
     "name": "stdout",
     "output_type": "stream",
     "text": [
      "Words chosen for updates :  [('कंचे', 'कं'), ('अभिन्न', 'भिन्न'), ('कुमारी', 'कुमारीं'), ('झेलती', 'सती'), ('शौके', 'क'), ('हौंसले', 'हंस'), ('फूफी', 'नाना'), ('चहैं', 'हुं'), ('चीख', 'घी'), ('गों', 'गतं')]\n"
     ]
    },
    {
     "name": "stderr",
     "output_type": "stream",
     "text": [
      " 24%|██▍       | 121/500 [13:47<43:02,  6.81s/it]"
     ]
    },
    {
     "name": "stdout",
     "output_type": "stream",
     "text": [
      "Words chosen for updates :  [('इन', 'न'), ('क्यू', 'क्या'), ('अपर', 'पर'), ('मच्', 'म्'), ('पुष्पों', 'पुष्पं'), ('भावों', 'भावं'), ('चखकर', 'कर'), ('ढलकता', 'सकता'), ('जीने', 'जान'), ('समूह', 'समा')]\n"
     ]
    },
    {
     "name": "stderr",
     "output_type": "stream",
     "text": [
      " 28%|██▊       | 141/500 [16:04<40:55,  6.84s/it]"
     ]
    },
    {
     "name": "stdout",
     "output_type": "stream",
     "text": [
      "Words chosen for updates :  [('लबार', 'बार'), ('मते', 'मत'), ('पूता', 'पाता'), ('कर्तव्य', 'कर्तव्यं'), ('विजित', 'विजितं'), ('खज़ाने', 'जान'), ('काई', 'काम'), ('ख़मीर', 'मार'), ('तड़प', 'तप'), ('बीज', 'बीजं')]\n"
     ]
    },
    {
     "name": "stderr",
     "output_type": "stream",
     "text": [
      " 32%|███▏      | 161/500 [18:21<38:14,  6.77s/it]"
     ]
    },
    {
     "name": "stdout",
     "output_type": "stream",
     "text": [
      "Words chosen for updates :  [('अम्', 'म्'), ('पचा', 'पा'), ('अबसे', 'बस'), ('अकेले', 'क'), ('रोऊं', 'रं'), ('फ़ना', 'ना'), ('टह', 'न'), ('टूटा', 'नाना'), ('हमारी', 'मारी'), ('चरो', 'चर')]\n"
     ]
    },
    {
     "name": "stderr",
     "output_type": "stream",
     "text": [
      " 36%|███▌      | 181/500 [20:38<36:09,  6.80s/it]"
     ]
    },
    {
     "name": "stdout",
     "output_type": "stream",
     "text": [
      "Words chosen for updates :  [('मग़र', 'मगर'), ('अनु', 'नु'), ('मेले', 'म'), ('रेलों', 'रं'), ('मुक्ताफल', 'मुक्ता'), ('जीतें', 'जातं'), ('आओ', 'तत'), ('स्वतः', 'स्वत'), ('रँगे', 'रंग'), ('मठ', 'मिल')]\n"
     ]
    },
    {
     "name": "stderr",
     "output_type": "stream",
     "text": [
      " 40%|████      | 201/500 [22:54<34:07,  6.85s/it]"
     ]
    },
    {
     "name": "stdout",
     "output_type": "stream",
     "text": [
      "Words chosen for updates :  [('माले', 'मा'), ('विज्ञानों', 'विज्ञानं'), ('विषै', 'विष'), ('नव', 'नवं'), ('सच', 'स'), ('अचके', 'क'), ('उछालने', 'तान'), ('चमचे', 'म'), ('गान्धारी', 'गान्धारा'), ('फराओ', 'रात')]\n"
     ]
    },
    {
     "name": "stderr",
     "output_type": "stream",
     "text": [
      " 44%|████▍     | 221/500 [25:11<31:51,  6.85s/it]"
     ]
    },
    {
     "name": "stdout",
     "output_type": "stream",
     "text": [
      "Words chosen for updates :  [('लता', 'ता'), ('य़े', 'य'), ('पोला', 'पा'), ('कृत', 'कृतं'), ('वृद्धि', 'वृद्धिं'), ('काफ़', 'का'), ('सफलता', 'सतां'), ('कीच', 'का'), ('तड़फन', 'तन'), ('शाप', 'शापं')]\n"
     ]
    },
    {
     "name": "stderr",
     "output_type": "stream",
     "text": [
      " 48%|████▊     | 241/500 [27:28<29:17,  6.79s/it]"
     ]
    },
    {
     "name": "stdout",
     "output_type": "stream",
     "text": [
      "Words chosen for updates :  [('किछ', 'कि'), ('कबौ', 'कब'), ('बेलना', 'बना'), ('चलत', 'त'), ('अव्यय', 'व्ययं'), ('सैले', 'स'), ('खौलने', 'न'), ('फेन', 'न'), ('सोऊ', 'स'), ('तोहे', 'त')]\n"
     ]
    },
    {
     "name": "stderr",
     "output_type": "stream",
     "text": [
      " 52%|█████▏    | 261/500 [29:44<27:06,  6.81s/it]"
     ]
    },
    {
     "name": "stdout",
     "output_type": "stream",
     "text": [
      "Words chosen for updates :  [('रामे', 'राम'), ('अन्', 'न्'), ('झलमल', 'सम'), ('मॉ', 'म'), ('मॉम', 'मम'), ('भूषा', 'भाषा'), ('थन', 'मन'), ('मोएन', 'मन'), ('भूसा', 'भासा'), ('ओट', 'तन')]\n"
     ]
    },
    {
     "name": "stderr",
     "output_type": "stream",
     "text": [
      " 56%|█████▌    | 281/500 [32:02<25:09,  6.89s/it]"
     ]
    },
    {
     "name": "stdout",
     "output_type": "stream",
     "text": [
      "Words chosen for updates :  [('केर', 'कर'), ('लेके', 'क'), ('पाइए', 'पा'), ('छोड़ते', 'त'), ('उखाड़े', 'ता'), ('मचाई', 'माम'), ('श्यामलाल', 'श्यामा'), ('झेलती', 'सती'), ('अहो', 'ह'), ('भेजा', 'मजा')]\n"
     ]
    },
    {
     "name": "stderr",
     "output_type": "stream",
     "text": [
      " 60%|██████    | 301/500 [34:19<22:51,  6.89s/it]"
     ]
    },
    {
     "name": "stdout",
     "output_type": "stream",
     "text": [
      "Words chosen for updates :  [('लपलपाते', 'पपात'), ('जीन', 'जान'), ('पीढ़े', 'पास'), ('तोहफे', 'त'), ('भायी', 'माया'), ('नमत', 'नमति'), ('फड़फड़ाना', 'नाना'), ('पैरोडी', 'पुरी'), ('चीनी', 'चाहा'), ('तणा', 'तदा')]\n"
     ]
    },
    {
     "name": "stderr",
     "output_type": "stream",
     "text": [
      " 64%|██████▍   | 321/500 [36:36<20:21,  6.82s/it]"
     ]
    },
    {
     "name": "stdout",
     "output_type": "stream",
     "text": [
      "Words chosen for updates :  [('रत्नों', 'रत्नं'), ('मूंछ', 'मां'), ('बोते', 'बत'), ('सदय', 'सदयं'), ('कॉम', 'कम'), ('लगाएं', 'गां'), ('मयी', 'मया'), ('स्वीकारो', 'स्वीकार'), ('हिलो', 'हि'), ('झड़ी', 'सी')]\n"
     ]
    },
    {
     "name": "stderr",
     "output_type": "stream",
     "text": [
      " 68%|██████▊   | 341/500 [38:53<18:14,  6.88s/it]"
     ]
    },
    {
     "name": "stdout",
     "output_type": "stream",
     "text": [
      "Words chosen for updates :  [('कल्', 'क्'), ('उतारै', 'ततार'), ('चलते', 'त'), ('हममे', 'मम'), ('पीने', 'पान'), ('फ़राहम', 'राम'), ('आलेख', 'त'), ('भाऊ', 'मा'), ('झरा', 'परा'), ('सोचों', 'यं')]\n"
     ]
    },
    {
     "name": "stderr",
     "output_type": "stream",
     "text": [
      " 72%|███████▏  | 361/500 [41:10<15:53,  6.86s/it]"
     ]
    },
    {
     "name": "stdout",
     "output_type": "stream",
     "text": [
      "Words chosen for updates :  [('जैये', 'जय'), ('पचाकर', 'पाकर'), ('उछला', 'ता'), ('पुराणों', 'पुराणं'), ('जूट', 'जान'), ('फैन', 'न'), ('सोचो', 'स'), ('वी', 'वा'), ('केः', 'क'), ('भगोड़े', 'भग')]\n"
     ]
    },
    {
     "name": "stderr",
     "output_type": "stream",
     "text": [
      " 76%|███████▌  | 381/500 [43:27<13:38,  6.88s/it]"
     ]
    },
    {
     "name": "stdout",
     "output_type": "stream",
     "text": [
      "Words chosen for updates :  [('गइया', 'गया'), ('गलाने', 'गान'), ('कोरोना', 'करना'), ('कचरे', 'कर'), ('साचे', 'सा'), ('महन', 'मन'), ('कहिले', 'कि'), ('जलाती', 'जाता'), ('मचती', 'मता'), ('फ़ौजी', 'जा')]\n"
     ]
    },
    {
     "name": "stderr",
     "output_type": "stream",
     "text": [
      " 80%|████████  | 401/500 [45:45<11:20,  6.87s/it]"
     ]
    },
    {
     "name": "stdout",
     "output_type": "stream",
     "text": [
      "Words chosen for updates :  [('बारे', 'बार'), ('कोरे', 'कर'), ('खोना', 'ना'), ('ओले', 'त'), ('नाट्य', 'नान्य'), ('तहों', 'तं'), ('सफ़रे', 'सर'), ('फलसफे', 'स'), ('रचाई', 'राम'), ('आह', 'त')]\n"
     ]
    },
    {
     "name": "stderr",
     "output_type": "stream",
     "text": [
      " 84%|████████▍ | 421/500 [48:02<08:59,  6.83s/it]"
     ]
    },
    {
     "name": "stdout",
     "output_type": "stream",
     "text": [
      "Words chosen for updates :  [('इया', 'या'), ('धोने', 'धन'), ('गिरहें', 'गिरं'), ('विजयी', 'विजया'), ('कश्', 'क्'), ('हमी', 'मा'), ('दर्शन', 'दर्शनं'), ('नचदी', 'नदी'), ('आँज', 'आज'), ('खुदै', 'खुद')]\n"
     ]
    },
    {
     "name": "stderr",
     "output_type": "stream",
     "text": [
      " 88%|████████▊ | 441/500 [50:18<06:42,  6.81s/it]"
     ]
    },
    {
     "name": "stdout",
     "output_type": "stream",
     "text": [
      "Words chosen for updates :  [('मालो', 'मा'), ('गालें', 'गां'), ('उद', 'तद'), ('चौपाल', 'पा'), ('गिराँ', 'गिरा'), ('केहि', 'कि'), ('समूह', 'समा'), ('चलतीं', 'तां'), ('छहरि', 'हरि'), ('अल', 'अ')]\n"
     ]
    },
    {
     "name": "stderr",
     "output_type": "stream",
     "text": [
      " 92%|█████████▏| 461/500 [52:35<04:27,  6.85s/it]"
     ]
    },
    {
     "name": "stdout",
     "output_type": "stream",
     "text": [
      "Words chosen for updates :  [('मलार', 'मार'), ('मोड़ा', 'मा'), ('वनस्पति', 'वनस्पतिं'), ('होयां', 'यां'), ('नन्दिनी', 'नन्दिना'), ('शौकिया', 'किया'), ('भार', 'मार'), ('रईसों', 'रसं'), ('पावत', 'पावित'), ('विहारिणी', 'विहारिणीं')]\n"
     ]
    },
    {
     "name": "stderr",
     "output_type": "stream",
     "text": [
      " 96%|█████████▌| 481/500 [54:52<02:10,  6.85s/it]"
     ]
    },
    {
     "name": "stdout",
     "output_type": "stream",
     "text": [
      "Words chosen for updates :  [('लैया', 'या'), ('नाय', 'नायं'), ('संवर्धन', 'संवर्धनं'), ('धीमे', 'धाम'), ('भै', 'म'), ('तान', 'तानि'), ('भूमि', 'भूमिं'), ('गहाँ', 'गां'), ('हास', 'हाय'), ('मालाएँ', 'माला')]\n"
     ]
    },
    {
     "name": "stderr",
     "output_type": "stream",
     "text": [
      "100%|██████████| 500/500 [57:02<00:00,  6.84s/it]\n"
     ]
    },
    {
     "name": "stdout",
     "output_type": "stream",
     "text": [
      "BUILDING LEXICON\n",
      "PROCESSING koraku\n"
     ]
    },
    {
     "name": "stderr",
     "output_type": "stream",
     "text": [
      "\r",
      "  0%|          | 0/500 [00:00<?, ?it/s]"
     ]
    },
    {
     "name": "stdout",
     "output_type": "stream",
     "text": [
      "Intializing TRANSITION MATRIX...\n",
      "Intialized TRANSITION MATRIX of dimensions 76x58\n"
     ]
    },
    {
     "name": "stderr",
     "output_type": "stream",
     "text": [
      "  4%|▍         | 21/500 [00:28<11:00,  1.38s/it]"
     ]
    },
    {
     "name": "stdout",
     "output_type": "stream",
     "text": [
      "Words chosen for updates :  [('परखे', 'पारे'), ('मामले', 'माले'), ('सलज', 'साले'), ('इजाद', 'जाम'), ('करू', 'कोरी'), ('दाईं', 'माका'), ('घाट', 'घाटो'), ('घटाएँ', 'टारा'), ('उड्दै', 'डाडो'), ('धृति', 'राटो')]\n"
     ]
    },
    {
     "name": "stderr",
     "output_type": "stream",
     "text": [
      "  8%|▊         | 41/500 [00:56<10:35,  1.39s/it]"
     ]
    },
    {
     "name": "stdout",
     "output_type": "stream",
     "text": [
      "Words chosen for updates :  [('कमी', 'की'), ('देष', 'मे'), ('जून', 'जाना'), ('जैव', 'जो'), ('घबड़ा', 'बड़ा'), ('कष्', 'कोवा'), ('महि', 'हो'), ('उतारू', 'ताला'), ('मणेरा', 'मेरा'), ('खोए', 'खोक')]\n"
     ]
    },
    {
     "name": "stderr",
     "output_type": "stream",
     "text": [
      " 12%|█▏        | 61/500 [01:24<10:11,  1.39s/it]"
     ]
    },
    {
     "name": "stdout",
     "output_type": "stream",
     "text": [
      "Words chosen for updates :  [('अन', 'न'), ('नान्ह', 'नाना'), ('गोल', 'गोला'), ('आलाम', 'आला'), ('आने', 'ने'), ('चैक', 'चोका'), ('दूषण', 'मा'), ('हब्शिन', 'बागोन'), ('झट', 'या'), ('आर्त', 'राड')]\n"
     ]
    },
    {
     "name": "stderr",
     "output_type": "stream",
     "text": [
      " 16%|█▌        | 81/500 [01:51<09:37,  1.38s/it]"
     ]
    },
    {
     "name": "stdout",
     "output_type": "stream",
     "text": [
      "Words chosen for updates :  [('नान', 'नाना'), ('अबरी', 'बरी'), ('हमनी', 'नी'), ('नहाएँ', 'नारा'), ('बटर', 'बार'), ('ताव', 'टा'), ('ऊँचो', 'नाचो'), ('उकेर', 'केरो'), ('बरक़', 'बालक'), ('पूर्व', 'पाला')]\n"
     ]
    },
    {
     "name": "stderr",
     "output_type": "stream",
     "text": [
      " 20%|██        | 101/500 [02:19<09:07,  1.37s/it]"
     ]
    },
    {
     "name": "stdout",
     "output_type": "stream",
     "text": [
      "Words chosen for updates :  [('पथार', 'पार'), ('गोर', 'गोरा'), ('संख', 'सा'), ('कृश', 'का'), ('साधा', 'सारा'), ('घहर', 'घर'), ('मंहगी', 'मागी'), ('उफन', 'फन'), ('ऊबा', 'बा'), ('ओर', 'भर')]\n"
     ]
    },
    {
     "name": "stderr",
     "output_type": "stream",
     "text": [
      " 24%|██▍       | 121/500 [02:47<08:44,  1.38s/it]"
     ]
    },
    {
     "name": "stdout",
     "output_type": "stream",
     "text": [
      "Words chosen for updates :  [('लन', 'लान'), ('कलीम', 'काली'), ('गाजै', 'गाजा'), ('दो', 'डो'), ('तही', 'डी'), ('जम', 'जाम'), ('राखल', 'लाल'), ('दामन', 'डान'), ('चो', 'तो'), ('लौटा', 'लोटा')]\n"
     ]
    },
    {
     "name": "stderr",
     "output_type": "stream",
     "text": [
      " 28%|██▊       | 141/500 [03:14<08:19,  1.39s/it]"
     ]
    },
    {
     "name": "stdout",
     "output_type": "stream",
     "text": [
      "Words chosen for updates :  [('किना', 'कोना'), ('बाखर', 'बार'), ('उनमे', 'ने'), ('बाभन', 'बान'), ('द्या', 'माया'), ('लादी', 'लाडी'), ('ब्लड', 'बालक'), ('सुने', 'सोने'), ('शॉल', 'गोला'), ('डुला', 'डोला')]\n"
     ]
    },
    {
     "name": "stderr",
     "output_type": "stream",
     "text": [
      " 32%|███▏      | 161/500 [03:42<07:53,  1.40s/it]"
     ]
    },
    {
     "name": "stdout",
     "output_type": "stream",
     "text": [
      "Words chosen for updates :  [('मये', 'ये'), ('इकाई', 'काई'), ('ढा', 'ना'), ('आलेख', 'ले'), ('छैनी', 'बानी'), ('लाते', 'लाडे'), ('मनभावनी', 'नानी'), ('कतै', 'काटा'), ('जरन', 'जलन'), ('सतर', 'सारा')]\n"
     ]
    },
    {
     "name": "stderr",
     "output_type": "stream",
     "text": [
      " 36%|███▌      | 181/500 [04:10<07:26,  1.40s/it]"
     ]
    },
    {
     "name": "stdout",
     "output_type": "stream",
     "text": [
      "Words chosen for updates :  [('हरा', 'रा'), ('खलील', 'लीला'), ('तोले', 'टोले'), ('समेटी', 'सेटी'), ('पए', 'पार'), ('अक्षम्य', 'कामाय'), ('तार', 'टारा'), ('गवा', 'गाजा'), ('रावन', 'राजन'), ('गयौ', 'गयो')]\n"
     ]
    },
    {
     "name": "stderr",
     "output_type": "stream",
     "text": [
      " 40%|████      | 201/500 [04:37<06:55,  1.39s/it]"
     ]
    },
    {
     "name": "stdout",
     "output_type": "stream",
     "text": [
      "Words chosen for updates :  [('बन्', 'बाना'), ('मन', 'न'), ('साचे', 'सागे'), ('आदा', 'आमा'), ('माथ', 'मा'), ('धारणा', 'नारा'), ('प्रवेश', 'पारे'), ('तिय', 'डोया'), ('दौड़ा', 'डाडा'), ('टोली', 'होली')]\n"
     ]
    },
    {
     "name": "stderr",
     "output_type": "stream",
     "text": [
      " 44%|████▍     | 221/500 [05:05<06:23,  1.38s/it]"
     ]
    },
    {
     "name": "stdout",
     "output_type": "stream",
     "text": [
      "Words chosen for updates :  [('बिग', 'बोग'), ('काक', 'काका'), ('अरा', 'रा'), ('ऐसे', 'से'), ('अर्श', 'रा'), ('छैल', 'बाला'), ('झल', 'पला'), ('बाएं', 'बारा'), ('साल', 'सालो'), ('कूदि', 'काडो')]\n"
     ]
    },
    {
     "name": "stderr",
     "output_type": "stream",
     "text": [
      " 48%|████▊     | 241/500 [05:33<06:00,  1.39s/it]"
     ]
    },
    {
     "name": "stdout",
     "output_type": "stream",
     "text": [
      "Words chosen for updates :  [('सखा', 'सा'), ('ब्रेन', 'बारेन'), ('मक्', 'का'), ('बरहा', 'बारा'), ('सीवर', 'सीर'), ('हराई', 'राई'), ('शिर', 'कोरा'), ('एकल', 'कलो'), ('गईल', 'गमला'), ('चाशनी', 'तानी')]\n"
     ]
    },
    {
     "name": "stderr",
     "output_type": "stream",
     "text": [
      " 52%|█████▏    | 261/500 [06:01<05:37,  1.41s/it]"
     ]
    },
    {
     "name": "stdout",
     "output_type": "stream",
     "text": [
      "Words chosen for updates :  [('पीलू', 'पीला'), ('काफी', 'कानी'), ('बावला', 'बाला'), ('अन्धी', 'नानी'), ('महीन', 'मीन'), ('इजहार', 'जाल'), ('खाट', 'खाटा'), ('छ्वै', 'बाजा'), ('शावा', 'काजा'), ('छाँह', 'बा')]\n"
     ]
    },
    {
     "name": "stderr",
     "output_type": "stream",
     "text": [
      " 56%|█████▌    | 281/500 [06:28<05:02,  1.38s/it]"
     ]
    },
    {
     "name": "stdout",
     "output_type": "stream",
     "text": [
      "Words chosen for updates :  [('खरहा', 'रा'), ('अन्धी', 'नानी'), ('कट', 'काटा'), ('सराए', 'सारा'), ('बच', 'बाचा'), ('तिल', 'डोला'), ('आराइश', 'रा'), ('प्रणाम', 'पाला'), ('ऑंगन', 'बागोन'), ('फूली', 'नीली')]\n"
     ]
    },
    {
     "name": "stderr",
     "output_type": "stream",
     "text": [
      " 60%|██████    | 301/500 [06:56<04:34,  1.38s/it]"
     ]
    },
    {
     "name": "stdout",
     "output_type": "stream",
     "text": [
      "Words chosen for updates :  [('लन', 'लान'), ('मनी', 'नी'), ('अड़ो', 'डो'), ('आवन', 'न'), ('मोहरा', 'मोरा'), ('दोहराओ', 'मोरा'), ('शैख', 'का'), ('रोड', 'रोडो'), ('छोरे', 'बोले'), ('बैठत', 'बात')]\n"
     ]
    },
    {
     "name": "stderr",
     "output_type": "stream",
     "text": [
      " 64%|██████▍   | 321/500 [07:24<04:06,  1.38s/it]"
     ]
    },
    {
     "name": "stdout",
     "output_type": "stream",
     "text": [
      "Words chosen for updates :  [('एन', 'न'), ('साए', 'सा'), ('कूए', 'का'), ('जिएगी', 'जोगी'), ('नयाँ', 'नया'), ('मन्दी', 'नामी'), ('सरमाए', 'सारा'), ('शहज़ादे', 'जामे'), ('अरज', 'रजो'), ('उलटते', 'लाडे')]\n"
     ]
    },
    {
     "name": "stderr",
     "output_type": "stream",
     "text": [
      " 68%|██████▊   | 341/500 [07:52<03:39,  1.38s/it]"
     ]
    },
    {
     "name": "stdout",
     "output_type": "stream",
     "text": [
      "Words chosen for updates :  [('मजे', 'जे'), ('गला', 'गोला'), ('तुइ', 'डो'), ('सुधारि', 'सोनारो'), ('बिरहन', 'बोलन'), ('बँधा', 'बारा'), ('एकल', 'कलो'), ('चहेती', 'गेटी'), ('भुर', 'भुरा'), ('गौरा', 'गोरा')]\n"
     ]
    },
    {
     "name": "stderr",
     "output_type": "stream",
     "text": [
      " 72%|███████▏  | 361/500 [08:19<03:12,  1.39s/it]"
     ]
    },
    {
     "name": "stdout",
     "output_type": "stream",
     "text": [
      "Words chosen for updates :  [('लाड़ली', 'लाडली'), ('इड़ा', 'डा'), ('उमडा', 'डा'), ('रौशनी', 'रानी'), ('आजमाए', 'जा'), ('जतन', 'जाना'), ('फिरि', 'जोरो'), ('झुला', 'झोला'), ('उर्फ़', 'राज'), ('मढ़ना', 'ना')]\n"
     ]
    },
    {
     "name": "stderr",
     "output_type": "stream",
     "text": [
      " 76%|███████▌  | 381/500 [08:47<02:43,  1.37s/it]"
     ]
    },
    {
     "name": "stdout",
     "output_type": "stream",
     "text": [
      "Words chosen for updates :  [('अकेला', 'केला'), ('कोह', 'को'), ('कथे', 'के'), ('सावण', 'सा'), ('ओले', 'ले'), ('इठलाने', 'लाने'), ('महइ', 'म'), ('फैलाओ', 'नाला'), ('झमेला', 'पेला'), ('तिरा', 'डोरा')]\n"
     ]
    },
    {
     "name": "stderr",
     "output_type": "stream",
     "text": [
      " 80%|████████  | 401/500 [09:15<02:16,  1.38s/it]"
     ]
    },
    {
     "name": "stdout",
     "output_type": "stream",
     "text": [
      "Words chosen for updates :  [('अइले', 'ले'), ('केसर', 'केसरा'), ('फू', 'ना'), ('जरी', 'जारी'), ('बैठने', 'बाने'), ('बंधा', 'बारा'), ('आसिम', 'सो'), ('रजऊ', 'राजन'), ('आजाद', 'जाम'), ('उड़ाएँगे', 'डागे')]\n"
     ]
    },
    {
     "name": "stderr",
     "output_type": "stream",
     "text": [
      " 84%|████████▍ | 421/500 [09:42<01:48,  1.37s/it]"
     ]
    },
    {
     "name": "stdout",
     "output_type": "stream",
     "text": [
      "Words chosen for updates :  [('दिरी', 'मोरी'), ('उड़ाती', 'डाडी'), ('ऊंचा', 'नागा'), ('क़स्', 'कोसा'), ('स्वः', 'सावा'), ('रूट', 'राटो'), ('धरा', 'परा'), ('भौन', 'बान'), ('तरफ़', 'टलन'), ('आज़माई', 'जाल')]\n"
     ]
    },
    {
     "name": "stderr",
     "output_type": "stream",
     "text": [
      " 88%|████████▊ | 441/500 [10:10<01:22,  1.39s/it]"
     ]
    },
    {
     "name": "stdout",
     "output_type": "stream",
     "text": [
      "Words chosen for updates :  [('कसे', 'कासे'), ('बावन', 'बान'), ('सावनी', 'सानी'), ('वकील', 'कीला'), ('नग़मा', 'नागा'), ('भूने', 'भाने'), ('हमारी', 'मारी'), ('सभाएँ', 'सा'), ('शेरनी', 'केरनी'), ('रोग', 'लोग')]\n"
     ]
    },
    {
     "name": "stderr",
     "output_type": "stream",
     "text": [
      " 92%|█████████▏| 461/500 [10:38<00:53,  1.38s/it]"
     ]
    },
    {
     "name": "stdout",
     "output_type": "stream",
     "text": [
      "Words chosen for updates :  [('कहाये', 'काये'), ('अज़ल', 'जल'), ('डैडी', 'डाडी'), ('नशीला', 'नीला'), ('ठो', 'को'), ('ताले', 'डाले'), ('मनाएं', 'नारा'), ('मईं', 'माका'), ('चौरा', 'गोरा'), ('पैठा', 'पाठा')]\n"
     ]
    },
    {
     "name": "stderr",
     "output_type": "stream",
     "text": [
      " 96%|█████████▌| 481/500 [11:05<00:26,  1.40s/it]"
     ]
    },
    {
     "name": "stdout",
     "output_type": "stream",
     "text": [
      "Words chosen for updates :  [('थकी', 'की'), ('कक्ष', 'काका'), ('उन्नाव', 'नाना'), ('उठना', 'ना'), ('भगाना', 'गाना'), ('हराई', 'राई'), ('छाँव', 'बा'), ('मामले', 'माले'), ('शैख', 'का'), ('मशाम', 'मा')]\n"
     ]
    },
    {
     "name": "stderr",
     "output_type": "stream",
     "text": [
      "100%|██████████| 500/500 [11:32<00:00,  1.38s/it]\n"
     ]
    },
    {
     "name": "stdout",
     "output_type": "stream",
     "text": [
      "BUILDING LEXICON\n",
      "PROCESSING baiga\n"
     ]
    },
    {
     "name": "stderr",
     "output_type": "stream",
     "text": [
      "\r",
      "  0%|          | 0/500 [00:00<?, ?it/s]"
     ]
    },
    {
     "name": "stdout",
     "output_type": "stream",
     "text": [
      "Intializing TRANSITION MATRIX...\n",
      "Intialized TRANSITION MATRIX of dimensions 76x57\n"
     ]
    },
    {
     "name": "stderr",
     "output_type": "stream",
     "text": [
      "  4%|▍         | 21/500 [00:22<08:29,  1.06s/it]"
     ]
    },
    {
     "name": "stdout",
     "output_type": "stream",
     "text": [
      "Words chosen for updates :  [('पगीं', 'पानी'), ('जोन', 'कोन'), ('कात', 'बात'), ('निकलकर', 'निकालकर'), ('चलते', 'चलाते'), ('रहिये', 'रहे'), ('दिय', 'दिया'), ('फैलीं', 'ली'), ('ऎन', 'न'), ('हऽ', 'है')]\n"
     ]
    },
    {
     "name": "stderr",
     "output_type": "stream",
     "text": [
      "  8%|▊         | 41/500 [00:43<08:05,  1.06s/it]"
     ]
    },
    {
     "name": "stdout",
     "output_type": "stream",
     "text": [
      "Words chosen for updates :  [('मरें', 'मारे'), ('अमां', 'मा'), ('पनि', 'पान'), ('रहौ', 'रह'), ('मेरिये', 'मेरे'), ('चौपाए', 'पान'), ('भाईं', 'भाई'), ('बैगा', 'गा'), ('अब', 'क'), ('गलियां', 'गला')]\n"
     ]
    },
    {
     "name": "stderr",
     "output_type": "stream",
     "text": [
      " 12%|█▏        | 61/500 [01:04<07:39,  1.05s/it]"
     ]
    },
    {
     "name": "stdout",
     "output_type": "stream",
     "text": [
      "Words chosen for updates :  [('गरी', 'गारी'), ('पाश', 'पान'), ('ग़नी', 'नानी'), ('चहिये', 'हे'), ('देखैं', 'देख'), ('अबू', 'क'), ('छाजै', 'छाक'), ('गायक', 'गाया'), ('खस', 'के'), ('दरश', 'भरन')]\n"
     ]
    },
    {
     "name": "stderr",
     "output_type": "stream",
     "text": [
      " 16%|█▌        | 81/500 [01:25<07:25,  1.06s/it]"
     ]
    },
    {
     "name": "stdout",
     "output_type": "stream",
     "text": [
      "Words chosen for updates :  [('मत', 'माता'), ('सत', 'सात'), ('बचना', 'ना'), ('करिबे', 'करे'), ('माथि', 'मा'), ('जाओ', 'ना'), ('नाज़िर', 'नानार'), ('रहियेगा', 'रहेगा'), ('छोरे', 'तोरे'), ('भँवर', 'भाँवर')]\n"
     ]
    },
    {
     "name": "stderr",
     "output_type": "stream",
     "text": [
      " 20%|██        | 101/500 [01:46<07:06,  1.07s/it]"
     ]
    },
    {
     "name": "stdout",
     "output_type": "stream",
     "text": [
      "Words chosen for updates :  [('मनौं', 'मन'), ('फहराओ', 'हरा'), ('दोइ', 'रो'), ('लगते', 'लगाते'), ('बिलाई', 'लाई'), ('जहा', 'कहा'), ('आजाना', 'जाना'), ('छपन', 'अपना'), ('अकारण', 'कारण'), ('कुश', 'कुछ')]\n"
     ]
    },
    {
     "name": "stderr",
     "output_type": "stream",
     "text": [
      " 24%|██▍       | 121/500 [02:07<06:35,  1.04s/it]"
     ]
    },
    {
     "name": "stdout",
     "output_type": "stream",
     "text": [
      "Words chosen for updates :  [('नान', 'नाना'), ('फैलें', 'ले'), ('दहन', 'रहना'), ('बौराई', 'राई'), ('खिची', 'की'), ('जनाब', 'जाना'), ('ईसाई', 'सा'), ('आकंठ', 'क'), ('जाट', 'ना'), ('छिक', 'तक')]\n"
     ]
    },
    {
     "name": "stderr",
     "output_type": "stream",
     "text": [
      " 28%|██▊       | 141/500 [02:28<06:19,  1.06s/it]"
     ]
    },
    {
     "name": "stdout",
     "output_type": "stream",
     "text": [
      "Words chosen for updates :  [('नाचना', 'नाना'), ('कहत', 'कहता'), ('फल्या', 'ला'), ('कोटिन', 'कोन'), ('बंदी', 'दी'), ('बगिया', 'गा'), ('तौल', 'ताला'), ('दाद', 'दादा'), ('स्वाति', 'सात'), ('उबासी', 'बासी')]\n"
     ]
    },
    {
     "name": "stderr",
     "output_type": "stream",
     "text": [
      " 32%|███▏      | 161/500 [02:49<05:57,  1.05s/it]"
     ]
    },
    {
     "name": "stdout",
     "output_type": "stream",
     "text": [
      "Words chosen for updates :  [('पूता', 'पता'), ('सूबे', 'से'), ('यकदम', 'कदम'), ('डूबी', 'री'), ('अयां', 'या'), ('उथला', 'ला'), ('मणि', 'मत'), ('सब्द', 'सबद'), ('घरक', 'जरा'), ('चुटिया', 'चना')]\n"
     ]
    },
    {
     "name": "stderr",
     "output_type": "stream",
     "text": [
      " 36%|███▌      | 181/500 [03:10<05:35,  1.05s/it]"
     ]
    },
    {
     "name": "stdout",
     "output_type": "stream",
     "text": [
      "Words chosen for updates :  [('बहोत', 'होता'), ('सादे', 'सारे'), ('पाजी', 'पानी'), ('गइया', 'गा'), ('अक़ब', 'का'), ('गाजा', 'गाना'), ('देवि', 'रे'), ('छटे', 'हे'), ('बिरछ', 'रह'), ('सौम्य', 'समय')]\n"
     ]
    },
    {
     "name": "stderr",
     "output_type": "stream",
     "text": [
      " 40%|████      | 201/500 [03:31<05:14,  1.05s/it]"
     ]
    },
    {
     "name": "stdout",
     "output_type": "stream",
     "text": [
      "Words chosen for updates :  [('सासू', 'सास'), ('भरनी', 'करनी'), ('भर्ती', 'करती'), ('जइयो', 'नो'), ('घटी', 'जी'), ('नज्र', 'नजर'), ('भीतरि', 'भीतर'), ('यहं', 'यह'), ('जाउ', 'ना'), ('उंगली', 'गली')]\n"
     ]
    },
    {
     "name": "stderr",
     "output_type": "stream",
     "text": [
      " 44%|████▍     | 221/500 [03:52<04:55,  1.06s/it]"
     ]
    },
    {
     "name": "stdout",
     "output_type": "stream",
     "text": [
      "Words chosen for updates :  [('अइले', 'ले'), ('लगतीं', 'लगती'), ('गइया', 'गा'), ('उठना', 'ना'), ('पथ', 'पर'), ('खूंटियों', 'को'), ('जरे', 'करे'), ('सुविधा', 'सुधा'), ('चूसकर', 'सारा'), ('जाइएगा', 'जाएगा')]\n"
     ]
    },
    {
     "name": "stderr",
     "output_type": "stream",
     "text": [
      " 48%|████▊     | 241/500 [04:13<04:32,  1.05s/it]"
     ]
    },
    {
     "name": "stdout",
     "output_type": "stream",
     "text": [
      "Words chosen for updates :  [('बरफी', 'री'), ('कौं', 'क'), ('लाइव', 'ला'), ('आरे', 'रे'), ('आचमन', 'मन'), ('कौआ', 'क'), ('दीरघ', 'रीर'), ('बजाने', 'जाने'), ('बाध', 'बाधा'), ('लौं', 'ला')]\n"
     ]
    },
    {
     "name": "stderr",
     "output_type": "stream",
     "text": [
      " 52%|█████▏    | 261/500 [04:34<04:11,  1.05s/it]"
     ]
    },
    {
     "name": "stdout",
     "output_type": "stream",
     "text": [
      "Words chosen for updates :  [('कणों', 'को'), ('किया', 'का'), ('टिक', 'क'), ('विरहिणी', 'रही'), ('ग़नी', 'नानी'), ('जता', 'जाता'), ('ज़ौ', 'ना'), ('खावै', 'खा'), ('अवधारणा', 'धारा'), ('बन्दी', 'नदी')]\n"
     ]
    },
    {
     "name": "stderr",
     "output_type": "stream",
     "text": [
      " 56%|█████▌    | 281/500 [04:55<03:48,  1.04s/it]"
     ]
    },
    {
     "name": "stdout",
     "output_type": "stream",
     "text": [
      "Words chosen for updates :  [('इसी', 'सी'), ('टिक', 'क'), ('ढो', 'लो'), ('थिक', 'क'), ('भटू', 'क'), ('अरथी', 'री'), ('नागा', 'नाना'), ('मग', 'मन'), ('थर्टी', 'री'), ('कंघा', 'का')]\n"
     ]
    },
    {
     "name": "stderr",
     "output_type": "stream",
     "text": [
      " 60%|██████    | 301/500 [05:16<03:28,  1.05s/it]"
     ]
    },
    {
     "name": "stdout",
     "output_type": "stream",
     "text": [
      "Words chosen for updates :  [('इने', 'ने'), ('नथी', 'नी'), ('नीम्बू', 'नीम'), ('खीर', 'खीरा'), ('उसे', 'से'), ('स्थाई', 'सा'), ('गच्चा', 'गा'), ('उलझीं', 'ली'), ('लगावै', 'लगा'), ('बजर', 'जरा')]\n"
     ]
    },
    {
     "name": "stderr",
     "output_type": "stream",
     "text": [
      " 64%|██████▍   | 321/500 [05:38<03:09,  1.06s/it]"
     ]
    },
    {
     "name": "stdout",
     "output_type": "stream",
     "text": [
      "Words chosen for updates :  [('लगाइ', 'लगा'), ('नागा', 'नाना'), ('भैरवी', 'करी'), ('लषि', 'ले'), ('उथला', 'ला'), ('उगलें', 'गले'), ('बौराई', 'राई'), ('बबाल', 'बाल'), ('ब्वालै', 'बाल'), ('बज', 'बन')]\n"
     ]
    },
    {
     "name": "stderr",
     "output_type": "stream",
     "text": [
      " 68%|██████▊   | 341/500 [05:59<02:47,  1.05s/it]"
     ]
    },
    {
     "name": "stdout",
     "output_type": "stream",
     "text": [
      "Words chosen for updates :  [('ठने', 'ने'), ('बिसात', 'सात'), ('विराम', 'राम'), ('नु', 'नान'), ('पन्थ', 'पान'), ('ज्', 'न'), ('गय', 'न'), ('खूबे', 'के'), ('बहिन', 'बहन'), ('पवि', 'पाव')]\n"
     ]
    },
    {
     "name": "stderr",
     "output_type": "stream",
     "text": [
      " 72%|███████▏  | 361/500 [06:20<02:26,  1.05s/it]"
     ]
    },
    {
     "name": "stdout",
     "output_type": "stream",
     "text": [
      "Words chosen for updates :  [('वलयों', 'लो'), ('कौवा', 'का'), ('गंवाना', 'गाना'), ('अधरों', 'धरो'), ('बगिया', 'गा'), ('जवानी', 'नानी'), ('अगवा', 'गा'), ('पृ', 'पे'), ('बैठाना', 'बाना'), ('डिबिया', 'मा')]\n"
     ]
    },
    {
     "name": "stderr",
     "output_type": "stream",
     "text": [
      " 76%|███████▌  | 381/500 [06:41<02:05,  1.05s/it]"
     ]
    },
    {
     "name": "stdout",
     "output_type": "stream",
     "text": [
      "Words chosen for updates :  [('और', 'भर'), ('बर्फी', 'री'), ('दें', 'रे'), ('स्वांति', 'सात'), ('बैचनी', 'नी'), ('ग़ैब', 'गा'), ('विधु', 'धन'), ('अटा', 'का'), ('आधे', 'आने'), ('लाते', 'साते')]\n"
     ]
    },
    {
     "name": "stderr",
     "output_type": "stream",
     "text": [
      " 80%|████████  | 401/500 [07:02<01:44,  1.05s/it]"
     ]
    },
    {
     "name": "stdout",
     "output_type": "stream",
     "text": [
      "Words chosen for updates :  [('लगत', 'लगता'), ('कढी', 'काली'), ('गवां', 'गा'), ('जम', 'जाम'), ('छलै', 'हल'), ('आग', 'आन'), ('अयाँ', 'कान'), ('अहैं', 'है'), ('उट्ठें', 'हे'), ('कश्', 'बन')]\n"
     ]
    },
    {
     "name": "stderr",
     "output_type": "stream",
     "text": [
      " 84%|████████▍ | 421/500 [07:23<01:22,  1.05s/it]"
     ]
    },
    {
     "name": "stdout",
     "output_type": "stream",
     "text": [
      "Words chosen for updates :  [('फरे', 'रे'), ('मया', 'मा'), ('सराब', 'सारा'), ('लेवै', 'ले'), ('अइसी', 'सी'), ('आना', 'ना'), ('ग़ौर', 'नार'), ('होड', 'होम'), ('जमघट', 'जाम'), ('टि', 'क')]\n"
     ]
    },
    {
     "name": "stderr",
     "output_type": "stream",
     "text": [
      " 88%|████████▊ | 441/500 [07:44<01:02,  1.06s/it]"
     ]
    },
    {
     "name": "stdout",
     "output_type": "stream",
     "text": [
      "Words chosen for updates :  [('मेंरे', 'मेरे'), ('नायं', 'ना'), ('फिकरे', 'करे'), ('कलस', 'कलसा'), ('यौवना', 'ना'), ('रूखा', 'रखा'), ('खबरें', 'करे'), ('खूंटी', 'की'), ('आगया', 'गा'), ('उठान', 'मान')]\n"
     ]
    },
    {
     "name": "stderr",
     "output_type": "stream",
     "text": [
      " 92%|█████████▏| 461/500 [08:05<00:41,  1.06s/it]"
     ]
    },
    {
     "name": "stdout",
     "output_type": "stream",
     "text": [
      "Words chosen for updates :  [('पाइप', 'पाप'), ('इफरात', 'रात'), ('पाटना', 'पाना'), ('नोंच', 'नो'), ('सेठ', 'से'), ('त्यो', 'तो'), ('भाए', 'कान'), ('नग', 'नागा'), ('विकारी', 'कारी'), ('बिलाय', 'ला')]\n"
     ]
    },
    {
     "name": "stderr",
     "output_type": "stream",
     "text": [
      " 96%|█████████▌| 481/500 [08:26<00:20,  1.05s/it]"
     ]
    },
    {
     "name": "stdout",
     "output_type": "stream",
     "text": [
      "Words chosen for updates :  [('तैयारी', 'तारी'), ('किरचें', 'करे'), ('भ्रू', 'कर'), ('नयाँ', 'नान'), ('आही', 'ही'), ('अवधान', 'धान'), ('धक्', 'क'), ('अर्घ्य', 'कर'), ('कुकड़ू', 'कुकरा'), ('व्हाट', 'हाट')]\n"
     ]
    },
    {
     "name": "stderr",
     "output_type": "stream",
     "text": [
      "100%|██████████| 500/500 [08:46<00:00,  1.05s/it]\n"
     ]
    },
    {
     "name": "stdout",
     "output_type": "stream",
     "text": [
      "BUILDING LEXICON\n",
      "PROCESSING nimaadi\n"
     ]
    },
    {
     "name": "stderr",
     "output_type": "stream",
     "text": [
      "\r",
      "  0%|          | 0/500 [00:00<?, ?it/s]"
     ]
    },
    {
     "name": "stdout",
     "output_type": "stream",
     "text": [
      "Intializing TRANSITION MATRIX...\n",
      "Intialized TRANSITION MATRIX of dimensions 76x63\n"
     ]
    },
    {
     "name": "stderr",
     "output_type": "stream",
     "text": [
      "  4%|▍         | 21/500 [00:24<09:14,  1.16s/it]"
     ]
    },
    {
     "name": "stdout",
     "output_type": "stream",
     "text": [
      "Words chosen for updates :  [('राज़', 'राज'), ('खिर', 'तारा'), ('मग', 'ग'), ('थमा', 'सा'), ('मेडल', 'मेल'), ('आँकना', 'का'), ('लम्', 'ल'), ('धजी', 'गज'), ('किन्नर', 'चार'), ('होअए', 'खोल')]\n"
     ]
    },
    {
     "name": "stderr",
     "output_type": "stream",
     "text": [
      "  8%|▊         | 41/500 [00:47<09:01,  1.18s/it]"
     ]
    },
    {
     "name": "stdout",
     "output_type": "stream",
     "text": [
      "Words chosen for updates :  [('तार', 'तारा'), ('परा', 'पारा'), ('किए', 'का'), ('लड', 'ल'), ('डराती', 'रात'), ('करणी', 'करण'), ('पैनी', 'पे'), ('चावला', 'चाला'), ('व्योम', 'यो'), ('गांडीव', 'गांव')]\n"
     ]
    },
    {
     "name": "stderr",
     "output_type": "stream",
     "text": [
      " 12%|█▏        | 61/500 [01:10<08:29,  1.16s/it]"
     ]
    },
    {
     "name": "stdout",
     "output_type": "stream",
     "text": [
      "Words chosen for updates :  [('कस', 'कसा'), ('क़ी', 'क'), ('नमत', 'मत'), ('मैक', 'क'), ('बैनन', 'बन'), ('उबटन', 'बार'), ('झाँय', 'जाय'), ('छोल', 'खोल'), ('काई', 'काज'), ('रूठे', 'रे')]\n"
     ]
    },
    {
     "name": "stderr",
     "output_type": "stream",
     "text": [
      " 16%|█▌        | 81/500 [01:34<08:09,  1.17s/it]"
     ]
    },
    {
     "name": "stdout",
     "output_type": "stream",
     "text": [
      "Words chosen for updates :  [('कय', 'काय'), ('आयाम', 'या'), ('चालि', 'चाला'), ('पड़ैत', 'पत'), ('समन्', 'सम'), ('अनमना', 'ला'), ('तिरै', 'तारो'), ('हथनी', 'हम'), ('झाडू़', 'जा'), ('आइना', 'इना')]\n"
     ]
    },
    {
     "name": "stderr",
     "output_type": "stream",
     "text": [
      " 20%|██        | 101/500 [01:57<07:41,  1.16s/it]"
     ]
    },
    {
     "name": "stdout",
     "output_type": "stream",
     "text": [
      "Words chosen for updates :  [('आते', 'ते'), ('हंसि', 'हंसा'), ('दिल', 'दाल'), ('महलन', 'हल'), ('खनके', 'के'), ('जूझना', 'जा'), ('बैग', 'बेगा'), ('ड्रीम', 'री'), ('कोठली', 'कमल'), ('महिना', 'हारा')]\n"
     ]
    },
    {
     "name": "stderr",
     "output_type": "stream",
     "text": [
      " 24%|██▍       | 121/500 [02:20<07:22,  1.17s/it]"
     ]
    },
    {
     "name": "stdout",
     "output_type": "stream",
     "text": [
      "Words chosen for updates :  [('बालन', 'बाल'), ('कया', 'काया'), ('पपड़ी', 'पाप'), ('जोडूँ', 'जो'), ('चढत', 'चलत'), ('समै', 'सम'), ('मेढ़', 'मेल'), ('जख्म', 'जम'), ('धूम्र', 'कर'), ('हू', 'ख')]\n"
     ]
    },
    {
     "name": "stderr",
     "output_type": "stream",
     "text": [
      " 28%|██▊       | 141/500 [02:43<06:58,  1.16s/it]"
     ]
    },
    {
     "name": "stdout",
     "output_type": "stream",
     "text": [
      "Words chosen for updates :  [('कर्तव्', 'करत'), ('नयनो', 'यो'), ('हमे', 'हे'), ('झमक', 'क'), ('खुन', 'तु'), ('खर', 'भर'), ('मानव', 'मान'), ('घेरि', 'मेरा'), ('विवाद', 'विवाह'), ('टेक', 'तेका')]\n"
     ]
    },
    {
     "name": "stderr",
     "output_type": "stream",
     "text": [
      " 32%|███▏      | 161/500 [03:07<06:28,  1.15s/it]"
     ]
    },
    {
     "name": "stdout",
     "output_type": "stream",
     "text": [
      "Words chosen for updates :  [('कड़', 'क'), ('नक़्ल', 'कल'), ('कीनी', 'क'), ('कौआ', 'की'), ('ओर', 'पर'), ('अन्ना', 'ला'), ('भया', 'आया'), ('भनै', 'आ'), ('दिरम', 'हार'), ('शख्', 'ग')]\n"
     ]
    },
    {
     "name": "stderr",
     "output_type": "stream",
     "text": [
      " 36%|███▌      | 181/500 [03:30<06:13,  1.17s/it]"
     ]
    },
    {
     "name": "stdout",
     "output_type": "stream",
     "text": [
      "Words chosen for updates :  [('जल्', 'जल'), ('गज', 'गाज'), ('जरिए', 'जरा'), ('बीस', 'बस'), ('बसूँ', 'बस'), ('राजीव', 'राज'), ('समाती', 'सात'), ('जमाव', 'जा'), ('लिखनी', 'ला'), ('झूलै', 'ल')]\n"
     ]
    },
    {
     "name": "stderr",
     "output_type": "stream",
     "text": [
      " 40%|████      | 201/500 [03:53<05:44,  1.15s/it]"
     ]
    },
    {
     "name": "stdout",
     "output_type": "stream",
     "text": [
      "Words chosen for updates :  [('ज़ा', 'जा'), ('आतँक', 'तक'), ('कर्ज़', 'कारज'), ('ज़ीना', 'जा'), ('साँझ', 'सा'), ('धवल', 'गल'), ('देखनी', 'दे'), ('बटुआ', 'बहु'), ('काटने', 'काहे'), ('वर्ण', 'वर')]\n"
     ]
    },
    {
     "name": "stderr",
     "output_type": "stream",
     "text": [
      " 44%|████▍     | 221/500 [04:16<05:24,  1.16s/it]"
     ]
    },
    {
     "name": "stdout",
     "output_type": "stream",
     "text": [
      "Words chosen for updates :  [('एते', 'ते'), ('काली', 'काल'), ('आपने', 'पे'), ('डसने', 'से'), ('आतँकी', 'तक'), ('नजीब', 'जब'), ('कबड्डी', 'कब'), ('तमक', 'तक'), ('चीन्', 'ग'), ('देखन', 'दे')]\n"
     ]
    },
    {
     "name": "stderr",
     "output_type": "stream",
     "text": [
      " 48%|████▊     | 241/500 [04:40<05:03,  1.17s/it]"
     ]
    },
    {
     "name": "stdout",
     "output_type": "stream",
     "text": [
      "Words chosen for updates :  [('बहुमत', 'बहुत'), ('गमन', 'ग'), ('कमीना', 'का'), ('गौरी', 'गौर'), ('उमडा', 'ला'), ('अपां', 'अपार'), ('जनी', 'जी'), ('पठान', 'पान'), ('कथनी', 'कसी'), ('वीन', 'न')]\n"
     ]
    },
    {
     "name": "stderr",
     "output_type": "stream",
     "text": [
      " 52%|█████▏    | 261/500 [05:03<04:40,  1.18s/it]"
     ]
    },
    {
     "name": "stdout",
     "output_type": "stream",
     "text": [
      "Words chosen for updates :  [('डल', 'ल'), ('ज़रिए', 'जरा'), ('गाम', 'गा'), ('ननद', 'द'), ('उन्हे', 'हे'), ('मखमल', 'ल'), ('आवाज', 'वाज'), ('ढ़ो', 'हो'), ('फैल', 'फल'), ('उखड़', 'ल')]\n"
     ]
    },
    {
     "name": "stderr",
     "output_type": "stream",
     "text": [
      " 56%|█████▌    | 281/500 [05:26<04:19,  1.19s/it]"
     ]
    },
    {
     "name": "stdout",
     "output_type": "stream",
     "text": [
      "Words chosen for updates :  [('पिआस', 'पास'), ('बिलो', 'बालो'), ('कमाए', 'का'), ('चूड़ी', 'ग'), ('चढ़ाओ', 'गला'), ('उठाए', 'ला'), ('ज़मीनी', 'जम'), ('झाडी', 'जा'), ('फेरू', 'फेर'), ('ख़ूने', 'ते')]\n"
     ]
    },
    {
     "name": "stderr",
     "output_type": "stream",
     "text": [
      " 60%|██████    | 301/500 [05:50<03:53,  1.17s/it]"
     ]
    },
    {
     "name": "stdout",
     "output_type": "stream",
     "text": [
      "Words chosen for updates :  [('गाड़', 'गा'), ('कहाँ', 'कहा'), ('ज़ाम', 'जा'), ('बढा', 'बाला'), ('कश्', 'कह'), ('रंगी', 'रंग'), ('हटो', 'हो'), ('ओड़', 'प'), ('मायावी', 'माया'), ('ही', 'ख')]\n"
     ]
    },
    {
     "name": "stderr",
     "output_type": "stream",
     "text": [
      " 64%|██████▍   | 321/500 [06:13<03:28,  1.16s/it]"
     ]
    },
    {
     "name": "stdout",
     "output_type": "stream",
     "text": [
      "Words chosen for updates :  [('लँग', 'लग'), ('बल', 'बाल'), ('वले', 'ले'), ('गढ़ना', 'गला'), ('उतारना', 'तारा'), ('नीद', 'द'), ('चोरन', 'गोर'), ('चूल', 'गल'), ('उदास', 'दास'), ('छेड़ी', 'छे')]\n"
     ]
    },
    {
     "name": "stderr",
     "output_type": "stream",
     "text": [
      " 68%|██████▊   | 341/500 [06:36<03:05,  1.16s/it]"
     ]
    },
    {
     "name": "stdout",
     "output_type": "stream",
     "text": [
      "Words chosen for updates :  [('ज़ाए', 'जा'), ('परि', 'पारा'), ('खैरात', 'रात'), ('दैव', 'द'), ('छार', 'बार'), ('कदा', 'कहा'), ('जमने', 'जामे'), ('ख़ेज़', 'भेज'), ('मनि', 'ना'), ('महिने', 'हारे')]\n"
     ]
    },
    {
     "name": "stderr",
     "output_type": "stream",
     "text": [
      " 72%|███████▏  | 361/500 [07:00<02:43,  1.18s/it]"
     ]
    },
    {
     "name": "stdout",
     "output_type": "stream",
     "text": [
      "Words chosen for updates :  [('आगाज़', 'गाज'), ('पैड', 'प'), ('कमाँ', 'का'), ('कहमा', 'कहा'), ('रमज़ान', 'रजा'), ('लाटरी', 'लार'), ('आनन्द', 'द'), ('महातम', 'हात'), ('भवन', 'आ'), ('छिली', 'बाल')]\n"
     ]
    },
    {
     "name": "stderr",
     "output_type": "stream",
     "text": [
      " 76%|███████▌  | 381/500 [07:23<02:18,  1.17s/it]"
     ]
    },
    {
     "name": "stdout",
     "output_type": "stream",
     "text": [
      "Words chosen for updates :  [('किआ', 'का'), ('उसने', 'से'), ('मलने', 'ले'), ('सिटी', 'सा'), ('वदन', 'द'), ('सलवट', 'साल'), ('आमलेट', 'ले'), ('मिर', 'मार'), ('मन्', 'म'), ('मरनी', 'मार')]\n"
     ]
    },
    {
     "name": "stderr",
     "output_type": "stream",
     "text": [
      " 80%|████████  | 401/500 [07:46<01:54,  1.15s/it]"
     ]
    },
    {
     "name": "stdout",
     "output_type": "stream",
     "text": [
      "Words chosen for updates :  [('बाजि', 'बाजा'), ('जिया', 'जाया'), ('साव', 'सा'), ('बइठे', 'बसे'), ('गउवाँ', 'गा'), ('मरी', 'मार'), ('मरै', 'मार'), ('अमूमन', 'ल'), ('केशव', 'के'), ('जमाये', 'जासे')]\n"
     ]
    },
    {
     "name": "stderr",
     "output_type": "stream",
     "text": [
      " 84%|████████▍ | 421/500 [08:09<01:32,  1.17s/it]"
     ]
    },
    {
     "name": "stdout",
     "output_type": "stream",
     "text": [
      "Words chosen for updates :  [('साँस', 'सास'), ('बिठला', 'बाला'), ('कर्ज', 'कारज'), ('कील', 'कल'), ('पड़ी', 'प'), ('कहि', 'कहा'), ('रई', 'राई'), ('कोयली', 'कोयल'), ('रिज़वान', 'राजा'), ('ख़ूबियाँ', 'बाया')]\n"
     ]
    },
    {
     "name": "stderr",
     "output_type": "stream",
     "text": [
      " 88%|████████▊ | 441/500 [08:33<01:08,  1.16s/it]"
     ]
    },
    {
     "name": "stdout",
     "output_type": "stream",
     "text": [
      "Words chosen for updates :  [('बिरह', 'बारह'), ('कहँ', 'कह'), ('सुनी', 'सु'), ('सुमन', 'सु'), ('कटनी', 'क'), ('महानतम', 'हात'), ('भौन', 'भी'), ('अमिया', 'लिया'), ('धुँए', 'कुल'), ('आँखो', 'हो')]\n"
     ]
    },
    {
     "name": "stderr",
     "output_type": "stream",
     "text": [
      " 92%|█████████▏| 461/500 [08:56<00:45,  1.15s/it]"
     ]
    },
    {
     "name": "stdout",
     "output_type": "stream",
     "text": [
      "Words chosen for updates :  [('पराए', 'पारा'), ('राजी', 'राज'), ('पूए', 'प'), ('कीने', 'के'), ('कटे', 'के'), ('गऊ', 'गई'), ('बाँटती', 'बात'), ('पयाम', 'पाया'), ('सम्', 'सम'), ('मिलान', 'माला')]\n"
     ]
    },
    {
     "name": "stderr",
     "output_type": "stream",
     "text": [
      " 96%|█████████▌| 481/500 [09:19<00:22,  1.17s/it]"
     ]
    },
    {
     "name": "stdout",
     "output_type": "stream",
     "text": [
      "Words chosen for updates :  [('आकर', 'कर'), ('रहेन', 'रहे'), ('दुआर', 'दुर'), ('स्टेज', 'सेज'), ('उरूस', 'रस'), ('मलने', 'ले'), ('चीज', 'गज'), ('धीया', 'गया'), ('घूँट', 'म'), ('दिखत', 'हात')]\n"
     ]
    },
    {
     "name": "stderr",
     "output_type": "stream",
     "text": [
      "100%|██████████| 500/500 [09:41<00:00,  1.16s/it]\n"
     ]
    },
    {
     "name": "stdout",
     "output_type": "stream",
     "text": [
      "BUILDING LEXICON\n",
      "PROCESSING malwi\n"
     ]
    },
    {
     "name": "stderr",
     "output_type": "stream",
     "text": [
      "\r",
      "  0%|          | 0/500 [00:00<?, ?it/s]"
     ]
    },
    {
     "name": "stdout",
     "output_type": "stream",
     "text": [
      "Intializing TRANSITION MATRIX...\n",
      "Intialized TRANSITION MATRIX of dimensions 76x59\n"
     ]
    },
    {
     "name": "stderr",
     "output_type": "stream",
     "text": [
      "  4%|▍         | 21/500 [00:42<16:14,  2.04s/it]"
     ]
    },
    {
     "name": "stdout",
     "output_type": "stream",
     "text": [
      "Words chosen for updates :  [('अमन', 'मन'), ('कुली', 'कुल'), ('याय', 'या'), ('छो', 'हो'), ('अजीब', 'जी'), ('ठाढ़', 'दाल'), ('ठेलते', 'खेले'), ('घोलती', 'दाल'), ('नष्ट', 'नर'), ('तलछट', 'लो')]\n"
     ]
    },
    {
     "name": "stderr",
     "output_type": "stream",
     "text": [
      "  8%|▊         | 41/500 [01:22<15:19,  2.00s/it]"
     ]
    },
    {
     "name": "stdout",
     "output_type": "stream",
     "text": [
      "Words chosen for updates :  [('सबे', 'से'), ('क़', 'क'), ('उड़ाए', 'उना'), ('थर', 'थारा'), ('बीजो', 'जा'), ('आदमी', 'आम'), ('गर्वित', 'गरवे'), ('होए', 'हो'), ('जबानी', 'जानी'), ('तफरी', 'री')]\n"
     ]
    },
    {
     "name": "stderr",
     "output_type": "stream",
     "text": [
      " 12%|█▏        | 61/500 [02:03<14:52,  2.03s/it]"
     ]
    },
    {
     "name": "stdout",
     "output_type": "stream",
     "text": [
      "Words chosen for updates :  [('महइ', 'माह'), ('मोल', 'माल'), ('ऊबकर', 'कर'), ('किटी', 'के'), ('यहांँ', 'हां'), ('दीने', 'ने'), ('छूट', 'ही'), ('खोलता', 'खोला'), ('जति', 'जाते'), ('यमक', 'मे')]\n"
     ]
    },
    {
     "name": "stderr",
     "output_type": "stream",
     "text": [
      " 16%|█▌        | 81/500 [02:43<14:08,  2.02s/it]"
     ]
    },
    {
     "name": "stdout",
     "output_type": "stream",
     "text": [
      "Words chosen for updates :  [('ज़ाए', 'जा'), ('मेंट', 'में'), ('धारी', 'धार'), ('सारी', 'सार'), ('नजरों', 'नजरां'), ('तवाँ', 'वा'), ('जीते', 'जे'), ('जाद', 'जा'), ('क़बाएँ', 'का'), ('दरकी', 'रक')]\n"
     ]
    },
    {
     "name": "stderr",
     "output_type": "stream",
     "text": [
      " 20%|██        | 101/500 [03:24<13:29,  2.03s/it]"
     ]
    },
    {
     "name": "stdout",
     "output_type": "stream",
     "text": [
      "Words chosen for updates :  [('हाएल', 'हाल'), ('लावै', 'लावो'), ('कइ', 'क'), ('इतना', 'ना'), ('मीता', 'मा'), ('बलि', 'ले'), ('भाषा', 'भारा'), ('जूठ', 'जी'), ('बसद', 'सदा'), ('एहो', 'हो')]\n"
     ]
    },
    {
     "name": "stderr",
     "output_type": "stream",
     "text": [
      " 24%|██▍       | 121/500 [19:31<36:56,  5.85s/it]    "
     ]
    },
    {
     "name": "stdout",
     "output_type": "stream",
     "text": [
      "Words chosen for updates :  [('सिफ़र', 'सेर'), ('तरे', 'रे'), ('जबल', 'जल'), ('तजो', 'जा'), ('लोढ़ा', 'लाला'), ('जाऊँगी', 'जाग'), ('प्याली', 'पाल'), ('मिलौ', 'मेल'), ('यस्तो', 'सो'), ('बद्', 'बाद')]\n"
     ]
    },
    {
     "name": "stderr",
     "output_type": "stream",
     "text": [
      " 28%|██▊       | 141/500 [20:11<12:03,  2.01s/it]"
     ]
    },
    {
     "name": "stdout",
     "output_type": "stream",
     "text": [
      "Words chosen for updates :  [('अमीन', 'मन'), ('हैय', 'हो'), ('सरब', 'सार'), ('बँगला', 'गला'), ('शायद', 'सा'), ('गर्द', 'गार'), ('चलाओ', 'चला'), ('सोरठी', 'सार'), ('सोरठी', 'सार'), ('ज्यो', 'जो')]\n"
     ]
    },
    {
     "name": "stderr",
     "output_type": "stream",
     "text": [
      " 32%|███▏      | 161/500 [20:51<11:21,  2.01s/it]"
     ]
    },
    {
     "name": "stdout",
     "output_type": "stream",
     "text": [
      "Words chosen for updates :  [('पेट', 'पे'), ('माटी', 'मा'), ('पेटी', 'पे'), ('लगाएँ', 'लगा'), ('सरबस', 'सारस'), ('दीनार', 'नार'), ('दीजै', 'जो'), ('कौरव', 'करवा'), ('शद्दाद', 'सा'), ('बाजि', 'बाजे')]\n"
     ]
    },
    {
     "name": "stderr",
     "output_type": "stream",
     "text": [
      " 36%|███▌      | 181/500 [21:32<10:42,  2.01s/it]"
     ]
    },
    {
     "name": "stdout",
     "output_type": "stream",
     "text": [
      "Words chosen for updates :  [('माट', 'मा'), ('स्टेट', 'से'), ('धरी', 'धर'), ('बहै', 'हो'), ('बर्क', 'रक'), ('आजाद', 'आजा'), ('लगायी', 'लगा'), ('लगायी', 'लगा'), ('एकौ', 'क'), ('चीखता', 'खा')]\n"
     ]
    },
    {
     "name": "stderr",
     "output_type": "stream",
     "text": [
      " 40%|████      | 201/500 [22:12<10:08,  2.04s/it]"
     ]
    },
    {
     "name": "stdout",
     "output_type": "stream",
     "text": [
      "Words chosen for updates :  [('तले', 'ले'), ('वला', 'वाला'), ('तनु', 'ने'), ('चौका', 'का'), ('भगाओ', 'गाय'), ('लयो', 'लाया'), ('लखाय', 'लाला'), ('ग्यौ', 'गयो'), ('बीरी', 'री'), ('ऊदी', 'दी')]\n"
     ]
    },
    {
     "name": "stderr",
     "output_type": "stream",
     "text": [
      " 44%|████▍     | 221/500 [22:53<09:25,  2.03s/it]"
     ]
    },
    {
     "name": "stdout",
     "output_type": "stream",
     "text": [
      "Words chosen for updates :  [('ज़ाए', 'जा'), ('मात', 'मा'), ('नत', 'न'), ('लगाइए', 'लगा'), ('काक', 'काका'), ('कीया', 'का'), ('सवादी', 'सवा'), ('कच्चा', 'का'), ('मुच्ची', 'मे'), ('कुचल', 'कुल')]\n"
     ]
    },
    {
     "name": "stderr",
     "output_type": "stream",
     "text": [
      " 48%|████▊     | 241/500 [23:34<08:50,  2.05s/it]"
     ]
    },
    {
     "name": "stdout",
     "output_type": "stream",
     "text": [
      "Words chosen for updates :  [('करवाऊँ', 'करवा'), ('गरजि', 'गरजे'), ('सत्ताएँ', 'सा'), ('जुएँ', 'जे'), ('अह्दे', 'हे'), ('समुद', 'सामे'), ('चीखो', 'खा'), ('भव', 'भाव'), ('बंधती', 'बांध'), ('बुरू', 'बेरी')]\n"
     ]
    },
    {
     "name": "stderr",
     "output_type": "stream",
     "text": [
      " 52%|█████▏    | 261/500 [24:15<07:58,  2.00s/it]"
     ]
    },
    {
     "name": "stdout",
     "output_type": "stream",
     "text": [
      "Words chosen for updates :  [('इनमे', 'नमे'), ('कोई', 'काई'), ('पये', 'पे'), ('मइया', 'मा'), ('रुत', 'रे'), ('कौ', 'क'), ('घुट', 'के'), ('भारती', 'भार'), ('बाजू', 'बाजी'), ('लखात', 'लाला')]\n"
     ]
    },
    {
     "name": "stderr",
     "output_type": "stream",
     "text": [
      " 56%|█████▌    | 281/500 [24:55<07:19,  2.01s/it]"
     ]
    },
    {
     "name": "stdout",
     "output_type": "stream",
     "text": [
      "Words chosen for updates :  [('जफा', 'जा'), ('हालत', 'हाल'), ('अमित', 'मे'), ('असाढ़', 'साल'), ('तकि', 'के'), ('जूड़े', 'जीने'), ('लई', 'लाई'), ('बकरे', 'करे'), ('सून', 'सीना'), ('मलो', 'माला')]\n"
     ]
    },
    {
     "name": "stderr",
     "output_type": "stream",
     "text": [
      " 60%|██████    | 301/500 [25:35<06:39,  2.01s/it]"
     ]
    },
    {
     "name": "stdout",
     "output_type": "stream",
     "text": [
      "Words chosen for updates :  [('पिट', 'पे'), ('लपेटी', 'लपे'), ('कैट', 'को'), ('किटी', 'के'), ('सिव', 'सेवा'), ('काल', 'काला'), ('कया', 'का'), ('कुरा', 'केरा'), ('बरक़त', 'रक'), ('घटी', 'क')]\n"
     ]
    },
    {
     "name": "stderr",
     "output_type": "stream",
     "text": [
      " 64%|██████▍   | 321/500 [26:16<06:03,  2.03s/it]"
     ]
    },
    {
     "name": "stdout",
     "output_type": "stream",
     "text": [
      "Words chosen for updates :  [('मैटर', 'मोर'), ('धारती', 'धार'), ('नये', 'ने'), ('कलाएँ', 'काला'), ('ज़ल्दी', 'जल'), ('मींचे', 'मंे'), ('नाचती', 'ना'), ('खादी', 'खा'), ('छानते', 'माने'), ('नादानी', 'नादान')]\n"
     ]
    },
    {
     "name": "stderr",
     "output_type": "stream",
     "text": [
      " 68%|██████▊   | 341/500 [26:56<05:18,  2.01s/it]"
     ]
    },
    {
     "name": "stdout",
     "output_type": "stream",
     "text": [
      "Words chosen for updates :  [('नज़्र', 'नजर'), ('तरलाई', 'रलाई'), ('तहार', 'हार'), ('पीस', 'पस'), ('लव', 'लाव'), ('कत्तई', 'कई'), ('लोटी', 'ला'), ('पाओल', 'पाल'), ('घटाएँ', 'का'), ('गज़ब', 'गज')]\n"
     ]
    },
    {
     "name": "stderr",
     "output_type": "stream",
     "text": [
      " 72%|███████▏  | 361/500 [27:37<04:40,  2.02s/it]"
     ]
    },
    {
     "name": "stdout",
     "output_type": "stream",
     "text": [
      "Words chosen for updates :  [('फ़्लैट', 'लो'), ('गलते', 'गले'), ('जाद', 'जा'), ('किय', 'के'), ('घाट', 'का'), ('गजर', 'गजरा'), ('तज़ाद', 'जा'), ('सफ़ेदी', 'से'), ('अज्दाद', 'जा'), ('छलनी', 'मलन')]\n"
     ]
    },
    {
     "name": "stderr",
     "output_type": "stream",
     "text": [
      " 76%|███████▌  | 381/500 [28:17<03:59,  2.01s/it]"
     ]
    },
    {
     "name": "stdout",
     "output_type": "stream",
     "text": [
      "Words chosen for updates :  [('एन', 'न'), ('एका', 'का'), ('पासी', 'पास'), ('नाती', 'ना'), ('गढ़े', 'गले'), ('चलाए', 'ला'), ('घसीटते', 'कसे'), ('फ़ौलाद', 'ला'), ('मतभेद', 'मे'), ('चौथा', 'था')]\n"
     ]
    },
    {
     "name": "stderr",
     "output_type": "stream",
     "text": [
      " 80%|████████  | 401/500 [28:58<03:20,  2.03s/it]"
     ]
    },
    {
     "name": "stdout",
     "output_type": "stream",
     "text": [
      "Words chosen for updates :  [('अफ़ज़ाई', 'जाई'), ('तवाँ', 'वा'), ('शेव', 'सेवा'), ('पढ', 'पाल'), ('मोम', 'मामा'), ('भीजल', 'जल'), ('दीपित', 'पे'), ('न्यौता', 'ना'), ('छीया', 'मा'), ('खाली', 'लाल')]\n"
     ]
    },
    {
     "name": "stderr",
     "output_type": "stream",
     "text": [
      " 84%|████████▍ | 421/500 [29:38<02:38,  2.01s/it]"
     ]
    },
    {
     "name": "stdout",
     "output_type": "stream",
     "text": [
      "Words chosen for updates :  [('मड़', 'मन'), ('मेली', 'मेल'), ('नमित', 'नमे'), ('सफ़ारी', 'सार'), ('मुफ्त', 'मे'), ('कोय', 'का'), ('जबाब', 'जा'), ('खाद', 'खा'), ('देखब', 'देख'), ('युत', 'ये')]\n"
     ]
    },
    {
     "name": "stderr",
     "output_type": "stream",
     "text": [
      " 88%|████████▊ | 441/500 [30:19<01:59,  2.02s/it]"
     ]
    },
    {
     "name": "stdout",
     "output_type": "stream",
     "text": [
      "Words chosen for updates :  [('लपटे', 'लपे'), ('पर्त', 'पर'), ('नीर', 'नर'), ('डान', 'नाना'), ('सवाब', 'सवा'), ('घाम', 'काम'), ('घटा', 'का'), ('ऋत', 'क'), ('अमन्द', 'मन'), ('ज़ब्ते', 'जे')]\n"
     ]
    },
    {
     "name": "stderr",
     "output_type": "stream",
     "text": [
      " 92%|█████████▏| 461/500 [30:59<01:19,  2.03s/it]"
     ]
    },
    {
     "name": "stdout",
     "output_type": "stream",
     "text": [
      "Words chosen for updates :  [('अह्म', 'हम'), ('ऊहे', 'हे'), ('करए', 'कर'), ('फलित', 'ले'), ('हों', 'हां'), ('बसाइ', 'सा'), ('खिले', 'खेले'), ('सोझा', 'साता'), ('भला', 'ला'), ('बचना', 'ना')]\n"
     ]
    },
    {
     "name": "stderr",
     "output_type": "stream",
     "text": [
      " 96%|█████████▌| 481/500 [31:40<00:38,  2.02s/it]"
     ]
    },
    {
     "name": "stdout",
     "output_type": "stream",
     "text": [
      "Words chosen for updates :  [('हरएक', 'हरक'), ('तमा', 'मा'), ('क़तई', 'कई'), ('मेढ़ा', 'मेला'), ('ललकारती', 'ललकार'), ('लली', 'लाल'), ('आँचल', 'आल'), ('अग्रज', 'गरजे'), ('नवर्द', 'नेवर'), ('कुल्फ़त', 'कुल')]\n"
     ]
    },
    {
     "name": "stderr",
     "output_type": "stream",
     "text": [
      "100%|██████████| 500/500 [32:18<00:00,  3.88s/it]\n"
     ]
    },
    {
     "name": "stdout",
     "output_type": "stream",
     "text": [
      "BUILDING LEXICON\n",
      "PROCESSING marathi\n"
     ]
    },
    {
     "name": "stderr",
     "output_type": "stream",
     "text": [
      "\r",
      "  0%|          | 0/500 [00:00<?, ?it/s]"
     ]
    },
    {
     "name": "stdout",
     "output_type": "stream",
     "text": [
      "Intializing TRANSITION MATRIX...\n",
      "Intialized TRANSITION MATRIX of dimensions 76x59\n"
     ]
    },
    {
     "name": "stderr",
     "output_type": "stream",
     "text": [
      "  4%|▍         | 21/500 [00:25<09:46,  1.23s/it]"
     ]
    },
    {
     "name": "stdout",
     "output_type": "stream",
     "text": [
      "Words chosen for updates :  [('तनो', 'तो'), ('काईं', 'कां'), ('तानो', 'तो'), ('समेट', 'से'), ('ननदोई', 'दो'), ('स्टार', 'सर'), ('त्रासदी', 'तरी'), ('बनवाता', 'बात'), ('क़सीदा', 'करी'), ('बसने', 'के')]\n"
     ]
    },
    {
     "name": "stderr",
     "output_type": "stream",
     "text": [
      "  8%|▊         | 41/500 [00:49<09:23,  1.23s/it]"
     ]
    },
    {
     "name": "stdout",
     "output_type": "stream",
     "text": [
      "Words chosen for updates :  [('कोटर', 'कोर'), ('गुँजा', 'गुज'), ('चलाए', 'चला'), ('छाइ', 'काम'), ('साठ', 'रस'), ('थारी', 'सरी'), ('सड़', 'डर'), ('खनकता', 'रखकर'), ('सड़ान्ध', 'डर'), ('मिलवा', 'मिल')]\n"
     ]
    },
    {
     "name": "stderr",
     "output_type": "stream",
     "text": [
      " 12%|█▏        | 61/500 [01:14<08:54,  1.22s/it]"
     ]
    },
    {
     "name": "stdout",
     "output_type": "stream",
     "text": [
      "Words chosen for updates :  [('रटती', 'रती'), ('घूर', 'कर'), ('काटी', 'की'), ('बिस्', 'कि'), ('ढहा', 'हा'), ('चन्दा', 'रचा'), ('मामाजी', 'जी'), ('थमने', 'से'), ('कांम', 'कां'), ('बाँधूँ', 'का')]\n"
     ]
    },
    {
     "name": "stderr",
     "output_type": "stream",
     "text": [
      " 16%|█▌        | 81/500 [01:38<08:27,  1.21s/it]"
     ]
    },
    {
     "name": "stdout",
     "output_type": "stream",
     "text": [
      "Words chosen for updates :  [('यौ', 'ये'), ('छठे', 'के'), ('सजीवन', 'जी'), ('बारै', 'करी'), ('बिस्', 'कि'), ('जाँना', 'रज'), ('कान्ही', 'काही'), ('बरसाती', 'करती'), ('बसकर', 'बकर'), ('छमा', 'का')]\n"
     ]
    },
    {
     "name": "stderr",
     "output_type": "stream",
     "text": [
      " 20%|██        | 101/500 [02:03<08:04,  1.21s/it]"
     ]
    },
    {
     "name": "stdout",
     "output_type": "stream",
     "text": [
      "Words chosen for updates :  [('दमके', 'के'), ('हराई', 'हर'), ('पेल', 'पेरल'), ('भऱ', 'भी'), ('बोधा', 'को'), ('आपस', 'आप'), ('बामो', 'को'), ('चलाने', 'चले'), ('ईज़ाद', 'जे'), ('काँध', 'का')]\n"
     ]
    },
    {
     "name": "stderr",
     "output_type": "stream",
     "text": [
      " 24%|██▍       | 121/500 [02:27<07:43,  1.22s/it]"
     ]
    },
    {
     "name": "stdout",
     "output_type": "stream",
     "text": [
      "Words chosen for updates :  [('घरो', 'करो'), ('हाशमी', 'ही'), ('स्वादहीन', 'ही'), ('सामराज', 'रज'), ('काटल', 'काल'), ('सजाता', 'जाता'), ('धावकों', 'कोर'), ('गोदना', 'गोत'), ('सुनूँ', 'सुन'), ('शीर', 'शरीर')]\n"
     ]
    },
    {
     "name": "stderr",
     "output_type": "stream",
     "text": [
      " 28%|██▊       | 141/500 [02:51<07:17,  1.22s/it]"
     ]
    },
    {
     "name": "stdout",
     "output_type": "stream",
     "text": [
      "Words chosen for updates :  [('हीँ', 'ही'), ('कोर्ट', 'कोर'), ('हेम', 'हे'), ('केना', 'के'), ('कराती', 'करती'), ('शर्माती', 'रती'), ('कासे', 'के'), ('अँधी', 'बी'), ('नाकामी', 'की'), ('एसी', 'सी')]\n"
     ]
    },
    {
     "name": "stderr",
     "output_type": "stream",
     "text": [
      " 32%|███▏      | 161/500 [03:16<06:58,  1.23s/it]"
     ]
    },
    {
     "name": "stdout",
     "output_type": "stream",
     "text": [
      "Words chosen for updates :  [('भीष्म', 'भी'), ('बावरा', 'कर'), ('मरूँ', 'मर'), ('शरमाता', 'रात'), ('जाणे', 'जावे'), ('ललाट', 'राला'), ('मर्मज्ञ', 'रज'), ('लुटा', 'लुट'), ('सदल', 'सदा'), ('इकट्ठे', 'के')]\n"
     ]
    },
    {
     "name": "stderr",
     "output_type": "stream",
     "text": [
      " 36%|███▌      | 181/500 [03:41<06:32,  1.23s/it]"
     ]
    },
    {
     "name": "stdout",
     "output_type": "stream",
     "text": [
      "Words chosen for updates :  [('पिए', 'परि'), ('करू', 'कर'), ('करै', 'करी'), ('दर्ज', 'रज'), ('भीत', 'भीतर'), ('वाये', 'ये'), ('इशरत', 'मरत'), ('रेशमा', 'रे'), ('साँची', 'चीर'), ('प्रसाधन', 'पर')]\n"
     ]
    },
    {
     "name": "stderr",
     "output_type": "stream",
     "text": [
      " 40%|████      | 201/500 [04:05<06:01,  1.21s/it]"
     ]
    },
    {
     "name": "stdout",
     "output_type": "stream",
     "text": [
      "Words chosen for updates :  [('हरद', 'हर'), ('नहिँ', 'हि'), ('छी', 'की'), ('झूर', 'कर'), ('बन्दी', 'की'), ('माँगन', 'ग'), ('हराना', 'हर'), ('रहमान', 'रहा'), ('समावेश', 'से'), ('धूम्र', 'मर')]\n"
     ]
    },
    {
     "name": "stderr",
     "output_type": "stream",
     "text": [
      " 44%|████▍     | 221/500 [04:29<05:40,  1.22s/it]"
     ]
    },
    {
     "name": "stdout",
     "output_type": "stream",
     "text": [
      "Words chosen for updates :  [('कहने', 'कहे'), ('जागना', 'जग'), ('दर्स', 'रस'), ('जनमानस', 'रज'), ('सुराज', 'सुरज'), ('झेलें', 'केलें'), ('शाबाशी', 'बी'), ('मातमी', 'माती'), ('पुष्ट', 'पुत'), ('ॠषि', 'कि')]\n"
     ]
    },
    {
     "name": "stderr",
     "output_type": "stream",
     "text": [
      " 48%|████▊     | 241/500 [04:54<05:16,  1.22s/it]"
     ]
    },
    {
     "name": "stdout",
     "output_type": "stream",
     "text": [
      "Words chosen for updates :  [('नक़्स', 'के'), ('स्ट्रीट', 'सरी'), ('साठी', 'सी'), ('मे', 'मरे'), ('जाइएगा', 'जग'), ('सीथ', 'सी'), ('लदी', 'जी'), ('अल्प', 'बाप'), ('जाब', 'जब'), ('बादाम', 'का')]\n"
     ]
    },
    {
     "name": "stderr",
     "output_type": "stream",
     "text": [
      " 52%|█████▏    | 261/500 [05:18<04:52,  1.22s/it]"
     ]
    },
    {
     "name": "stdout",
     "output_type": "stream",
     "text": [
      "Words chosen for updates :  [('बोद', 'को'), ('बन्दर', 'कर'), ('मादरे', 'रे'), ('मज़्मून', 'जे'), ('थमते', 'ते'), ('चलूँ', 'रचा'), ('रस्म', 'रस'), ('सज़दा', 'जे'), ('खूँटा', 'खा'), ('भाँत', 'भरात')]\n"
     ]
    },
    {
     "name": "stderr",
     "output_type": "stream",
     "text": [
      " 56%|█████▌    | 281/500 [05:42<04:26,  1.22s/it]"
     ]
    },
    {
     "name": "stdout",
     "output_type": "stream",
     "text": [
      "Words chosen for updates :  [('हिए', 'हि'), ('चुकने', 'चुके'), ('कशिश', 'कि'), ('कएने', 'के'), ('काटि', 'कि'), ('घण्', 'कण'), ('नगमा', 'ग'), ('बरसो', 'करो'), ('फिरा', 'फिर'), ('बरसना', 'कर')]\n"
     ]
    },
    {
     "name": "stderr",
     "output_type": "stream",
     "text": [
      " 60%|██████    | 301/500 [06:07<04:02,  1.22s/it]"
     ]
    },
    {
     "name": "stdout",
     "output_type": "stream",
     "text": [
      "Words chosen for updates :  [('होस्', 'हो'), ('इसी', 'मी'), ('तनया', 'तया'), ('फँसी', 'जी'), ('काम्य', 'काय'), ('आलसी', 'आली'), ('मनोरम', 'मोर'), ('अल्पनाएँ', 'बाप'), ('पॉंव', 'पेर'), ('आध', 'ग')]\n"
     ]
    },
    {
     "name": "stderr",
     "output_type": "stream",
     "text": [
      " 64%|██████▍   | 321/500 [06:31<03:39,  1.23s/it]"
     ]
    },
    {
     "name": "stdout",
     "output_type": "stream",
     "text": [
      "Words chosen for updates :  [('कटनी', 'की'), ('घरन', 'कर'), ('कदमो', 'को'), ('बादि', 'कि'), ('महादेव', 'हे'), ('हॆं', 'हें'), ('माँगा', 'ग'), ('दर्स', 'रस'), ('कदा', 'का'), ('दया', 'या')]\n"
     ]
    },
    {
     "name": "stderr",
     "output_type": "stream",
     "text": [
      " 68%|██████▊   | 341/500 [06:56<03:15,  1.23s/it]"
     ]
    },
    {
     "name": "stdout",
     "output_type": "stream",
     "text": [
      "Words chosen for updates :  [('ठहराएँ', 'हर'), ('उधारन', 'हर'), ('नाकामी', 'की'), ('बरसाए', 'कर'), ('दस्तरस', 'तर'), ('फळ', 'जळ'), ('ठगों', 'गोरी'), ('साधो', 'सो'), ('डारा', 'डर'), ('साधा', 'रस')]\n"
     ]
    },
    {
     "name": "stderr",
     "output_type": "stream",
     "text": [
      " 72%|███████▏  | 361/500 [07:20<02:49,  1.22s/it]"
     ]
    },
    {
     "name": "stdout",
     "output_type": "stream",
     "text": [
      "Words chosen for updates :  [('कोए', 'को'), ('कमीशन', 'की'), ('भाय', 'भय'), ('पिटाई', 'परि'), ('वाक़ई', 'के'), ('फैशन', 'जी'), ('सावधानी', 'सी'), ('जाएब', 'जब'), ('लीडम', 'जी'), ('हूूँ', 'हू')]\n"
     ]
    },
    {
     "name": "stderr",
     "output_type": "stream",
     "text": [
      " 76%|███████▌  | 381/500 [07:45<02:26,  1.23s/it]"
     ]
    },
    {
     "name": "stdout",
     "output_type": "stream",
     "text": [
      "Words chosen for updates :  [('पर्व', 'पर'), ('तन्दूर', 'तर'), ('बँधे', 'के'), ('वाँग', 'ग'), ('मात्रा', 'तर'), ('ऊधमी', 'की'), ('इज़्न', 'जे'), ('घटना', 'का'), ('सज्दा', 'जा'), ('दृढता', 'तार')]\n"
     ]
    },
    {
     "name": "stderr",
     "output_type": "stream",
     "text": [
      " 80%|████████  | 401/500 [08:09<02:01,  1.23s/it]"
     ]
    },
    {
     "name": "stdout",
     "output_type": "stream",
     "text": [
      "Words chosen for updates :  [('कराँ', 'कर'), ('जगता', 'जगत'), ('प्रसून', 'पर'), ('महावर', 'हर'), ('छेलै', 'केली'), ('घना', 'का'), ('घण्टा', 'कण'), ('मकान', 'का'), ('बर्ताव', 'करता'), ('थामी', 'सी')]\n"
     ]
    },
    {
     "name": "stderr",
     "output_type": "stream",
     "text": [
      " 84%|████████▍ | 421/500 [23:42<02:09,  1.65s/it]   "
     ]
    },
    {
     "name": "stdout",
     "output_type": "stream",
     "text": [
      "Words chosen for updates :  [('जई', 'रज'), ('रहने', 'रहे'), ('मनही', 'ही'), ('ठहरा', 'हर'), ('गन्धा', 'ग'), ('गँवाई', 'ग'), ('कुशासन', 'कु'), ('रस्', 'रस'), ('राजस्थान', 'रज'), ('बाँस', 'का')]\n"
     ]
    },
    {
     "name": "stderr",
     "output_type": "stream",
     "text": [
      " 87%|████████▋ | 435/500 [24:00<03:35,  3.31s/it]"
     ]
    },
    {
     "name": "stdout",
     "output_type": "stream",
     "text": [
      "Converged!\n",
      "BUILDING LEXICON\n"
     ]
    },
    {
     "name": "stderr",
     "output_type": "stream",
     "text": [
      "\n"
     ]
    },
    {
     "name": "stdout",
     "output_type": "stream",
     "text": [
      "PROCESSING bhadavari\n"
     ]
    },
    {
     "name": "stderr",
     "output_type": "stream",
     "text": [
      "  0%|          | 1/500 [00:00<01:32,  5.38it/s]"
     ]
    },
    {
     "name": "stdout",
     "output_type": "stream",
     "text": [
      "Intializing TRANSITION MATRIX...\n",
      "Intialized TRANSITION MATRIX of dimensions 76x55\n"
     ]
    },
    {
     "name": "stderr",
     "output_type": "stream",
     "text": [
      "  4%|▍         | 22/500 [00:04<01:29,  5.35it/s]"
     ]
    },
    {
     "name": "stdout",
     "output_type": "stream",
     "text": [
      "Words chosen for updates :  [('कोल', 'को'), ('मकां', 'का'), ('बकुल', 'को'), ('झीलों', 'को'), ('बहाल', 'कहा'), ('भूसी', 'भी'), ('समर', 'भर'), ('समझे', 'से'), ('अबाबील', 'का'), ('दीमकों', 'दो')]\n"
     ]
    },
    {
     "name": "stderr",
     "output_type": "stream",
     "text": [
      "  8%|▊         | 42/500 [00:07<01:26,  5.32it/s]"
     ]
    },
    {
     "name": "stdout",
     "output_type": "stream",
     "text": [
      "Words chosen for updates :  [('सहन', 'न'), ('उल्काओं', 'का'), ('क़ह्र', 'कर'), ('चूका', 'ता'), ('प्रभ', 'पर'), ('दूलह', 'के'), ('सू', 'से'), ('ज़लील', 'चली'), ('जल्वा', 'जा'), ('गाछी', 'गाओ')]\n"
     ]
    },
    {
     "name": "stderr",
     "output_type": "stream",
     "text": [
      " 12%|█▏        | 62/500 [00:11<01:21,  5.41it/s]"
     ]
    },
    {
     "name": "stdout",
     "output_type": "stream",
     "text": [
      "Words chosen for updates :  [('तोतले', 'तोते'), ('भरों', 'भरो'), ('दोषी', 'को'), ('आवई', 'न'), ('जाँव', 'जा'), ('पालक', 'ता'), ('काँस', 'का'), ('गाठें', 'गाने'), ('अधबनी', 'न'), ('द्वी', 'की')]\n"
     ]
    },
    {
     "name": "stderr",
     "output_type": "stream",
     "text": [
      " 16%|█▋        | 82/500 [00:15<01:17,  5.40it/s]"
     ]
    },
    {
     "name": "stdout",
     "output_type": "stream",
     "text": [
      "Words chosen for updates :  [('कहां', 'का'), ('क़सूर', 'कर'), ('होऊं', 'हो'), ('कहलवा', 'का'), ('हुँ', 'हो'), ('बेधी', 'के'), ('बाकी', 'का'), ('गलाया', 'गाया'), ('कहकहे', 'के'), ('घूमैं', 'मै')]\n"
     ]
    },
    {
     "name": "stderr",
     "output_type": "stream",
     "text": [
      " 20%|██        | 102/500 [00:18<01:13,  5.40it/s]"
     ]
    },
    {
     "name": "stdout",
     "output_type": "stream",
     "text": [
      "Words chosen for updates :  [('नइँए', 'न'), ('मज़ा', 'जा'), ('तिही', 'मति'), ('बन्सी', 'न'), ('घनी', 'न'), ('कलामी', 'का'), ('झरने', 'करने'), ('मनक', 'न'), ('पड़', 'तो'), ('पर्स', 'पर')]\n"
     ]
    },
    {
     "name": "stderr",
     "output_type": "stream",
     "text": [
      " 24%|██▍       | 122/500 [00:22<01:10,  5.36it/s]"
     ]
    },
    {
     "name": "stdout",
     "output_type": "stream",
     "text": [
      "Words chosen for updates :  [('दोय', 'को'), ('खायी', 'जा'), ('सहता', 'ता'), ('बुध', 'को'), ('होइस', 'हो'), ('बरक़', 'कर'), ('मदहोश', 'दो'), ('मुम्बई', 'हो'), ('करवाई', 'करना'), ('करै', 'कर')]\n"
     ]
    },
    {
     "name": "stderr",
     "output_type": "stream",
     "text": [
      " 28%|██▊       | 142/500 [00:26<01:06,  5.39it/s]"
     ]
    },
    {
     "name": "stdout",
     "output_type": "stream",
     "text": [
      "Words chosen for updates :  [('इंधन', 'न'), ('दाईं', 'का'), ('नफीस', 'न'), ('कइले', 'के'), ('अतः', 'तो'), ('बीया', 'का'), ('बहाए', 'का'), ('अज़ाब', 'जा'), ('बर्फीली', 'कर'), ('एक्सक्लूसिव', 'कि')]\n"
     ]
    },
    {
     "name": "stderr",
     "output_type": "stream",
     "text": [
      " 32%|███▏      | 162/500 [15:58<4:24:51, 47.02s/it]  "
     ]
    },
    {
     "name": "stdout",
     "output_type": "stream",
     "text": [
      "Words chosen for updates :  [('नव', 'न'), ('सजाएँ', 'जा'), ('जामी', 'जा'), ('मन्मथ', 'न'), ('तबाह', 'ता'), ('मकाम', 'का'), ('पाएब', 'ता'), ('पीटो', 'तो'), ('कोठली', 'को'), ('बर्क़े', 'करके')]\n"
     ]
    },
    {
     "name": "stderr",
     "output_type": "stream",
     "text": [
      " 36%|███▋      | 182/500 [16:02<01:11,  4.46it/s]  "
     ]
    },
    {
     "name": "stdout",
     "output_type": "stream",
     "text": [
      "Words chosen for updates :  [('रा', 'राम'), ('ऐसो', 'हो'), ('पढाउ', 'ता'), ('तलक़', 'मत'), ('भूलन', 'न'), ('बालक', 'का'), ('बढ़ावै', 'का'), ('इल्मो', 'लो'), ('सेव', 'से'), ('ढ़ली', 'की')]\n"
     ]
    },
    {
     "name": "stderr",
     "output_type": "stream",
     "text": [
      " 40%|████      | 202/500 [16:06<00:55,  5.33it/s]"
     ]
    },
    {
     "name": "stdout",
     "output_type": "stream",
     "text": [
      "Words chosen for updates :  [('फ़ज़ाएँ', 'जा'), ('सताए', 'ता'), ('खाँय', 'जा'), ('यौवन', 'न'), ('जलाऊँ', 'जा'), ('मंजूषा', 'जा'), ('जयमाल', 'जा'), ('पकाय', 'ता'), ('प्रणम्य', 'तरी'), ('तफरी', 'तरी')]\n"
     ]
    },
    {
     "name": "stderr",
     "output_type": "stream",
     "text": [
      " 44%|████▍     | 222/500 [16:10<00:51,  5.40it/s]"
     ]
    },
    {
     "name": "stdout",
     "output_type": "stream",
     "text": [
      "Words chosen for updates :  [('भीर', 'भर'), ('थनै', 'न'), ('दॆश', 'को'), ('लंकेश', 'के'), ('आँक', 'न'), ('दूँ', 'के'), ('हँसली', 'ही'), ('राशी', 'राम'), ('बहम', 'हम'), ('दृष्य', 'के')]\n"
     ]
    },
    {
     "name": "stderr",
     "output_type": "stream",
     "text": [
      " 48%|████▊     | 242/500 [16:13<00:48,  5.35it/s]"
     ]
    },
    {
     "name": "stdout",
     "output_type": "stream",
     "text": [
      "Words chosen for updates :  [('ताई', 'ता'), ('लफ्जों', 'जो'), ('सँजो', 'जो'), ('पोष', 'तो'), ('उनै', 'न'), ('करतें', 'करते'), ('ढका', 'का'), ('सम्भलता', 'ता'), ('संभलकर', 'कर'), ('तरसी', 'तरी')]\n"
     ]
    },
    {
     "name": "stderr",
     "output_type": "stream",
     "text": [
      " 52%|█████▏    | 262/500 [16:17<00:44,  5.39it/s]"
     ]
    },
    {
     "name": "stdout",
     "output_type": "stream",
     "text": [
      "Words chosen for updates :  [('प्याऊ', 'ता'), ('खुशी', 'जो'), ('सैन', 'न'), ('कीया', 'का'), ('उत्कंठा', 'ता'), ('छें', 'हो'), ('टूटि', 'कि'), ('शरीफ़', 'और'), ('कए', 'एक'), ('कौम', 'एक')]\n"
     ]
    },
    {
     "name": "stderr",
     "output_type": "stream",
     "text": [
      " 56%|█████▋    | 282/500 [16:21<00:39,  5.46it/s]"
     ]
    },
    {
     "name": "stdout",
     "output_type": "stream",
     "text": [
      "Words chosen for updates :  [('जोय', 'जो'), ('दोषी', 'को'), ('कूर', 'कर'), ('भर्', 'भर'), ('कषाय', 'का'), ('तूहूँ', 'मत'), ('चका', 'ता'), ('भैरव', 'भर'), ('उसपर', 'पर'), ('अट्टहास', 'का')]\n"
     ]
    },
    {
     "name": "stderr",
     "output_type": "stream",
     "text": [
      " 60%|██████    | 302/500 [16:25<00:36,  5.40it/s]"
     ]
    },
    {
     "name": "stdout",
     "output_type": "stream",
     "text": [
      "Words chosen for updates :  [('आयौ', 'न'), ('अयाँ', 'का'), ('भगति', 'गति'), ('तकि', 'मति'), ('अधीरा', 'राम'), ('दैहिक', 'कि'), ('धंसते', 'तो'), ('टिली', 'कि'), ('बक्का', 'का'), ('दसमी', 'की')]\n"
     ]
    },
    {
     "name": "stderr",
     "output_type": "stream",
     "text": [
      " 64%|██████▍   | 322/500 [16:28<00:32,  5.40it/s]"
     ]
    },
    {
     "name": "stdout",
     "output_type": "stream",
     "text": [
      "Words chosen for updates :  [('जां', 'जा'), ('पढ़ो', 'तो'), ('इसका', 'का'), ('घूँसा', 'ता'), ('केँ', 'के'), ('बां', 'का'), ('असाध्य', 'का'), ('काढ़', 'का'), ('ख़ूबाँ', 'जा'), ('भव्यता', 'ता')]\n"
     ]
    },
    {
     "name": "stderr",
     "output_type": "stream",
     "text": [
      " 68%|██████▊   | 342/500 [16:32<00:29,  5.37it/s]"
     ]
    },
    {
     "name": "stdout",
     "output_type": "stream",
     "text": [
      "Words chosen for updates :  [('जुल', 'जो'), ('मढ़ता', 'ता'), ('क्यों', 'को'), ('ताब', 'ता'), ('त्यहीं', 'मत'), ('कोढ़', 'को'), ('भूतों', 'तो'), ('दबाऊँ', 'का'), ('ढि', 'कि'), ('अवज्ञा', 'जा')]\n"
     ]
    },
    {
     "name": "stderr",
     "output_type": "stream",
     "text": [
      " 72%|███████▏  | 362/500 [16:36<00:25,  5.36it/s]"
     ]
    },
    {
     "name": "stdout",
     "output_type": "stream",
     "text": [
      "Words chosen for updates :  [('त़', 'मत'), ('दोष', 'को'), ('सजा', 'जा'), ('दाय', 'का'), ('नसल', 'न'), ('असर', 'कर'), ('देह', 'के'), ('दरपेश', 'करते'), ('सभ्यता', 'ता'), ('कब्र', 'कर')]\n"
     ]
    },
    {
     "name": "stderr",
     "output_type": "stream",
     "text": [
      " 76%|███████▋  | 382/500 [16:39<00:22,  5.29it/s]"
     ]
    },
    {
     "name": "stdout",
     "output_type": "stream",
     "text": [
      "Words chosen for updates :  [('ज्यों', 'जो'), ('तौं', 'मत'), ('लताओं', 'ता'), ('दृष्', 'के'), ('समन्वय', 'न'), ('कौर', 'कर'), ('झूलता', 'ता'), ('बो', 'को'), ('बलिष्ठ', 'कि'), ('बनबू', 'न')]\n"
     ]
    },
    {
     "name": "stderr",
     "output_type": "stream",
     "text": [
      " 80%|████████  | 402/500 [30:05<3:12:46, 118.02s/it]"
     ]
    },
    {
     "name": "stdout",
     "output_type": "stream",
     "text": [
      "Words chosen for updates :  [('फूटता', 'ता'), ('दोयम', 'को'), ('कुएं', 'को'), ('मलकर', 'कर'), ('झरा', 'राम'), ('ख़ाक', 'जा'), ('बहिश्', 'कि'), ('बसहा', 'का'), ('झंझा', 'का'), ('चक्कों', 'तो')]\n"
     ]
    },
    {
     "name": "stderr",
     "output_type": "stream",
     "text": [
      " 84%|████████▍ | 422/500 [30:09<00:21,  3.57it/s]   "
     ]
    },
    {
     "name": "stdout",
     "output_type": "stream",
     "text": [
      "Words chosen for updates :  [('खुस', 'जो'), ('ज़माम', 'जा'), ('कोए', 'को'), ('कला', 'का'), ('दरसै', 'कर'), ('झूर', 'कर'), ('अफ़वाह', 'का'), ('भरै', 'भर'), ('बसूले', 'के'), ('ककर', 'कर')]\n"
     ]
    },
    {
     "name": "stderr",
     "output_type": "stream",
     "text": [
      " 88%|████████▊ | 442/500 [30:12<00:10,  5.37it/s]"
     ]
    },
    {
     "name": "stdout",
     "output_type": "stream",
     "text": [
      "Words chosen for updates :  [('फैन', 'न'), ('फीका', 'का'), ('केँ', 'के'), ('अमरनाथ', 'करना'), ('बतलाऊँ', 'ता'), ('बोई', 'को'), ('अहसाँ', 'का'), ('बिलम', 'कि'), ('लटके', 'के'), ('कैवे', 'के')]\n"
     ]
    },
    {
     "name": "stderr",
     "output_type": "stream",
     "text": [
      " 92%|█████████▏| 462/500 [30:16<00:07,  5.31it/s]"
     ]
    },
    {
     "name": "stdout",
     "output_type": "stream",
     "text": [
      "Words chosen for updates :  [('तल', 'मत'), ('कौरव', 'कर'), ('पुतले', 'तोते'), ('सकता', 'ता'), ('बिल्ली', 'कि'), ('ऊबकर', 'कर'), ('झूटे', 'के'), ('ढा', 'का'), ('देवकी', 'के'), ('कंकरीट', 'कर')]\n"
     ]
    },
    {
     "name": "stderr",
     "output_type": "stream",
     "text": [
      " 96%|█████████▋| 482/500 [30:20<00:03,  5.32it/s]"
     ]
    },
    {
     "name": "stdout",
     "output_type": "stream",
     "text": [
      "Words chosen for updates :  [('ख़ां', 'जा'), ('आ', 'न'), ('खट्टा', 'जा'), ('जीवाश्म', 'जा'), ('अधीर', 'कर'), ('ऐबों', 'हो'), ('बाई', 'का'), ('बल्कि', 'कि'), ('ब्याह', 'का'), ('प्रथम', 'पर')]\n"
     ]
    },
    {
     "name": "stderr",
     "output_type": "stream",
     "text": [
      "100%|██████████| 500/500 [30:23<00:00,  3.65s/it]\n"
     ]
    },
    {
     "name": "stdout",
     "output_type": "stream",
     "text": [
      "BUILDING LEXICON\n",
      "PROCESSING himachali\n"
     ]
    },
    {
     "name": "stderr",
     "output_type": "stream",
     "text": [
      "  0%|          | 1/500 [00:00<01:16,  6.55it/s]"
     ]
    },
    {
     "name": "stdout",
     "output_type": "stream",
     "text": [
      "Intializing TRANSITION MATRIX...\n",
      "Intialized TRANSITION MATRIX of dimensions 76x51\n"
     ]
    },
    {
     "name": "stderr",
     "output_type": "stream",
     "text": [
      "  4%|▍         | 22/500 [00:03<01:15,  6.33it/s]"
     ]
    },
    {
     "name": "stdout",
     "output_type": "stream",
     "text": [
      "Words chosen for updates :  [('तेर', 'तेरी'), ('मिरा', 'रा'), ('समता', 'ता'), ('जिनने', 'जे'), ('बँधे', 'के'), ('भैस', 'डा'), ('विहग', 'ओ'), ('मेरिये', 'मेरे'), ('निसंग', 'न'), ('लिखियो', 'लो')]\n"
     ]
    },
    {
     "name": "stderr",
     "output_type": "stream",
     "text": [
      "  8%|▊         | 42/500 [00:06<01:13,  6.21it/s]"
     ]
    },
    {
     "name": "stdout",
     "output_type": "stream",
     "text": [
      "Words chosen for updates :  [('दिया', 'दा'), ('सुनी', 'नी'), ('रमि', 'पर'), ('झुमके', 'के'), ('किर', 'पर'), ('जाम', 'जे'), ('हिंडोला', 'डोला'), ('हमारे', 'मारे'), ('भाषा', 'जाया'), ('तंग', 'तू')]\n"
     ]
    },
    {
     "name": "stderr",
     "output_type": "stream",
     "text": [
      " 12%|█▏        | 62/500 [00:09<01:09,  6.28it/s]"
     ]
    },
    {
     "name": "stdout",
     "output_type": "stream",
     "text": [
      "Words chosen for updates :  [('परस', 'पर'), ('परसि', 'पर'), ('रोय', 'रा'), ('नंदा', 'दा'), ('दवा', 'दा'), ('निखरे', 'रे'), ('चान', 'रा'), ('निगाह', 'ना'), ('बरसो', 'करो'), ('कुहरों', 'करो')]\n"
     ]
    },
    {
     "name": "stderr",
     "output_type": "stream",
     "text": [
      " 16%|█▋        | 82/500 [00:12<01:06,  6.27it/s]"
     ]
    },
    {
     "name": "stdout",
     "output_type": "stream",
     "text": [
      "Words chosen for updates :  [('सुमरे', 'रे'), ('मौतें', 'ते'), ('सिद्धि', 'दे'), ('खताओं', 'ता'), ('ड्राइव', 'डेरा'), ('समिति', 'मत'), ('फांस', 'डा'), ('ऋषी', 'गयी'), ('हुवैदा', 'दा'), ('छथि', 'जे')]\n"
     ]
    },
    {
     "name": "stderr",
     "output_type": "stream",
     "text": [
      " 20%|██        | 102/500 [00:16<01:03,  6.24it/s]"
     ]
    },
    {
     "name": "stdout",
     "output_type": "stream",
     "text": [
      "Words chosen for updates :  [('जाँत', 'जात'), ('सुगमता', 'ता'), ('रमिया', 'रा'), ('संवत्', 'ते'), ('सिक्', 'के'), ('अतः', 'तू'), ('नाय', 'ना'), ('अंगुलियों', 'लो'), ('कहाय', 'रा'), ('आंगन', 'ओ')]\n"
     ]
    },
    {
     "name": "stderr",
     "output_type": "stream",
     "text": [
      " 24%|██▍       | 122/500 [01:20<01:12,  5.24it/s]  "
     ]
    },
    {
     "name": "stdout",
     "output_type": "stream",
     "text": [
      "Words chosen for updates :  [('अज़', 'जे'), ('रेसम', 'रे'), ('दीखै', 'दी'), ('धमनी', 'नी'), ('घुन', 'न'), ('नवनिधि', 'न'), ('आँधियां', 'णा'), ('टाँग', 'जे'), ('चही', 'नी'), ('गूंजे', 'जे')]\n"
     ]
    },
    {
     "name": "stderr",
     "output_type": "stream",
     "text": [
      " 28%|██▊       | 142/500 [01:23<00:58,  6.17it/s]"
     ]
    },
    {
     "name": "stdout",
     "output_type": "stream",
     "text": [
      "Words chosen for updates :  [('सौदे', 'दे'), ('रसायन', 'रा'), ('नु', 'न'), ('मिसरी', 'मरी'), ('महीं', 'ही'), ('मृगनयनी', 'नी'), ('करु', 'पर'), ('इसका', 'के'), ('ढंका', 'के'), ('जवां', 'दा')]\n"
     ]
    },
    {
     "name": "stderr",
     "output_type": "stream",
     "text": [
      " 32%|███▏      | 162/500 [01:26<00:53,  6.33it/s]"
     ]
    },
    {
     "name": "stdout",
     "output_type": "stream",
     "text": [
      "Words chosen for updates :  [('जगीं', 'जी'), ('तेँ', 'ते'), ('जेठ', 'जे'), ('जइसे', 'जे'), ('बंसी', 'की'), ('दवाम', 'दा'), ('चुगे', 'रे'), ('पोला', 'काला'), ('रहै', 'पर'), ('भगो', 'जो')]\n"
     ]
    },
    {
     "name": "stderr",
     "output_type": "stream",
     "text": [
      " 36%|███▋      | 182/500 [01:29<00:49,  6.39it/s]"
     ]
    },
    {
     "name": "stdout",
     "output_type": "stream",
     "text": [
      "Words chosen for updates :  [('नरमेध', 'रे'), ('बँधने', 'के'), ('छनी', 'जी'), ('सिन', 'न'), ('रूठने', 'रे'), ('भंगिमा', 'डा'), ('हिंडोला', 'डोला'), ('हुयी', 'ही'), ('आवार', 'मारी'), ('सुमिरनी', 'मरी')]\n"
     ]
    },
    {
     "name": "stderr",
     "output_type": "stream",
     "text": [
      " 40%|████      | 202/500 [01:32<00:46,  6.36it/s]"
     ]
    },
    {
     "name": "stdout",
     "output_type": "stream",
     "text": [
      "Words chosen for updates :  [('राह', 'रा'), ('जेहि', 'जे'), ('दुखिया', 'दा'), ('विजातीय', 'जाती'), ('कहीँ', 'की'), ('सताओ', 'ता'), ('खुरों', 'रा'), ('टूसे', 'जे'), ('कसमें', 'के'), ('केशव', 'के')]\n"
     ]
    },
    {
     "name": "stderr",
     "output_type": "stream",
     "text": [
      " 44%|████▍     | 222/500 [01:35<00:43,  6.32it/s]"
     ]
    },
    {
     "name": "stdout",
     "output_type": "stream",
     "text": [
      "Words chosen for updates :  [('गुलो', 'लो'), ('हैराँ', 'रा'), ('शौके', 'के'), ('फँसी', 'की'), ('ठनके', 'के'), ('सुखन', 'न'), ('पाओ', 'के'), ('मुकाम', 'के'), ('चाले', 'छाले'), ('आशीश', 'की')]\n"
     ]
    },
    {
     "name": "stderr",
     "output_type": "stream",
     "text": [
      " 48%|████▊     | 242/500 [01:39<00:41,  6.25it/s]"
     ]
    },
    {
     "name": "stdout",
     "output_type": "stream",
     "text": [
      "Words chosen for updates :  [('मुरझा', 'रा'), ('तंगना', 'ता'), ('निसंग', 'न'), ('अगहन', 'न'), ('मंगनी', 'नी'), ('अंजान', 'जान'), ('डर', 'करी'), ('कैलाश', 'काला'), ('आठवां', 'णा'), ('भगतन', 'मत')]\n"
     ]
    },
    {
     "name": "stderr",
     "output_type": "stream",
     "text": [
      " 52%|█████▏    | 262/500 [01:42<00:37,  6.37it/s]"
     ]
    },
    {
     "name": "stdout",
     "output_type": "stream",
     "text": [
      "Words chosen for updates :  [('हदीस', 'दी'), ('मइके', 'के'), ('कनी', 'की'), ('चाम', 'रा'), ('हँसनी', 'नी'), ('छूने', 'जे'), ('दशानन', 'दा'), ('जुनूनी', 'जी'), ('थनै', 'न'), ('गुनना', 'ना')]\n"
     ]
    },
    {
     "name": "stderr",
     "output_type": "stream",
     "text": [
      " 56%|█████▋    | 282/500 [01:45<00:34,  6.25it/s]"
     ]
    },
    {
     "name": "stdout",
     "output_type": "stream",
     "text": [
      "Words chosen for updates :  [('अजीम', 'जी'), ('राजाओं', 'राजा'), ('ऐंठे', 'दे'), ('बूढे', 'के'), ('भाँय', 'डा'), ('भगवत', 'मत'), ('जाऊं', 'जे'), ('चकवी', 'मरी'), ('जिहि', 'जो'), ('दसों', 'लो')]\n"
     ]
    },
    {
     "name": "stderr",
     "output_type": "stream",
     "text": [
      " 60%|██████    | 302/500 [01:48<00:31,  6.34it/s]"
     ]
    },
    {
     "name": "stdout",
     "output_type": "stream",
     "text": [
      "Words chosen for updates :  [('जने', 'जे'), ('हलो', 'लो'), ('चाख', 'रा'), ('सुनऽ', 'न'), ('शहपर', 'पर'), ('डोलिया', 'डोला'), ('छिनने', 'जे'), ('झूमना', 'ना'), ('मिरी', 'मरी'), ('टि', 'जो')]\n"
     ]
    },
    {
     "name": "stderr",
     "output_type": "stream",
     "text": [
      " 64%|██████▍   | 322/500 [01:51<00:28,  6.33it/s]"
     ]
    },
    {
     "name": "stdout",
     "output_type": "stream",
     "text": [
      "Words chosen for updates :  [('अद्', 'दे'), ('छुये', 'जे'), ('हंसके', 'के'), ('दयनीय', 'दी'), ('जमानत', 'जात'), ('पहिनें', 'के'), ('जनमने', 'जे'), ('जानम', 'जान'), ('थूथन', 'न'), ('जानै', 'जान')]\n"
     ]
    },
    {
     "name": "stderr",
     "output_type": "stream",
     "text": [
      " 68%|██████▊   | 342/500 [01:54<00:25,  6.32it/s]"
     ]
    },
    {
     "name": "stdout",
     "output_type": "stream",
     "text": [
      "Words chosen for updates :  [('देखू', 'दे'), ('रटें', 'रे'), ('बौरों', 'करो'), ('भगाए', 'डा'), ('भागम', 'डा'), ('गजानन', 'जान'), ('छटने', 'जे'), ('आँवे', 'के'), ('मौजा', 'जे'), ('परचा', 'करना')]\n"
     ]
    },
    {
     "name": "stderr",
     "output_type": "stream",
     "text": [
      " 72%|███████▏  | 362/500 [01:58<00:22,  6.26it/s]"
     ]
    },
    {
     "name": "stdout",
     "output_type": "stream",
     "text": [
      "Words chosen for updates :  [('रहा', 'रा'), ('खत्म', 'ते'), ('रहूंगा', 'रा'), ('कुशी', 'की'), ('धूलों', 'लो'), ('मिनीं', 'नी'), ('टेशन', 'जे'), ('फटता', 'ता'), ('परमिट', 'पर'), ('आँखों', 'लो')]\n"
     ]
    },
    {
     "name": "stderr",
     "output_type": "stream",
     "text": [
      " 76%|███████▋  | 382/500 [02:01<00:18,  6.32it/s]"
     ]
    },
    {
     "name": "stdout",
     "output_type": "stream",
     "text": [
      "Words chosen for updates :  [('मूँदी', 'दी'), ('क्यौं', 'के'), ('भंगी', 'जी'), ('बोलियाँ', 'काला'), ('हैरान', 'रा'), ('सुनलो', 'लो'), ('चुनने', 'रे'), ('अधमरी', 'मरी'), ('भोला', 'डोला'), ('मारण', 'मारी')]\n"
     ]
    },
    {
     "name": "stderr",
     "output_type": "stream",
     "text": [
      " 80%|████████  | 402/500 [19:33<07:22,  4.51s/it]   "
     ]
    },
    {
     "name": "stdout",
     "output_type": "stream",
     "text": [
      "Words chosen for updates :  [('दीं', 'दी'), ('देऽ', 'दे'), ('डांस', 'डा'), ('औरस', 'पर'), ('नदीम', 'दी'), ('रसखानि', 'रा'), ('चुनरी', 'मरी'), ('भलो', 'भला'), ('किर', 'पर'), ('मुसकान', 'के')]\n"
     ]
    },
    {
     "name": "stderr",
     "output_type": "stream",
     "text": [
      " 84%|████████▍ | 422/500 [19:36<00:12,  6.11it/s]"
     ]
    },
    {
     "name": "stdout",
     "output_type": "stream",
     "text": [
      "Words chosen for updates :  [('दुनिया', 'दा'), ('लमहों', 'लो'), ('चढे', 'रे'), ('भगाय', 'डा'), ('खिलौनों', 'लो'), ('डोलो', 'डोला'), ('आगये', 'के'), ('विकास', 'के'), ('महकती', 'करी'), ('हँसों', 'सो')]\n"
     ]
    },
    {
     "name": "stderr",
     "output_type": "stream",
     "text": [
      " 88%|████████▊ | 442/500 [19:39<00:09,  6.29it/s]"
     ]
    },
    {
     "name": "stdout",
     "output_type": "stream",
     "text": [
      "Words chosen for updates :  [('धर्म', 'रे'), ('सदियां', 'दा'), ('वृद्धि', 'दे'), ('दिनेश', 'दे'), ('बनूंगी', 'की'), ('नाउ', 'ना'), ('शौकीन', 'की'), ('भायँ', 'डा'), ('डोला', 'काला'), ('बां', 'के')]\n"
     ]
    },
    {
     "name": "stderr",
     "output_type": "stream",
     "text": [
      " 92%|█████████▏| 462/500 [19:42<00:06,  6.23it/s]"
     ]
    },
    {
     "name": "stdout",
     "output_type": "stream",
     "text": [
      "Words chosen for updates :  [('दुगुनी', 'दी'), ('क़ि', 'के'), ('ऐशगाह', 'दा'), ('पहनें', 'के'), ('सुनिकेॅ', 'के'), ('भिखमंगा', 'डा'), ('कुशा', 'रा'), ('चूमी', 'नी'), ('औगुन', 'न'), ('बियाबान', 'काला')]\n"
     ]
    },
    {
     "name": "stderr",
     "output_type": "stream",
     "text": [
      " 96%|█████████▋| 482/500 [19:45<00:02,  6.29it/s]"
     ]
    },
    {
     "name": "stdout",
     "output_type": "stream",
     "text": [
      "Words chosen for updates :  [('उत्', 'ते'), ('हताश', 'ता'), ('पीएम', 'की'), ('उतने', 'ते'), ('महकें', 'के'), ('संतों', 'ता'), ('खतों', 'ता'), ('मितान', 'ता'), ('निकसी', 'की'), ('काय', 'रा')]\n"
     ]
    },
    {
     "name": "stderr",
     "output_type": "stream",
     "text": [
      "100%|██████████| 500/500 [19:48<00:00,  2.38s/it]\n"
     ]
    },
    {
     "name": "stdout",
     "output_type": "stream",
     "text": [
      "BUILDING LEXICON\n",
      "PROCESSING garwali\n"
     ]
    },
    {
     "name": "stderr",
     "output_type": "stream",
     "text": [
      "\r",
      "  0%|          | 0/500 [00:00<?, ?it/s]"
     ]
    },
    {
     "name": "stdout",
     "output_type": "stream",
     "text": [
      "Intializing TRANSITION MATRIX...\n",
      "Intialized TRANSITION MATRIX of dimensions 76x63\n"
     ]
    },
    {
     "name": "stderr",
     "output_type": "stream",
     "text": [
      "  4%|▍         | 21/500 [27:37<55:46,  6.99s/it]   "
     ]
    },
    {
     "name": "stdout",
     "output_type": "stream",
     "text": [
      "Words chosen for updates :  [('मैला', 'माला'), ('पढ़', 'पड़'), ('देओ', 'दे'), ('तीली', 'नीली'), ('ऑफ', 'जब'), ('नाद', 'बाद'), ('वल', 'दल'), ('डँस', 'कंस'), ('नाता', 'नाना'), ('तण', 'तणी')]\n"
     ]
    },
    {
     "name": "stderr",
     "output_type": "stream",
     "text": [
      "  8%|▊         | 41/500 [29:35<45:25,  5.94s/it]"
     ]
    },
    {
     "name": "stdout",
     "output_type": "stream",
     "text": [
      "Words chosen for updates :  [('दओ', 'द'), ('होत', 'होन'), ('बाबू', 'ा'), ('रट', 'रीटी'), ('वेला', 'देला'), ('सँकट', 'संकट'), ('थाम', 'थामी'), ('भलै', 'चला'), ('पापड़', 'पापड़ी'), ('देखनी', 'देनी')]\n"
     ]
    },
    {
     "name": "stderr",
     "output_type": "stream",
     "text": [
      " 12%|█▏        | 61/500 [31:34<44:05,  6.03s/it]"
     ]
    },
    {
     "name": "stdout",
     "output_type": "stream",
     "text": [
      "Words chosen for updates :  [('ठेली', 'खेली'), ('भों', 'चों'), ('पैड', 'पाड'), ('उबाल', 'ताल'), ('आध', 'आण'), ('रैयौ', 'राग'), ('ढ़ाई', 'बड़ा'), ('णु', 'बणा'), ('बैंच', 'बांग'), ('अशिक्षा', 'शिक्षा')]\n"
     ]
    },
    {
     "name": "stderr",
     "output_type": "stream",
     "text": [
      " 16%|█▌        | 81/500 [33:32<41:14,  5.91s/it]"
     ]
    },
    {
     "name": "stdout",
     "output_type": "stream",
     "text": [
      "Words chosen for updates :  [('बरे', 'रे'), ('सेर', 'सेरी'), ('सूती', 'सती'), ('बनाती', 'नानी'), ('नाव', 'नाद'), ('बखत', 'त'), ('नाका', 'बासा'), ('कोरों', 'गोरों'), ('आॅन', 'मौन'), ('फलो', 'लो')]\n"
     ]
    },
    {
     "name": "stderr",
     "output_type": "stream",
     "text": [
      " 20%|██        | 101/500 [35:30<39:07,  5.88s/it]"
     ]
    },
    {
     "name": "stdout",
     "output_type": "stream",
     "text": [
      "Words chosen for updates :  [('देश', 'दे'), ('दब', 'द'), ('पौर', 'पर'), ('तऊ', 'न'), ('एसो', 'सो'), ('बखान', 'खान'), ('भर्र', 'दरार'), ('जताए', 'जना'), ('रन', 'रेन'), ('वक', 'दस')]\n"
     ]
    },
    {
     "name": "stderr",
     "output_type": "stream",
     "text": [
      " 24%|██▍       | 121/500 [37:29<37:09,  5.88s/it]"
     ]
    },
    {
     "name": "stdout",
     "output_type": "stream",
     "text": [
      "Words chosen for updates :  [('होँ', 'हों'), ('बाई', 'ा'), ('शलथ', 'ल'), ('अदबी', 'दी'), ('रॅ', 'रौ'), ('बौराई', 'रा'), ('झरना', 'करना'), ('पए', 'प'), ('कोश', 'को'), ('डर', 'कर')]\n"
     ]
    },
    {
     "name": "stderr",
     "output_type": "stream",
     "text": [
      " 28%|██▊       | 141/500 [39:28<35:37,  5.95s/it]"
     ]
    },
    {
     "name": "stdout",
     "output_type": "stream",
     "text": [
      "Words chosen for updates :  [('हाई', 'हा'), ('आगई', 'आग'), ('आदाब', 'आदा'), ('शक्ल', 'काल'), ('बसते', 'सते'), ('आरे', 'मरे'), ('भूरे', 'भरे'), ('डायर', 'कायरी'), ('नाँकी', 'बांकी'), ('बुराई', 'बारा')]\n"
     ]
    },
    {
     "name": "stderr",
     "output_type": "stream",
     "text": [
      " 32%|███▏      | 161/500 [57:20<5:04:46, 53.94s/it]  "
     ]
    },
    {
     "name": "stdout",
     "output_type": "stream",
     "text": [
      "Words chosen for updates :  [('ऐलै', 'जला'), ('द', 'दी'), ('बल्ला', 'लाला'), ('नैनी', 'नानी'), ('जमाता', 'जमाना'), ('चाँदी', 'चांदी'), ('तल', 'तेल'), ('जि', 'बीजि'), ('बिदाई', 'बिथा'), ('गोपाळ', 'गोपाल')]\n"
     ]
    },
    {
     "name": "stderr",
     "output_type": "stream",
     "text": [
      " 36%|███▌      | 181/500 [1:48:43<14:47:45, 166.98s/it]"
     ]
    },
    {
     "name": "stdout",
     "output_type": "stream",
     "text": [
      "Words chosen for updates :  [('जिओ', 'जि'), ('हथ', 'ह'), ('परख', 'पर'), ('नबी', 'नी'), ('दिए', 'दि'), ('झरते', 'करने'), ('कुर्ब', 'कारा'), ('औज', 'औजी'), ('नवमी', 'नामी'), ('जा', 'जबाब')]\n"
     ]
    },
    {
     "name": "stderr",
     "output_type": "stream",
     "text": [
      " 40%|████      | 201/500 [2:23:54<3:42:16, 44.60s/it]  "
     ]
    },
    {
     "name": "stdout",
     "output_type": "stream",
     "text": [
      "Words chosen for updates :  [('मैला', 'माला'), ('हौल', 'हल'), ('अरबों', 'रों'), ('मँ', 'मीं'), ('गुर', 'गारी'), ('बजता', 'जना'), ('नबात', 'नाती'), ('अप्रेम', 'प्रेम'), ('बढ़ै', 'बड़ा'), ('पवि', 'पति')]\n"
     ]
    },
    {
     "name": "stderr",
     "output_type": "stream",
     "text": [
      " 44%|████▍     | 221/500 [3:22:59<15:37:36, 201.64s/it]"
     ]
    },
    {
     "name": "stdout",
     "output_type": "stream",
     "text": [
      "Words chosen for updates :  [('राजू', 'राज'), ('बरे', 'रे'), ('जत', 'जन'), ('कौओं', 'कं'), ('डिश', 'कि'), ('कबहुं', 'कहां'), ('घनी', 'धनी'), ('चाट', 'चाटी'), ('सम', 'सेम'), ('दाँव', 'दांत')]\n"
     ]
    },
    {
     "name": "stderr",
     "output_type": "stream",
     "text": [
      " 48%|████▊     | 241/500 [3:53:41<1:18:11, 18.11s/it]  "
     ]
    },
    {
     "name": "stdout",
     "output_type": "stream",
     "text": [
      "Words chosen for updates :  [('ऐसो', 'जसो'), ('स', 'सी'), ('झरै', 'करा'), ('छथि', 'छि'), ('लजा', 'लीजा'), ('जानौ', 'जान'), ('पथराया', 'पराया'), ('डू', 'ड'), ('फट', 'बटी'), ('डल', 'कल')]\n"
     ]
    },
    {
     "name": "stderr",
     "output_type": "stream",
     "text": [
      " 52%|█████▏    | 261/500 [4:11:01<26:21,  6.62s/it]    "
     ]
    },
    {
     "name": "stdout",
     "output_type": "stream",
     "text": [
      "Words chosen for updates :  [('लालु', 'लाला'), ('अखर', 'र'), ('देखइ', 'दे'), ('चाशनी', 'नानी'), ('चौबारा', 'नारा'), ('उडा', 'तका'), ('बारौ', 'बार'), ('थ', 'थी'), ('जादू', 'धाद'), ('उबाला', 'बाला')]\n"
     ]
    },
    {
     "name": "stderr",
     "output_type": "stream",
     "text": [
      " 56%|█████▌    | 281/500 [4:13:02<22:15,  6.10s/it]"
     ]
    },
    {
     "name": "stdout",
     "output_type": "stream",
     "text": [
      "Words chosen for updates :  [('रै', 'रा'), ('अदल', 'दल'), ('रौंदा', 'रंदा'), ('अबरी', 'री'), ('कबूल', 'कल'), ('इसक', 'सकी'), ('धड़ी', 'कड़ी'), ('कंकाल', 'कंकाली'), ('पय', 'पग'), ('रखवा', 'रवा')]\n"
     ]
    },
    {
     "name": "stderr",
     "output_type": "stream",
     "text": [
      " 60%|██████    | 301/500 [4:52:37<2:47:40, 50.55s/it]  "
     ]
    },
    {
     "name": "stdout",
     "output_type": "stream",
     "text": [
      "Words chosen for updates :  [('दैन', 'दान'), ('अहंकार', 'हंकार'), ('कौए', 'क'), ('उथली', 'ली'), ('फाँका', 'बांका'), ('नसाइ', 'बसा'), ('बोवे', 'बोदे'), ('सौंफ', 'सौं'), ('झाँसी', 'काँसी'), ('इब्ने', 'ब्बे')]\n"
     ]
    },
    {
     "name": "stderr",
     "output_type": "stream",
     "text": [
      " 64%|██████▍   | 321/500 [5:01:31<22:37,  7.59s/it]  "
     ]
    },
    {
     "name": "stdout",
     "output_type": "stream",
     "text": [
      "Words chosen for updates :  [('मिलाई', 'मिला'), ('मिलाइ', 'मिला'), ('नसीब', 'नीसी'), ('जमाता', 'जमाना'), ('बया', 'या'), ('आबो', 'मो'), ('ताअत', 'तात'), ('सबेरौ', 'सबेर'), ('भाय', 'भाग'), ('गंद', 'गेंद')]\n"
     ]
    },
    {
     "name": "stderr",
     "output_type": "stream",
     "text": [
      " 68%|██████▊   | 341/500 [5:03:31<15:51,  5.99s/it]"
     ]
    },
    {
     "name": "stdout",
     "output_type": "stream",
     "text": [
      "Words chosen for updates :  [('अछोर', 'छोर'), ('पैन', 'पान'), ('होऊ', 'हो'), ('लुटाई', 'लाटा'), ('बने', 'ने'), ('अकरम', 'करम'), ('उबला', 'ला'), ('झुलाए', 'काला'), ('डाल', 'काल'), ('संगत', 'संगीत')]\n"
     ]
    },
    {
     "name": "stderr",
     "output_type": "stream",
     "text": [
      " 72%|███████▏  | 361/500 [5:05:31<13:43,  5.93s/it]"
     ]
    },
    {
     "name": "stdout",
     "output_type": "stream",
     "text": [
      "Words chosen for updates :  [('जथा', 'जा'), ('ऊर', 'र'), ('मिल', 'मिली'), ('जीबन', 'जीन'), ('कलई', 'कल'), ('कोई', 'को'), ('किसू', 'किस'), ('षाम', 'शाम'), ('उछाल', 'छाल'), ('पाइये', 'पाये')]\n"
     ]
    },
    {
     "name": "stderr",
     "output_type": "stream",
     "text": [
      " 76%|███████▌  | 381/500 [5:07:30<12:00,  6.05s/it]"
     ]
    },
    {
     "name": "stdout",
     "output_type": "stream",
     "text": [
      "Words chosen for updates :  [('हई', 'ह'), ('मेर', 'मेरी'), ('ओकरा', 'करा'), ('काँ', 'कां'), ('राखूं', 'रां'), ('चो', 'नो'), ('झानू', 'कान'), ('फैल', 'बाल'), ('शौर्य', 'रायी'), ('पाठों', 'पाखों')]\n"
     ]
    },
    {
     "name": "stderr",
     "output_type": "stream",
     "text": [
      " 80%|████████  | 401/500 [5:09:32<09:59,  6.05s/it]"
     ]
    },
    {
     "name": "stdout",
     "output_type": "stream",
     "text": [
      "Words chosen for updates :  [('माँ', 'मां'), ('बल', 'ल'), ('जगाए', 'जगा'), ('इकला', 'कला'), ('इसका', 'सका'), ('तौ', 'न'), ('खुली', 'खाली'), ('बाजू', 'बाज'), ('नालिश', 'बालि'), ('नशावै', 'नाता')]\n"
     ]
    },
    {
     "name": "stderr",
     "output_type": "stream",
     "text": [
      " 84%|████████▍ | 421/500 [5:11:32<08:01,  6.10s/it]"
     ]
    },
    {
     "name": "stdout",
     "output_type": "stream",
     "text": [
      "Words chosen for updates :  [('दबाओ', 'दा'), ('खप', 'प'), ('खरा', 'रा'), ('शशक', 'क'), ('भूली', 'चली'), ('ये', 'गे'), ('बजावै', 'जादा'), ('नागफन', 'नागन'), ('यथार्थ', 'गारा'), ('निक', 'निस')]\n"
     ]
    },
    {
     "name": "stderr",
     "output_type": "stream",
     "text": [
      " 88%|████████▊ | 441/500 [5:13:32<05:54,  6.00s/it]"
     ]
    },
    {
     "name": "stdout",
     "output_type": "stream",
     "text": [
      "Words chosen for updates :  [('पैर', 'पार'), ('रहै', 'रहा'), ('पौद', 'पद'), ('रुह', 'राह'), ('बम', 'म'), ('कुटी', 'काटी'), ('अन्न', 'नानी'), ('गठन', 'गणन'), ('बाँटि', 'बांटि'), ('बट', 'बटी')]\n"
     ]
    },
    {
     "name": "stderr",
     "output_type": "stream",
     "text": [
      " 92%|█████████▏| 461/500 [5:15:32<03:56,  6.05s/it]"
     ]
    },
    {
     "name": "stdout",
     "output_type": "stream",
     "text": [
      "Words chosen for updates :  [('पूरौ', 'पर'), ('रब', 'र'), ('परखी', 'परी'), ('अकसर', 'कसर'), ('चीस', 'नीस'), ('शय', 'य'), ('मुखौटा', 'माटा'), ('दैवी', 'दादी'), ('आरी', 'मरी'), ('ठेल', 'खेल')]\n"
     ]
    },
    {
     "name": "stderr",
     "output_type": "stream",
     "text": [
      " 96%|█████████▌| 481/500 [5:17:33<01:55,  6.05s/it]"
     ]
    },
    {
     "name": "stdout",
     "output_type": "stream",
     "text": [
      "Words chosen for updates :  [('शहरी', 'हरी'), ('लुटाओ', 'लाटा'), ('सज्', 'सजा'), ('थके', 'के'), ('जड़', 'जड़ी'), ('मेरठ', 'मेर'), ('आशे', 'मे'), ('पढ़त', 'पड़त'), ('फूड', 'ड'), ('ताड़', 'नाड़ी')]\n"
     ]
    },
    {
     "name": "stderr",
     "output_type": "stream",
     "text": [
      "100%|██████████| 500/500 [5:19:26<00:00, 38.33s/it]\n"
     ]
    },
    {
     "name": "stdout",
     "output_type": "stream",
     "text": [
      "BUILDING LEXICON\n",
      "PROCESSING kumaoni\n"
     ]
    },
    {
     "name": "stderr",
     "output_type": "stream",
     "text": [
      "\r",
      "  0%|          | 0/500 [00:00<?, ?it/s]"
     ]
    },
    {
     "name": "stdout",
     "output_type": "stream",
     "text": [
      "Intializing TRANSITION MATRIX...\n",
      "Intialized TRANSITION MATRIX of dimensions 76x57\n"
     ]
    },
    {
     "name": "stderr",
     "output_type": "stream",
     "text": [
      "  4%|▍         | 21/500 [00:06<02:37,  3.04it/s]"
     ]
    },
    {
     "name": "stdout",
     "output_type": "stream",
     "text": [
      "Words chosen for updates :  [('जादे', 'जा'), ('मक़्तल', 'की'), ('बुझे', 'बुझ'), ('लेत', 'ले'), ('एसएमएस', 'आम'), ('धेले', 'मेर'), ('त्रिदेव', 'कर'), ('ऊर', 'कर'), ('अना', 'ना'), ('काग', 'काल')]\n"
     ]
    },
    {
     "name": "stderr",
     "output_type": "stream",
     "text": [
      "  8%|▊         | 41/500 [00:12<02:23,  3.19it/s]"
     ]
    },
    {
     "name": "stdout",
     "output_type": "stream",
     "text": [
      "Words chosen for updates :  [('खेता', 'का'), ('जलाते', 'जा'), ('हसरते', 'हर'), ('पोच', 'वो'), ('बचिए', 'सब'), ('भित्तिचित्र', 'कर'), ('इयाद', 'याद'), ('गेल', 'ले'), ('ऊँचे', 'को'), ('जिद्दत', 'कि')]\n"
     ]
    },
    {
     "name": "stderr",
     "output_type": "stream",
     "text": [
      " 12%|█▏        | 61/500 [00:19<02:15,  3.25it/s]"
     ]
    },
    {
     "name": "stdout",
     "output_type": "stream",
     "text": [
      "Words chosen for updates :  [('हरत', 'हर'), ('मलती', 'ी'), ('जैसा', 'जा'), ('क़िस्', 'की'), ('क़िस्मत', 'की'), ('घोसले', 'हो'), ('रे', 'कर'), ('भेस', 'के'), ('पेन्सिल', 'पन'), ('माइ', 'मा')]\n"
     ]
    },
    {
     "name": "stderr",
     "output_type": "stream",
     "text": [
      " 16%|█▌        | 81/500 [00:25<02:12,  3.17it/s]"
     ]
    },
    {
     "name": "stdout",
     "output_type": "stream",
     "text": [
      "Words chosen for updates :  [('शून्', 'न'), ('खोवत', 'को'), ('जीति', 'जी'), ('कित्ती', 'की'), ('चमेली', 'ी'), ('कॉलम', 'कर'), ('स्पन्दित', 'पन'), ('थर', 'कर'), ('सदके', 'के'), ('तमा', 'मा')]\n"
     ]
    },
    {
     "name": "stderr",
     "output_type": "stream",
     "text": [
      " 20%|██        | 101/500 [00:31<02:05,  3.17it/s]"
     ]
    },
    {
     "name": "stdout",
     "output_type": "stream",
     "text": [
      "Words chosen for updates :  [('नावत', 'ना'), ('खीझ', 'की'), ('डरने', 'करन'), ('जासु', 'जा'), ('मुस्का', 'का'), ('खुशामद', 'का'), ('घुसती', 'ी'), ('कै', 'को'), ('कसि', 'कि'), ('घृणित', 'हो')]\n"
     ]
    },
    {
     "name": "stderr",
     "output_type": "stream",
     "text": [
      " 24%|██▍       | 121/500 [00:38<01:56,  3.24it/s]"
     ]
    },
    {
     "name": "stdout",
     "output_type": "stream",
     "text": [
      "Words chosen for updates :  [('चूकी', 'की'), ('नवेला', 'ना'), ('पिन', 'पन'), ('मल्लिका', 'का'), ('हटते', 'हर'), ('बाँचा', 'बासा'), ('घोट', 'होय'), ('टे', 'करे'), ('रूठे', 'कर'), ('तरे', 'कर')]\n"
     ]
    },
    {
     "name": "stderr",
     "output_type": "stream",
     "text": [
      " 28%|██▊       | 141/500 [00:44<01:52,  3.19it/s]"
     ]
    },
    {
     "name": "stdout",
     "output_type": "stream",
     "text": [
      "Words chosen for updates :  [('शीत', 'ी'), ('अदना', 'ना'), ('क्षुद्र', 'कर'), ('जैसो', 'जो'), ('जूझता', 'जा'), ('तिलस्मी', 'ी'), ('फिसलकर', 'कर'), ('अच्छौ', 'छ'), ('धमका', 'का'), ('भविष्', 'कि')]\n"
     ]
    },
    {
     "name": "stderr",
     "output_type": "stream",
     "text": [
      " 32%|███▏      | 161/500 [00:50<01:46,  3.19it/s]"
     ]
    },
    {
     "name": "stdout",
     "output_type": "stream",
     "text": [
      "Words chosen for updates :  [('महोदय', 'होय'), ('जूठी', 'जी'), ('किमचो', 'को'), ('आकर्षित', 'कर'), ('अछूत', 'छ'), ('बेसर', 'बेर'), ('आत्मकथा', 'का'), ('फ्लैश', 'ी'), ('खटाई', 'काल'), ('पनघट', 'पन')]\n"
     ]
    },
    {
     "name": "stderr",
     "output_type": "stream",
     "text": [
      " 36%|███▌      | 181/500 [00:56<01:41,  3.16it/s]"
     ]
    },
    {
     "name": "stdout",
     "output_type": "stream",
     "text": [
      "Words chosen for updates :  [('़', 'ी'), ('नि', 'न'), ('दूजो', 'जो'), ('छन', 'मन'), ('रसम', 'कर'), ('छूटता', 'मा'), ('चमके', 'के'), ('बेचे', 'सब'), ('बुद्धत्व', 'बध'), ('मम्मा', 'मा')]\n"
     ]
    },
    {
     "name": "stderr",
     "output_type": "stream",
     "text": [
      " 40%|████      | 201/500 [01:03<01:34,  3.17it/s]"
     ]
    },
    {
     "name": "stdout",
     "output_type": "stream",
     "text": [
      "Words chosen for updates :  [('थैली', 'ी'), ('रन', 'करन'), ('छे', 'छ'), ('नपे', 'नव'), ('चलके', 'के'), ('चलिये', 'ये'), ('भै', 'को'), ('डाह', 'काही'), ('मिटाओ', 'मा'), ('चहल', 'हल')]\n"
     ]
    },
    {
     "name": "stderr",
     "output_type": "stream",
     "text": [
      " 44%|████▍     | 221/500 [01:09<01:27,  3.19it/s]"
     ]
    },
    {
     "name": "stdout",
     "output_type": "stream",
     "text": [
      "Words chosen for updates :  [('नल', 'न'), ('वी', 'ी'), ('खौलता', 'का'), ('नुच', 'न'), ('टलती', 'ी'), ('झटका', 'का'), ('मुल्के', 'के'), ('हता', 'का'), ('पाँचवा', 'पासा'), ('थिएटर', 'कर')]\n"
     ]
    },
    {
     "name": "stderr",
     "output_type": "stream",
     "text": [
      " 48%|████▊     | 241/500 [01:15<01:22,  3.15it/s]"
     ]
    },
    {
     "name": "stdout",
     "output_type": "stream",
     "text": [
      "Words chosen for updates :  [('जीत', 'जी'), ('झन्', 'न'), ('कलत्र', 'कर'), ('भोत', 'को'), ('तिसना', 'ना'), ('जैसा', 'जा'), ('अस्सी', 'ी'), ('अजदाद', 'जा'), ('ऊना', 'ना'), ('सकैत', 'को')]\n"
     ]
    },
    {
     "name": "stderr",
     "output_type": "stream",
     "text": [
      " 52%|█████▏    | 261/500 [01:22<01:14,  3.20it/s]"
     ]
    },
    {
     "name": "stdout",
     "output_type": "stream",
     "text": [
      "Words chosen for updates :  [('मौन', 'न'), ('लीम', 'ी'), ('कुतरने', 'करन'), ('जमाते', 'जा'), ('धोते', 'को'), ('बुलेट', 'सब'), ('नेहिल', 'नेह'), ('जर', 'कर'), ('दहले', 'हल'), ('उनी', 'उनकी')]\n"
     ]
    },
    {
     "name": "stderr",
     "output_type": "stream",
     "text": [
      " 56%|█████▌    | 281/500 [01:28<01:08,  3.18it/s]"
     ]
    },
    {
     "name": "stdout",
     "output_type": "stream",
     "text": [
      "Words chosen for updates :  [('क़स्', 'की'), ('कसता', 'का'), ('फना', 'ना'), ('नैण', 'न'), ('नचे', 'न'), ('ज़िले', 'जी'), ('मच्छ', 'छ'), ('हलवा', 'का'), ('कँज', 'काज'), ('उडने', 'न')]\n"
     ]
    },
    {
     "name": "stderr",
     "output_type": "stream",
     "text": [
      " 60%|██████    | 301/500 [01:34<01:02,  3.19it/s]"
     ]
    },
    {
     "name": "stdout",
     "output_type": "stream",
     "text": [
      "Words chosen for updates :  [('दूजा', 'जा'), ('क़त्ल', 'की'), ('तत्काल', 'का'), ('तिमी', 'ी'), ('मिसेज़', 'जी'), ('ऊटी', 'ी'), ('कं', 'का'), ('रेशम', 'कर'), ('सुणिये', 'ये'), ('मिथिला', 'मा')]\n"
     ]
    },
    {
     "name": "stderr",
     "output_type": "stream",
     "text": [
      " 64%|██████▍   | 321/500 [01:41<00:57,  3.14it/s]"
     ]
    },
    {
     "name": "stdout",
     "output_type": "stream",
     "text": [
      "Words chosen for updates :  [('मैन', 'न'), ('सत्कर्म', 'कर'), ('लेजा', 'जा'), ('सकुचाए', 'का'), ('उठी', 'ी'), ('रमि', 'कर'), ('आजु', 'आज'), ('बन्दे', 'बसन'), ('हाम', 'का'), ('कलित', 'कि')]\n"
     ]
    },
    {
     "name": "stderr",
     "output_type": "stream",
     "text": [
      " 68%|██████▊   | 341/500 [01:47<00:50,  3.17it/s]"
     ]
    },
    {
     "name": "stdout",
     "output_type": "stream",
     "text": [
      "Words chosen for updates :  [('तनमा', 'ना'), ('अजी', 'जी'), ('विपिन', 'पन'), ('धनु', 'न'), ('छूआ', 'छ'), ('उमर', 'कर'), ('हो', 'को'), ('लउके', 'के'), ('मचा', 'मा'), ('मचता', 'मा')]\n"
     ]
    },
    {
     "name": "stderr",
     "output_type": "stream",
     "text": [
      " 72%|███████▏  | 361/500 [01:53<00:43,  3.21it/s]"
     ]
    },
    {
     "name": "stdout",
     "output_type": "stream",
     "text": [
      "Words chosen for updates :  [('दहर', 'हर'), ('करुण', 'कर'), ('मीम', 'ी'), ('आत्मन', 'न'), ('तेजस्विता', 'जा'), ('महँ', 'हो'), ('धुली', 'ी'), ('उचाट', 'का'), ('दमा', 'मा'), ('बेमुरव्वत', 'बेर')]\n"
     ]
    },
    {
     "name": "stderr",
     "output_type": "stream",
     "text": [
      " 76%|███████▌  | 381/500 [01:59<00:37,  3.17it/s]"
     ]
    },
    {
     "name": "stdout",
     "output_type": "stream",
     "text": [
      "Words chosen for updates :  [('झील', 'ी'), ('भवर', 'कर'), ('कलीम', 'की'), ('टिकठी', 'की'), ('झुलसती', 'ी'), ('सीते', 'ी'), ('इसने', 'न'), ('लच्छ', 'छ'), ('भागम', 'काल'), ('धेला', 'का')]\n"
     ]
    },
    {
     "name": "stderr",
     "output_type": "stream",
     "text": [
      " 80%|████████  | 401/500 [02:06<00:31,  3.17it/s]"
     ]
    },
    {
     "name": "stdout",
     "output_type": "stream",
     "text": [
      "Words chosen for updates :  [('कोइ', 'को'), ('जलाए', 'जा'), ('सिद्क़', 'की'), ('सिसकती', 'की'), ('विचलन', 'न'), ('सकुचात', 'का'), ('खुदाई', 'काल'), ('आपनि', 'पन'), ('आनेवाले', 'ना'), ('आदित्य', 'आय')]\n"
     ]
    },
    {
     "name": "stderr",
     "output_type": "stream",
     "text": [
      " 84%|████████▍ | 421/500 [02:12<00:24,  3.18it/s]"
     ]
    },
    {
     "name": "stdout",
     "output_type": "stream",
     "text": [
      "Words chosen for updates :  [('सूझी', 'ी'), ('ख़ुलूस', 'की'), ('नुमूद', 'न'), ('हरम', 'हर'), ('मीच', 'ी'), ('समझती', 'ी'), ('जच्चा', 'जा'), ('इनपे', 'नव'), ('उद्घाटित', 'का'), ('जन्मसिद्ध', 'जनम')]\n"
     ]
    },
    {
     "name": "stderr",
     "output_type": "stream",
     "text": [
      " 88%|████████▊ | 441/500 [02:18<00:18,  3.18it/s]"
     ]
    },
    {
     "name": "stdout",
     "output_type": "stream",
     "text": [
      "Words chosen for updates :  [('दूषन', 'न'), ('दिना', 'ना'), ('कूदती', 'की'), ('सीट', 'ी'), ('अकाल', 'का'), ('कूची', 'की'), ('देवकी', 'की'), ('मिटना', 'ना'), ('आतशी', 'ी'), ('झलके', 'के')]\n"
     ]
    },
    {
     "name": "stderr",
     "output_type": "stream",
     "text": [
      " 92%|█████████▏| 461/500 [02:24<00:12,  3.13it/s]"
     ]
    },
    {
     "name": "stdout",
     "output_type": "stream",
     "text": [
      "Words chosen for updates :  [('तीलू', 'ी'), ('कृति', 'को'), ('कौमी', 'की'), ('चौका', 'का'), ('होए', 'हो'), ('फूटती', 'ी'), ('हमरे', 'हर'), ('छन', 'मन'), ('धमकती', 'की'), ('धकेलता', 'का')]\n"
     ]
    },
    {
     "name": "stderr",
     "output_type": "stream",
     "text": [
      " 96%|█████████▌| 481/500 [02:31<00:05,  3.18it/s]"
     ]
    },
    {
     "name": "stdout",
     "output_type": "stream",
     "text": [
      "Words chosen for updates :  [('ट्टी', 'ी'), ('हरत', 'हर'), ('झुलसकर', 'कर'), ('दुश्मन', 'न'), ('अमी', 'ी'), ('कलेवा', 'का'), ('सजीले', 'जी'), ('उत्सवी', 'ी'), ('हग', 'हल'), ('है', 'हो')]\n"
     ]
    },
    {
     "name": "stderr",
     "output_type": "stream",
     "text": [
      "100%|██████████| 500/500 [02:37<00:00,  3.18it/s]\n"
     ]
    },
    {
     "name": "stdout",
     "output_type": "stream",
     "text": [
      "BUILDING LEXICON\n",
      "PROCESSING kannauji\n"
     ]
    },
    {
     "name": "stderr",
     "output_type": "stream",
     "text": [
      "  0%|          | 1/500 [00:00<01:20,  6.17it/s]"
     ]
    },
    {
     "name": "stdout",
     "output_type": "stream",
     "text": [
      "Intializing TRANSITION MATRIX...\n",
      "Intialized TRANSITION MATRIX of dimensions 76x50\n"
     ]
    },
    {
     "name": "stderr",
     "output_type": "stream",
     "text": [
      "  4%|▍         | 22/500 [00:03<01:19,  6.00it/s]"
     ]
    },
    {
     "name": "stdout",
     "output_type": "stream",
     "text": [
      "Words chosen for updates :  [('नेह', 'ने'), ('निहारी', 'नारी'), ('चुए', 'की'), ('कामयाब', 'काया'), ('छट', 'के'), ('धुलते', 'के'), ('सम्बल', 'सब'), ('ढूहों', 'कों'), ('करु', 'हरी'), ('हरिण', 'हरि')]\n"
     ]
    },
    {
     "name": "stderr",
     "output_type": "stream",
     "text": [
      "  8%|▊         | 42/500 [00:06<01:14,  6.12it/s]"
     ]
    },
    {
     "name": "stdout",
     "output_type": "stream",
     "text": [
      "Words chosen for updates :  [('फलता', 'का'), ('फूलदार', 'कार'), ('दबते', 'के'), ('कैत', 'की'), ('पथिकों', 'कों'), ('रूम', 'राम'), ('अपूरन', 'परन'), ('क़हत', 'के'), ('दियों', 'कों'), ('वहै', 'कहा')]\n"
     ]
    },
    {
     "name": "stderr",
     "output_type": "stream",
     "text": [
      " 12%|█▏        | 62/500 [00:10<01:12,  6.06it/s]"
     ]
    },
    {
     "name": "stdout",
     "output_type": "stream",
     "text": [
      "Words chosen for updates :  [('कते', 'के'), ('चालित', 'का'), ('पैमाना', 'माना'), ('अनूपम', 'न'), ('मनसूब', 'नर'), ('आखीर', 'खीर'), ('अभिभूत', 'न'), ('सूतल', 'सो'), ('जियाँ', 'हिया'), ('कर्मशील', 'हरी')]\n"
     ]
    },
    {
     "name": "stderr",
     "output_type": "stream",
     "text": [
      " 16%|█▋        | 82/500 [00:13<01:09,  6.01it/s]"
     ]
    },
    {
     "name": "stdout",
     "output_type": "stream",
     "text": [
      "Words chosen for updates :  [('हन्त', 'न'), ('आहे', 'ने'), ('देश', 'के'), ('दुखा', 'का'), ('दिलशाद', 'का'), ('कूं', 'कों'), ('फूस', 'कार'), ('भौतिकता', 'का'), ('डूबूँ', 'का'), ('झपटि', 'पइ')]\n"
     ]
    },
    {
     "name": "stderr",
     "output_type": "stream",
     "text": [
      " 20%|██        | 102/500 [00:16<01:06,  5.99it/s]"
     ]
    },
    {
     "name": "stdout",
     "output_type": "stream",
     "text": [
      "Words chosen for updates :  [('निलय', 'न'), ('कलियाँ', 'का'), ('क्षोभ', 'को'), ('टलते', 'के'), ('सीप', 'हरी'), ('झख', 'न'), ('अद्भूत', 'न'), ('उऋण', 'हउ'), ('रहट', 'रहे'), ('कुँआरी', 'हरी')]\n"
     ]
    },
    {
     "name": "stderr",
     "output_type": "stream",
     "text": [
      " 24%|██▍       | 122/500 [00:20<01:02,  6.06it/s]"
     ]
    },
    {
     "name": "stdout",
     "output_type": "stream",
     "text": [
      "Words chosen for updates :  [('मैकदा', 'का'), ('गट', 'के'), ('दूती', 'की'), ('दाद', 'का'), ('आपै', 'न'), ('छमाछम', 'का'), ('चुप्प', 'की'), ('मुक़य्यद', 'के'), ('रक़्त', 'रहे'), ('अर्घ्य', 'नर')]\n"
     ]
    },
    {
     "name": "stderr",
     "output_type": "stream",
     "text": [
      " 28%|██▊       | 142/500 [00:23<00:58,  6.09it/s]"
     ]
    },
    {
     "name": "stdout",
     "output_type": "stream",
     "text": [
      "Words chosen for updates :  [('नरम', 'नर'), ('फूली', 'की'), ('मुन्', 'न'), ('दुकाल', 'का'), ('इनमे', 'ने'), ('दों', 'कों'), ('वृषभ', 'के'), ('शमां', 'मां'), ('तौक़', 'के'), ('चूल', 'का')]\n"
     ]
    },
    {
     "name": "stderr",
     "output_type": "stream",
     "text": [
      " 32%|███▏      | 162/500 [00:26<00:56,  6.02it/s]"
     ]
    },
    {
     "name": "stdout",
     "output_type": "stream",
     "text": [
      "Words chosen for updates :  [('बिका', 'का'), ('एकात्म', 'का'), ('क्षमता', 'का'), ('भरपाई', 'राम'), ('जोत', 'जो'), ('दोष', 'को'), ('उप', 'हउ'), ('गृहों', 'कों'), ('झूलते', 'ने'), ('आँखिमे', 'ने')]\n"
     ]
    },
    {
     "name": "stderr",
     "output_type": "stream",
     "text": [
      " 36%|███▋      | 182/500 [00:30<00:53,  5.95it/s]"
     ]
    },
    {
     "name": "stdout",
     "output_type": "stream",
     "text": [
      "Words chosen for updates :  [('ललका', 'का'), ('पराई', 'राम'), ('अर्थ', 'नर'), ('थूकते', 'के'), ('उन्मत्त', 'न'), ('खैता', 'का'), ('टका', 'का'), ('अदद', 'न'), ('आभूषण', 'न'), ('बारिष', 'बाहर')]\n"
     ]
    },
    {
     "name": "stderr",
     "output_type": "stream",
     "text": [
      " 40%|████      | 202/500 [00:33<00:50,  5.90it/s]"
     ]
    },
    {
     "name": "stdout",
     "output_type": "stream",
     "text": [
      "Words chosen for updates :  [('धाइ', 'का'), ('आैर', 'नर'), ('दीठ', 'की'), ('दायम', 'का'), ('अल्बर्ट', 'नर'), ('अनूपम', 'न'), ('रिद्धी', 'हरी'), ('हरिणी', 'हरी'), ('दुहरी', 'हरी'), ('उपहास', 'पास')]\n"
     ]
    },
    {
     "name": "stderr",
     "output_type": "stream",
     "text": [
      " 44%|████▍     | 222/500 [00:36<00:47,  5.89it/s]"
     ]
    },
    {
     "name": "stdout",
     "output_type": "stream",
     "text": [
      "Words chosen for updates :  [('फुला', 'का'), ('धमाल', 'का'), ('वहीद', 'की'), ('खुशहाल', 'का'), ('आदम', 'न'), ('आउट', 'न'), ('समझाई', 'राम'), ('कटत', 'के'), ('जलमय', 'हम'), ('डुब', 'की')]\n"
     ]
    },
    {
     "name": "stderr",
     "output_type": "stream",
     "text": [
      " 48%|████▊     | 242/500 [00:40<00:43,  5.87it/s]"
     ]
    },
    {
     "name": "stdout",
     "output_type": "stream",
     "text": [
      "Words chosen for updates :  [('लपकी', 'की'), ('अलप', 'न'), ('ग़िला', 'कहा'), ('मुल्', 'हम'), ('क़लमों', 'कों'), ('समतल', 'हम'), ('अड्डे', 'ने'), ('तड़पन', 'न'), ('इसी', 'सइ'), ('होहि', 'हम')]\n"
     ]
    },
    {
     "name": "stderr",
     "output_type": "stream",
     "text": [
      " 52%|█████▏    | 262/500 [00:43<00:39,  5.98it/s]"
     ]
    },
    {
     "name": "stdout",
     "output_type": "stream",
     "text": [
      "Words chosen for updates :  [('कियो', 'को'), ('दन', 'न'), ('बून', 'न'), ('मकाम', 'का'), ('अरूप', 'नर'), ('ढूँढती', 'की'), ('टायर', 'कार'), ('छुम', 'की'), ('टिकट', 'के'), ('खुट', 'की')]\n"
     ]
    },
    {
     "name": "stderr",
     "output_type": "stream",
     "text": [
      " 56%|█████▋    | 282/500 [00:47<00:36,  5.96it/s]"
     ]
    },
    {
     "name": "stdout",
     "output_type": "stream",
     "text": [
      "Words chosen for updates :  [('रीत', 'हरी'), ('पन्थ', 'न'), ('कही', 'की'), ('चुहे', 'के'), ('गाँठि', 'का'), ('युक्तियों', 'कों'), ('खिला', 'का'), ('बौने', 'ने'), ('आमलेट', 'ने'), ('अछत', 'न')]\n"
     ]
    },
    {
     "name": "stderr",
     "output_type": "stream",
     "text": [
      " 60%|██████    | 302/500 [00:50<00:33,  5.94it/s]"
     ]
    },
    {
     "name": "stdout",
     "output_type": "stream",
     "text": [
      "Words chosen for updates :  [('फार', 'कार'), ('फुहियों', 'कों'), ('कशीद', 'की'), ('चौपट', 'को'), ('गौतम', 'को'), ('अरूणाई', 'राम'), ('अम्बुधि', 'न'), ('अनछुए', 'न'), ('भी', 'हरी'), ('चिड़ियों', 'कों')]\n"
     ]
    },
    {
     "name": "stderr",
     "output_type": "stream",
     "text": [
      " 64%|██████▍   | 322/500 [00:53<00:29,  6.12it/s]"
     ]
    },
    {
     "name": "stdout",
     "output_type": "stream",
     "text": [
      "Words chosen for updates :  [('पुन', 'न'), ('छल्ला', 'का'), ('चूमे', 'के'), ('अरण्य', 'नर'), ('फूलमती', 'की'), ('चारौ', 'कार'), ('पडने', 'ने'), ('दयार', 'कार'), ('जोट', 'जो'), ('ग़ोल', 'को')]\n"
     ]
    },
    {
     "name": "stderr",
     "output_type": "stream",
     "text": [
      " 68%|██████▊   | 342/500 [00:57<00:26,  5.89it/s]"
     ]
    },
    {
     "name": "stdout",
     "output_type": "stream",
     "text": [
      "Words chosen for updates :  [('काँ', 'का'), ('चूहे', 'के'), ('शून्', 'न'), ('खोह', 'को'), ('जई', 'हम'), ('मौकों', 'कों'), ('खुदकुशी', 'की'), ('एतबार', 'बाहर'), ('जटाएँ', 'का'), ('आड़', 'न')]\n"
     ]
    },
    {
     "name": "stderr",
     "output_type": "stream",
     "text": [
      " 72%|███████▏  | 362/500 [01:00<00:22,  6.06it/s]"
     ]
    },
    {
     "name": "stdout",
     "output_type": "stream",
     "text": [
      "Words chosen for updates :  [('ग्लोबल', 'को'), ('हमने', 'ने'), ('मैने', 'ने'), ('मुकुलों', 'कों'), ('झुकती', 'की'), ('बौने', 'ने'), ('दों', 'कों'), ('मनखे', 'ने'), ('डलियाँ', 'का'), ('लक़ब', 'के')]\n"
     ]
    },
    {
     "name": "stderr",
     "output_type": "stream",
     "text": [
      " 76%|███████▋  | 382/500 [01:03<00:19,  6.00it/s]"
     ]
    },
    {
     "name": "stdout",
     "output_type": "stream",
     "text": [
      "Words chosen for updates :  [('पलने', 'ने'), ('टँके', 'के'), ('अरुण', 'नर'), ('खेत', 'के'), ('खिन', 'न'), ('खोओ', 'को'), ('अरघ', 'नर'), ('छुपने', 'ने'), ('झपटे', 'ने'), ('खुद्दी', 'की')]\n"
     ]
    },
    {
     "name": "stderr",
     "output_type": "stream",
     "text": [
      " 80%|████████  | 402/500 [01:07<00:16,  6.00it/s]"
     ]
    },
    {
     "name": "stdout",
     "output_type": "stream",
     "text": [
      "Words chosen for updates :  [('वबाल', 'का'), ('अह्ल', 'न'), ('छाँह', 'का'), ('मइके', 'के'), ('चटखती', 'की'), ('फ़ि', 'के'), ('खौलने', 'ने'), ('मिलतै', 'हम'), ('छिड़के', 'के'), ('उड़ूँ', 'हउ')]\n"
     ]
    },
    {
     "name": "stderr",
     "output_type": "stream",
     "text": [
      " 84%|████████▍ | 422/500 [01:10<00:12,  6.13it/s]"
     ]
    },
    {
     "name": "stdout",
     "output_type": "stream",
     "text": [
      "Words chosen for updates :  [('वली', 'की'), ('फबती', 'की'), ('गेलै', 'के'), ('चम्पा', 'का'), ('कटुता', 'का'), ('पहनूँ', 'न'), ('जे', 'के'), ('जैहों', 'कों'), ('धब्बा', 'का'), ('जाद', 'का')]\n"
     ]
    },
    {
     "name": "stderr",
     "output_type": "stream",
     "text": [
      " 88%|████████▊ | 442/500 [01:13<00:09,  6.12it/s]"
     ]
    },
    {
     "name": "stdout",
     "output_type": "stream",
     "text": [
      "Words chosen for updates :  [('नत', 'न'), ('क्षणों', 'कों'), ('शनि', 'न'), ('कुल्ले', 'के'), ('क्लबों', 'कों'), ('कटते', 'के'), ('मिहनत', 'न'), ('आएँ', 'न'), ('आथे', 'ने'), ('आतम', 'न')]\n"
     ]
    },
    {
     "name": "stderr",
     "output_type": "stream",
     "text": [
      " 92%|█████████▏| 462/500 [01:16<00:06,  6.07it/s]"
     ]
    },
    {
     "name": "stdout",
     "output_type": "stream",
     "text": [
      "Words chosen for updates :  [('कहती', 'की'), ('गणेश', 'के'), ('कलदार', 'कार'), ('छूपा', 'का'), ('क़ारूँ', 'कार'), ('धुँधलकों', 'कों'), ('मुहाना', 'माना'), ('दृश्यों', 'कों'), ('जड़ा', 'का'), ('दृष्टिपात', 'का')]\n"
     ]
    },
    {
     "name": "stderr",
     "output_type": "stream",
     "text": [
      " 96%|█████████▋| 482/500 [01:20<00:02,  6.08it/s]"
     ]
    },
    {
     "name": "stdout",
     "output_type": "stream",
     "text": [
      "Words chosen for updates :  [('थका', 'का'), ('फुटबाल', 'का'), ('जिला', 'का'), ('कुख्यात', 'का'), ('खुषियों', 'कों'), ('डील', 'की'), ('खुदको', 'को'), ('मछलि', 'हम'), ('सूम', 'हम'), ('घाल', 'का')]\n"
     ]
    },
    {
     "name": "stderr",
     "output_type": "stream",
     "text": [
      "100%|██████████| 500/500 [01:23<00:00,  6.00it/s]\n"
     ]
    },
    {
     "name": "stdout",
     "output_type": "stream",
     "text": [
      "BUILDING LEXICON\n",
      "PROCESSING bundeli\n"
     ]
    },
    {
     "name": "stderr",
     "output_type": "stream",
     "text": [
      "\r",
      "  0%|          | 0/500 [00:00<?, ?it/s]"
     ]
    },
    {
     "name": "stdout",
     "output_type": "stream",
     "text": [
      "Intializing TRANSITION MATRIX...\n",
      "Intialized TRANSITION MATRIX of dimensions 76x60\n"
     ]
    },
    {
     "name": "stderr",
     "output_type": "stream",
     "text": [
      "  4%|▍         | 21/500 [00:42<16:26,  2.06s/it]"
     ]
    },
    {
     "name": "stdout",
     "output_type": "stream",
     "text": [
      "Words chosen for updates :  [('मानी', 'मान'), ('सहमें', 'हमें'), ('उभरे', 'भरे'), ('कोसी', 'को'), ('रहेंगी', 'रहें'), ('ठहरी', 'सहर'), ('पुकार', 'पुकारे'), ('कपूरी', 'कपूर'), ('बसा', 'जा'), ('फीका', 'का')]\n"
     ]
    },
    {
     "name": "stderr",
     "output_type": "stream",
     "text": [
      "  8%|▊         | 41/500 [01:23<15:29,  2.03s/it]"
     ]
    },
    {
     "name": "stdout",
     "output_type": "stream",
     "text": [
      "Words chosen for updates :  [('य', 'ये'), ('फटक', 'क'), ('तौं', 'तीं'), ('जोग', 'जो'), ('बरीस', 'जर'), ('इन्हैं', 'इन्हें'), ('बताओ', 'बता'), ('जगमगाए', 'हमाए'), ('लोल', 'लोग'), ('तटिनी', 'तिन')]\n"
     ]
    },
    {
     "name": "stderr",
     "output_type": "stream",
     "text": [
      " 12%|█▏        | 61/500 [02:04<14:55,  2.04s/it]"
     ]
    },
    {
     "name": "stdout",
     "output_type": "stream",
     "text": [
      "Words chosen for updates :  [('मोरी', 'मोर'), ('ओने', 'ने'), ('विरस', 'वीर'), ('जिनगाणी', 'जीना'), ('धँसो', 'लो'), ('अधीनस्थ', 'अन्त'), ('थैया', 'मैया'), ('शरद', 'सरद'), ('देई', 'देस'), ('आवई', 'आवै')]\n"
     ]
    },
    {
     "name": "stderr",
     "output_type": "stream",
     "text": [
      " 16%|█▌        | 81/500 [02:46<14:33,  2.08s/it]"
     ]
    },
    {
     "name": "stdout",
     "output_type": "stream",
     "text": [
      "Words chosen for updates :  [('नाटक', 'नाक'), ('तरण', 'तर'), ('पुरि', 'पुरी'), ('डगरी', 'डर'), ('रामाऽऽऽ', 'रामा'), ('लेटते', 'लेते'), ('बारि', 'जारी'), ('दोरंगी', 'दोरें'), ('शीर', 'सर'), ('तली', 'तेल')]\n"
     ]
    },
    {
     "name": "stderr",
     "output_type": "stream",
     "text": [
      " 20%|██        | 101/500 [03:27<13:25,  2.02s/it]"
     ]
    },
    {
     "name": "stdout",
     "output_type": "stream",
     "text": [
      "Words chosen for updates :  [('कोटी', 'को'), ('उभरती', 'भरत'), ('सक', 'क'), ('सदेह', 'देह'), ('मरे', 'मेरे'), ('हार', 'हारे'), ('बाउ', 'जा'), ('जूठी', 'जा'), ('बनाओ', 'बना'), ('असीसती', 'अत')]\n"
     ]
    },
    {
     "name": "stderr",
     "output_type": "stream",
     "text": [
      " 24%|██▍       | 121/500 [04:08<12:59,  2.06s/it]"
     ]
    },
    {
     "name": "stdout",
     "output_type": "stream",
     "text": [
      "Words chosen for updates :  [('आदी', 'आद'), ('कसऽ', 'क'), ('यासी', 'या'), ('बिके', 'जीके'), ('कहन', 'कहना'), ('महइ', 'महा'), ('शुक', 'दुक'), ('जमुन', 'जमुना'), ('आशि', 'आदी'), ('ठाठ', 'सा')]\n"
     ]
    },
    {
     "name": "stderr",
     "output_type": "stream",
     "text": [
      " 28%|██▊       | 141/500 [04:49<12:20,  2.06s/it]"
     ]
    },
    {
     "name": "stdout",
     "output_type": "stream",
     "text": [
      "Words chosen for updates :  [('नेट', 'ने'), ('मूरत', 'मारत'), ('काठी', 'का'), ('घोड़ी', 'तोड़'), ('जासी', 'जा'), ('दौड़ी', 'दौड़'), ('ऎन', 'ईने'), ('नईं', 'नैं'), ('हूए', 'हमाए'), ('कलर', 'ककरा')]\n"
     ]
    },
    {
     "name": "stderr",
     "output_type": "stream",
     "text": [
      " 32%|███▏      | 161/500 [05:30<11:29,  2.03s/it]"
     ]
    },
    {
     "name": "stdout",
     "output_type": "stream",
     "text": [
      "Words chosen for updates :  [('मानसी', 'मान'), ('टीले', 'ले'), ('अकाल', 'काल'), ('आध', 'आ'), ('लहै', 'कहे'), ('आसरे', 'परे'), ('बांध', 'मां'), ('बजी', 'बाज'), ('जगमगाई', 'हमाई'), ('जिया', 'सिया')]\n"
     ]
    },
    {
     "name": "stderr",
     "output_type": "stream",
     "text": [
      " 36%|███▌      | 181/500 [06:11<10:49,  2.04s/it]"
     ]
    },
    {
     "name": "stdout",
     "output_type": "stream",
     "text": [
      "Words chosen for updates :  [('दसो', 'दो'), ('लालण', 'लाल'), ('इसमें', 'में'), ('बटोरी', 'जोर'), ('बाली', 'जाल'), ('पौधे', 'पीले'), ('थलग', 'तक'), ('अजीत', 'जीत'), ('जलसों', 'महलों'), ('सफाई', 'सास')]\n"
     ]
    },
    {
     "name": "stderr",
     "output_type": "stream",
     "text": [
      " 40%|████      | 201/500 [06:51<10:13,  2.05s/it]"
     ]
    },
    {
     "name": "stdout",
     "output_type": "stream",
     "text": [
      "Words chosen for updates :  [('तुम्हारी', 'तुम्हार'), ('नसे', 'ने'), ('आइए', 'आए'), ('जँगल', 'जल'), ('छौ', 'ती'), ('अजल', 'जल'), ('बुरा', 'मुरा'), ('अजीब', 'जब'), ('जोष', 'जो'), ('गामी', 'काम')]\n"
     ]
    },
    {
     "name": "stderr",
     "output_type": "stream",
     "text": [
      " 44%|████▍     | 221/500 [07:33<09:35,  2.06s/it]"
     ]
    },
    {
     "name": "stdout",
     "output_type": "stream",
     "text": [
      "Words chosen for updates :  [('उमड़ी', 'मड़'), ('तपाँ', 'तपा'), ('हील', 'हल'), ('नँगा', 'ना'), ('थोड़', 'तोड़'), ('माँगत', 'मात'), ('घणो', 'तो'), ('घटाओं', 'कां'), ('वर', 'वारे'), ('वृष', 'वा')]\n"
     ]
    },
    {
     "name": "stderr",
     "output_type": "stream",
     "text": [
      " 48%|████▊     | 241/500 [08:14<08:56,  2.07s/it]"
     ]
    },
    {
     "name": "stdout",
     "output_type": "stream",
     "text": [
      "Words chosen for updates :  [('करैं', 'करें'), ('खोइ', 'खो'), ('राशी', 'रास'), ('जागरण', 'जार'), ('थि', 'ती'), ('जँगल', 'जल'), ('बरसाओ', 'जरा'), ('शेवन', 'देवन'), ('ऐप', 'ढप'), ('प्रेयसि', 'प्रेयसी')]\n"
     ]
    },
    {
     "name": "stderr",
     "output_type": "stream",
     "text": [
      " 52%|█████▏    | 261/500 [08:56<08:18,  2.08s/it]"
     ]
    },
    {
     "name": "stdout",
     "output_type": "stream",
     "text": [
      "Words chosen for updates :  [('पाँव', 'पाव'), ('माथा', 'माता'), ('ऑखों', 'खों'), ('बटोर', 'जोर'), ('चरे', 'चारे'), ('बेटी', 'जे'), ('जियै', 'जिये'), ('हुऐ', 'हुए'), ('आसरा', 'आराम'), ('लगेंगे', 'लेंगे')]\n"
     ]
    },
    {
     "name": "stderr",
     "output_type": "stream",
     "text": [
      " 56%|█████▌    | 281/500 [09:37<07:28,  2.05s/it]"
     ]
    },
    {
     "name": "stdout",
     "output_type": "stream",
     "text": [
      "Words chosen for updates :  [('चम्पू', 'चम्पा'), ('जूगनू', 'जाना'), ('पाऊंगी', 'पाऊं'), ('सलत', 'लता'), ('धा', 'ला'), ('रूस', 'रास'), ('तउ', 'मत'), ('बसाया', 'माया'), ('गीध', 'क'), ('बरज', 'बरस')]\n"
     ]
    },
    {
     "name": "stderr",
     "output_type": "stream",
     "text": [
      " 60%|██████    | 301/500 [10:18<06:42,  2.02s/it]"
     ]
    },
    {
     "name": "stdout",
     "output_type": "stream",
     "text": [
      "Words chosen for updates :  [('पहाड़ी', 'पहाड़'), ('खाट', 'खा'), ('रट', 'र'), ('रेग', 'रे'), ('काटती', 'कात'), ('लोइ', 'लो'), ('ऑखों', 'खों'), ('अहसास', 'हा'), ('छठा', 'छा'), ('सीतल', 'तला')]\n"
     ]
    },
    {
     "name": "stderr",
     "output_type": "stream",
     "text": [
      " 64%|██████▍   | 321/500 [10:59<06:03,  2.03s/it]"
     ]
    },
    {
     "name": "stdout",
     "output_type": "stream",
     "text": [
      "Words chosen for updates :  [('रै', 'रे'), ('काटीं', 'कां'), ('ममा', 'मामा'), ('बनठन', 'जनन'), ('छली', 'छल'), ('गयौ', 'यौ'), ('अधूर', 'धार'), ('लालु', 'लाल'), ('बपु', 'बाप'), ('उबरै', 'बरै')]\n"
     ]
    },
    {
     "name": "stderr",
     "output_type": "stream",
     "text": [
      " 68%|██████▊   | 341/500 [11:40<05:28,  2.07s/it]"
     ]
    },
    {
     "name": "stdout",
     "output_type": "stream",
     "text": [
      "Words chosen for updates :  [('फकीरी', 'कर'), ('मँगरी', 'मर'), ('भूरि', 'भारी'), ('इनसाँ', 'ना'), ('पसरती', 'परत'), ('तिस', 'ती'), ('होन', 'होने'), ('छोरी', 'छोर'), ('मौर', 'मीरा'), ('कुट', 'क')]\n"
     ]
    },
    {
     "name": "stderr",
     "output_type": "stream",
     "text": [
      " 72%|███████▏  | 361/500 [12:21<04:44,  2.05s/it]"
     ]
    },
    {
     "name": "stdout",
     "output_type": "stream",
     "text": [
      "Words chosen for updates :  [('कठ', 'क'), ('जोट', 'जो'), ('अजाना', 'जाना'), ('धक', 'क'), ('सवार', 'वारे'), ('मुरगे', 'मरे'), ('गुजरे', 'जरे'), ('बेल', 'बेला'), ('लगाया', 'काया'), ('गराँ', 'करा')]\n"
     ]
    },
    {
     "name": "stderr",
     "output_type": "stream",
     "text": [
      " 76%|███████▌  | 381/500 [13:02<03:57,  2.00s/it]"
     ]
    },
    {
     "name": "stdout",
     "output_type": "stream",
     "text": [
      "Words chosen for updates :  [('कहू', 'कहा'), ('कहेगी', 'कहे'), ('ताइरे', 'तारे'), ('जेठ', 'जे'), ('धतूरे', 'तारे'), ('हुमना', 'हमना'), ('मली', 'माल'), ('बनठन', 'जनन'), ('अरुन', 'रन'), ('सबै', 'बे')]\n"
     ]
    },
    {
     "name": "stderr",
     "output_type": "stream",
     "text": [
      " 80%|████████  | 401/500 [13:42<03:19,  2.01s/it]"
     ]
    },
    {
     "name": "stdout",
     "output_type": "stream",
     "text": [
      "Words chosen for updates :  [('कील', 'कल'), ('कास', 'का'), ('इयाद', 'याद'), ('आपस', 'आप'), ('दरश', 'दरस'), ('असरी', 'र'), ('शकील', 'सकल'), ('खुली', 'खुल'), ('लाल', 'लाला'), ('बसद', 'मद')]\n"
     ]
    },
    {
     "name": "stderr",
     "output_type": "stream",
     "text": [
      " 84%|████████▍ | 421/500 [14:23<02:43,  2.07s/it]"
     ]
    },
    {
     "name": "stdout",
     "output_type": "stream",
     "text": [
      "Words chosen for updates :  [('सकारे', 'कारे'), ('कसे', 'के'), ('ऱोज', 'रोज'), ('समाती', 'मात'), ('नइँए', 'न'), ('उखड़', 'खड़े'), ('लत', 'लता'), ('आऐ', 'आई'), ('जूं', 'हां'), ('बणाया', 'माया')]\n"
     ]
    },
    {
     "name": "stderr",
     "output_type": "stream",
     "text": [
      " 88%|████████▊ | 441/500 [15:05<02:02,  2.08s/it]"
     ]
    },
    {
     "name": "stdout",
     "output_type": "stream",
     "text": [
      "Words chosen for updates :  [('लखी', 'लख'), ('कीरति', 'करती'), ('बाड़े', 'जाड़े'), ('तुन', 'तन'), ('बेसी', 'जे'), ('सुनु', 'न'), ('जँग', 'जग'), ('भनइ', 'तन'), ('लाऊं', 'गाऊं'), ('झरते', 'करते')]\n"
     ]
    },
    {
     "name": "stderr",
     "output_type": "stream",
     "text": [
      " 92%|█████████▏| 461/500 [15:46<01:19,  2.03s/it]"
     ]
    },
    {
     "name": "stdout",
     "output_type": "stream",
     "text": [
      "Words chosen for updates :  [('रण', 'र'), ('तेँ', 'ते'), ('सहेगी', 'हे'), ('घड़े', 'कड़े'), ('अधीर', 'र'), ('उगली', 'गल'), ('छलै', 'तके'), ('झरा', 'करा'), ('बेटू', 'बेटा'), ('ऊँच', 'बच')]\n"
     ]
    },
    {
     "name": "stderr",
     "output_type": "stream",
     "text": [
      " 96%|█████████▌| 481/500 [16:27<00:40,  2.11s/it]"
     ]
    },
    {
     "name": "stdout",
     "output_type": "stream",
     "text": [
      "Words chosen for updates :  [('खोंट', 'खों'), ('कलीम', 'कलम'), ('ठीका', 'का'), ('उभरेगी', 'भरे'), ('पाऊँ', 'पास'), ('शकल', 'सकल'), ('छि', 'ती'), ('पुसुर', 'पर'), ('झीना', 'चना'), ('तरफा', 'तेरा')]\n"
     ]
    },
    {
     "name": "stderr",
     "output_type": "stream",
     "text": [
      "100%|██████████| 500/500 [17:06<00:00,  2.05s/it]\n"
     ]
    },
    {
     "name": "stdout",
     "output_type": "stream",
     "text": [
      "BUILDING LEXICON\n",
      "PROCESSING awadhi\n"
     ]
    },
    {
     "name": "stderr",
     "output_type": "stream",
     "text": [
      "\r",
      "  0%|          | 0/500 [00:00<?, ?it/s]"
     ]
    },
    {
     "name": "stdout",
     "output_type": "stream",
     "text": [
      "Intializing TRANSITION MATRIX...\n",
      "Intialized TRANSITION MATRIX of dimensions 76x70\n"
     ]
    },
    {
     "name": "stderr",
     "output_type": "stream",
     "text": [
      "  4%|▍         | 21/500 [07:34<2:53:12, 21.70s/it]"
     ]
    },
    {
     "name": "stdout",
     "output_type": "stream",
     "text": [
      "Words chosen for updates :  [('वरन', 'रन'), ('रतन', 'रत्न'), ('देहि', 'दहि'), ('शह', 'ह'), ('राखे', 'राम'), ('तथ्य', 'तजिय'), ('खौला', 'मिला'), ('परचे', 'जरइ'), ('उडा', 'उडि'), ('पूजी', 'पूगी')]\n"
     ]
    },
    {
     "name": "stderr",
     "output_type": "stream",
     "text": [
      "  8%|▊         | 41/500 [14:51<2:48:16, 22.00s/it]"
     ]
    },
    {
     "name": "stdout",
     "output_type": "stream",
     "text": [
      "Words chosen for updates :  [('अनत', 'अन्त'), ('खद', 'मद'), ('भर्', 'भरि'), ('जुर', 'गुर'), ('जरल', 'गरल'), ('हरें', 'हरं'), ('जेती', 'गती'), ('पढ़ै', 'पढ़ा'), ('रास', 'रिस'), ('ताका', 'ताकि')]\n"
     ]
    },
    {
     "name": "stderr",
     "output_type": "stream",
     "text": [
      " 12%|█▏        | 61/500 [22:09<2:40:42, 21.97s/it]"
     ]
    },
    {
     "name": "stdout",
     "output_type": "stream",
     "text": [
      "Words chosen for updates :  [('वेदन', 'दन'), ('अश', 'अ'), ('झकोरे', 'झकोर'), ('दीदावर', 'दीदार'), ('दशों', 'दों'), ('लस्त', 'लसित'), ('अनृत', 'अनत'), ('पल', 'जल'), ('नाचते', 'नाचत'), ('खाया', 'माया')]\n"
     ]
    },
    {
     "name": "stderr",
     "output_type": "stream",
     "text": [
      " 16%|█▌        | 81/500 [29:28<2:33:42, 22.01s/it]"
     ]
    },
    {
     "name": "stdout",
     "output_type": "stream",
     "text": [
      "Words chosen for updates :  [('वमन', 'मन'), ('छाले', 'छाल'), ('जैन', 'गान'), ('पैल', 'जाल'), ('भगाए', 'भगा'), ('पा', 'जा'), ('आतिशे', 'मति'), ('चंद्र', 'इंद्र'), ('सुहावना', 'सुबानि'), ('गॉग', 'गंग')]\n"
     ]
    },
    {
     "name": "stderr",
     "output_type": "stream",
     "text": [
      " 20%|██        | 101/500 [36:46<2:26:24, 22.02s/it]"
     ]
    },
    {
     "name": "stdout",
     "output_type": "stream",
     "text": [
      "Words chosen for updates :  [('लगन', 'लग्न'), ('कुशल', 'कुल'), ('माँगते', 'माँगत'), ('जीते', 'गीत'), ('उधरे', 'उसर'), ('बस्', 'बसि'), ('राखै', 'रामा'), ('लजाए', 'लगा'), ('परवशता', 'जरता'), ('जुड़े', 'गुड़')]\n"
     ]
    },
    {
     "name": "stderr",
     "output_type": "stream",
     "text": [
      " 24%|██▍       | 121/500 [44:04<2:17:12, 21.72s/it]"
     ]
    },
    {
     "name": "stdout",
     "output_type": "stream",
     "text": [
      "Words chosen for updates :  [('दुरलभ', 'दुर्लभ'), ('दरश', 'दर'), ('नौरस', 'निरस'), ('धुले', 'सुल'), ('असवार', 'असार'), ('साधे', 'सास'), ('लेह', 'लह'), ('सहे', 'सह'), ('बाजे', 'बाग'), ('पाकर', 'जाकर')]\n"
     ]
    },
    {
     "name": "stderr",
     "output_type": "stream",
     "text": [
      " 28%|██▊       | 141/500 [51:18<2:08:27, 21.47s/it]"
     ]
    },
    {
     "name": "stdout",
     "output_type": "stream",
     "text": [
      "Words chosen for updates :  [('तेर', 'तर'), ('हते', 'हत'), ('पैकरे', 'जाकर'), ('महवश', 'मह'), ('बाजा', 'बागा'), ('कॉपी', 'कंजी'), ('घाल', 'बाल'), ('किरणे', 'किरण'), ('दुरजन', 'दुर्जन'), ('लहराया', 'लहरायि')]\n"
     ]
    },
    {
     "name": "stderr",
     "output_type": "stream",
     "text": [
      " 32%|███▏      | 161/500 [58:30<2:01:14, 21.46s/it]"
     ]
    },
    {
     "name": "stdout",
     "output_type": "stream",
     "text": [
      "Words chosen for updates :  [('छूँछे', 'छूँछ'), ('सेम', 'सम'), ('उगे', 'उग'), ('निधि', 'निसि'), ('ओकरो', 'करो'), ('जुरि', 'गुरि'), ('जरि', 'गरि'), ('बाथ', 'बाज'), ('थमाते', 'जमात'), ('जवन', 'गन')]\n"
     ]
    },
    {
     "name": "stderr",
     "output_type": "stream",
     "text": [
      " 36%|███▌      | 181/500 [1:05:40<1:53:16, 21.31s/it]"
     ]
    },
    {
     "name": "stdout",
     "output_type": "stream",
     "text": [
      "Words chosen for updates :  [('करिबे', 'करिब'), ('गरभ', 'गर्भ'), ('कश', 'क'), ('कशों', 'कों'), ('नष', 'न'), ('बेतवा', 'बता'), ('कौसानी', 'किसानी'), ('सहमे', 'सहम'), ('पडे़', 'जड़'), ('आवो', 'मो')]\n"
     ]
    },
    {
     "name": "stderr",
     "output_type": "stream",
     "text": [
      " 40%|████      | 201/500 [1:12:54<1:47:09, 21.50s/it]"
     ]
    },
    {
     "name": "stdout",
     "output_type": "stream",
     "text": [
      "Words chosen for updates :  [('दुगुने', 'दुगुन'), ('कवल', 'कल'), ('कैश', 'का'), ('कोने', 'कोन'), ('बोओ', 'बो'), ('कृत', 'कत'), ('हे', 'ह'), ('अहै', 'अहा'), ('मालवा', 'माला'), ('एहो', 'हो')]\n"
     ]
    },
    {
     "name": "stderr",
     "output_type": "stream",
     "text": [
      " 44%|████▍     | 221/500 [1:20:07<1:40:40, 21.65s/it]"
     ]
    },
    {
     "name": "stdout",
     "output_type": "stream",
     "text": [
      "Words chosen for updates :  [('लये', 'लय'), ('अवली', 'अली'), ('वेद', 'द'), ('बोले', 'बोल'), ('उबरै', 'उबरा'), ('तन्', 'तनि'), ('तपते', 'तजत'), ('बाज़', 'बाग़'), ('मान्य', 'मानिय'), ('हवाल', 'हाल')]\n"
     ]
    },
    {
     "name": "stderr",
     "output_type": "stream",
     "text": [
      " 48%|████▊     | 241/500 [1:27:20<1:33:21, 21.63s/it]"
     ]
    },
    {
     "name": "stdout",
     "output_type": "stream",
     "text": [
      "Words chosen for updates :  [('मीठे', 'मीठ'), ('मते', 'मत'), ('मिटे', 'मिट'), ('समझिए', 'समझि'), ('भयौ', 'भयि'), ('कामे', 'काम'), ('अजल', 'अगल'), ('जले', 'गल'), ('खुदा', 'मुदा'), ('पोरे', 'जोर')]\n"
     ]
    },
    {
     "name": "stderr",
     "output_type": "stream",
     "text": [
      " 52%|█████▏    | 261/500 [1:34:34<1:27:08, 21.88s/it]"
     ]
    },
    {
     "name": "stdout",
     "output_type": "stream",
     "text": [
      "Words chosen for updates :  [('दामने', 'दामन'), ('खुले', 'मुल'), ('उथले', 'उजल'), ('डंका', 'संका'), ('जनाबे', 'जनाब'), ('करणा', 'करसि'), ('मेघ', 'मघ'), ('बौराए', 'बौरा'), ('बाखर', 'बिखर'), ('कृष्णे', 'कृष्ण')]\n"
     ]
    },
    {
     "name": "stderr",
     "output_type": "stream",
     "text": [
      " 56%|█████▌    | 281/500 [1:41:49<1:19:14, 21.71s/it]"
     ]
    },
    {
     "name": "stdout",
     "output_type": "stream",
     "text": [
      "Words chosen for updates :  [('भरने', 'भरन'), ('लेट', 'लट'), ('बढे़', 'बढ़'), ('ते', 'त'), ('सुयश', 'सुय'), ('शक', 'क'), ('समाते', 'समात'), ('चितै', 'चिता'), ('मवाली', 'माली'), ('भजते', 'भगत')]\n"
     ]
    },
    {
     "name": "stderr",
     "output_type": "stream",
     "text": [
      " 60%|██████    | 301/500 [1:49:05<1:12:28, 21.85s/it]"
     ]
    },
    {
     "name": "stdout",
     "output_type": "stream",
     "text": [
      "Words chosen for updates :  [('लेटे', 'लट'), ('बेलें', 'बलं'), ('बाढ़े', 'बाढ़'), ('कौण', 'किस'), ('रहेन', 'रहन'), ('संजम', 'संगम'), ('बजर', 'बगर'), ('धजे', 'सग'), ('उपासे', 'उजास'), ('उड़ाते', 'उड़ात')]\n"
     ]
    },
    {
     "name": "stderr",
     "output_type": "stream",
     "text": [
      " 64%|██████▍   | 321/500 [1:56:18<1:04:56, 21.77s/it]"
     ]
    },
    {
     "name": "stdout",
     "output_type": "stream",
     "text": [
      "Words chosen for updates :  [('सद', 'सद्'), ('दरश', 'दर'), ('कुचैली', 'कुचाली'), ('सदाए', 'सदा'), ('नाप', 'नाज'), ('आं', 'मं'), ('अह', 'अब'), ('सयाना', 'सयानि'), ('बिचारा', 'बिचारि'), ('वप्', 'प्')]\n"
     ]
    },
    {
     "name": "stderr",
     "output_type": "stream",
     "text": [
      " 68%|██████▊   | 341/500 [2:03:32<57:08, 21.56s/it]  "
     ]
    },
    {
     "name": "stdout",
     "output_type": "stream",
     "text": [
      "Words chosen for updates :  [('भगते', 'भगत'), ('निरमल', 'निर्मल'), ('झुके', 'झुक'), ('कसमसाते', 'कसमसात'), ('छाव', 'छा'), ('धरणी', 'सरसी'), ('कहैँ', 'कहाँ'), ('पियो', 'जियो'), ('चेंज', 'चंग'), ('उधरे', 'उसर')]\n"
     ]
    },
    {
     "name": "stderr",
     "output_type": "stream",
     "text": [
      " 72%|███████▏  | 361/500 [2:10:44<49:45, 21.48s/it]"
     ]
    },
    {
     "name": "stdout",
     "output_type": "stream",
     "text": [
      "Words chosen for updates :  [('भेव', 'भ'), ('दावर', 'दार'), ('नावत', 'नात'), ('वसा', 'सा'), ('अत्', 'अति'), ('गाइये', 'गाइय'), ('आँते', 'आँत'), ('इस्', 'सि'), ('सजते', 'सजत'), ('लादा', 'लादि')]\n"
     ]
    },
    {
     "name": "stderr",
     "output_type": "stream",
     "text": [
      " 76%|███████▌  | 381/500 [2:17:55<42:33, 21.46s/it]"
     ]
    },
    {
     "name": "stdout",
     "output_type": "stream",
     "text": [
      "Words chosen for updates :  [('अदभुत', 'अद्भुत'), ('सौत', 'सित'), ('नारे', 'नार'), ('भावे', 'भा'), ('कशाकश', 'काक'), ('पह', 'जह'), ('घी', 'बी'), ('पाजी', 'जागी'), ('आका', 'मका'), ('उङ', 'ङ')]\n"
     ]
    },
    {
     "name": "stderr",
     "output_type": "stream",
     "text": [
      " 80%|████████  | 401/500 [2:25:12<36:28, 22.11s/it]"
     ]
    },
    {
     "name": "stdout",
     "output_type": "stream",
     "text": [
      "Words chosen for updates :  [('तेरे', 'तर'), ('अध', 'अस'), ('ताशे', 'ता'), ('हंसे', 'हंस'), ('तऊ', 'तज'), ('जल', 'गल'), ('वहशत', 'हत'), ('हृद', 'हद'), ('आरे', 'मर'), ('इताब', 'ताब')]\n"
     ]
    },
    {
     "name": "stderr",
     "output_type": "stream",
     "text": [
      " 84%|████████▍ | 421/500 [2:32:24<28:26, 21.60s/it]"
     ]
    },
    {
     "name": "stdout",
     "output_type": "stream",
     "text": [
      "Words chosen for updates :  [('नव', 'न'), ('चले', 'चल'), ('करवाल', 'कराल'), ('अग्नि', 'अगिनि'), ('खुला', 'मुला'), ('जननायक', 'गननायक'), ('ताज', 'ताग'), ('पावे', 'जा'), ('नऐ', 'नए'), ('घातों', 'बातों')]\n"
     ]
    },
    {
     "name": "stderr",
     "output_type": "stream",
     "text": [
      " 88%|████████▊ | 441/500 [2:39:33<21:22, 21.74s/it]"
     ]
    },
    {
     "name": "stdout",
     "output_type": "stream",
     "text": [
      "Words chosen for updates :  [('करणी', 'करसी'), ('दागे', 'दाग'), ('रहेन', 'रहन'), ('अपर', 'अजर'), ('परवत', 'जरत'), ('जननायक', 'गननायक'), ('भइया', 'भया'), ('आकाश', 'मका'), ('घहरे', 'बहर'), ('उतथ्य', 'तजिय')]\n"
     ]
    },
    {
     "name": "stderr",
     "output_type": "stream",
     "text": [
      " 92%|█████████▏| 461/500 [2:46:45<14:01, 21.57s/it]"
     ]
    },
    {
     "name": "stdout",
     "output_type": "stream",
     "text": [
      "Words chosen for updates :  [('किछुओ', 'किछु'), ('भलौ', 'भलि'), ('सोने', 'सोन'), ('चुए', 'चु'), ('समाते', 'समात'), ('दीदारे', 'दीदार'), ('मानिए', 'मानि'), ('ऊनी', 'जनी'), ('पावन', 'जान'), ('जेहन', 'गहन')]\n"
     ]
    },
    {
     "name": "stderr",
     "output_type": "stream",
     "text": [
      " 96%|█████████▌| 481/500 [2:53:57<06:55, 21.89s/it]"
     ]
    },
    {
     "name": "stdout",
     "output_type": "stream",
     "text": [
      "Words chosen for updates :  [('मिटै', 'मिटा'), ('ओसों', 'सों'), ('यादव', 'याद'), ('हैं', 'हां'), ('मोहै', 'मोहा'), ('तृषा', 'ता'), ('बाजे', 'बाग'), ('पासि', 'जासि'), ('चाहे', 'चाह'), ('पोष', 'जो')]\n"
     ]
    },
    {
     "name": "stderr",
     "output_type": "stream",
     "text": [
      "100%|██████████| 500/500 [3:00:46<00:00, 21.69s/it]\n"
     ]
    },
    {
     "name": "stdout",
     "output_type": "stream",
     "text": [
      "BUILDING LEXICON\n",
      "PROCESSING chattisgarhi\n"
     ]
    },
    {
     "name": "stderr",
     "output_type": "stream",
     "text": [
      "\r",
      "  0%|          | 0/500 [00:00<?, ?it/s]"
     ]
    },
    {
     "name": "stdout",
     "output_type": "stream",
     "text": [
      "Intializing TRANSITION MATRIX...\n",
      "Intialized TRANSITION MATRIX of dimensions 76x64\n"
     ]
    },
    {
     "name": "stderr",
     "output_type": "stream",
     "text": [
      "  4%|▍         | 21/500 [01:33<35:33,  4.45s/it]"
     ]
    },
    {
     "name": "stdout",
     "output_type": "stream",
     "text": [
      "Words chosen for updates :  [('भेजने', 'भेजे'), ('दिला', 'दिल'), ('बदलना', 'बदल'), ('आवै', 'आवत'), ('लगैं', 'लगत'), ('पंक', 'क'), ('सपनें', 'से'), ('मधुप', 'मधु'), ('मइके', 'मके'), ('आव', 'आवो')]\n"
     ]
    },
    {
     "name": "stderr",
     "output_type": "stream",
     "text": [
      "  8%|▊         | 41/500 [03:02<34:22,  4.49s/it]"
     ]
    },
    {
     "name": "stdout",
     "output_type": "stream",
     "text": [
      "Words chosen for updates :  [('फिरने', 'फिरे'), ('हरिन', 'हरि'), ('वर्षो', 'वर्षा'), ('वाह', 'वह'), ('आवैं', 'आवत'), ('संहारा', 'सहर'), ('पइब', 'ब'), ('मिलाइ', 'मिल'), ('मरदाना', 'मरद'), ('अगनित', 'अगिन')]\n"
     ]
    },
    {
     "name": "stderr",
     "output_type": "stream",
     "text": [
      " 12%|█▏        | 61/500 [04:30<32:09,  4.40s/it]"
     ]
    },
    {
     "name": "stdout",
     "output_type": "stream",
     "text": [
      "Words chosen for updates :  [('वें', 'वे'), ('उलटना', 'उलट'), ('नाईं', 'ई'), ('आमा', 'आम'), ('मनाने', 'मे'), ('पइयाँ', 'य'), ('ठेला', 'खेल'), ('पियें', 'पिये'), ('बैठना', 'बैठ'), ('सावण', 'सव')]\n"
     ]
    },
    {
     "name": "stderr",
     "output_type": "stream",
     "text": [
      " 16%|█▌        | 81/500 [06:00<31:03,  4.45s/it]"
     ]
    },
    {
     "name": "stdout",
     "output_type": "stream",
     "text": [
      "Words chosen for updates :  [('जनने', 'जे'), ('सँ', 'स'), ('गइल', 'गल'), ('ार', 'र'), ('फुला', 'फुल'), ('आटा', 'आट'), ('बॉल', 'बल'), ('सुनार', 'सुर'), ('हान', 'ह'), ('लॉन', 'ल')]\n"
     ]
    },
    {
     "name": "stderr",
     "output_type": "stream",
     "text": [
      " 20%|██        | 101/500 [07:28<29:03,  4.37s/it]"
     ]
    },
    {
     "name": "stdout",
     "output_type": "stream",
     "text": [
      "Words chosen for updates :  [('खोये', 'खाये'), ('जूझने', 'जूझे'), ('दयो', 'दया'), ('आइना', 'आ'), ('मारीच', 'मरीच'), ('खिलाना', 'खिल'), ('कलपना', 'कल'), ('बालपन', 'बल'), ('ो', 'रा'), ('आत्मन', 'आत्म')]\n"
     ]
    },
    {
     "name": "stderr",
     "output_type": "stream",
     "text": [
      " 24%|██▍       | 121/500 [08:57<28:09,  4.46s/it]"
     ]
    },
    {
     "name": "stdout",
     "output_type": "stream",
     "text": [
      "Words chosen for updates :  [('यहं', 'यह'), ('नव', 'व'), ('बन', 'ब'), ('टूटें', 'टूटे'), ('चोले', 'चाले'), ('हँसनी', 'हसी'), ('वार', 'वर'), ('खांस', 'खस'), ('सांचा', 'सच'), ('ओसारा', 'सर')]\n"
     ]
    },
    {
     "name": "stderr",
     "output_type": "stream",
     "text": [
      " 28%|██▊       | 141/500 [10:25<26:26,  4.42s/it]"
     ]
    },
    {
     "name": "stdout",
     "output_type": "stream",
     "text": [
      "Words chosen for updates :  [('गयीं', 'गयी'), ('गुरुओं', 'गुरु'), ('वा', 'व'), ('भारहीन', 'भरही'), ('दलान', 'दल'), ('बाड', 'बड'), ('बसे', 'बरसे'), ('बीता', 'बीत'), ('छानते', 'ते'), ('तोरी', 'नारी')]\n"
     ]
    },
    {
     "name": "stderr",
     "output_type": "stream",
     "text": [
      " 32%|███▏      | 161/500 [11:55<25:09,  4.45s/it]"
     ]
    },
    {
     "name": "stdout",
     "output_type": "stream",
     "text": [
      "Words chosen for updates :  [('सारे', 'सरे'), ('छांह', 'ह'), ('इनकार', 'कर'), ('पावं', 'व'), ('रोऊँ', 'रा'), ('कारणेँ', 'करे'), ('तिरछा', 'तिर'), ('नमित', 'मित'), ('घटाया', 'कटय'), ('हता', 'हन')]\n"
     ]
    },
    {
     "name": "stderr",
     "output_type": "stream",
     "text": [
      " 36%|███▌      | 181/500 [13:23<23:28,  4.41s/it]"
     ]
    },
    {
     "name": "stdout",
     "output_type": "stream",
     "text": [
      "Words chosen for updates :  [('साइकल', 'सकल'), ('करमा', 'करम'), ('सरनाम', 'सरम'), ('पाहन', 'ह'), ('पाया', 'य'), ('रीतने', 'रीते'), ('बीता', 'बीत'), ('ठना', 'ख'), ('हर', 'हरो'), ('कैन', 'कै')]\n"
     ]
    },
    {
     "name": "stderr",
     "output_type": "stream",
     "text": [
      " 40%|████      | 201/500 [14:52<22:15,  4.47s/it]"
     ]
    },
    {
     "name": "stdout",
     "output_type": "stream",
     "text": [
      "Words chosen for updates :  [('देखने', 'देखे'), ('चोट', 'चाट'), ('झुलसा', 'झुलस'), ('वॉन', 'व'), ('मनके', 'मके'), ('बरसाना', 'बरस'), ('लाना', 'ल'), ('मोन', 'मा'), ('कपाट', 'कट'), ('झोपड़', 'झाड़')]\n"
     ]
    },
    {
     "name": "stderr",
     "output_type": "stream",
     "text": [
      " 44%|████▍     | 221/500 [16:20<20:40,  4.45s/it]"
     ]
    },
    {
     "name": "stdout",
     "output_type": "stream",
     "text": [
      "Words chosen for updates :  [('भइले', 'भले'), ('मना', 'म'), ('धारै', 'धरत'), ('लगतीं', 'लगती'), ('छानते', 'ते'), ('मरीना', 'करी'), ('परछाइयाँ', 'परय'), ('ठक', 'ठोकर'), ('राखियाँ', 'रखिया'), ('परिताप', 'परिन')]\n"
     ]
    },
    {
     "name": "stderr",
     "output_type": "stream",
     "text": [
      " 48%|████▊     | 241/500 [17:50<19:12,  4.45s/it]"
     ]
    },
    {
     "name": "stdout",
     "output_type": "stream",
     "text": [
      "Words chosen for updates :  [('लिखने', 'लिखे'), ('बादल', 'बदल'), ('नाकस', 'कस'), ('बासन', 'बस'), ('पारसा', 'रस'), ('घोॅर', 'कार'), ('बसन्त', 'बस्तर'), ('शिखी', 'लिखरी'), ('जेता', 'जेन'), ('वैन', 'रोवत')]\n"
     ]
    },
    {
     "name": "stderr",
     "output_type": "stream",
     "text": [
      " 52%|█████▏    | 261/500 [19:18<17:30,  4.40s/it]"
     ]
    },
    {
     "name": "stdout",
     "output_type": "stream",
     "text": [
      "Words chosen for updates :  [('करौं', 'करौ'), ('कास', 'कस'), ('योँ', 'या'), ('साजो', 'सजा'), ('पँजे', 'जे'), ('मिलाया', 'मिलय'), ('अह', 'अहो'), ('महं', 'मोह'), ('वै', 'रोवत'), ('पियें', 'पिये')]\n"
     ]
    },
    {
     "name": "stderr",
     "output_type": "stream",
     "text": [
      " 56%|█████▌    | 281/500 [20:46<16:02,  4.40s/it]"
     ]
    },
    {
     "name": "stdout",
     "output_type": "stream",
     "text": [
      "Words chosen for updates :  [('वॉन', 'व'), ('अचरा', 'अचर'), ('करण', 'कर'), ('कंहा', 'कह'), ('छाले', 'ले'), ('पकरी', 'करी'), ('तनने', 'ते'), ('बीत', 'बीन'), ('पकड़ना', 'पकड़'), ('मानूँ', 'कू')]\n"
     ]
    },
    {
     "name": "stderr",
     "output_type": "stream",
     "text": [
      " 60%|██████    | 301/500 [22:15<14:38,  4.42s/it]"
     ]
    },
    {
     "name": "stdout",
     "output_type": "stream",
     "text": [
      "Words chosen for updates :  [('लौँ', 'लौ'), ('असान', 'अस'), ('दागों', 'दगा'), ('गोड़ी', 'गाड़ी'), ('वीराना', 'वीर'), ('पहनाओ', 'ह'), ('ब', 'बर'), ('नाते', 'ते'), ('गुनना', 'गरु'), ('गमछी', 'गरमी')]\n"
     ]
    },
    {
     "name": "stderr",
     "output_type": "stream",
     "text": [
      " 64%|██████▍   | 321/500 [23:43<13:10,  4.42s/it]"
     ]
    },
    {
     "name": "stdout",
     "output_type": "stream",
     "text": [
      "Words chosen for updates :  [('बेंच', 'बेच'), ('गाछ', 'ग'), ('रोजा', 'राज'), ('जरै', 'जरत'), ('हँसाना', 'हस'), ('हाम', 'हम'), ('होड़ा', 'हाड़'), ('घोली', 'काली'), ('उतरना', 'उतर'), ('तापा', 'त')]\n"
     ]
    },
    {
     "name": "stderr",
     "output_type": "stream",
     "text": [
      " 68%|██████▊   | 341/500 [25:12<11:47,  4.45s/it]"
     ]
    },
    {
     "name": "stdout",
     "output_type": "stream",
     "text": [
      "Words chosen for updates :  [('कटने', 'कटे'), ('सुपर', 'सुर'), ('कामों', 'कमा'), ('बीं', 'बरी'), ('चढ़ो', 'चढ़ा'), ('तुम्हे', 'तुम्हरे'), ('साधा', 'साध'), ('बजाना', 'बजा'), ('कंटकों', 'कटको'), ('अकाश', 'अकाल')]\n"
     ]
    },
    {
     "name": "stderr",
     "output_type": "stream",
     "text": [
      " 72%|███████▏  | 361/500 [26:41<10:15,  4.43s/it]"
     ]
    },
    {
     "name": "stdout",
     "output_type": "stream",
     "text": [
      "Words chosen for updates :  [('बसने', 'बसे'), ('भाट', 'भट'), ('गरबा', 'गरब'), ('किना', 'कि'), ('सूरा', 'सूर'), ('फाइल', 'फल'), ('उसपे', 'उसे'), ('गाना', 'ग'), ('गलाना', 'गल'), ('आवै', 'आवत')]\n"
     ]
    },
    {
     "name": "stderr",
     "output_type": "stream",
     "text": [
      " 76%|███████▌  | 381/500 [28:09<08:40,  4.38s/it]"
     ]
    },
    {
     "name": "stdout",
     "output_type": "stream",
     "text": [
      "Words chosen for updates :  [('कोरा', 'कार'), ('कारवां', 'करव'), ('मँद', 'मद'), ('घुर', 'कुर'), ('चाप', 'च'), ('हमारा', 'हमर'), ('पालनहार', 'लहर'), ('धधकता', 'धधकत'), ('तारा', 'तर'), ('पोप', 'पा')]\n"
     ]
    },
    {
     "name": "stderr",
     "output_type": "stream",
     "text": [
      " 80%|████████  | 401/500 [29:38<07:17,  4.42s/it]"
     ]
    },
    {
     "name": "stdout",
     "output_type": "stream",
     "text": [
      "Words chosen for updates :  [('केन', 'के'), ('भोर', 'भार'), ('हौँ', 'हौ'), ('दवा', 'दव'), ('इकाई', 'कई'), ('दानव', 'दव'), ('भायो', 'भया'), ('बरसाना', 'बरस'), ('पसरा', 'सर'), ('लपटाइ', 'लट')]\n"
     ]
    },
    {
     "name": "stderr",
     "output_type": "stream",
     "text": [
      " 84%|████████▍ | 421/500 [31:06<05:52,  4.46s/it]"
     ]
    },
    {
     "name": "stdout",
     "output_type": "stream",
     "text": [
      "Words chosen for updates :  [('टिकने', 'टिके'), ('दगा', 'दग'), ('चिड़ियों', 'चिड़िया'), ('जड़ा', 'जड़'), ('अनाचार', 'अचर'), ('लौटानी', 'लौटी'), ('देखैं', 'देखत'), ('कः', 'क'), ('हेऽऽऽऽऽऽऽ', 'हे'), ('काँकर', 'ककरो')]\n"
     ]
    },
    {
     "name": "stderr",
     "output_type": "stream",
     "text": [
      " 88%|████████▊ | 441/500 [32:35<04:24,  4.48s/it]"
     ]
    },
    {
     "name": "stdout",
     "output_type": "stream",
     "text": [
      "Words chosen for updates :  [('रहना', 'रह'), ('यहाँ', 'यह'), ('लंपट', 'लट'), ('समन', 'सम'), ('गाम', 'गम'), ('पहुनाई', 'हुई'), ('जीता', 'जीत'), ('से', 'सरे'), ('छाती', 'ती'), ('ताऊ', 'त')]\n"
     ]
    },
    {
     "name": "stderr",
     "output_type": "stream",
     "text": [
      " 92%|█████████▏| 461/500 [34:04<02:54,  4.46s/it]"
     ]
    },
    {
     "name": "stdout",
     "output_type": "stream",
     "text": [
      "Words chosen for updates :  [('जीओ', 'जी'), ('आँगने', 'आगे'), ('काल', 'कल'), ('कहां', 'कह'), ('चूरा', 'चूर'), ('नारे', 'रे'), ('सोहणी', 'साही'), ('समझना', 'समझ'), ('चलतीं', 'चलती'), ('चे', 'रचे')]\n"
     ]
    },
    {
     "name": "stderr",
     "output_type": "stream",
     "text": [
      " 96%|█████████▌| 481/500 [35:34<01:26,  4.53s/it]"
     ]
    },
    {
     "name": "stdout",
     "output_type": "stream",
     "text": [
      "Words chosen for updates :  [('आगें', 'आगे'), ('बोट', 'बाट'), ('बुझाने', 'बुझे'), ('मधुरं', 'मधुर'), ('भ्रमण', 'भ्रम'), ('ऐसों', 'ऐसा'), ('पनी', 'पी'), ('परियों', 'परिया'), ('मैक', 'कतको'), ('पूजना', 'पूजा')]\n"
     ]
    },
    {
     "name": "stderr",
     "output_type": "stream",
     "text": [
      "100%|██████████| 500/500 [36:57<00:00,  4.44s/it]\n"
     ]
    },
    {
     "name": "stdout",
     "output_type": "stream",
     "text": [
      "BUILDING LEXICON\n",
      "PROCESSING pali\n"
     ]
    },
    {
     "name": "stderr",
     "output_type": "stream",
     "text": [
      "\r",
      "  0%|          | 0/500 [00:00<?, ?it/s]"
     ]
    },
    {
     "name": "stdout",
     "output_type": "stream",
     "text": [
      "Intializing TRANSITION MATRIX...\n",
      "Intialized TRANSITION MATRIX of dimensions 76x58\n"
     ]
    },
    {
     "name": "stderr",
     "output_type": "stream",
     "text": [
      "  4%|▍         | 21/500 [00:49<18:48,  2.36s/it]"
     ]
    },
    {
     "name": "stdout",
     "output_type": "stream",
     "text": [
      "Words chosen for updates :  [('जबते', 'जे'), ('पिसे', 'से'), ('परखे', 'परे'), ('बसती', 'सतो'), ('बजती', 'जतो'), ('काफिया', 'कायो'), ('समझ', 'समं'), ('तहाशा', 'हासो'), ('बिछौने', 'ने'), ('झुर', 'हुरं')]\n"
     ]
    },
    {
     "name": "stderr",
     "output_type": "stream",
     "text": [
      "  8%|▊         | 41/500 [01:36<17:54,  2.34s/it]"
     ]
    },
    {
     "name": "stdout",
     "output_type": "stream",
     "text": [
      "Words chosen for updates :  [('छिपना', 'ना'), ('कबरी', 'करो'), ('जताए', 'जा'), ('मारयो', 'मारो'), ('ढूँडूँ', 'व'), ('कया', 'का'), ('समेकित', 'समेन'), ('पताल', 'ता'), ('हमैं', 'मं'), ('फँसा', 'सो')]\n"
     ]
    },
    {
     "name": "stderr",
     "output_type": "stream",
     "text": [
      " 12%|█▏        | 61/500 [02:22<16:59,  2.32s/it]"
     ]
    },
    {
     "name": "stdout",
     "output_type": "stream",
     "text": [
      "Words chosen for updates :  [('बजाई', 'जा'), ('कंबल', 'कं'), ('घिरो', 'जरो'), ('सीखि', 'सो'), ('कलाएँ', 'का'), ('दुक्ख', 'दुक्'), ('विपति', 'व'), ('कराँ', 'नरा'), ('हीँ', 'हो'), ('भ', 'भो')]\n"
     ]
    },
    {
     "name": "stderr",
     "output_type": "stream",
     "text": [
      " 16%|█▌        | 81/500 [03:09<16:30,  2.36s/it]"
     ]
    },
    {
     "name": "stdout",
     "output_type": "stream",
     "text": [
      "Words chosen for updates :  [('हज', 'ज'), ('सूराख', 'सरा'), ('आँखिमे', 'मे'), ('अचल', 'च'), ('अजौं', 'जं'), ('नालिश', 'ना'), ('इनायत', 'ना'), ('पयलिया', 'या'), ('नीँद', 'नो'), ('आसा', 'सो')]\n"
     ]
    },
    {
     "name": "stderr",
     "output_type": "stream",
     "text": [
      " 20%|██        | 101/500 [03:56<15:36,  2.35s/it]"
     ]
    },
    {
     "name": "stdout",
     "output_type": "stream",
     "text": [
      "Words chosen for updates :  [('चाल', 'चा'), ('आलसी', 'सो'), ('बनाऊँ', 'ना'), ('बिनु', 'नु'), ('एको', 'को'), ('काहि', 'का'), ('ऐंड', 'नं'), ('कूडा', 'का'), ('भोगता', 'भोगा'), ('खोए', 'खो')]\n"
     ]
    },
    {
     "name": "stderr",
     "output_type": "stream",
     "text": [
      " 24%|██▍       | 121/500 [04:43<14:48,  2.35s/it]"
     ]
    },
    {
     "name": "stdout",
     "output_type": "stream",
     "text": [
      "Words chosen for updates :  [('कोए', 'को'), ('कोपल', 'को'), ('ज़ौ', 'ज'), ('नहाएँगे', 'नागे'), ('आँचर', 'चरं'), ('ज़ईफ़', 'ज'), ('उसे', 'से'), ('थूकते', 'के'), ('कँप', 'न'), ('सिती', 'सतो')]\n"
     ]
    },
    {
     "name": "stderr",
     "output_type": "stream",
     "text": [
      " 28%|██▊       | 141/500 [05:30<13:55,  2.33s/it]"
     ]
    },
    {
     "name": "stdout",
     "output_type": "stream",
     "text": [
      "Words chosen for updates :  [('एन', 'न'), ('ऊँचो', 'चो'), ('कबले', 'के'), ('बचात', 'चा'), ('बनलता', 'ना'), ('रोएगा', 'रोगा'), ('कमंडल', 'कमं'), ('खिची', 'चो'), ('जुल', 'जु'), ('छिनु', 'नु')]\n"
     ]
    },
    {
     "name": "stderr",
     "output_type": "stream",
     "text": [
      " 32%|███▏      | 161/500 [06:17<13:14,  2.34s/it]"
     ]
    },
    {
     "name": "stdout",
     "output_type": "stream",
     "text": [
      "Words chosen for updates :  [('जूठे', 'जे'), ('पैन', 'न'), ('चिताएँ', 'चा'), ('कहलाऊँ', 'का'), ('जहरिखाल', 'जरा'), ('छिड़के', 'के'), ('कहदे', 'के'), ('हवस', 'वसं'), ('अछे', 'से'), ('हुये', 'ये')]\n"
     ]
    },
    {
     "name": "stderr",
     "output_type": "stream",
     "text": [
      " 36%|███▌      | 181/500 [07:04<12:32,  2.36s/it]"
     ]
    },
    {
     "name": "stdout",
     "output_type": "stream",
     "text": [
      "Words chosen for updates :  [('चुनो', 'चनो'), ('बिजलियाँ', 'जा'), ('फौज़', 'ज'), ('छवाय', 'वा'), ('कुंडल', 'कं'), ('जाँघ', 'जा'), ('तपकर', 'करं'), ('देवता', 'देवा'), ('यूसुफ़', 'स'), ('धरो', 'दहरो')]\n"
     ]
    },
    {
     "name": "stderr",
     "output_type": "stream",
     "text": [
      " 40%|████      | 201/500 [07:51<11:46,  2.36s/it]"
     ]
    },
    {
     "name": "stdout",
     "output_type": "stream",
     "text": [
      "Words chosen for updates :  [('ओछे', 'ने'), ('समता', 'समा'), ('निखिल', 'न'), ('चालित', 'चा'), ('तजौ', 'ज'), ('मूंद', 'मं'), ('चखता', 'चा'), ('टहनी', 'जनो'), ('फ़िज़ा', 'जा'), ('कहिया', 'का')]\n"
     ]
    },
    {
     "name": "stderr",
     "output_type": "stream",
     "text": [
      " 44%|████▍     | 221/500 [08:38<10:56,  2.35s/it]"
     ]
    },
    {
     "name": "stdout",
     "output_type": "stream",
     "text": [
      "Words chosen for updates :  [('सूबे', 'से'), ('ठूँस', 'स'), ('मलाल', 'मा'), ('सोत', 'सो'), ('टलना', 'जना'), ('उँडेल', 'चे'), ('नगर', 'नगरं'), ('मियाद', 'मा'), ('संयमी', 'संयमो'), ('बतलाऊँ', 'ता')]\n"
     ]
    },
    {
     "name": "stderr",
     "output_type": "stream",
     "text": [
      " 48%|████▊     | 241/500 [09:25<10:09,  2.35s/it]"
     ]
    },
    {
     "name": "stdout",
     "output_type": "stream",
     "text": [
      "Words chosen for updates :  [('चूहे', 'चे'), ('काबू', 'का'), ('बक़ा', 'का'), ('हलका', 'का'), ('जहरिखाल', 'जरा'), ('विथा', 'वा'), ('हवाश', 'वा'), ('घड़ा', 'जा'), ('आकुलता', 'का'), ('उजला', 'जा')]\n"
     ]
    },
    {
     "name": "stderr",
     "output_type": "stream",
     "text": [
      " 52%|█████▏    | 261/500 [10:12<09:19,  2.34s/it]"
     ]
    },
    {
     "name": "stdout",
     "output_type": "stream",
     "text": [
      "Words chosen for updates :  [('चूहे', 'चे'), ('ढहल', 'व'), ('नीति', 'नो'), ('तनत', 'न'), ('ज़ुहरा', 'जरा'), ('कैदो', 'को'), ('पकड़ते', 'के'), ('घन', 'न'), ('बिछड़कर', 'करं'), ('अनुताप', 'ना')]\n"
     ]
    },
    {
     "name": "stderr",
     "output_type": "stream",
     "text": [
      " 56%|█████▌    | 281/500 [10:59<08:29,  2.33s/it]"
     ]
    },
    {
     "name": "stdout",
     "output_type": "stream",
     "text": [
      "Words chosen for updates :  [('कलाप', 'का'), ('ढ़ाई', 'वा'), ('अजहूँ', 'ज'), ('खुमारी', 'मारो'), ('जाउँ', 'जा'), ('लिया', 'या'), ('साबुत', 'सदा'), ('हुते', 'ते'), ('कलप', 'न'), ('पिरोई', 'परो')]\n"
     ]
    },
    {
     "name": "stderr",
     "output_type": "stream",
     "text": [
      " 60%|██████    | 301/500 [11:45<07:46,  2.34s/it]"
     ]
    },
    {
     "name": "stdout",
     "output_type": "stream",
     "text": [
      "Words chosen for updates :  [('दूनी', 'नो'), ('ओहदे', 'ने'), ('लुकता', 'का'), ('लयो', 'यो'), ('यहा', 'या'), ('पिघलना', 'ना'), ('भूमंडल', 'मं'), ('परों', 'रोदं'), ('इयाद', 'या'), ('साखू', 'सदा')]\n"
     ]
    },
    {
     "name": "stderr",
     "output_type": "stream",
     "text": [
      " 64%|██████▍   | 321/500 [12:32<06:59,  2.35s/it]"
     ]
    },
    {
     "name": "stdout",
     "output_type": "stream",
     "text": [
      "Words chosen for updates :  [('ऊँची', 'चो'), ('कहैं', 'कं'), ('चितै', 'च'), ('चैता', 'चा'), ('कात', 'का'), ('थैलियाँ', 'या'), ('गुइयाँ', 'गया'), ('उपवन', 'वनं'), ('रजा', 'रजो'), ('मानिए', 'मानं')]\n"
     ]
    },
    {
     "name": "stderr",
     "output_type": "stream",
     "text": [
      " 68%|██████▊   | 341/500 [13:19<06:11,  2.34s/it]"
     ]
    },
    {
     "name": "stdout",
     "output_type": "stream",
     "text": [
      "Words chosen for updates :  [('सौ', 'स'), ('मिलैं', 'मं'), ('मिलाएँ', 'मा'), ('लिखने', 'ने'), ('दूज', 'ज'), ('सपूतो', 'सो'), ('झा', 'का'), ('बैकुंठ', 'कं'), ('फ़ौजे', 'जे'), ('कतरते', 'करे')]\n"
     ]
    },
    {
     "name": "stderr",
     "output_type": "stream",
     "text": [
      " 72%|███████▏  | 361/500 [14:06<05:26,  2.35s/it]"
     ]
    },
    {
     "name": "stdout",
     "output_type": "stream",
     "text": [
      "Words chosen for updates :  [('बजा', 'जा'), ('जौरो', 'जरो'), ('मूंड', 'मं'), ('वासी', 'वासो'), ('समता', 'समा'), ('मुक्', 'मक्'), ('पहुँचा', 'चा'), ('हुमायूँ', 'मा'), ('उसी', 'सो'), ('अयना', 'ना')]\n"
     ]
    },
    {
     "name": "stderr",
     "output_type": "stream",
     "text": [
      " 76%|███████▌  | 381/500 [14:53<04:39,  2.35s/it]"
     ]
    },
    {
     "name": "stdout",
     "output_type": "stream",
     "text": [
      "Words chosen for updates :  [('जनी', 'जनो'), ('चूते', 'चे'), ('इसीलिए', 'सो'), ('जंतु', 'जं'), ('ख़लवत', 'व'), ('इमदाद', 'मा'), ('पकर', 'करं'), ('तितकी', 'को'), ('समोद', 'दसमो'), ('अफ़कार', 'कारं')]\n"
     ]
    },
    {
     "name": "stderr",
     "output_type": "stream",
     "text": [
      " 80%|████████  | 401/500 [15:40<03:51,  2.34s/it]"
     ]
    },
    {
     "name": "stdout",
     "output_type": "stream",
     "text": [
      "Words chosen for updates :  [('जले', 'जे'), ('चलो', 'चो'), ('ज़री', 'जरो'), ('पडने', 'ने'), ('जुड़े', 'जे'), ('तनी', 'नो'), ('चौपड़', 'च'), ('शनै', 'न'), ('अफ़वाह', 'वा'), ('अबल', 'स')]\n"
     ]
    },
    {
     "name": "stderr",
     "output_type": "stream",
     "text": [
      " 84%|████████▍ | 421/500 [16:27<03:05,  2.34s/it]"
     ]
    },
    {
     "name": "stdout",
     "output_type": "stream",
     "text": [
      "Words chosen for updates :  [('पलने', 'ने'), ('चखो', 'चो'), ('पहने', 'ने'), ('चलूँगा', 'चगा'), ('वैह', 'व'), ('वैह', 'व'), ('नाश', 'ना'), ('केश', 'के'), ('पहुँचते', 'चे'), ('शनैः', 'न')]\n"
     ]
    },
    {
     "name": "stderr",
     "output_type": "stream",
     "text": [
      " 88%|████████▊ | 441/500 [17:14<02:18,  2.34s/it]"
     ]
    },
    {
     "name": "stdout",
     "output_type": "stream",
     "text": [
      "Words chosen for updates :  [('ची', 'चो'), ('जाह', 'जा'), ('जड़ा', 'जा'), ('डैना', 'ना'), ('चौपाई', 'चा'), ('क़ाबू', 'का'), ('क़िबला', 'का'), ('मायड', 'मा'), ('छतियाँ', 'या'), ('ततैये', 'ये')]\n"
     ]
    },
    {
     "name": "stderr",
     "output_type": "stream",
     "text": [
      " 92%|█████████▏| 461/500 [18:01<01:31,  2.35s/it]"
     ]
    },
    {
     "name": "stdout",
     "output_type": "stream",
     "text": [
      "Words chosen for updates :  [('जरी', 'जरो'), ('पहनाऊँ', 'ना'), ('छुवा', 'वा'), ('तड़पना', 'ना'), ('नैया', 'ना'), ('पये', 'ये'), ('पहिये', 'ये'), ('अ', 'स'), ('तेऊ', 'ते'), ('उसपार', 'सारं')]\n"
     ]
    },
    {
     "name": "stderr",
     "output_type": "stream",
     "text": [
      " 96%|█████████▌| 481/500 [18:47<00:44,  2.33s/it]"
     ]
    },
    {
     "name": "stdout",
     "output_type": "stream",
     "text": [
      "Words chosen for updates :  [('चूँ', 'च'), ('मिनी', 'मनो'), ('समाइ', 'समा'), ('चंपई', 'चं'), ('ढ़ो', 'वो'), ('आँखिमे', 'मे'), ('किले', 'के'), ('कौरे', 'करे'), ('सूराख़', 'सरा'), ('क़ाबू', 'का')]\n"
     ]
    },
    {
     "name": "stderr",
     "output_type": "stream",
     "text": [
      "100%|██████████| 500/500 [19:32<00:00,  2.35s/it]\n"
     ]
    },
    {
     "name": "stdout",
     "output_type": "stream",
     "text": [
      "BUILDING LEXICON\n",
      "PROCESSING sindhi\n"
     ]
    },
    {
     "name": "stderr",
     "output_type": "stream",
     "text": [
      "\r",
      "  0%|          | 0/500 [00:00<?, ?it/s]"
     ]
    },
    {
     "name": "stdout",
     "output_type": "stream",
     "text": [
      "Intializing TRANSITION MATRIX...\n",
      "Intialized TRANSITION MATRIX of dimensions 76x61\n"
     ]
    },
    {
     "name": "stderr",
     "output_type": "stream",
     "text": [
      "  4%|▍         | 21/500 [01:09<26:22,  3.30s/it]"
     ]
    },
    {
     "name": "stdout",
     "output_type": "stream",
     "text": [
      "Words chosen for updates :  [('मते', 'मे'), ('तें', 'ें'), ('लता', 'ला'), ('करन', 'करने'), ('हल्', 'हेल'), ('खूं', 'खां'), ('अगार', 'ार'), ('पूना', 'पाना'), ('आस्', 'आस'), ('हिलो', 'हलो')]\n"
     ]
    },
    {
     "name": "stderr",
     "output_type": "stream",
     "text": [
      "  8%|▊         | 41/500 [02:15<25:16,  3.30s/it]"
     ]
    },
    {
     "name": "stdout",
     "output_type": "stream",
     "text": [
      "Words chosen for updates :  [('अमां', 'मां'), ('अरथी', 'री'), ('सज्', 'स'), ('अश्के', 'के'), ('पर्श', 'पर'), ('जपो', 'पो'), ('ऽ', 'ा'), ('चालो', 'तालो'), ('घऽर', 'तार'), ('जेता', 'जेा')]\n"
     ]
    },
    {
     "name": "stderr",
     "output_type": "stream",
     "text": [
      " 12%|█▏        | 61/500 [03:21<24:04,  3.29s/it]"
     ]
    },
    {
     "name": "stdout",
     "output_type": "stream",
     "text": [
      "Words chosen for updates :  [('कहते', 'कहे'), ('तजकर', 'कर'), ('रेड', 'रे'), ('तनिक', 'नक'), ('श्रुति', 'र'), ('टारि', 'हार'), ('उट्ठा', 'उहा'), ('जूं', 'जां'), ('फन्दा', 'न्दा'), ('ऑन', 'न')]\n"
     ]
    },
    {
     "name": "stderr",
     "output_type": "stream",
     "text": [
      " 16%|█▌        | 81/500 [04:27<23:16,  3.33s/it]"
     ]
    },
    {
     "name": "stdout",
     "output_type": "stream",
     "text": [
      "Words chosen for updates :  [('लागत', 'ला'), ('सुअर', 'सर'), ('मर्ज', 'मर'), ('ठिठकती', 'की'), ('वार्निश', 'वारनि'), ('चण्डी', 'तरी'), ('छाइ', 'छा'), ('इड़ा', 'ेड़ा'), ('कारे', 'वारे'), ('दृश्', 'दक')]\n"
     ]
    },
    {
     "name": "stderr",
     "output_type": "stream",
     "text": [
      " 20%|██        | 101/500 [05:34<22:09,  3.33s/it]"
     ]
    },
    {
     "name": "stdout",
     "output_type": "stream",
     "text": [
      "Words chosen for updates :  [('मालती', 'माली'), ('असमय', 'समय'), ('मारु', 'मार'), ('तितर', 'र'), ('वीराँ', 'वीरान'), ('शिथिलता', 'ला'), ('इतवारी', 'वारी'), ('पारे', 'नारे'), ('आडी', 'जी'), ('अकड़ी', 'कड़ी')]\n"
     ]
    },
    {
     "name": "stderr",
     "output_type": "stream",
     "text": [
      " 24%|██▍       | 121/500 [06:40<21:00,  3.33s/it]"
     ]
    },
    {
     "name": "stdout",
     "output_type": "stream",
     "text": [
      "Words chosen for updates :  [('शाहे', 'ाहे'), ('सजे', 'से'), ('कुह', 'कह'), ('गुजार', 'ार'), ('पुती', 'पी'), ('अबाधित', 'बाल'), ('इने', 'ने'), ('लइ', 'ल'), ('शिफ्ट', 'ट'), ('पुष्ट', 'पट')]\n"
     ]
    },
    {
     "name": "stderr",
     "output_type": "stream",
     "text": [
      " 28%|██▊       | 141/500 [07:46<19:45,  3.30s/it]"
     ]
    },
    {
     "name": "stdout",
     "output_type": "stream",
     "text": [
      "Words chosen for updates :  [('तेली', 'ेली'), ('अल्', 'ल'), ('लाग', 'ला'), ('सू', 'सा'), ('मूत्र', 'मार'), ('हफीज', 'ही'), ('मिर', 'मर'), ('वगरना', 'वरना'), ('जाण', 'ाण'), ('पोषित', 'पो')]\n"
     ]
    },
    {
     "name": "stderr",
     "output_type": "stream",
     "text": [
      " 32%|███▏      | 161/500 [08:52<18:45,  3.32s/it]"
     ]
    },
    {
     "name": "stdout",
     "output_type": "stream",
     "text": [
      "Words chosen for updates :  [('नु', 'न'), ('अह्म', 'हम'), ('ओला', 'ला'), ('अशजार', 'ार'), ('खोल', 'खोले'), ('पठायो', 'पायो'), ('जपत', 'प'), ('इसके', 'सके'), ('सैन', 'सहने'), ('उपजा', 'पा')]\n"
     ]
    },
    {
     "name": "stderr",
     "output_type": "stream",
     "text": [
      " 36%|███▌      | 181/500 [09:59<17:41,  3.33s/it]"
     ]
    },
    {
     "name": "stdout",
     "output_type": "stream",
     "text": [
      "Words chosen for updates :  [('ठेली', 'ेली'), ('तरे', 'रे'), ('तमाम', 'मामे'), ('भूसे', 'भासे'), ('रोओ', 'रो'), ('जन्', 'न'), ('अगली', 'ली'), ('रफ्ता', 'रा'), ('तजकर', 'कर'), ('डब्', 'ब')]\n"
     ]
    },
    {
     "name": "stderr",
     "output_type": "stream",
     "text": [
      " 40%|████      | 201/500 [11:06<16:34,  3.33s/it]"
     ]
    },
    {
     "name": "stdout",
     "output_type": "stream",
     "text": [
      "Words chosen for updates :  [('तक', 'क'), ('अनत', 'न'), ('वागत', 'वा'), ('दीपित', 'दीप'), ('ख़ान', 'ख़ाने'), ('होइत', 'हो'), ('आगै', 'आ'), ('उत्पल', 'पल'), ('घुटे', 'टे'), ('मापती', 'मानी')]\n"
     ]
    },
    {
     "name": "stderr",
     "output_type": "stream",
     "text": [
      " 44%|████▍     | 221/500 [12:12<15:24,  3.31s/it]"
     ]
    },
    {
     "name": "stdout",
     "output_type": "stream",
     "text": [
      "Words chosen for updates :  [('नाथ', 'ना'), ('हथ', 'ह'), ('मानती', 'मानी'), ('गोह', 'ोह'), ('मेज', 'मे'), ('फ्री', 'री'), ('बस्तु', 'बस'), ('मौ', 'मे'), ('असित', 'स'), ('भागि', 'भा')]\n"
     ]
    },
    {
     "name": "stderr",
     "output_type": "stream",
     "text": [
      " 48%|████▊     | 241/500 [13:18<14:19,  3.32s/it]"
     ]
    },
    {
     "name": "stdout",
     "output_type": "stream",
     "text": [
      "Words chosen for updates :  [('मामू', 'मामा'), ('सोँ', 'सोन'), ('रोकि', 'रोक'), ('पातर', 'पार'), ('पँथ', 'पन'), ('जैसी', 'सी'), ('झूम', 'काम'), ('गउवाँ', 'वान'), ('पटती', 'पटी'), ('सजाएं', 'सां')]\n"
     ]
    },
    {
     "name": "stderr",
     "output_type": "stream",
     "text": [
      " 52%|█████▏    | 261/500 [14:25<13:10,  3.31s/it]"
     ]
    },
    {
     "name": "stdout",
     "output_type": "stream",
     "text": [
      "Words chosen for updates :  [('सोय', 'सोये'), ('मातल', 'माल'), ('तर', 'र'), ('अस्र', 'सर'), ('सागरो', 'सारो'), ('रुठ', 'र'), ('तुक', 'क'), ('वश', 'व'), ('सुभाष', 'सभा'), ('कीनि', 'कीन')]\n"
     ]
    },
    {
     "name": "stderr",
     "output_type": "stream",
     "text": [
      " 56%|█████▌    | 281/500 [15:31<12:02,  3.30s/it]"
     ]
    },
    {
     "name": "stdout",
     "output_type": "stream",
     "text": [
      "Words chosen for updates :  [('हर्ष', 'हर'), ('साजि', 'सा'), ('खारी', 'ेखारी'), ('अनुरक्ति', 'नरक'), ('जिह्वा', 'हवा'), ('उठा', 'ा'), ('दुइ', 'द'), ('हवऽ', 'हवा'), ('च्युत', 'तय'), ('दृश्', 'दक')]\n"
     ]
    },
    {
     "name": "stderr",
     "output_type": "stream",
     "text": [
      " 60%|██████    | 301/500 [16:37<10:57,  3.30s/it]"
     ]
    },
    {
     "name": "stdout",
     "output_type": "stream",
     "text": [
      "Words chosen for updates :  [('तेरो', 'ेरो'), ('ब्', 'ब'), ('देहु', 'देह'), ('थकते', 'के'), ('कलित', 'कल'), ('वास्तु', 'वास'), ('शुष्कता', 'का'), ('शिवो', 'वो'), ('गुज्जर', 'र'), ('तल्ख', 'लख')]\n"
     ]
    },
    {
     "name": "stderr",
     "output_type": "stream",
     "text": [
      " 64%|██████▍   | 321/500 [17:44<09:56,  3.33s/it]"
     ]
    },
    {
     "name": "stdout",
     "output_type": "stream",
     "text": [
      "Words chosen for updates :  [('तनत', 'न'), ('तिही', 'ही'), ('पीओ', 'पी'), ('अशआर', 'आर'), ('सदाए', 'सदा'), ('कुट', 'कट'), ('ओझा', 'ा'), ('पीएम', 'नीम'), ('उखड़ती', 'खड़ी'), ('डण्ठल', 'ल')]\n"
     ]
    },
    {
     "name": "stderr",
     "output_type": "stream",
     "text": [
      " 68%|██████▊   | 341/500 [18:50<08:58,  3.39s/it]"
     ]
    },
    {
     "name": "stdout",
     "output_type": "stream",
     "text": [
      "Words chosen for updates :  [('थका', 'का'), ('गोत', 'ो'), ('वेश', 'वे'), ('बियाबान', 'बयाबान'), ('अनुज', 'न'), ('लडे', 'ले'), ('डगर', 'र'), ('जपती', 'पी'), ('माँगी', 'मानी'), ('थपथपा', 'पपा')]\n"
     ]
    },
    {
     "name": "stderr",
     "output_type": "stream",
     "text": [
      " 72%|███████▏  | 361/500 [20:00<07:53,  3.41s/it]"
     ]
    },
    {
     "name": "stdout",
     "output_type": "stream",
     "text": [
      "Words chosen for updates :  [('स्', 'स'), ('तुमरी', 'मरी'), ('गजक', 'क'), ('फिरत', 'र'), ('मोरै', 'मोर'), ('जिसके', 'सके'), ('कण्ठ', 'कण'), ('तत्क्षण', 'कण'), ('पैडल', 'पल'), ('जगत्पूजित', 'पा')]\n"
     ]
    },
    {
     "name": "stderr",
     "output_type": "stream",
     "text": [
      " 76%|███████▌  | 381/500 [21:09<06:51,  3.46s/it]"
     ]
    },
    {
     "name": "stdout",
     "output_type": "stream",
     "text": [
      "Words chosen for updates :  [('शक्तियां', 'कयां'), ('जिगरी', 'री'), ('सज्जित', 'स'), ('धजा', 'ला'), ('अछूत', 'छा'), ('ऐश', 'ऐ'), ('करऽ', 'कर'), ('उडु', 'उ'), ('पक', 'नक'), ('छक', 'िके')]\n"
     ]
    },
    {
     "name": "stderr",
     "output_type": "stream",
     "text": [
      " 80%|████████  | 401/500 [22:17<05:44,  3.48s/it]"
     ]
    },
    {
     "name": "stdout",
     "output_type": "stream",
     "text": [
      "Words chosen for updates :  [('रू', 'रा'), ('जिक्रे', 'करे'), ('इत्ती', 'ी'), ('आगै', 'आ'), ('बचाया', 'बताया'), ('रूट', 'राह'), ('उड़े', 'ड़े'), ('धुएँ', 'ल'), ('सूखता', 'सोना'), ('ढलेगा', 'लेगा')]\n"
     ]
    },
    {
     "name": "stderr",
     "output_type": "stream",
     "text": [
      " 84%|████████▍ | 421/500 [23:23<04:20,  3.30s/it]"
     ]
    },
    {
     "name": "stdout",
     "output_type": "stream",
     "text": [
      "Words chosen for updates :  [('अभी', 'भी'), ('काश', 'का'), ('गिना', 'ना'), ('गिन', 'न'), ('जिनकी', 'नकी'), ('हिफाजत', 'हा'), ('कृषि', 'के'), ('सोचत', 'सोच'), ('मण्डन', 'मन'), ('अँजाम', 'ाम')]\n"
     ]
    },
    {
     "name": "stderr",
     "output_type": "stream",
     "text": [
      " 88%|████████▊ | 441/500 [24:29<03:14,  3.30s/it]"
     ]
    },
    {
     "name": "stdout",
     "output_type": "stream",
     "text": [
      "Words chosen for updates :  [('तद', 'द'), ('जना', 'ना'), ('ग्राम', 'राम'), ('ग्रे', 'रे'), ('जुला', 'ला'), ('तैरती', 'री'), ('दीप्त', 'दीप'), ('जुनूनी', 'नानी'), ('ऊर्जित', 'र'), ('खेलि', 'खेल')]\n"
     ]
    },
    {
     "name": "stderr",
     "output_type": "stream",
     "text": [
      " 92%|█████████▏| 461/500 [25:36<02:10,  3.34s/it]"
     ]
    },
    {
     "name": "stdout",
     "output_type": "stream",
     "text": [
      "Words chosen for updates :  [('शकल', 'कल'), ('फक्र', 'कर'), ('मोहि', 'मोह'), ('अस्तित्', 'स'), ('डोल', 'ोल'), ('जपि', 'प'), ('आपु', 'आप'), ('घिरि', 'र'), ('चु', 'त'), ('सोच', 'सोचे')]\n"
     ]
    },
    {
     "name": "stderr",
     "output_type": "stream",
     "text": [
      " 96%|█████████▌| 481/500 [26:42<01:02,  3.28s/it]"
     ]
    },
    {
     "name": "stdout",
     "output_type": "stream",
     "text": [
      "Words chosen for updates :  [('जलाल', 'लाल'), ('संगत', 'सें'), ('अक्षर', 'कर'), ('इहो', 'हो'), ('जपा', 'पा'), ('जाग्रति', 'ार'), ('उगलता', 'ला'), ('बाध', 'बाल'), ('व्रण', 'वरण'), ('वितरण', 'वरण')]\n"
     ]
    },
    {
     "name": "stderr",
     "output_type": "stream",
     "text": [
      "100%|██████████| 500/500 [27:45<00:00,  3.33s/it]\n"
     ]
    },
    {
     "name": "stdout",
     "output_type": "stream",
     "text": [
      "BUILDING LEXICON\n"
     ]
    }
   ],
   "source": [
    "for lang in langs:\n",
    "    if lang in [\"hindi-urdu\", \"hariyanvi\", \"bhojpuri\", \"bhil\", \"rajasthani\", \"nepali\"]:\n",
    "        continue\n",
    "    \n",
    "    print(\"PROCESSING {}\".format(lang))\n",
    "    \n",
    "    source_file=DATADIR+anchor+\".txt\"\n",
    "    target_file=DATADIR+lang+\".txt\"\n",
    "    OUTPATH = LEX_DIR + \"{}_{}.json\".format(anchor, lang)\n",
    "    PARAMS_PATH = PARAMS_DIR + \"{}_{}/\".format(anchor, lang)\n",
    "\n",
    "    obj = MLI_EM_OD()\n",
    "    try:\n",
    "    \n",
    "        obj.driver(source_file, target_file, \\\n",
    "                     iterations = iterations, min_source_freq = min_source_freq, updates = updates,\\\n",
    "                       batch_size = batch_size, \\\n",
    "                     max_lexicon_length = max_lexicon_length, \\\n",
    "                       load_pretrained_model = load_pretrained_model, \\\n",
    "                   OUTPATH = OUTPATH, PARAMS_DIR = PARAMS_PATH\n",
    "               \n",
    "                    )\n",
    "    except:\n",
    "        continue"
   ]
  },
  {
   "cell_type": "code",
   "execution_count": 110,
   "id": "adjacent-theater",
   "metadata": {},
   "outputs": [],
   "source": [
    "langs = [\n",
    "\"rajasthani\",\n",
    "\"nepali\",\n",
    "# \"punjabi\",\n",
    "\"hariyanvi\",\n",
    "\"bhojpuri\",\n",
    "\"maithili\",\n",
    "\"brajbhasha\",\n",
    "\"bajjika\",\n",
    "\"magahi\",\n",
    "\"angika\",\n",
    "# \"gujarati\",\n",
    "\"khadi_boli\",\n",
    "\"sanskrit\",\n",
    "# \"hindi-urdu\",\n",
    "\"bhil\",\n",
    "\"koraku\",\n",
    "\"baiga\",\n",
    "\"nimaadi\",\n",
    "\"malwi\",\n",
    "\"marathi\",\n",
    "\"bhadavari\",\n",
    "\"himachali\",\n",
    "\"garwali\",\n",
    "\"kumaoni\",\n",
    "\"kannauji\",\n",
    "\n",
    "\"bundeli\",\n",
    "\"awadhi\",\n",
    "\"chattisgarhi\",\n",
    "\n",
    "\"pali\",\n",
    "\"sindhi\",\n",
    "# \"bangla\"\n",
    "        ]"
   ]
  },
  {
   "cell_type": "code",
   "execution_count": 122,
   "id": "documentary-pasta",
   "metadata": {},
   "outputs": [
    {
     "data": {
      "text/plain": [
       "Counter({1: 2})"
      ]
     },
     "execution_count": 122,
     "metadata": {},
     "output_type": "execute_result"
    }
   ],
   "source": [
    "a = defaultdict(lambda:0)\n",
    "a[1] =2\n",
    "Counter(a)"
   ]
  },
  {
   "cell_type": "code",
   "execution_count": 152,
   "id": "operational-release",
   "metadata": {},
   "outputs": [
    {
     "data": {
      "text/plain": [
       "[('replace', 1, 1), ('replace', 2, 2), ('insert', 4, 4)]"
      ]
     },
     "execution_count": 152,
     "metadata": {},
     "output_type": "execute_result"
    }
   ],
   "source": [
    "word1 = \"cabat\"\n",
    "word2 = \"chiart\"\n",
    "lv.editops(word1, word2)"
   ]
  },
  {
   "cell_type": "code",
   "execution_count": 156,
   "id": "vocal-belly",
   "metadata": {},
   "outputs": [],
   "source": [
    "        \n"
   ]
  },
  {
   "cell_type": "code",
   "execution_count": 157,
   "id": "bridal-relaxation",
   "metadata": {},
   "outputs": [
    {
     "data": {
      "text/plain": [
       "[('replace', 1, 1),\n",
       " ('replace', 2, 2),\n",
       " ('insert', 4, 4),\n",
       " ('retain', 0),\n",
       " ('retain', 3),\n",
       " ('retain', 4)]"
      ]
     },
     "execution_count": 157,
     "metadata": {},
     "output_type": "execute_result"
    }
   ],
   "source": [
    "augmented_ops(word1, word2)"
   ]
  },
  {
   "cell_type": "code",
   "execution_count": null,
   "id": "turned-motor",
   "metadata": {},
   "outputs": [],
   "source": []
  }
 ],
 "metadata": {
  "kernelspec": {
   "display_name": "Python 3",
   "language": "python",
   "name": "python3"
  },
  "language_info": {
   "codemirror_mode": {
    "name": "ipython",
    "version": 3
   },
   "file_extension": ".py",
   "mimetype": "text/x-python",
   "name": "python",
   "nbconvert_exporter": "python",
   "pygments_lexer": "ipython3",
   "version": "3.8.13"
  }
 },
 "nbformat": 4,
 "nbformat_minor": 5
}
