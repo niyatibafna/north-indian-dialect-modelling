{
 "cells": [
  {
   "cell_type": "code",
   "execution_count": 111,
   "id": "heated-composer",
   "metadata": {},
   "outputs": [],
   "source": [
    "# Subword level similarities"
   ]
  },
  {
   "cell_type": "code",
   "execution_count": 1,
   "id": "flying-fellowship",
   "metadata": {},
   "outputs": [],
   "source": [
    "import os, sys\n",
    "sys.path.append(\"../\")\n",
    "from crawled_data import CrawledData\n",
    "from collections import Counter\n",
    "from itertools import combinations\n",
    "import pandas as pd\n",
    "import math\n",
    "import json\n",
    "import string\n",
    "import numpy as np\n",
    "import seaborn as sns\n",
    "import matplotlib.pylab as plt\n",
    "from scipy.stats import entropy"
   ]
  },
  {
   "cell_type": "code",
   "execution_count": 2,
   "id": "directed-adapter",
   "metadata": {},
   "outputs": [],
   "source": [
    "# Read data"
   ]
  },
  {
   "cell_type": "code",
   "execution_count": 3,
   "id": "weird-leave",
   "metadata": {},
   "outputs": [
    {
     "name": "stdout",
     "output_type": "stream",
     "text": [
      "Getting files for rajasthani\n",
      "Getting files for gujarati\n",
      "Getting files for himachali\n",
      "Getting files for hindi-urdu\n",
      "Getting files for magahi\n",
      "Getting files for awadhi\n",
      "Getting files for punjabi\n",
      "Getting files for koraku\n",
      "Getting files for baiga\n",
      "Getting files for .DS_Store\n",
      "Getting files for nimaadi\n",
      "Getting files for khadi_boli\n",
      "Getting files for bhojpuri\n",
      "Getting files for garwali\n",
      "Getting files for chattisgarhi\n",
      "Getting files for brajbhasha\n",
      "Getting files for bhil\n",
      "Getting files for sanskrit\n",
      "Getting files for angika\n",
      "Getting files for hariyanvi\n",
      "Getting files for kannauji\n",
      "Getting files for bundeli\n",
      "Getting files for bangla\n",
      "Getting files for malwi\n",
      "Getting files for marathi\n",
      "Getting files for kumaoni\n",
      "Getting files for bhadavari\n",
      "dict_keys(['rajasthani', 'gujarati', 'himachali', 'hindi-urdu', 'magahi', 'awadhi', 'punjabi', 'koraku', 'baiga', 'nimaadi', 'khadi_boli', 'bhojpuri', 'garwali', 'chattisgarhi', 'brajbhasha', 'bhil', 'sanskrit', 'angika', 'hariyanvi', 'kannauji', 'bundeli', 'bangla', 'malwi', 'marathi', 'kumaoni', 'bhadavari'])\n",
      "Getting files for rajasthani\n",
      "Getting files for gujarati\n",
      "Getting files for hindi-urdu\n",
      "Getting files for magahi\n",
      "Getting files for awadhi\n",
      "Getting files for bajjika\n",
      "Getting files for .DS_Store\n",
      "Getting files for bhojpuri\n",
      "Getting files for garwali\n",
      "Getting files for chattisgarhi\n",
      "Getting files for brajbhasha\n",
      "Getting files for maithili\n",
      "Getting files for sanskrit\n",
      "Getting files for pali\n",
      "Getting files for angika\n",
      "Getting files for hariyanvi\n",
      "Getting files for sindhi\n",
      "Getting files for marathi\n",
      "Getting files for nepali\n",
      "dict_keys(['rajasthani', 'gujarati', 'himachali', 'hindi-urdu', 'magahi', 'awadhi', 'punjabi', 'koraku', 'baiga', 'nimaadi', 'khadi_boli', 'bhojpuri', 'garwali', 'chattisgarhi', 'brajbhasha', 'bhil', 'sanskrit', 'angika', 'hariyanvi', 'kannauji', 'bundeli', 'bangla', 'malwi', 'marathi', 'kumaoni', 'bhadavari', 'bajjika', 'maithili', 'pali', 'sindhi', 'nepali'])\n"
     ]
    }
   ],
   "source": [
    "data_obj = CrawledData()\n",
    "data_obj.read_crawled_data(\"../data/crawled/folksongs/\", remove_punctuation = True)\n",
    "print(data_obj.data.keys())\n",
    "data_obj.read_crawled_data(\"../data/crawled/poetry/\", remove_punctuation = True)\n",
    "print(data_obj.data.keys())\n",
    "acc_data = dict()\n"
   ]
  },
  {
   "cell_type": "code",
   "execution_count": 4,
   "id": "confused-direction",
   "metadata": {},
   "outputs": [
    {
     "name": "stdout",
     "output_type": "stream",
     "text": [
      "0 sindhi\n",
      "1 rajasthani\n",
      "2 punjabi\n",
      "3 hariyanvi\n",
      "4 khadi_boli\n",
      "5 sanskrit\n",
      "6 hindi-urdu\n",
      "7 bhil\n",
      "8 koraku\n",
      "9 baiga\n",
      "10 nimaadi\n",
      "11 malwi\n",
      "12 marathi\n",
      "13 bhadavari\n",
      "14 himachali\n",
      "15 garwali\n",
      "16 kumaoni\n",
      "17 kannauji\n",
      "18 brajbhasha\n",
      "19 bundeli\n",
      "20 awadhi\n",
      "21 chattisgarhi\n",
      "22 nepali\n",
      "23 pali\n",
      "24 bhojpuri\n",
      "25 bajjika\n",
      "26 magahi\n",
      "27 maithili\n",
      "28 angika\n"
     ]
    }
   ],
   "source": [
    "langs = [\n",
    "\"sindhi\",\n",
    "\"rajasthani\",\n",
    "\"punjabi\",\n",
    "\"hariyanvi\",\n",
    "#\"gujarati\",\n",
    "\"khadi_boli\",\n",
    "\"sanskrit\",\n",
    "\"hindi-urdu\",\n",
    "\"bhil\",\n",
    "\"koraku\",\n",
    "\"baiga\",\n",
    "\"nimaadi\",\n",
    "\"malwi\",\n",
    "\"marathi\",\n",
    "\"bhadavari\",\n",
    "\"himachali\",\n",
    "\"garwali\",\n",
    "\"kumaoni\",\n",
    "\"kannauji\",\n",
    "\"brajbhasha\",\n",
    "\"bundeli\",\n",
    "\"awadhi\",\n",
    "\"chattisgarhi\",\n",
    "\"nepali\",\n",
    "\"pali\",\n",
    "\"bhojpuri\",\n",
    "\"bajjika\",\n",
    "\"magahi\",\n",
    "\"maithili\",\n",
    "\"angika\",\n",
    "#\"bangla\"\n",
    "        ]\n",
    "\n",
    "north = [\"sindhi\", \"punjabi\", \"hariyanvi\", \"bhadavari\", \"himachali\", \"garwali\", \"kumaoni\", \"kannauji\", \"nepali\"]\n",
    "north_central = [\"sindhi\", \"rajasthani\", \"punjabi\", \"hariyanvi\", \"hindi-urdu\", \"khadi_boli\", \"kannauji\", \"brajbhasha\", \"bundeli\", \\\n",
    "                \"awadhi\", \"chattisgarhi\", \"bhojpuri\", \"bajjika\", \"magahi\", \"maithili\", \"angika\"]\n",
    "central = [\"rajasthani\", \"hindi-urdu\", \"gujarati\", \"bhil\", \"koraku\", \"baiga\", \"nimaadi\", \"malwi\", \"marathi\", \"chattisgarhi\"]\n",
    "\n",
    "# langs = [lang for lang in langs if lang in north_central]\n",
    "\n",
    "for idx, lang in enumerate(langs):\n",
    "    print(idx, lang)"
   ]
  },
  {
   "cell_type": "code",
   "execution_count": 5,
   "id": "wrapped-circus",
   "metadata": {},
   "outputs": [],
   "source": [
    "# Cleaning accumulated data\n",
    "dev_range = range(2305, 2404)\n",
    "for lang in langs:\n",
    "    acc_data[lang] = \" \".join([data_obj.data[lang][file_id][\"text\"] for file_id in data_obj.data[lang]])\n",
    "    acc_data[lang] = \"\".join([c if ord(c) in dev_range else \" \" for c in acc_data[lang]])\n",
    "    acc_data[lang] = \" \".join(acc_data[lang].split())\n"
   ]
  },
  {
   "cell_type": "code",
   "execution_count": 6,
   "id": "incorporated-bottle",
   "metadata": {},
   "outputs": [],
   "source": [
    "lang_by_char = dict()\n",
    "bad_chars = [\"\\n\", \"\\t\", \" \"]\n",
    "for lang in langs:\n",
    "    lang_by_char[lang] = Counter(acc_data[lang])\n",
    "#     total = sum(lang_by_char[lang].values())\n",
    "#     for key, val in lang_by_char[lang].items():\n",
    "#         lang_by_char[lang][key] = round(val*100/total, 3)\n",
    "    for bad_char in bad_chars:\n",
    "        del lang_by_char[lang][bad_char] "
   ]
  },
  {
   "cell_type": "code",
   "execution_count": null,
   "id": "intelligent-sessions",
   "metadata": {},
   "outputs": [],
   "source": []
  },
  {
   "cell_type": "code",
   "execution_count": null,
   "id": "spare-scholar",
   "metadata": {},
   "outputs": [],
   "source": []
  },
  {
   "cell_type": "code",
   "execution_count": 7,
   "id": "complex-neutral",
   "metadata": {},
   "outputs": [],
   "source": [
    "N = len(langs)\n",
    "shared_lex_metrics = [[0]*N for _ in range(N)]\n",
    "\n",
    "\n",
    "for i, j in combinations(range(N), 2):\n",
    "    l_1, l_2 = langs[i], langs[j]\n",
    "    lex_l_1, lex_l_2 = set(lang_by_char[l_1].keys()), set(lang_by_char[l_2].keys())\n",
    "    shared_lex = lex_l_1.union(lex_l_2)\n",
    "    l_1_dist = [lang_by_char[l_1][c] if c in lang_by_char[l_1] else 1e-6 for c in shared_lex]\n",
    "    l_2_dist = [lang_by_char[l_2][c] if c in lang_by_char[l_2] else 1e-6 for c in shared_lex]\n",
    "    klp = (entropy(pk = l_1_dist, qk = l_2_dist) + entropy(pk = l_2_dist, qk = l_1_dist))/2\n",
    "    shared_lex_metrics[i][j] = shared_lex_metrics[j][i] = klp \n",
    "    \n",
    "for i in range(N):\n",
    "    shared_lex_metrics[i][i] = 0\n",
    "    \n",
    "shared_lex_metrics = np.asarray(shared_lex_metrics)\n",
    "max_sim = max(shared_lex_metrics.flatten())"
   ]
  },
  {
   "cell_type": "code",
   "execution_count": null,
   "id": "limiting-upgrade",
   "metadata": {},
   "outputs": [],
   "source": []
  },
  {
   "cell_type": "code",
   "execution_count": 9,
   "id": "timely-course",
   "metadata": {},
   "outputs": [
    {
     "data": {
      "image/png": "[encoded data removed]",
      "text/plain": [
       "<Figure size 432x288 with 2 Axes>"
      ]
     },
     "metadata": {
      "needs_background": "light"
     },
     "output_type": "display_data"
    }
   ],
   "source": [
    "ax = sns.heatmap(shared_lex_metrics, linewidth=0.3, mask = shared_lex_metrics == 0, vmax = 0.5, xticklabels=langs, yticklabels=langs)#, annot=True, annot_kws={\"size\":6})\n",
    "fig = ax.get_figure()\n",
    "fig.savefig(\"stats_outputs/all_charlevel_klp.png\", bbox_inches = \"tight\")"
   ]
  },
  {
   "cell_type": "code",
   "execution_count": 39,
   "id": "exclusive-philip",
   "metadata": {},
   "outputs": [
    {
     "data": {
      "text/plain": [
       "1139"
      ]
     },
     "execution_count": 39,
     "metadata": {},
     "output_type": "execute_result"
    }
   ],
   "source": [
    "# investigating subword similarity\n",
    "len(set(lang_cgrams[3][\"bhadavari\"].keys()))\n",
    "\n"
   ]
  },
  {
   "cell_type": "code",
   "execution_count": 150,
   "id": "opened-ideal",
   "metadata": {},
   "outputs": [],
   "source": [
    "# KL Divergence\n",
    "N = len(langs)    \n",
    "find_range = range(3,5)\n",
    "klp_total = np.zeros((N,N))\n",
    "for window in find_range:\n",
    "    klp_total += find_shared_cgrams(langs, lang_cgrams, window, kl = True)\n",
    "\n",
    "klp_total = klp_total/len(find_range)"
   ]
  },
  {
   "cell_type": "code",
   "execution_count": 70,
   "id": "piano-banana",
   "metadata": {},
   "outputs": [
    {
     "data": {
      "text/plain": [
       "1.0155788635877205"
      ]
     },
     "execution_count": 70,
     "metadata": {},
     "output_type": "execute_result"
    }
   ],
   "source": [
    "klp_total[0,1]"
   ]
  },
  {
   "cell_type": "code",
   "execution_count": null,
   "id": "developmental-terminal",
   "metadata": {},
   "outputs": [],
   "source": []
  }
 ],
 "metadata": {
  "kernelspec": {
   "display_name": "Python 3",
   "language": "python",
   "name": "python3"
  },
  "language_info": {
   "codemirror_mode": {
    "name": "ipython",
    "version": 3
   },
   "file_extension": ".py",
   "mimetype": "text/x-python",
   "name": "python",
   "nbconvert_exporter": "python",
   "pygments_lexer": "ipython3",
   "version": "3.8.13"
  }
 },
 "nbformat": 4,
 "nbformat_minor": 5
}
