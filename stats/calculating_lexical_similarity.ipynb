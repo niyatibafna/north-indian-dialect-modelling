{
 "cells": [
  {
   "cell_type": "code",
   "execution_count": 1,
   "id": "dangerous-governor",
   "metadata": {},
   "outputs": [],
   "source": [
    "# COMPUTE METRIC FOR SHARED LEXICAL ITEMS FOR LANGUAGES PAIRWISE, OUTPUT: SIMILARITY MATRIX"
   ]
  },
  {
   "cell_type": "code",
   "execution_count": 97,
   "id": "english-parade",
   "metadata": {},
   "outputs": [],
   "source": [
    "from crawled_data import CrawledData\n",
    "from collections import Counter\n",
    "from itertools import combinations\n",
    "import pandas as pd\n",
    "import math\n",
    "import json\n",
    "import string\n",
    "import numpy as np\n",
    "import seaborn as sns\n",
    "import matplotlib.pylab as plt"
   ]
  },
  {
   "cell_type": "code",
   "execution_count": 98,
   "id": "animal-involvement",
   "metadata": {},
   "outputs": [],
   "source": [
    "# READ DATA"
   ]
  },
  {
   "cell_type": "code",
   "execution_count": 99,
   "id": "tested-darwin",
   "metadata": {},
   "outputs": [],
   "source": [
    "data_obj = CrawledData(\"../data/crawled/folksongs/\")\n",
    "data_obj.read_crawled_data(remove_punctuation = True)\n",
    "acc_data = dict()\n",
    "for lang in data_obj.data:\n",
    "    acc_data[lang] = \" \".join([data_obj.data[lang][file_id][\"text\"] for file_id in data_obj.data[lang]])"
   ]
  },
  {
   "cell_type": "code",
   "execution_count": 100,
   "id": "entertaining-capability",
   "metadata": {},
   "outputs": [],
   "source": [
    "# ORDERING LANGUAGES ROUGHLY FROM WEST TO EAST"
   ]
  },
  {
   "cell_type": "code",
   "execution_count": 234,
   "id": "chicken-inventory",
   "metadata": {},
   "outputs": [
    {
     "name": "stdout",
     "output_type": "stream",
     "text": [
      "0 rajasthani\n",
      "1 punjabi\n",
      "2 hariyanvi\n",
      "3 khadi_boli\n",
      "4 kannauji\n",
      "5 brajbhasha\n",
      "6 bundeli\n",
      "7 awadhi\n",
      "8 chattisgarhi\n",
      "9 bhojpuri\n",
      "10 magahi\n",
      "11 angika\n",
      "12 bangla\n"
     ]
    }
   ],
   "source": [
    "langs = [\n",
    "\"rajasthani\",\n",
    "\"punjabi\",\n",
    "\"hariyanvi\",\n",
    "# \"gujarati\",\n",
    "\"khadi_boli\",\n",
    "# \"sanskrit\",\n",
    "# \"hindi\",\n",
    "# \"bhil\",\n",
    "# \"koraku\",\n",
    "# \"baiga\",\n",
    "# \"nimaadi\",\n",
    "# \"malwi\",\n",
    "# \"marathi\",\n",
    "# \"bhadavari\",\n",
    "# \"himachali\",\n",
    "# \"garwali\",\n",
    "# \"kumaoni\",\n",
    "\"kannauji\",\n",
    "\"brajbhasha\",\n",
    "\"bundeli\",\n",
    "\"awadhi\",\n",
    "\"chattisgarhi\",\n",
    "\"bhojpuri\",\n",
    "\"magahi\",\n",
    "\"angika\",\n",
    "\"bangla\"\n",
    "        ]\n",
    "for idx, lang in enumerate(langs):\n",
    "    print(idx, lang)"
   ]
  },
  {
   "cell_type": "code",
   "execution_count": 235,
   "id": "chubby-google",
   "metadata": {},
   "outputs": [],
   "source": [
    "# len(acc_data[\"gujarati\"])"
   ]
  },
  {
   "cell_type": "code",
   "execution_count": 236,
   "id": "centered-difficulty",
   "metadata": {},
   "outputs": [],
   "source": [
    "# SIMILARITY MATRIX: THE SIMILARITY METRIC USED IS |S|/(|L_1|+|L_2|) WHERE S IS THE SHARED LEXICON OF 2 LANGUAGE\n",
    "# LEXICONS L_1 AND L_2"
   ]
  },
  {
   "cell_type": "code",
   "execution_count": null,
   "id": "infectious-discretion",
   "metadata": {},
   "outputs": [],
   "source": []
  },
  {
   "cell_type": "code",
   "execution_count": 237,
   "id": "working-fourth",
   "metadata": {},
   "outputs": [],
   "source": [
    "N = len(langs)\n",
    "shared_lex_metrics = [[0]*N for _ in range(N)]\n",
    "shared_lex_dict = {lang:dict() for lang in langs}\n",
    "\n",
    "for i, j in combinations(range(N), 2):\n",
    "    l_1, l_2 = langs[i], langs[j]\n",
    "    lex_l_1, lex_l_2 = set(acc_data[l_1].split()), set(acc_data[l_2].split())\n",
    "#     print(\"CALCULATING FOR LANGS {}: SIZE {} and {}: SIZE {}\".format(l_1, len(lex_l_1), l_2, len(lex_l_2)))\n",
    "    shared_lex = lex_l_1.intersection(lex_l_2)\n",
    "#     print(\"SHARED VOCABULARY: {}\".format(len(shared_lex)))\n",
    "#     print(list(shared_lex)[:100])\n",
    "    shared_lex_metrics[i][j] = 2*len(shared_lex)/(len(lex_l_1) + len(lex_l_2))\n",
    "    shared_lex_metrics[j][i] = 2*len(shared_lex)/(len(lex_l_1) + len(lex_l_2))\n",
    "    \n",
    "    shared_lex_dict[l_1][l_2] = 2*len(shared_lex)/(len(lex_l_1) + len(lex_l_2))\n",
    "    shared_lex_dict[l_2][l_1] = 2*len(shared_lex)/(len(lex_l_1) + len(lex_l_2))\n",
    "\n",
    "shared_lex_metrics = np.asarray(shared_lex_metrics)\n",
    "max_sim = max(shared_lex_metrics.flatten())\n",
    "    \n",
    "for i in range(N):\n",
    "    shared_lex_metrics[i][i] = 1\n",
    "    shared_lex_dict[langs[i]][langs[i]] = 1"
   ]
  },
  {
   "cell_type": "code",
   "execution_count": 238,
   "id": "informal-smell",
   "metadata": {},
   "outputs": [],
   "source": [
    "# with open(\"stats_outputs/lexical_similarity/pairwise_lex_similarity.json\", \"w\") as f:\n",
    "#     json.dump(shared_lex_dict, f, indent = 2, ensure_ascii = False)"
   ]
  },
  {
   "cell_type": "code",
   "execution_count": 239,
   "id": "increasing-reality",
   "metadata": {},
   "outputs": [],
   "source": [
    "#MANUAL NORMALIZATION - replaced by setting vmax and masking\n",
    "\n",
    "# print(max_sim)\n",
    "# for i in range(N):\n",
    "#     for j in range(N):\n",
    "#         if i==j:\n",
    "#             shared_lex_metrics[i][j] = 1\n",
    "#         else:\n",
    "#             shared_lex_metrics[i][j] /= max_sim"
   ]
  },
  {
   "cell_type": "code",
   "execution_count": 242,
   "id": "alike-paste",
   "metadata": {},
   "outputs": [
    {
     "data": {
      "image/png": "[encoded data removed]",
      "text/plain": [
       "<Figure size 432x288 with 2 Axes>"
      ]
     },
     "metadata": {
      "needs_background": "light"
     },
     "output_type": "display_data"
    }
   ],
   "source": [
    "ax = sns.heatmap(shared_lex_metrics, linewidth=0.3, mask = shared_lex_metrics == 1, vmax = max_sim, xticklabels=langs, yticklabels=langs, annot=True, annot_kws={\"size\":6})\n",
    "\n",
    "# plt.()\n",
    "fig = ax.get_figure()\n",
    "fig.savefig(\"stats_outputs/lexical_similarity/central_north.png\")"
   ]
  },
  {
   "cell_type": "code",
   "execution_count": 194,
   "id": "later-insulin",
   "metadata": {},
   "outputs": [],
   "source": []
  },
  {
   "cell_type": "code",
   "execution_count": 153,
   "id": "comparative-quarter",
   "metadata": {},
   "outputs": [
    {
     "data": {
      "text/plain": [
       "1105"
      ]
     },
     "execution_count": 153,
     "metadata": {},
     "output_type": "execute_result"
    }
   ],
   "source": [
    "len(set(acc_data[\"baiga\"].split()).intersection(set(acc_data[\"bhil\"].split())))"
   ]
  },
  {
   "cell_type": "code",
   "execution_count": 174,
   "id": "narrative-cover",
   "metadata": {},
   "outputs": [
    {
     "name": "stdout",
     "output_type": "stream",
     "text": [
      "rajasthani 2041\n",
      "gujarati 472\n",
      "himachali 227\n",
      "magahi 6621\n",
      "awadhi 2083\n",
      "punjabi 15139\n",
      "koraku 2279\n",
      "baiga 3139\n",
      "nimaadi 4037\n",
      "khadi_boli 1478\n",
      "hindi 33\n",
      "bhojpuri 4807\n",
      "garwali 9333\n",
      "chattisgarhi 4543\n",
      "brajbhasha 2906\n",
      "bhil 5571\n",
      "sanskrit 165\n",
      "angika 4145\n",
      "hariyanvi 9129\n",
      "kannauji 233\n",
      "bundeli 8033\n",
      "bangla 462\n",
      "malwi 2885\n",
      "marathi 732\n",
      "kumaoni 445\n",
      "bhadavari 276\n"
     ]
    }
   ],
   "source": [
    "for lang in acc_data:\n",
    "    print(lang, len(set(acc_data[lang].split())))"
   ]
  },
  {
   "cell_type": "code",
   "execution_count": null,
   "id": "raised-jones",
   "metadata": {},
   "outputs": [],
   "source": []
  }
 ],
 "metadata": {
  "kernelspec": {
   "display_name": "Python 3",
   "language": "python",
   "name": "python3"
  },
  "language_info": {
   "codemirror_mode": {
    "name": "ipython",
    "version": 3
   },
   "file_extension": ".py",
   "mimetype": "text/x-python",
   "name": "python",
   "nbconvert_exporter": "python",
   "pygments_lexer": "ipython3",
   "version": "3.8.8"
  }
 },
 "nbformat": 4,
 "nbformat_minor": 5
}
