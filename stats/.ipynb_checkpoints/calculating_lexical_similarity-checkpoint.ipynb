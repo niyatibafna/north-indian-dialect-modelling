{
 "cells": [
  {
   "cell_type": "code",
   "execution_count": 1,
   "id": "dangerous-governor",
   "metadata": {},
   "outputs": [],
   "source": [
    "# COMPUTE METRIC FOR SHARED LEXICAL ITEMS FOR LANGUAGES PAIRWISE, OUTPUT: SIMILARITY MATRIX"
   ]
  },
  {
   "cell_type": "code",
   "execution_count": 1,
   "id": "english-parade",
   "metadata": {},
   "outputs": [],
   "source": [
    "from crawled_data import CrawledData\n",
    "from collections import Counter\n",
    "from itertools import combinations\n",
    "import pandas as pd\n",
    "import math\n",
    "import json\n",
    "import string\n",
    "import numpy as np\n",
    "import seaborn as sns\n",
    "import matplotlib.pylab as plt"
   ]
  },
  {
   "cell_type": "code",
   "execution_count": 2,
   "id": "animal-involvement",
   "metadata": {},
   "outputs": [],
   "source": [
    "# READ DATA"
   ]
  },
  {
   "cell_type": "code",
   "execution_count": 3,
   "id": "tested-darwin",
   "metadata": {},
   "outputs": [
    {
     "name": "stdout",
     "output_type": "stream",
     "text": [
      "Getting files for rajasthani\n",
      "Getting files for gujarati\n",
      "Getting files for himachali\n",
      "Getting files for hindi-urdu\n",
      "Getting files for magahi\n",
      "Getting files for awadhi\n",
      "Getting files for punjabi\n",
      "Getting files for koraku\n",
      "Getting files for baiga\n",
      "Getting files for .DS_Store\n",
      "Getting files for nimaadi\n",
      "Getting files for khadi_boli\n",
      "Getting files for bhojpuri\n",
      "Getting files for garwali\n",
      "Getting files for chattisgarhi\n",
      "Getting files for brajbhasha\n",
      "Getting files for bhil\n",
      "Getting files for sanskrit\n",
      "Getting files for angika\n",
      "Getting files for hariyanvi\n",
      "Getting files for kannauji\n",
      "Getting files for bundeli\n",
      "Getting files for bangla\n",
      "Getting files for malwi\n",
      "Getting files for marathi\n",
      "Getting files for kumaoni\n",
      "Getting files for bhadavari\n",
      "dict_keys(['rajasthani', 'gujarati', 'himachali', 'hindi-urdu', 'magahi', 'awadhi', 'punjabi', 'koraku', 'baiga', 'nimaadi', 'khadi_boli', 'bhojpuri', 'garwali', 'chattisgarhi', 'brajbhasha', 'bhil', 'sanskrit', 'angika', 'hariyanvi', 'kannauji', 'bundeli', 'bangla', 'malwi', 'marathi', 'kumaoni', 'bhadavari'])\n",
      "Getting files for rajasthani\n",
      "Getting files for gujarati\n",
      "Getting files for hindi-urdu\n",
      "Getting files for magahi\n",
      "Getting files for awadhi\n",
      "Getting files for bajjika\n",
      "Getting files for .DS_Store\n",
      "Getting files for bhojpuri\n",
      "Getting files for garwali\n",
      "Getting files for chattisgarhi\n",
      "Getting files for brajbhasha\n",
      "Getting files for maithili\n",
      "Getting files for sanskrit\n",
      "Getting files for pali\n",
      "Getting files for angika\n",
      "Getting files for hariyanvi\n",
      "Getting files for sindhi\n",
      "Getting files for marathi\n",
      "Getting files for nepali\n",
      "dict_keys(['rajasthani', 'gujarati', 'himachali', 'hindi-urdu', 'magahi', 'awadhi', 'punjabi', 'koraku', 'baiga', 'nimaadi', 'khadi_boli', 'bhojpuri', 'garwali', 'chattisgarhi', 'brajbhasha', 'bhil', 'sanskrit', 'angika', 'hariyanvi', 'kannauji', 'bundeli', 'bangla', 'malwi', 'marathi', 'kumaoni', 'bhadavari', 'bajjika', 'maithili', 'pali', 'sindhi', 'nepali'])\n"
     ]
    }
   ],
   "source": [
    "data_obj = CrawledData()\n",
    "data_obj.read_crawled_data(\"../data/crawled/folksongs/\", remove_punctuation = True)\n",
    "print(data_obj.data.keys())\n",
    "data_obj.read_crawled_data(\"../data/crawled/poetry/\", remove_punctuation = True)\n",
    "print(data_obj.data.keys())\n",
    "acc_data = dict()\n",
    "for lang in data_obj.data:\n",
    "    acc_data[lang] = \" \".join([data_obj.data[lang][file_id][\"text\"] for file_id in data_obj.data[lang]])"
   ]
  },
  {
   "cell_type": "code",
   "execution_count": 4,
   "id": "fantastic-defense",
   "metadata": {},
   "outputs": [
    {
     "name": "stdout",
     "output_type": "stream",
     "text": [
      "rajasthani\n",
      "gujarati\n",
      "himachali\n",
      "hindi-urdu\n",
      "magahi\n",
      "awadhi\n",
      "punjabi\n",
      "koraku\n",
      "baiga\n",
      "nimaadi\n",
      "khadi_boli\n",
      "bhojpuri\n",
      "garwali\n",
      "chattisgarhi\n",
      "brajbhasha\n",
      "bhil\n",
      "sanskrit\n",
      "angika\n",
      "hariyanvi\n",
      "kannauji\n",
      "bundeli\n",
      "bangla\n",
      "malwi\n",
      "marathi\n",
      "kumaoni\n",
      "bhadavari\n",
      "bajjika\n",
      "maithili\n",
      "pali\n",
      "sindhi\n",
      "nepali\n"
     ]
    }
   ],
   "source": [
    "for f in data_obj.data.keys():\n",
    "    print(f)"
   ]
  },
  {
   "cell_type": "code",
   "execution_count": 5,
   "id": "entertaining-capability",
   "metadata": {},
   "outputs": [],
   "source": [
    "# ORDERING LANGUAGES ROUGHLY FROM WEST TO EAST\n"
   ]
  },
  {
   "cell_type": "code",
   "execution_count": 92,
   "id": "chicken-inventory",
   "metadata": {},
   "outputs": [
    {
     "name": "stdout",
     "output_type": "stream",
     "text": [
      "0 sindhi\n",
      "1 rajasthani\n",
      "2 punjabi\n",
      "3 hariyanvi\n",
      "4 gujarati\n",
      "5 khadi_boli\n",
      "6 sanskrit\n",
      "7 hindi-urdu\n",
      "8 bhil\n",
      "9 koraku\n",
      "10 baiga\n",
      "11 nimaadi\n",
      "12 malwi\n",
      "13 marathi\n",
      "14 bhadavari\n",
      "15 himachali\n",
      "16 garwali\n",
      "17 kumaoni\n",
      "18 kannauji\n",
      "19 brajbhasha\n",
      "20 bundeli\n",
      "21 awadhi\n",
      "22 chattisgarhi\n",
      "23 nepali\n",
      "24 pali\n",
      "25 bhojpuri\n",
      "26 bajjika\n",
      "27 magahi\n",
      "28 maithili\n",
      "29 angika\n",
      "30 bangla\n"
     ]
    }
   ],
   "source": [
    "langs = [\n",
    "\"sindhi\",\n",
    "\"rajasthani\",\n",
    "\"punjabi\",\n",
    "\"hariyanvi\",\n",
    "\"gujarati\",\n",
    "\"khadi_boli\",\n",
    "\"sanskrit\",\n",
    "\"hindi-urdu\",\n",
    "\"bhil\",\n",
    "\"koraku\",\n",
    "\"baiga\",\n",
    "\"nimaadi\",\n",
    "\"malwi\",\n",
    "\"marathi\",\n",
    "\"bhadavari\",\n",
    "\"himachali\",\n",
    "\"garwali\",\n",
    "\"kumaoni\",\n",
    "\"kannauji\",\n",
    "\"brajbhasha\",\n",
    "\"bundeli\",\n",
    "\"awadhi\",\n",
    "\"chattisgarhi\",\n",
    "\"nepali\",\n",
    "\"pali\",\n",
    "\"bhojpuri\",\n",
    "\"bajjika\",\n",
    "\"magahi\",\n",
    "\"maithili\",\n",
    "\"angika\",\n",
    "\"bangla\"\n",
    "        ]\n",
    "\n",
    "north = [\"sindhi\", \"punjabi\", \"hariyanvi\", \"bhadavari\", \"himachali\", \"garwali\", \"kumaoni\", \"kannauji\", \"nepali\"]\n",
    "north_central = [\"sindhi\", \"rajasthani\", \"punjabi\", \"hariyanvi\", \"hindi-urdu\", \"khadi_boli\", \"kannauji\", \"brajbhasha\", \"bundeli\", \\\n",
    "                \"awadhi\", \"chattisgarhi\", \"bhojpuri\", \"bajjika\", \"magahi\", \"maithili\", \"angika\",\"bangla\"]\n",
    "central = [\"rajasthani\", \"hindi-urdu\", \"gujarati\", \"bhil\", \"koraku\", \"baiga\", \"nimaadi\", \"malwi\", \"marathi\", \"chattisgarhi\"]\n",
    "\n",
    "# langs = [lang for lang in langs if lang in north]\n",
    "\n",
    "for idx, lang in enumerate(langs):\n",
    "    print(idx, lang)"
   ]
  },
  {
   "cell_type": "code",
   "execution_count": 93,
   "id": "chubby-google",
   "metadata": {},
   "outputs": [],
   "source": [
    "# len(acc_data[\"gujarati\"])"
   ]
  },
  {
   "cell_type": "code",
   "execution_count": 94,
   "id": "centered-difficulty",
   "metadata": {},
   "outputs": [],
   "source": [
    "# SIMILARITY MATRIX: THE SIMILARITY METRIC USED IS |S|/(|L_1|+|L_2|) WHERE S IS THE SHARED LEXICON OF 2 LANGUAGE\n",
    "# LEXICONS L_1 AND L_2"
   ]
  },
  {
   "cell_type": "code",
   "execution_count": null,
   "id": "infectious-discretion",
   "metadata": {},
   "outputs": [],
   "source": []
  },
  {
   "cell_type": "code",
   "execution_count": 98,
   "id": "working-fourth",
   "metadata": {},
   "outputs": [],
   "source": [
    "N = len(langs)\n",
    "shared_lex_metrics = [[0]*N for _ in range(N)]\n",
    "shared_lex_dict = {lang:dict() for lang in langs}\n",
    "\n",
    "for i, j in combinations(range(N), 2):\n",
    "    l_1, l_2 = langs[i], langs[j]\n",
    "    lex_l_1, lex_l_2 = set(acc_data[l_1].split()), set(acc_data[l_2].split())\n",
    "#     print(\"CALCULATING FOR LANGS {}: SIZE {} and {}: SIZE {}\".format(l_1, len(lex_l_1), l_2, len(lex_l_2)))\n",
    "    shared_lex = lex_l_1.intersection(lex_l_2)\n",
    "#     print(\"SHARED VOCABULARY: {}\".format(len(shared_lex)))\n",
    "#     print(list(shared_lex)[:100])\n",
    "    normalization = min(len(lex_l_1),len(lex_l_2))\n",
    "#     normalization = (len(lex_l_1)+len(lex_l_2))/2\n",
    "    shared_lex_metrics[i][j] = len(shared_lex)/(normalization)\n",
    "    shared_lex_metrics[j][i] = len(shared_lex)/(normalization)\n",
    "    \n",
    "    shared_lex_dict[l_1][l_2] = len(shared_lex)/(normalization)\n",
    "    shared_lex_dict[l_2][l_1] = len(shared_lex)/(normalization)\n",
    "\n",
    "shared_lex_metrics = np.asarray(shared_lex_metrics)\n",
    "max_sim = max(shared_lex_metrics.flatten())\n",
    "    \n",
    "for i in range(N):\n",
    "    shared_lex_metrics[i][i] = 1\n",
    "    shared_lex_dict[langs[i]][langs[i]] = 1"
   ]
  },
  {
   "cell_type": "code",
   "execution_count": 99,
   "id": "alike-maple",
   "metadata": {},
   "outputs": [
    {
     "data": {
      "text/plain": [
       "0.37799094200478284"
      ]
     },
     "execution_count": 99,
     "metadata": {},
     "output_type": "execute_result"
    }
   ],
   "source": [
    "max_sim"
   ]
  },
  {
   "cell_type": "code",
   "execution_count": 100,
   "id": "informal-smell",
   "metadata": {},
   "outputs": [],
   "source": [
    "with open(\"stats_outputs/lexical_similarity/pairwise_lex_similarity.json\", \"w\") as f:\n",
    "    json.dump(shared_lex_dict, f, indent = 2, ensure_ascii = False)"
   ]
  },
  {
   "cell_type": "code",
   "execution_count": 79,
   "id": "increasing-reality",
   "metadata": {},
   "outputs": [],
   "source": [
    "#MANUAL NORMALIZATION - replaced by setting vmax and masking\n",
    "\n",
    "# print(max_sim)\n",
    "# for i in range(N):\n",
    "#     for j in range(N):\n",
    "#         if i==j:\n",
    "#             shared_lex_metrics[i][j] = 1\n",
    "#         else:\n",
    "#             shared_lex_metrics[i][j] /= max_sim"
   ]
  },
  {
   "cell_type": "code",
   "execution_count": 91,
   "id": "alike-paste",
   "metadata": {},
   "outputs": [
    {
     "data": {
      "image/png": "[encoded data removed]",
      "text/plain": [
       "<Figure size 432x288 with 2 Axes>"
      ]
     },
     "metadata": {
      "needs_background": "light"
     },
     "output_type": "display_data"
    }
   ],
   "source": [
    "ax = sns.heatmap(shared_lex_metrics, linewidth=0.3, mask = shared_lex_metrics == 1, vmax = 0.5, xticklabels=langs, yticklabels=langs, annot=True, annot_kws={\"size\":6})\n",
    "\n",
    "# plt.()\n",
    "fig = ax.get_figure()\n",
    "fig.savefig(\"stats_outputs/lexical_similarity/north.png\")"
   ]
  },
  {
   "cell_type": "code",
   "execution_count": 51,
   "id": "later-insulin",
   "metadata": {},
   "outputs": [
    {
     "data": {
      "text/plain": [
       "1216"
      ]
     },
     "execution_count": 51,
     "metadata": {},
     "output_type": "execute_result"
    }
   ],
   "source": [
    "len(set(acc_data[\"hindi-urdu\"].split()).intersection(set(acc_data[\"khadi_boli\"].split())))"
   ]
  },
  {
   "cell_type": "code",
   "execution_count": 47,
   "id": "comparative-quarter",
   "metadata": {},
   "outputs": [
    {
     "data": {
      "text/plain": [
       "531"
      ]
     },
     "execution_count": 47,
     "metadata": {},
     "output_type": "execute_result"
    }
   ],
   "source": [
    "len(set(acc_data[\"khadi_boli\"].split()).intersection(set(acc_data[\"bhil\"].split())))"
   ]
  },
  {
   "cell_type": "code",
   "execution_count": 174,
   "id": "narrative-cover",
   "metadata": {},
   "outputs": [
    {
     "name": "stdout",
     "output_type": "stream",
     "text": [
      "rajasthani 2041\n",
      "gujarati 472\n",
      "himachali 227\n",
      "magahi 6621\n",
      "awadhi 2083\n",
      "punjabi 15139\n",
      "koraku 2279\n",
      "baiga 3139\n",
      "nimaadi 4037\n",
      "khadi_boli 1478\n",
      "hindi 33\n",
      "bhojpuri 4807\n",
      "garwali 9333\n",
      "chattisgarhi 4543\n",
      "brajbhasha 2906\n",
      "bhil 5571\n",
      "sanskrit 165\n",
      "angika 4145\n",
      "hariyanvi 9129\n",
      "kannauji 233\n",
      "bundeli 8033\n",
      "bangla 462\n",
      "malwi 2885\n",
      "marathi 732\n",
      "kumaoni 445\n",
      "bhadavari 276\n"
     ]
    }
   ],
   "source": [
    "for lang in acc_data:\n",
    "    print(lang, len(set(acc_data[lang].split())))"
   ]
  },
  {
   "cell_type": "code",
   "execution_count": null,
   "id": "raised-jones",
   "metadata": {},
   "outputs": [],
   "source": []
  }
 ],
 "metadata": {
  "kernelspec": {
   "display_name": "Python 3",
   "language": "python",
   "name": "python3"
  },
  "language_info": {
   "codemirror_mode": {
    "name": "ipython",
    "version": 3
   },
   "file_extension": ".py",
   "mimetype": "text/x-python",
   "name": "python",
   "nbconvert_exporter": "python",
   "pygments_lexer": "ipython3",
   "version": "3.8.8"
  }
 },
 "nbformat": 4,
 "nbformat_minor": 5
}
