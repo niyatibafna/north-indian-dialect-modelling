{
 "cells": [
  {
   "cell_type": "code",
   "execution_count": 42,
   "id": "convenient-repeat",
   "metadata": {},
   "outputs": [],
   "source": [
    "import sys\n",
    "# sys.path.append(\"../../\")\n",
    "import fasttext\n",
    "from pyfasttext import FastText\n",
    "import fasttext.util\n",
    "from scipy.spatial import distance\n",
    "import re\n",
    "from collections import Counter, defaultdict"
   ]
  },
  {
   "cell_type": "code",
   "execution_count": 69,
   "id": "sharing-dominant",
   "metadata": {},
   "outputs": [],
   "source": [
    "# PATH to tokenized data\n",
    "PATH = \"../data/crawled_cleaned/\"\n",
    "lang = \"rajasthani\"\n",
    "anchor = \"hindi-urdu\"\n",
    "LANG_PATH = PATH + lang + \".txt\"\n",
    "ANCH_PATH = PATH + anchor + \".txt\"\n",
    "JOINT_PATH = \"temp/{}-{}.txt\".format(anchor, lang)\n",
    "MODEL_PATH = \"models/{}-{}.bin\".format(anchor, lang)"
   ]
  },
  {
   "cell_type": "code",
   "execution_count": 70,
   "id": "regional-environment",
   "metadata": {},
   "outputs": [],
   "source": [
    "lang_data = open(LANG_PATH, \"r\").read()\n",
    "lang_lexicon = set(lang_data.split())\n",
    "\n",
    "anch_data = open(ANCH_PATH, \"r\").read()\n",
    "anch_lexicon = set(anch_data.split())\n",
    "\n",
    "all_data = anch_data + \"\\n\" + lang_data\n",
    "\n",
    "with open(JOINT_PATH, \"w\") as f:\n",
    "    f.write(all_data)\n",
    "    \n",
    "\n"
   ]
  },
  {
   "cell_type": "code",
   "execution_count": 71,
   "id": "tracked-unemployment",
   "metadata": {},
   "outputs": [],
   "source": [
    "lang_freq = Counter(lang_data.split())"
   ]
  },
  {
   "cell_type": "code",
   "execution_count": 72,
   "id": "swedish-repair",
   "metadata": {},
   "outputs": [],
   "source": [
    "joint_model = fasttext.train_unsupervised(JOINT_PATH, dim = 300)"
   ]
  },
  {
   "cell_type": "code",
   "execution_count": 73,
   "id": "patent-moisture",
   "metadata": {},
   "outputs": [],
   "source": [
    "joint_model.save_model(MODEL_PATH)\n",
    "# anch_model.save_model(\"models/hindi-urdu.bin\")\n"
   ]
  },
  {
   "cell_type": "code",
   "execution_count": 74,
   "id": "better-frontier",
   "metadata": {},
   "outputs": [],
   "source": [
    "joint_model = FastText(MODEL_PATH)\n",
    "# anch_model = FastText(\"models/hindi-urdu.bin\")"
   ]
  },
  {
   "cell_type": "code",
   "execution_count": 75,
   "id": "joint-classification",
   "metadata": {},
   "outputs": [],
   "source": [
    "# lang_model = fasttext.train_unsupervised(LANG_PATH, dim = 300)\n",
    "# anch_model = fasttext.train_unsupervised(ANCH_PATH, dim = 300)\n",
    "# bho_model.save_model(\"models/bhojpuri.bin\")\n"
   ]
  },
  {
   "cell_type": "code",
   "execution_count": 91,
   "id": "intermediate-guide",
   "metadata": {},
   "outputs": [
    {
     "name": "stdout",
     "output_type": "stream",
     "text": [
      "('गवाळिया', 1) False 1\n",
      "('माळिया', 0.9045383930206299) False 10\n",
      "('बणिया', 0.8867933750152588) True 4\n",
      "('व्हिया', 0.8658345341682434) False 10\n",
      "('टाबरिया', 0.8410888314247131) False 8\n",
      "('भरिया', 0.8095473051071167) True 7\n",
      "('परनिया', 0.8031770586967468) False 11\n",
      "('रिपिया', 0.800410270690918) False 5\n",
      "('झोरडो़', 0.7918748259544373) False 12\n",
      "('ऊजळौ', 0.7860119938850403) True 3\n",
      "('धणियाप', 0.7827372550964355) False 7\n",
      "('गिया', 0.7771314382553101) True 10\n",
      "('चळू', 0.7746652364730835) True 6\n"
     ]
    }
   ],
   "source": [
    "search_word = \"गवाळिया\"\n",
    "neighbours = [(search_word, 1)] + joint_model.nearest_neighbors(search_word, k = 20)\n",
    "for target in neighbours:\n",
    "    if target[0] in lang_lexicon:\n",
    "        print(target, target[0] in anch_lexicon, lang_freq[target[0]])"
   ]
  },
  {
   "cell_type": "code",
   "execution_count": 92,
   "id": "covered-symposium",
   "metadata": {},
   "outputs": [
    {
     "name": "stdout",
     "output_type": "stream",
     "text": [
      "('गवाळिया', 1) False 1\n",
      "('माळिया', 0.9045383930206299) False 10\n",
      "('बणिया', 0.8867933750152588) True 4\n",
      "('व्हिया', 0.8658345341682434) False 10\n",
      "('टाबरिया', 0.8410888314247131) False 8\n",
      "('भरिया', 0.8095473051071167) True 7\n",
      "('परनिया', 0.8031770586967468) False 11\n",
      "('रिपिया', 0.800410270690918) False 5\n",
      "('झोरडो़', 0.7918748259544373) False 12\n",
      "('ऊजळौ', 0.7860119938850403) True 3\n",
      "('धणियाप', 0.7827372550964355) False 7\n",
      "('गिया', 0.7771314382553101) True 10\n",
      "('चळू', 0.7746652364730835) True 6\n"
     ]
    }
   ],
   "source": [
    "# search_word = \"खून\"\n",
    "# search_word = \"विचार\"\n",
    "neighbours = [(search_word, 1)] + joint_model.nearest_neighbors(search_word, k = 20)\n",
    "for target in neighbours:\n",
    "    if target[0] in lang_lexicon:\n",
    "        print(target, target[0] in anch_lexicon, lang_freq[target[0]])"
   ]
  },
  {
   "cell_type": "code",
   "execution_count": 86,
   "id": "august-reduction",
   "metadata": {},
   "outputs": [],
   "source": [
    "only_lang = [word for word in lang_lexicon if word not in anch_lexicon]"
   ]
  },
  {
   "cell_type": "code",
   "execution_count": 87,
   "id": "boxed-cambodia",
   "metadata": {},
   "outputs": [
    {
     "data": {
      "text/plain": [
       "13528"
      ]
     },
     "execution_count": 87,
     "metadata": {},
     "output_type": "execute_result"
    }
   ],
   "source": [
    "len(only_lang)"
   ]
  },
  {
   "cell_type": "code",
   "execution_count": 88,
   "id": "distinct-expert",
   "metadata": {},
   "outputs": [
    {
     "data": {
      "text/plain": [
       "['समेट्यां',\n",
       " 'गडार',\n",
       " 'सिंवाणै',\n",
       " 'रमग्या',\n",
       " 'दिरीजैजा',\n",
       " 'कड़ूम्बै',\n",
       " 'तावड़ै',\n",
       " 'कृतघनता',\n",
       " 'यांकै',\n",
       " 'यांनै',\n",
       " 'ओरां',\n",
       " 'तुम्बै',\n",
       " 'मियों',\n",
       " 'अणबोल्यां',\n",
       " 'भूलगी',\n",
       " 'उडैह',\n",
       " 'पुचकारें',\n",
       " 'गवाळिया',\n",
       " 'चूनड़औढियो',\n",
       " 'समझावण']"
      ]
     },
     "execution_count": 88,
     "metadata": {},
     "output_type": "execute_result"
    }
   ],
   "source": [
    "only_lang[:20]"
   ]
  },
  {
   "cell_type": "code",
   "execution_count": 66,
   "id": "diverse-catalyst",
   "metadata": {},
   "outputs": [
    {
     "data": {
      "text/plain": [
       "True"
      ]
     },
     "execution_count": 66,
     "metadata": {},
     "output_type": "execute_result"
    }
   ],
   "source": [
    "\"मरब\" in lang_lexicon"
   ]
  },
  {
   "cell_type": "code",
   "execution_count": null,
   "id": "attempted-fusion",
   "metadata": {},
   "outputs": [],
   "source": []
  }
 ],
 "metadata": {
  "kernelspec": {
   "display_name": "Python 3",
   "language": "python",
   "name": "python3"
  },
  "language_info": {
   "codemirror_mode": {
    "name": "ipython",
    "version": 3
   },
   "file_extension": ".py",
   "mimetype": "text/x-python",
   "name": "python",
   "nbconvert_exporter": "python",
   "pygments_lexer": "ipython3",
   "version": "3.8.13"
  }
 },
 "nbformat": 4,
 "nbformat_minor": 5
}
