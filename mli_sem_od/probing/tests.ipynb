{
 "cells": [
  {
   "cell_type": "code",
   "execution_count": 44,
   "id": "final-toilet",
   "metadata": {},
   "outputs": [],
   "source": [
    "# As input : path of model, path of data "
   ]
  },
  {
   "cell_type": "code",
   "execution_count": 45,
   "id": "characteristic-catalog",
   "metadata": {},
   "outputs": [],
   "source": [
    "from sklearn.decomposition import PCA\n",
    "from sklearn.manifold import TSNE\n",
    "from pyfasttext import FastText\n",
    "import matplotlib.pyplot as plt\n",
    "import matplotlib as mpl\n",
    "import numpy as np\n",
    "import random\n",
    "from collections import Counter\n",
    "import math\n",
    "import json\n",
    "import pandas as pd"
   ]
  },
  {
   "cell_type": "code",
   "execution_count": null,
   "id": "aboriginal-german",
   "metadata": {},
   "outputs": [],
   "source": []
  },
  {
   "cell_type": "code",
   "execution_count": 46,
   "id": "complex-belly",
   "metadata": {},
   "outputs": [],
   "source": [
    "class EmbeddingsProbe:\n",
    "    \n",
    "    def get_lexicons(self, DATAPATH):\n",
    "        '''Reads file and returns Counter object of data'''\n",
    "        lang_data = open(DATAPATH, \"r\").read()\n",
    "        lang_lexicon = Counter(lang_data.split())\n",
    "        lang_total = len(lang_data)\n",
    "\n",
    "        return lang_lexicon, lang_total\n",
    "    \n",
    "    def read_bl(self, PATH):\n",
    "        \n",
    "        with open(PATH, \"r\") as f:\n",
    "            return json.load(f)\n",
    "\n",
    "    def get_frequency_threshold(self, lang_lexicon):\n",
    "        '''Logarithmic freq threshold'''\n",
    "\n",
    "        total = sum(lang_lexicon.values())\n",
    "        return math.log(total, 100) - 1\n",
    "\n",
    "\n",
    "    def find_lang(self, word, lang2_lexicon, lang2_threshold):\n",
    "        '''Returns 1 if word exists in other lang with respectable freq'''\n",
    "        if lang2_lexicon[word] >= lang2_threshold:\n",
    "#         if lang2_lexicon[word]:\n",
    "            return 1\n",
    "        return 0\n",
    "\n",
    "    def find_integration(self, model, lang1_lexicon, lang2_lexicon, sample_len=100, K=10):\n",
    "        '''Chooses sample words, finds NNs, returns avg. of crosslingual neighbours\n",
    "        This number is b/w 0 and 1'''\n",
    "        samples = random.choices(list(lang1_lexicon.keys()), \\\n",
    "                                 weights = list(lang1_lexicon.values()), k=sample_len)\n",
    "\n",
    "        avg_int = 0\n",
    "        lang2_threshold = self.get_frequency_threshold(lang2_lexicon)\n",
    "        for sample in samples:\n",
    "            nns = model.nearest_neighbors(sample, k = K)\n",
    "#             print(nns)\n",
    "            norm = sum([nn[1] for nn in nns])\n",
    "            avg_int += sum([self.find_lang(nn[0], lang2_lexicon, lang2_threshold)*nn[1] for nn in nns])/norm\n",
    "\n",
    "        avg_int /= len(samples)\n",
    "\n",
    "        return avg_int \n",
    "    \n",
    "    def find_bl_recall_at_k(self, model, bil_lex, K = 10):\n",
    "        '''Finds R@K for bilingual lexicon with source as lang1, target as lang2'''\n",
    "        \n",
    "        rec_at_k = 0\n",
    "\n",
    "        for idx, (source, target) in enumerate(list(bil_lex.items())):\n",
    "            nns = model.nearest_neighbors(source, k = K)\n",
    "            if target in [nn[0] for nn in nns]:\n",
    "                rec_at_k += 1\n",
    "            \n",
    "            if idx and idx % 100 == 0:\n",
    "                print(idx, rec_at_k/idx)\n",
    "        \n",
    "        rec_at_k /= len(bil_lex)\n",
    "        return rec_at_k\n",
    "    \n",
    "    def plot_bl_rec_by_k(self, model, bil_lex):\n",
    "        \n",
    "        X, Y = list(), list()\n",
    "        for k in range(10, 110, 10):\n",
    "            X.append(k)\n",
    "            Y.append(self.find_bl_recall_at_k(model, bil_lex, K=k))\n",
    "        \n",
    "        return X, Y\n",
    "            \n",
    "                     \n",
    "        \n",
    "\n",
    "    def driver(self, LANG_PATH, ANCH_PATH,  MODEL, BL_PATH = None):\n",
    "        '''Runs all tests'''\n",
    "        \n",
    "        results = dict()\n",
    "\n",
    "        lang_lexicon, lang_total = self.get_lexicons(LANG_PATH)\n",
    "        anch_lexicon, anch_total = self.get_lexicons(ANCH_PATH)\n",
    "\n",
    "        if isinstance(MODEL, str):\n",
    "            model = FastText(MODEL_PATH)\n",
    "\n",
    "        integ_12 = self.find_integration(model, lang_lexicon, anch_lexicon)\n",
    "        integ_21 = self.find_integration(model, anch_lexicon, lang_lexicon)\n",
    "        results[\"integ_12\"] = integ_12\n",
    "        results[\"integ_21\"] = integ_21\n",
    "        \n",
    "        if BL_PATH:\n",
    "            bil_lex = self.read_bl(BL_PATH)\n",
    "            bl_21 = self.find_bl_recall_at_k(model, bil_lex, K=50)\n",
    "            bil_lex_12 = {target:source for source, target in bil_lex.items()}\n",
    "            bl_12 = self.find_bl_recall_at_k(model, bil_lex_12, K=50)\n",
    "            \n",
    "            results[\"bl_12\"] = bl_12\n",
    "            results[\"bl_21\"] = bl_21\n",
    "\n",
    "        return results\n",
    "\n",
    "\n",
    "\n",
    "\n"
   ]
  },
  {
   "cell_type": "code",
   "execution_count": 50,
   "id": "impaired-working",
   "metadata": {},
   "outputs": [],
   "source": [
    "langs = [\n",
    "\"sindhi\",\n",
    "\"rajasthani\",\n",
    "\"punjabi\",\n",
    "\"hariyanvi\",\n",
    "# \"gujarati\",\n",
    "\"khadi_boli\",\n",
    "\"sanskrit\",\n",
    "# \"hindi-urdu\",\n",
    "\"bhil\",\n",
    "\"koraku\",\n",
    "\"baiga\",\n",
    "\"nimaadi\",\n",
    "\"malwi\",\n",
    "\"marathi\",\n",
    "\"bhadavari\",\n",
    "\"himachali\",\n",
    "\"garwali\",\n",
    "\"kumaoni\",\n",
    "\"kannauji\",\n",
    "\"brajbhasha\",\n",
    "\"bundeli\",\n",
    "\"awadhi\",\n",
    "\"chattisgarhi\",\n",
    "\"nepali\",\n",
    "\"pali\",\n",
    "\"bhojpuri\",\n",
    "\"bajjika\",\n",
    "\"magahi\",\n",
    "\"maithili\",\n",
    "\"angika\",\n",
    "# \"bangla\"\n",
    "        ]"
   ]
  },
  {
   "cell_type": "code",
   "execution_count": 51,
   "id": "traditional-pittsburgh",
   "metadata": {},
   "outputs": [],
   "source": [
    "# PATH to tokenized data\n",
    "\n",
    "PATH = \"../../data/upsampled/\"\n",
    "anchor = \"hindi-urdu\"\n",
    "ANCH_PATH = PATH + anchor + \".txt\"\n",
    "\n",
    "all_results = dict()\n",
    "\n",
    "obj = EmbeddingsProbe()\n",
    "# BL_PATH = \"bilingual_lexicon_tests/hindi2nepali_bornates.json\"\n",
    "for lang in langs:\n",
    "    LANG_PATH = PATH + lang + \".txt\"\n",
    "    MODEL_PATH = \"../models/upsampled/{}_{}.bin\".format(lang, anchor)\n",
    "    all_results[lang] = obj.driver(LANG_PATH, ANCH_PATH, MODEL_PATH)\n"
   ]
  },
  {
   "cell_type": "code",
   "execution_count": 52,
   "id": "sweet-football",
   "metadata": {},
   "outputs": [],
   "source": [
    "all_r_results = dict()\n",
    "for lang in all_results:\n",
    "    all_r_results[lang] = {k: round(v, 2) for k, v in all_results[lang].items()}"
   ]
  },
  {
   "cell_type": "code",
   "execution_count": 53,
   "id": "allied-minnesota",
   "metadata": {},
   "outputs": [
    {
     "name": "stdout",
     "output_type": "stream",
     "text": [
      "\\begin{table}\n",
      "\\centering\n",
      "\\caption{Integration values for all languages}\n",
      "\\label{integ_all}\n",
      "\\begin{tabular}{lrr}\n",
      "\\toprule\n",
      "{} &  integ\\_12 &  integ\\_21 \\\\\n",
      "\\midrule\n",
      "sindhi       &      0.31 &      0.33 \\\\\n",
      "rajasthani   &      0.62 &      0.40 \\\\\n",
      "punjabi      &      0.40 &      0.27 \\\\\n",
      "hariyanvi    &      0.66 &      0.36 \\\\\n",
      "khadi\\_boli   &      0.76 &      0.13 \\\\\n",
      "sanskrit     &      0.12 &      0.26 \\\\\n",
      "bhil         &      0.53 &      0.34 \\\\\n",
      "koraku       &      0.34 &      0.10 \\\\\n",
      "baiga        &      0.73 &      0.31 \\\\\n",
      "nimaadi      &      0.47 &      0.21 \\\\\n",
      "malwi        &      0.45 &      0.13 \\\\\n",
      "marathi      &      0.32 &      0.15 \\\\\n",
      "bhadavari    &      0.81 &      0.30 \\\\\n",
      "himachali    &      0.48 &      0.07 \\\\\n",
      "garwali      &      0.25 &      0.39 \\\\\n",
      "kumaoni      &      0.74 &      0.05 \\\\\n",
      "kannauji     &      0.66 &      0.14 \\\\\n",
      "brajbhasha   &      0.74 &      0.38 \\\\\n",
      "bundeli      &      0.58 &      0.36 \\\\\n",
      "awadhi       &      0.45 &      0.43 \\\\\n",
      "chattisgarhi &      0.51 &      0.36 \\\\\n",
      "nepali       &      0.31 &      0.48 \\\\\n",
      "pali         &      0.07 &      0.10 \\\\\n",
      "bhojpuri     &      0.74 &      0.41 \\\\\n",
      "bajjika      &      0.74 &      0.30 \\\\\n",
      "magahi       &      0.44 &      0.42 \\\\\n",
      "maithili     &      0.57 &      0.49 \\\\\n",
      "angika       &      0.50 &      0.40 \\\\\n",
      "\\bottomrule\n",
      "\\end{tabular}\n",
      "\\end{table}\n",
      "\n"
     ]
    }
   ],
   "source": [
    "df = pd.DataFrame(all_r_results).transpose()\n",
    "print(df.to_latex(caption = \"Integration values for all languages\", label= \"integ_all\"))"
   ]
  },
  {
   "cell_type": "code",
   "execution_count": 54,
   "id": "happy-alarm",
   "metadata": {},
   "outputs": [],
   "source": [
    "with open(\"integration_upsampled_all.json\", \"w\") as f:\n",
    "    json.dump(all_r_results, f, indent=2)"
   ]
  },
  {
   "cell_type": "code",
   "execution_count": 26,
   "id": "quiet-crawford",
   "metadata": {},
   "outputs": [],
   "source": [
    "# Do for Nep splits\n",
    "results_data = dict()\n",
    "\n",
    "lang = \"nepali\"\n",
    "anchor = \"hindi-urdu\"\n",
    "\n",
    "for data_size in [5000, 50000, 100000, 500000]:\n",
    "\n",
    "    LANG_PATH = \"../../data/crawled_nep_splits/nepali_{}.txt\".format(data_size)\n",
    "    ANCH_PATH = \"../../data/crawled_cleaned/hindi-urdu.txt\"\n",
    "    MODEL_PATH = \"../models/joint_nep_splits/nepali_{}_hindi-urdu.bin\".format(data_size)\n",
    "    BL_PATH = \"bilingual_lexicon_tests/hindi2nepali_bornates.json\"\n",
    "\n",
    "\n",
    "    obj = EmbeddingsProbe()\n",
    "    results_data[data_size] = obj.driver(LANG_PATH, ANCH_PATH, MODEL_PATH, BL_PATH)\n",
    "\n",
    "\n"
   ]
  },
  {
   "cell_type": "code",
   "execution_count": 55,
   "id": "continuing-lecture",
   "metadata": {},
   "outputs": [],
   "source": [
    "# Results for upsampled Nepali\n",
    "\n",
    "LANG_PATH = \"../../data/upsampled/nepali.txt\"\n",
    "ANCH_PATH = \"../../data/crawled_cleaned/hindi-urdu.txt\"\n",
    "MODEL_PATH = \"../models/upsampled/nepali_hindi-urdu.bin\"\n",
    "BL_PATH = \"bilingual_lexicon_tests/hindi2nepali_bornates.json\"\n",
    "\n",
    "obj = EmbeddingsProbe()\n",
    "results_data = obj.driver(LANG_PATH, ANCH_PATH, MODEL_PATH, BL_PATH)\n",
    "\n"
   ]
  },
  {
   "cell_type": "code",
   "execution_count": 60,
   "id": "reasonable-azerbaijan",
   "metadata": {},
   "outputs": [
    {
     "name": "stdout",
     "output_type": "stream",
     "text": [
      "\\begin{tabular}{lrrrr}\n",
      "\\toprule\n",
      "{} &  bl\\_12 &  bl\\_21 &  integ\\_12 &  integ\\_21 \\\\\n",
      "\\midrule\n",
      "nep &   0.33 &   0.15 &  0.286857 &   0.42345 \\\\\n",
      "\\bottomrule\n",
      "\\end{tabular}\n",
      "\n"
     ]
    }
   ],
   "source": [
    "df = pd.DataFrame({\"nep\":results_data}).transpose()\n",
    "print(df.to_latex())"
   ]
  },
  {
   "cell_type": "code",
   "execution_count": 27,
   "id": "resistant-shock",
   "metadata": {},
   "outputs": [
    {
     "name": "stdout",
     "output_type": "stream",
     "text": [
      "\\begin{tabular}{lrrrr}\n",
      "\\toprule\n",
      "{} &  integ\\_12 &  integ\\_21 &  bl\\_12 &  bl\\_21 \\\\\n",
      "\\midrule\n",
      "5000   &  0.425558 &  0.370869 &   0.30 &   0.21 \\\\\n",
      "50000  &  0.329890 &  0.377868 &   0.29 &   0.21 \\\\\n",
      "100000 &  0.290560 &  0.374815 &   0.29 &   0.20 \\\\\n",
      "500000 &  0.331483 &  0.436945 &   0.29 &   0.20 \\\\\n",
      "\\bottomrule\n",
      "\\end{tabular}\n",
      "\n"
     ]
    }
   ],
   "source": [
    "df = pd.DataFrame(results_data).transpose()\n",
    "print(df.to_latex())"
   ]
  },
  {
   "cell_type": "code",
   "execution_count": 57,
   "id": "elementary-webster",
   "metadata": {},
   "outputs": [],
   "source": [
    "with open(\"bilingual_test_results/nepali_upsampled_integ_bl.json\", \"w\") as f:\n",
    "    json.dump(results_data, f, indent = 2)"
   ]
  },
  {
   "cell_type": "code",
   "execution_count": 51,
   "id": "psychological-madonna",
   "metadata": {},
   "outputs": [],
   "source": [
    "obj = EmbeddingsProbe()\n",
    "X, Y = obj.plot_bl_rec_by_k(model, bil_lex)\n",
    "\n",
    "\n",
    "    "
   ]
  },
  {
   "cell_type": "code",
   "execution_count": 59,
   "id": "proud-tattoo",
   "metadata": {},
   "outputs": [
    {
     "data": {
      "image/png": "[encoded data removed]",
      "text/plain": [
       "<Figure size 432x288 with 1 Axes>"
      ]
     },
     "metadata": {
      "needs_background": "light"
     },
     "output_type": "display_data"
    }
   ],
   "source": [
    "# Y = [y*100 for y in Y]\n",
    "plt.plot(X, Y)\n",
    "plt.xlabel(\"K\")\n",
    "plt.xticks(ticks=X)\n",
    "plt.ylabel(\"%, Recall@K\")\n",
    "plt.title(\"Cognates/borrowings, Hindi-Nepali direction\")\n",
    "plt.savefig(\"bilingual_test_results/hin2nep_bornates_5M.png\")"
   ]
  },
  {
   "cell_type": "code",
   "execution_count": 53,
   "id": "administrative-roommate",
   "metadata": {},
   "outputs": [],
   "source": [
    "lang_lexicon, lang_total = obj.get_lexicons(LANG_PATH)"
   ]
  },
  {
   "cell_type": "code",
   "execution_count": 54,
   "id": "rocky-ministry",
   "metadata": {},
   "outputs": [
    {
     "data": {
      "text/plain": [
       "4121749"
      ]
     },
     "execution_count": 54,
     "metadata": {},
     "output_type": "execute_result"
    }
   ],
   "source": [
    "lang_total"
   ]
  },
  {
   "cell_type": "code",
   "execution_count": 31,
   "id": "super-birthday",
   "metadata": {},
   "outputs": [
    {
     "name": "stdout",
     "output_type": "stream",
     "text": [
      "8691 49186\n"
     ]
    }
   ],
   "source": [
    "lang_lexicon, lang_total = obj.get_lexicons(LANG_PATH)\n",
    "anch_lexicon, anch_total = obj.get_lexicons(ANCH_PATH)\n",
    "model = FastText(MODEL_PATH)\n",
    "lang, anch = 0, 0\n",
    "for word in model.words:\n",
    "    if word in lang_lexicon:\n",
    "        lang += 1\n",
    "    if word in anch_lexicon:\n",
    "        anch += 1\n",
    "print(lang, anch)"
   ]
  },
  {
   "cell_type": "code",
   "execution_count": 31,
   "id": "graduate-colony",
   "metadata": {},
   "outputs": [],
   "source": []
  },
  {
   "cell_type": "code",
   "execution_count": 28,
   "id": "reported-animation",
   "metadata": {},
   "outputs": [
    {
     "name": "stdout",
     "output_type": "stream",
     "text": [
      "0.16\n"
     ]
    }
   ],
   "source": [
    "print(rec_at_k)"
   ]
  },
  {
   "cell_type": "code",
   "execution_count": 30,
   "id": "general-damage",
   "metadata": {},
   "outputs": [
    {
     "name": "stdout",
     "output_type": "stream",
     "text": [
      "0.18\n"
     ]
    }
   ],
   "source": [
    "print(rec_at_k)"
   ]
  },
  {
   "cell_type": "code",
   "execution_count": 32,
   "id": "diverse-directory",
   "metadata": {},
   "outputs": [
    {
     "name": "stdout",
     "output_type": "stream",
     "text": [
      "0.22\n"
     ]
    }
   ],
   "source": [
    "print(rec_at_k)"
   ]
  },
  {
   "cell_type": "code",
   "execution_count": 32,
   "id": "stopped-given",
   "metadata": {},
   "outputs": [
    {
     "data": {
      "text/plain": [
       "16942"
      ]
     },
     "execution_count": 32,
     "metadata": {},
     "output_type": "execute_result"
    }
   ],
   "source": [
    "len(lang_lexicon)"
   ]
  },
  {
   "cell_type": "code",
   "execution_count": 37,
   "id": "noticed-jackson",
   "metadata": {},
   "outputs": [],
   "source": [
    "min_freq = min([lang_lexicon[word] for word in model.words if word in lang_lexicon])"
   ]
  },
  {
   "cell_type": "code",
   "execution_count": 38,
   "id": "cardiovascular-seminar",
   "metadata": {},
   "outputs": [
    {
     "data": {
      "text/plain": [
       "1"
      ]
     },
     "execution_count": 38,
     "metadata": {},
     "output_type": "execute_result"
    }
   ],
   "source": [
    "min_freq"
   ]
  },
  {
   "cell_type": "code",
   "execution_count": 43,
   "id": "musical-wallace",
   "metadata": {},
   "outputs": [],
   "source": [
    "mwords = set(model.words)\n",
    "max_freq = max([lang_lexicon[word] for word in lang_lexicon if word not in mwords])"
   ]
  },
  {
   "cell_type": "code",
   "execution_count": 44,
   "id": "rolled-sudan",
   "metadata": {},
   "outputs": [
    {
     "data": {
      "text/plain": [
       "49591"
      ]
     },
     "execution_count": 44,
     "metadata": {},
     "output_type": "execute_result"
    }
   ],
   "source": [
    "len(model.words)"
   ]
  },
  {
   "cell_type": "code",
   "execution_count": 45,
   "id": "compressed-priority",
   "metadata": {},
   "outputs": [
    {
     "data": {
      "text/plain": [
       "4"
      ]
     },
     "execution_count": 45,
     "metadata": {},
     "output_type": "execute_result"
    }
   ],
   "source": [
    "max_freq"
   ]
  },
  {
   "cell_type": "code",
   "execution_count": 48,
   "id": "ancient-nickname",
   "metadata": {},
   "outputs": [],
   "source": [
    "all_words = set(lang_lexicon.keys()).union(set(anch_lexicon.keys()))\n",
    "all_lexicon = {word:lang_lexicon[word] + anch_lexicon[word] for word in all_words}"
   ]
  },
  {
   "cell_type": "code",
   "execution_count": 49,
   "id": "filled-wholesale",
   "metadata": {},
   "outputs": [],
   "source": [
    "min_freq = min([all_lexicon[word] for word in model.words])"
   ]
  },
  {
   "cell_type": "code",
   "execution_count": 50,
   "id": "accurate-wisconsin",
   "metadata": {},
   "outputs": [
    {
     "data": {
      "text/plain": [
       "5"
      ]
     },
     "execution_count": 50,
     "metadata": {},
     "output_type": "execute_result"
    }
   ],
   "source": [
    "min_freq"
   ]
  },
  {
   "cell_type": "code",
   "execution_count": 64,
   "id": "lovely-batman",
   "metadata": {},
   "outputs": [
    {
     "name": "stdout",
     "output_type": "stream",
     "text": [
      "hey\n"
     ]
    }
   ],
   "source": []
  },
  {
   "cell_type": "code",
   "execution_count": null,
   "id": "cooperative-soviet",
   "metadata": {},
   "outputs": [],
   "source": []
  }
 ],
 "metadata": {
  "kernelspec": {
   "display_name": "Python 3",
   "language": "python",
   "name": "python3"
  },
  "language_info": {
   "codemirror_mode": {
    "name": "ipython",
    "version": 3
   },
   "file_extension": ".py",
   "mimetype": "text/x-python",
   "name": "python",
   "nbconvert_exporter": "python",
   "pygments_lexer": "ipython3",
   "version": "3.8.13"
  }
 },
 "nbformat": 4,
 "nbformat_minor": 5
}
