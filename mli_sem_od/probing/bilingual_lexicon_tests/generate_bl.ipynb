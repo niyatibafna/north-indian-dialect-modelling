{
 "cells": [
  {
   "cell_type": "code",
   "execution_count": null,
   "id": "directed-buffer",
   "metadata": {},
   "outputs": [],
   "source": []
  },
  {
   "cell_type": "code",
   "execution_count": 49,
   "id": "retired-statement",
   "metadata": {},
   "outputs": [],
   "source": [
    "from pyiwn import iwn\n",
    "import random\n",
    "import json"
   ]
  },
  {
   "cell_type": "code",
   "execution_count": 50,
   "id": "single-appraisal",
   "metadata": {},
   "outputs": [
    {
     "name": "stderr",
     "output_type": "stream",
     "text": [
      "2022-06-04:17:10:04,344 INFO     [iwn.py:43] Loading nepali language synsets...\n",
      "2022-06-04:17:10:04,850 INFO     [iwn.py:43] Loading hindi language synsets...\n"
     ]
    }
   ],
   "source": [
    "#Load wordnet of lang\n",
    "iwnobj_nep = iwn.IndoWordNet(iwn.Language.NEPALI)\n",
    "iwnobj_hin = iwn.IndoWordNet(iwn.Language.HINDI)"
   ]
  },
  {
   "cell_type": "code",
   "execution_count": 51,
   "id": "metropolitan-accounting",
   "metadata": {},
   "outputs": [],
   "source": [
    "syn_nep = iwnobj_nep.all_synsets()\n",
    "syn_hin = iwnobj_hin.all_synsets()\n",
    "id2syn_nep = {syn.synset_id(): syn for syn in syn_nep}\n",
    "id2syn_hin = {syn.synset_id(): syn for syn in syn_hin}"
   ]
  },
  {
   "cell_type": "code",
   "execution_count": 54,
   "id": "stable-abraham",
   "metadata": {},
   "outputs": [],
   "source": [
    "hin2nep_bl = dict()\n",
    "all_keys = set(id2syn_hin.keys()).intersection(set(id2syn_nep.keys()))\n",
    "for idx in all_keys:\n",
    "    hin_word = id2syn_hin[idx].head_word()\n",
    "    nep_word = id2syn_nep[idx].head_word()\n",
    "    if hin_word != nep_word and len(hin_word.split()) == 1 and len(nep_word.split(\"_\")) == 1:\n",
    "        hin2nep_bl[hin_word] = nep_word"
   ]
  },
  {
   "cell_type": "code",
   "execution_count": 55,
   "id": "contrary-identification",
   "metadata": {},
   "outputs": [
    {
     "data": {
      "text/plain": [
       "4897"
      ]
     },
     "execution_count": 55,
     "metadata": {},
     "output_type": "execute_result"
    }
   ],
   "source": [
    "len(hin2nep_bl)"
   ]
  },
  {
   "cell_type": "code",
   "execution_count": 56,
   "id": "twenty-asset",
   "metadata": {},
   "outputs": [],
   "source": [
    "with open(\"hindi2nepali_bil_lex.json\", \"w\") as f:\n",
    "    json.dump(hin2nep_bl, f, ensure_ascii = False, indent = 2)"
   ]
  },
  {
   "cell_type": "code",
   "execution_count": null,
   "id": "indonesian-paradise",
   "metadata": {},
   "outputs": [],
   "source": []
  }
 ],
 "metadata": {
  "kernelspec": {
   "display_name": "Python 3",
   "language": "python",
   "name": "python3"
  },
  "language_info": {
   "codemirror_mode": {
    "name": "ipython",
    "version": 3
   },
   "file_extension": ".py",
   "mimetype": "text/x-python",
   "name": "python",
   "nbconvert_exporter": "python",
   "pygments_lexer": "ipython3",
   "version": "3.8.13"
  }
 },
 "nbformat": 4,
 "nbformat_minor": 5
}
